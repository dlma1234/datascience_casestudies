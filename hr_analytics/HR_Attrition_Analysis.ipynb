{
 "cells": [
  {
   "cell_type": "code",
   "execution_count": 1,
   "metadata": {},
   "outputs": [],
   "source": [
    "import os\n",
    "import warnings\n",
    "from datetime import datetime\n",
    "from collections import defaultdict\n",
    "\n",
    "import pandas as pd\n",
    "import numpy as np\n",
    "import matplotlib.pyplot as plt\n",
    "import seaborn as sns\n",
    "\n",
    "from imblearn.over_sampling import SMOTE\n",
    "\n",
    "import statsmodels.api as sm\n",
    "from statsmodels.stats.outliers_influence import variance_inflation_factor as vif\n",
    "from sklearn.metrics import confusion_matrix, plot_confusion_matrix\n",
    "from sklearn.exceptions import ConvergenceWarning\n",
    "\n",
    "from sklearn.preprocessing import LabelEncoder, OneHotEncoder, StandardScaler\n",
    "from sklearn.model_selection import train_test_split, StratifiedKFold\n",
    "from sklearn.linear_model import LogisticRegression\n",
    "from sklearn.feature_selection import RFECV"
   ]
  },
  {
   "cell_type": "code",
   "execution_count": 2,
   "metadata": {},
   "outputs": [],
   "source": [
    "sns.set()\n",
    "pd.set_option('display.max_columns', None)"
   ]
  },
  {
   "cell_type": "markdown",
   "metadata": {},
   "source": [
    "# 1. The HR Analytics Dataset\n",
    "\n",
    "This dataset came from Kaggle:\n",
    "https://www.kaggle.com/pavansubhasht/ibm-hr-analytics-attrition-dataset\n",
    "\n",
    "Load the dataset from a csv file."
   ]
  },
  {
   "cell_type": "code",
   "execution_count": 3,
   "metadata": {
    "scrolled": true
   },
   "outputs": [
    {
     "data": {
      "text/html": [
       "<div>\n",
       "<style scoped>\n",
       "    .dataframe tbody tr th:only-of-type {\n",
       "        vertical-align: middle;\n",
       "    }\n",
       "\n",
       "    .dataframe tbody tr th {\n",
       "        vertical-align: top;\n",
       "    }\n",
       "\n",
       "    .dataframe thead th {\n",
       "        text-align: right;\n",
       "    }\n",
       "</style>\n",
       "<table border=\"1\" class=\"dataframe\">\n",
       "  <thead>\n",
       "    <tr style=\"text-align: right;\">\n",
       "      <th></th>\n",
       "      <th>Age</th>\n",
       "      <th>Attrition</th>\n",
       "      <th>BusinessTravel</th>\n",
       "      <th>DailyRate</th>\n",
       "      <th>Department</th>\n",
       "      <th>DistanceFromHome</th>\n",
       "      <th>Education</th>\n",
       "      <th>EducationField</th>\n",
       "      <th>EmployeeCount</th>\n",
       "      <th>EmployeeNumber</th>\n",
       "      <th>EnvironmentSatisfaction</th>\n",
       "      <th>Gender</th>\n",
       "      <th>HourlyRate</th>\n",
       "      <th>JobInvolvement</th>\n",
       "      <th>JobLevel</th>\n",
       "      <th>JobRole</th>\n",
       "      <th>JobSatisfaction</th>\n",
       "      <th>MaritalStatus</th>\n",
       "      <th>MonthlyIncome</th>\n",
       "      <th>MonthlyRate</th>\n",
       "      <th>NumCompaniesWorked</th>\n",
       "      <th>Over18</th>\n",
       "      <th>OverTime</th>\n",
       "      <th>PercentSalaryHike</th>\n",
       "      <th>PerformanceRating</th>\n",
       "      <th>RelationshipSatisfaction</th>\n",
       "      <th>StandardHours</th>\n",
       "      <th>StockOptionLevel</th>\n",
       "      <th>TotalWorkingYears</th>\n",
       "      <th>TrainingTimesLastYear</th>\n",
       "      <th>WorkLifeBalance</th>\n",
       "      <th>YearsAtCompany</th>\n",
       "      <th>YearsInCurrentRole</th>\n",
       "      <th>YearsSinceLastPromotion</th>\n",
       "      <th>YearsWithCurrManager</th>\n",
       "    </tr>\n",
       "  </thead>\n",
       "  <tbody>\n",
       "    <tr>\n",
       "      <th>0</th>\n",
       "      <td>41</td>\n",
       "      <td>Yes</td>\n",
       "      <td>Travel_Rarely</td>\n",
       "      <td>1102</td>\n",
       "      <td>Sales</td>\n",
       "      <td>1</td>\n",
       "      <td>2</td>\n",
       "      <td>Life Sciences</td>\n",
       "      <td>1</td>\n",
       "      <td>1</td>\n",
       "      <td>2</td>\n",
       "      <td>Female</td>\n",
       "      <td>94</td>\n",
       "      <td>3</td>\n",
       "      <td>2</td>\n",
       "      <td>Sales Executive</td>\n",
       "      <td>4</td>\n",
       "      <td>Single</td>\n",
       "      <td>5993</td>\n",
       "      <td>19479</td>\n",
       "      <td>8</td>\n",
       "      <td>Y</td>\n",
       "      <td>Yes</td>\n",
       "      <td>11</td>\n",
       "      <td>3</td>\n",
       "      <td>1</td>\n",
       "      <td>80</td>\n",
       "      <td>0</td>\n",
       "      <td>8</td>\n",
       "      <td>0</td>\n",
       "      <td>1</td>\n",
       "      <td>6</td>\n",
       "      <td>4</td>\n",
       "      <td>0</td>\n",
       "      <td>5</td>\n",
       "    </tr>\n",
       "    <tr>\n",
       "      <th>1</th>\n",
       "      <td>49</td>\n",
       "      <td>No</td>\n",
       "      <td>Travel_Frequently</td>\n",
       "      <td>279</td>\n",
       "      <td>Research &amp; Development</td>\n",
       "      <td>8</td>\n",
       "      <td>1</td>\n",
       "      <td>Life Sciences</td>\n",
       "      <td>1</td>\n",
       "      <td>2</td>\n",
       "      <td>3</td>\n",
       "      <td>Male</td>\n",
       "      <td>61</td>\n",
       "      <td>2</td>\n",
       "      <td>2</td>\n",
       "      <td>Research Scientist</td>\n",
       "      <td>2</td>\n",
       "      <td>Married</td>\n",
       "      <td>5130</td>\n",
       "      <td>24907</td>\n",
       "      <td>1</td>\n",
       "      <td>Y</td>\n",
       "      <td>No</td>\n",
       "      <td>23</td>\n",
       "      <td>4</td>\n",
       "      <td>4</td>\n",
       "      <td>80</td>\n",
       "      <td>1</td>\n",
       "      <td>10</td>\n",
       "      <td>3</td>\n",
       "      <td>3</td>\n",
       "      <td>10</td>\n",
       "      <td>7</td>\n",
       "      <td>1</td>\n",
       "      <td>7</td>\n",
       "    </tr>\n",
       "    <tr>\n",
       "      <th>2</th>\n",
       "      <td>37</td>\n",
       "      <td>Yes</td>\n",
       "      <td>Travel_Rarely</td>\n",
       "      <td>1373</td>\n",
       "      <td>Research &amp; Development</td>\n",
       "      <td>2</td>\n",
       "      <td>2</td>\n",
       "      <td>Other</td>\n",
       "      <td>1</td>\n",
       "      <td>4</td>\n",
       "      <td>4</td>\n",
       "      <td>Male</td>\n",
       "      <td>92</td>\n",
       "      <td>2</td>\n",
       "      <td>1</td>\n",
       "      <td>Laboratory Technician</td>\n",
       "      <td>3</td>\n",
       "      <td>Single</td>\n",
       "      <td>2090</td>\n",
       "      <td>2396</td>\n",
       "      <td>6</td>\n",
       "      <td>Y</td>\n",
       "      <td>Yes</td>\n",
       "      <td>15</td>\n",
       "      <td>3</td>\n",
       "      <td>2</td>\n",
       "      <td>80</td>\n",
       "      <td>0</td>\n",
       "      <td>7</td>\n",
       "      <td>3</td>\n",
       "      <td>3</td>\n",
       "      <td>0</td>\n",
       "      <td>0</td>\n",
       "      <td>0</td>\n",
       "      <td>0</td>\n",
       "    </tr>\n",
       "  </tbody>\n",
       "</table>\n",
       "</div>"
      ],
      "text/plain": [
       "   Age Attrition     BusinessTravel  DailyRate              Department  \\\n",
       "0   41       Yes      Travel_Rarely       1102                   Sales   \n",
       "1   49        No  Travel_Frequently        279  Research & Development   \n",
       "2   37       Yes      Travel_Rarely       1373  Research & Development   \n",
       "\n",
       "   DistanceFromHome  Education EducationField  EmployeeCount  EmployeeNumber  \\\n",
       "0                 1          2  Life Sciences              1               1   \n",
       "1                 8          1  Life Sciences              1               2   \n",
       "2                 2          2          Other              1               4   \n",
       "\n",
       "   EnvironmentSatisfaction  Gender  HourlyRate  JobInvolvement  JobLevel  \\\n",
       "0                        2  Female          94               3         2   \n",
       "1                        3    Male          61               2         2   \n",
       "2                        4    Male          92               2         1   \n",
       "\n",
       "                 JobRole  JobSatisfaction MaritalStatus  MonthlyIncome  \\\n",
       "0        Sales Executive                4        Single           5993   \n",
       "1     Research Scientist                2       Married           5130   \n",
       "2  Laboratory Technician                3        Single           2090   \n",
       "\n",
       "   MonthlyRate  NumCompaniesWorked Over18 OverTime  PercentSalaryHike  \\\n",
       "0        19479                   8      Y      Yes                 11   \n",
       "1        24907                   1      Y       No                 23   \n",
       "2         2396                   6      Y      Yes                 15   \n",
       "\n",
       "   PerformanceRating  RelationshipSatisfaction  StandardHours  \\\n",
       "0                  3                         1             80   \n",
       "1                  4                         4             80   \n",
       "2                  3                         2             80   \n",
       "\n",
       "   StockOptionLevel  TotalWorkingYears  TrainingTimesLastYear  \\\n",
       "0                 0                  8                      0   \n",
       "1                 1                 10                      3   \n",
       "2                 0                  7                      3   \n",
       "\n",
       "   WorkLifeBalance  YearsAtCompany  YearsInCurrentRole  \\\n",
       "0                1               6                   4   \n",
       "1                3              10                   7   \n",
       "2                3               0                   0   \n",
       "\n",
       "   YearsSinceLastPromotion  YearsWithCurrManager  \n",
       "0                        0                     5  \n",
       "1                        1                     7  \n",
       "2                        0                     0  "
      ]
     },
     "execution_count": 3,
     "metadata": {},
     "output_type": "execute_result"
    }
   ],
   "source": [
    "# Load the csv dataset into pandas dataframes\n",
    "data_file = os.path.join(os.getcwd(), 'dataset', 'hr_employee_attrition.csv')\n",
    "hr_df = pd.read_csv(data_file)\n",
    "hr_df.head(3)"
   ]
  },
  {
   "cell_type": "code",
   "execution_count": 4,
   "metadata": {},
   "outputs": [
    {
     "data": {
      "text/html": [
       "<div>\n",
       "<style scoped>\n",
       "    .dataframe tbody tr th:only-of-type {\n",
       "        vertical-align: middle;\n",
       "    }\n",
       "\n",
       "    .dataframe tbody tr th {\n",
       "        vertical-align: top;\n",
       "    }\n",
       "\n",
       "    .dataframe thead th {\n",
       "        text-align: right;\n",
       "    }\n",
       "</style>\n",
       "<table border=\"1\" class=\"dataframe\">\n",
       "  <thead>\n",
       "    <tr style=\"text-align: right;\">\n",
       "      <th></th>\n",
       "      <th>Age</th>\n",
       "      <th>Attrition</th>\n",
       "      <th>BusinessTravel</th>\n",
       "      <th>DailyRate</th>\n",
       "      <th>Department</th>\n",
       "      <th>DistanceFromHome</th>\n",
       "      <th>Education</th>\n",
       "      <th>EducationField</th>\n",
       "      <th>EmployeeCount</th>\n",
       "      <th>EmployeeNumber</th>\n",
       "      <th>EnvironmentSatisfaction</th>\n",
       "      <th>Gender</th>\n",
       "      <th>HourlyRate</th>\n",
       "      <th>JobInvolvement</th>\n",
       "      <th>JobLevel</th>\n",
       "      <th>JobRole</th>\n",
       "      <th>JobSatisfaction</th>\n",
       "      <th>MaritalStatus</th>\n",
       "      <th>MonthlyIncome</th>\n",
       "      <th>MonthlyRate</th>\n",
       "      <th>NumCompaniesWorked</th>\n",
       "      <th>Over18</th>\n",
       "      <th>OverTime</th>\n",
       "      <th>PercentSalaryHike</th>\n",
       "      <th>PerformanceRating</th>\n",
       "      <th>RelationshipSatisfaction</th>\n",
       "      <th>StandardHours</th>\n",
       "      <th>StockOptionLevel</th>\n",
       "      <th>TotalWorkingYears</th>\n",
       "      <th>TrainingTimesLastYear</th>\n",
       "      <th>WorkLifeBalance</th>\n",
       "      <th>YearsAtCompany</th>\n",
       "      <th>YearsInCurrentRole</th>\n",
       "      <th>YearsSinceLastPromotion</th>\n",
       "      <th>YearsWithCurrManager</th>\n",
       "    </tr>\n",
       "  </thead>\n",
       "  <tbody>\n",
       "    <tr>\n",
       "      <th>count</th>\n",
       "      <td>1470.000000</td>\n",
       "      <td>1470</td>\n",
       "      <td>1470</td>\n",
       "      <td>1470.000000</td>\n",
       "      <td>1470</td>\n",
       "      <td>1470.000000</td>\n",
       "      <td>1470.000000</td>\n",
       "      <td>1470</td>\n",
       "      <td>1470.0</td>\n",
       "      <td>1470.000000</td>\n",
       "      <td>1470.000000</td>\n",
       "      <td>1470</td>\n",
       "      <td>1470.000000</td>\n",
       "      <td>1470.000000</td>\n",
       "      <td>1470.000000</td>\n",
       "      <td>1470</td>\n",
       "      <td>1470.000000</td>\n",
       "      <td>1470</td>\n",
       "      <td>1470.000000</td>\n",
       "      <td>1470.000000</td>\n",
       "      <td>1470.000000</td>\n",
       "      <td>1470</td>\n",
       "      <td>1470</td>\n",
       "      <td>1470.000000</td>\n",
       "      <td>1470.000000</td>\n",
       "      <td>1470.000000</td>\n",
       "      <td>1470.0</td>\n",
       "      <td>1470.000000</td>\n",
       "      <td>1470.000000</td>\n",
       "      <td>1470.000000</td>\n",
       "      <td>1470.000000</td>\n",
       "      <td>1470.000000</td>\n",
       "      <td>1470.000000</td>\n",
       "      <td>1470.000000</td>\n",
       "      <td>1470.000000</td>\n",
       "    </tr>\n",
       "    <tr>\n",
       "      <th>unique</th>\n",
       "      <td>NaN</td>\n",
       "      <td>2</td>\n",
       "      <td>3</td>\n",
       "      <td>NaN</td>\n",
       "      <td>3</td>\n",
       "      <td>NaN</td>\n",
       "      <td>NaN</td>\n",
       "      <td>6</td>\n",
       "      <td>NaN</td>\n",
       "      <td>NaN</td>\n",
       "      <td>NaN</td>\n",
       "      <td>2</td>\n",
       "      <td>NaN</td>\n",
       "      <td>NaN</td>\n",
       "      <td>NaN</td>\n",
       "      <td>9</td>\n",
       "      <td>NaN</td>\n",
       "      <td>3</td>\n",
       "      <td>NaN</td>\n",
       "      <td>NaN</td>\n",
       "      <td>NaN</td>\n",
       "      <td>1</td>\n",
       "      <td>2</td>\n",
       "      <td>NaN</td>\n",
       "      <td>NaN</td>\n",
       "      <td>NaN</td>\n",
       "      <td>NaN</td>\n",
       "      <td>NaN</td>\n",
       "      <td>NaN</td>\n",
       "      <td>NaN</td>\n",
       "      <td>NaN</td>\n",
       "      <td>NaN</td>\n",
       "      <td>NaN</td>\n",
       "      <td>NaN</td>\n",
       "      <td>NaN</td>\n",
       "    </tr>\n",
       "    <tr>\n",
       "      <th>top</th>\n",
       "      <td>NaN</td>\n",
       "      <td>No</td>\n",
       "      <td>Travel_Rarely</td>\n",
       "      <td>NaN</td>\n",
       "      <td>Research &amp; Development</td>\n",
       "      <td>NaN</td>\n",
       "      <td>NaN</td>\n",
       "      <td>Life Sciences</td>\n",
       "      <td>NaN</td>\n",
       "      <td>NaN</td>\n",
       "      <td>NaN</td>\n",
       "      <td>Male</td>\n",
       "      <td>NaN</td>\n",
       "      <td>NaN</td>\n",
       "      <td>NaN</td>\n",
       "      <td>Sales Executive</td>\n",
       "      <td>NaN</td>\n",
       "      <td>Married</td>\n",
       "      <td>NaN</td>\n",
       "      <td>NaN</td>\n",
       "      <td>NaN</td>\n",
       "      <td>Y</td>\n",
       "      <td>No</td>\n",
       "      <td>NaN</td>\n",
       "      <td>NaN</td>\n",
       "      <td>NaN</td>\n",
       "      <td>NaN</td>\n",
       "      <td>NaN</td>\n",
       "      <td>NaN</td>\n",
       "      <td>NaN</td>\n",
       "      <td>NaN</td>\n",
       "      <td>NaN</td>\n",
       "      <td>NaN</td>\n",
       "      <td>NaN</td>\n",
       "      <td>NaN</td>\n",
       "    </tr>\n",
       "    <tr>\n",
       "      <th>freq</th>\n",
       "      <td>NaN</td>\n",
       "      <td>1233</td>\n",
       "      <td>1043</td>\n",
       "      <td>NaN</td>\n",
       "      <td>961</td>\n",
       "      <td>NaN</td>\n",
       "      <td>NaN</td>\n",
       "      <td>606</td>\n",
       "      <td>NaN</td>\n",
       "      <td>NaN</td>\n",
       "      <td>NaN</td>\n",
       "      <td>882</td>\n",
       "      <td>NaN</td>\n",
       "      <td>NaN</td>\n",
       "      <td>NaN</td>\n",
       "      <td>326</td>\n",
       "      <td>NaN</td>\n",
       "      <td>673</td>\n",
       "      <td>NaN</td>\n",
       "      <td>NaN</td>\n",
       "      <td>NaN</td>\n",
       "      <td>1470</td>\n",
       "      <td>1054</td>\n",
       "      <td>NaN</td>\n",
       "      <td>NaN</td>\n",
       "      <td>NaN</td>\n",
       "      <td>NaN</td>\n",
       "      <td>NaN</td>\n",
       "      <td>NaN</td>\n",
       "      <td>NaN</td>\n",
       "      <td>NaN</td>\n",
       "      <td>NaN</td>\n",
       "      <td>NaN</td>\n",
       "      <td>NaN</td>\n",
       "      <td>NaN</td>\n",
       "    </tr>\n",
       "    <tr>\n",
       "      <th>mean</th>\n",
       "      <td>36.923810</td>\n",
       "      <td>NaN</td>\n",
       "      <td>NaN</td>\n",
       "      <td>802.485714</td>\n",
       "      <td>NaN</td>\n",
       "      <td>9.192517</td>\n",
       "      <td>2.912925</td>\n",
       "      <td>NaN</td>\n",
       "      <td>1.0</td>\n",
       "      <td>1024.865306</td>\n",
       "      <td>2.721769</td>\n",
       "      <td>NaN</td>\n",
       "      <td>65.891156</td>\n",
       "      <td>2.729932</td>\n",
       "      <td>2.063946</td>\n",
       "      <td>NaN</td>\n",
       "      <td>2.728571</td>\n",
       "      <td>NaN</td>\n",
       "      <td>6502.931293</td>\n",
       "      <td>14313.103401</td>\n",
       "      <td>2.693197</td>\n",
       "      <td>NaN</td>\n",
       "      <td>NaN</td>\n",
       "      <td>15.209524</td>\n",
       "      <td>3.153741</td>\n",
       "      <td>2.712245</td>\n",
       "      <td>80.0</td>\n",
       "      <td>0.793878</td>\n",
       "      <td>11.279592</td>\n",
       "      <td>2.799320</td>\n",
       "      <td>2.761224</td>\n",
       "      <td>7.008163</td>\n",
       "      <td>4.229252</td>\n",
       "      <td>2.187755</td>\n",
       "      <td>4.123129</td>\n",
       "    </tr>\n",
       "    <tr>\n",
       "      <th>std</th>\n",
       "      <td>9.135373</td>\n",
       "      <td>NaN</td>\n",
       "      <td>NaN</td>\n",
       "      <td>403.509100</td>\n",
       "      <td>NaN</td>\n",
       "      <td>8.106864</td>\n",
       "      <td>1.024165</td>\n",
       "      <td>NaN</td>\n",
       "      <td>0.0</td>\n",
       "      <td>602.024335</td>\n",
       "      <td>1.093082</td>\n",
       "      <td>NaN</td>\n",
       "      <td>20.329428</td>\n",
       "      <td>0.711561</td>\n",
       "      <td>1.106940</td>\n",
       "      <td>NaN</td>\n",
       "      <td>1.102846</td>\n",
       "      <td>NaN</td>\n",
       "      <td>4707.956783</td>\n",
       "      <td>7117.786044</td>\n",
       "      <td>2.498009</td>\n",
       "      <td>NaN</td>\n",
       "      <td>NaN</td>\n",
       "      <td>3.659938</td>\n",
       "      <td>0.360824</td>\n",
       "      <td>1.081209</td>\n",
       "      <td>0.0</td>\n",
       "      <td>0.852077</td>\n",
       "      <td>7.780782</td>\n",
       "      <td>1.289271</td>\n",
       "      <td>0.706476</td>\n",
       "      <td>6.126525</td>\n",
       "      <td>3.623137</td>\n",
       "      <td>3.222430</td>\n",
       "      <td>3.568136</td>\n",
       "    </tr>\n",
       "    <tr>\n",
       "      <th>min</th>\n",
       "      <td>18.000000</td>\n",
       "      <td>NaN</td>\n",
       "      <td>NaN</td>\n",
       "      <td>102.000000</td>\n",
       "      <td>NaN</td>\n",
       "      <td>1.000000</td>\n",
       "      <td>1.000000</td>\n",
       "      <td>NaN</td>\n",
       "      <td>1.0</td>\n",
       "      <td>1.000000</td>\n",
       "      <td>1.000000</td>\n",
       "      <td>NaN</td>\n",
       "      <td>30.000000</td>\n",
       "      <td>1.000000</td>\n",
       "      <td>1.000000</td>\n",
       "      <td>NaN</td>\n",
       "      <td>1.000000</td>\n",
       "      <td>NaN</td>\n",
       "      <td>1009.000000</td>\n",
       "      <td>2094.000000</td>\n",
       "      <td>0.000000</td>\n",
       "      <td>NaN</td>\n",
       "      <td>NaN</td>\n",
       "      <td>11.000000</td>\n",
       "      <td>3.000000</td>\n",
       "      <td>1.000000</td>\n",
       "      <td>80.0</td>\n",
       "      <td>0.000000</td>\n",
       "      <td>0.000000</td>\n",
       "      <td>0.000000</td>\n",
       "      <td>1.000000</td>\n",
       "      <td>0.000000</td>\n",
       "      <td>0.000000</td>\n",
       "      <td>0.000000</td>\n",
       "      <td>0.000000</td>\n",
       "    </tr>\n",
       "    <tr>\n",
       "      <th>25%</th>\n",
       "      <td>30.000000</td>\n",
       "      <td>NaN</td>\n",
       "      <td>NaN</td>\n",
       "      <td>465.000000</td>\n",
       "      <td>NaN</td>\n",
       "      <td>2.000000</td>\n",
       "      <td>2.000000</td>\n",
       "      <td>NaN</td>\n",
       "      <td>1.0</td>\n",
       "      <td>491.250000</td>\n",
       "      <td>2.000000</td>\n",
       "      <td>NaN</td>\n",
       "      <td>48.000000</td>\n",
       "      <td>2.000000</td>\n",
       "      <td>1.000000</td>\n",
       "      <td>NaN</td>\n",
       "      <td>2.000000</td>\n",
       "      <td>NaN</td>\n",
       "      <td>2911.000000</td>\n",
       "      <td>8047.000000</td>\n",
       "      <td>1.000000</td>\n",
       "      <td>NaN</td>\n",
       "      <td>NaN</td>\n",
       "      <td>12.000000</td>\n",
       "      <td>3.000000</td>\n",
       "      <td>2.000000</td>\n",
       "      <td>80.0</td>\n",
       "      <td>0.000000</td>\n",
       "      <td>6.000000</td>\n",
       "      <td>2.000000</td>\n",
       "      <td>2.000000</td>\n",
       "      <td>3.000000</td>\n",
       "      <td>2.000000</td>\n",
       "      <td>0.000000</td>\n",
       "      <td>2.000000</td>\n",
       "    </tr>\n",
       "    <tr>\n",
       "      <th>50%</th>\n",
       "      <td>36.000000</td>\n",
       "      <td>NaN</td>\n",
       "      <td>NaN</td>\n",
       "      <td>802.000000</td>\n",
       "      <td>NaN</td>\n",
       "      <td>7.000000</td>\n",
       "      <td>3.000000</td>\n",
       "      <td>NaN</td>\n",
       "      <td>1.0</td>\n",
       "      <td>1020.500000</td>\n",
       "      <td>3.000000</td>\n",
       "      <td>NaN</td>\n",
       "      <td>66.000000</td>\n",
       "      <td>3.000000</td>\n",
       "      <td>2.000000</td>\n",
       "      <td>NaN</td>\n",
       "      <td>3.000000</td>\n",
       "      <td>NaN</td>\n",
       "      <td>4919.000000</td>\n",
       "      <td>14235.500000</td>\n",
       "      <td>2.000000</td>\n",
       "      <td>NaN</td>\n",
       "      <td>NaN</td>\n",
       "      <td>14.000000</td>\n",
       "      <td>3.000000</td>\n",
       "      <td>3.000000</td>\n",
       "      <td>80.0</td>\n",
       "      <td>1.000000</td>\n",
       "      <td>10.000000</td>\n",
       "      <td>3.000000</td>\n",
       "      <td>3.000000</td>\n",
       "      <td>5.000000</td>\n",
       "      <td>3.000000</td>\n",
       "      <td>1.000000</td>\n",
       "      <td>3.000000</td>\n",
       "    </tr>\n",
       "    <tr>\n",
       "      <th>75%</th>\n",
       "      <td>43.000000</td>\n",
       "      <td>NaN</td>\n",
       "      <td>NaN</td>\n",
       "      <td>1157.000000</td>\n",
       "      <td>NaN</td>\n",
       "      <td>14.000000</td>\n",
       "      <td>4.000000</td>\n",
       "      <td>NaN</td>\n",
       "      <td>1.0</td>\n",
       "      <td>1555.750000</td>\n",
       "      <td>4.000000</td>\n",
       "      <td>NaN</td>\n",
       "      <td>83.750000</td>\n",
       "      <td>3.000000</td>\n",
       "      <td>3.000000</td>\n",
       "      <td>NaN</td>\n",
       "      <td>4.000000</td>\n",
       "      <td>NaN</td>\n",
       "      <td>8379.000000</td>\n",
       "      <td>20461.500000</td>\n",
       "      <td>4.000000</td>\n",
       "      <td>NaN</td>\n",
       "      <td>NaN</td>\n",
       "      <td>18.000000</td>\n",
       "      <td>3.000000</td>\n",
       "      <td>4.000000</td>\n",
       "      <td>80.0</td>\n",
       "      <td>1.000000</td>\n",
       "      <td>15.000000</td>\n",
       "      <td>3.000000</td>\n",
       "      <td>3.000000</td>\n",
       "      <td>9.000000</td>\n",
       "      <td>7.000000</td>\n",
       "      <td>3.000000</td>\n",
       "      <td>7.000000</td>\n",
       "    </tr>\n",
       "    <tr>\n",
       "      <th>max</th>\n",
       "      <td>60.000000</td>\n",
       "      <td>NaN</td>\n",
       "      <td>NaN</td>\n",
       "      <td>1499.000000</td>\n",
       "      <td>NaN</td>\n",
       "      <td>29.000000</td>\n",
       "      <td>5.000000</td>\n",
       "      <td>NaN</td>\n",
       "      <td>1.0</td>\n",
       "      <td>2068.000000</td>\n",
       "      <td>4.000000</td>\n",
       "      <td>NaN</td>\n",
       "      <td>100.000000</td>\n",
       "      <td>4.000000</td>\n",
       "      <td>5.000000</td>\n",
       "      <td>NaN</td>\n",
       "      <td>4.000000</td>\n",
       "      <td>NaN</td>\n",
       "      <td>19999.000000</td>\n",
       "      <td>26999.000000</td>\n",
       "      <td>9.000000</td>\n",
       "      <td>NaN</td>\n",
       "      <td>NaN</td>\n",
       "      <td>25.000000</td>\n",
       "      <td>4.000000</td>\n",
       "      <td>4.000000</td>\n",
       "      <td>80.0</td>\n",
       "      <td>3.000000</td>\n",
       "      <td>40.000000</td>\n",
       "      <td>6.000000</td>\n",
       "      <td>4.000000</td>\n",
       "      <td>40.000000</td>\n",
       "      <td>18.000000</td>\n",
       "      <td>15.000000</td>\n",
       "      <td>17.000000</td>\n",
       "    </tr>\n",
       "  </tbody>\n",
       "</table>\n",
       "</div>"
      ],
      "text/plain": [
       "                Age Attrition BusinessTravel    DailyRate  \\\n",
       "count   1470.000000      1470           1470  1470.000000   \n",
       "unique          NaN         2              3          NaN   \n",
       "top             NaN        No  Travel_Rarely          NaN   \n",
       "freq            NaN      1233           1043          NaN   \n",
       "mean      36.923810       NaN            NaN   802.485714   \n",
       "std        9.135373       NaN            NaN   403.509100   \n",
       "min       18.000000       NaN            NaN   102.000000   \n",
       "25%       30.000000       NaN            NaN   465.000000   \n",
       "50%       36.000000       NaN            NaN   802.000000   \n",
       "75%       43.000000       NaN            NaN  1157.000000   \n",
       "max       60.000000       NaN            NaN  1499.000000   \n",
       "\n",
       "                    Department  DistanceFromHome    Education EducationField  \\\n",
       "count                     1470       1470.000000  1470.000000           1470   \n",
       "unique                       3               NaN          NaN              6   \n",
       "top     Research & Development               NaN          NaN  Life Sciences   \n",
       "freq                       961               NaN          NaN            606   \n",
       "mean                       NaN          9.192517     2.912925            NaN   \n",
       "std                        NaN          8.106864     1.024165            NaN   \n",
       "min                        NaN          1.000000     1.000000            NaN   \n",
       "25%                        NaN          2.000000     2.000000            NaN   \n",
       "50%                        NaN          7.000000     3.000000            NaN   \n",
       "75%                        NaN         14.000000     4.000000            NaN   \n",
       "max                        NaN         29.000000     5.000000            NaN   \n",
       "\n",
       "        EmployeeCount  EmployeeNumber  EnvironmentSatisfaction Gender  \\\n",
       "count          1470.0     1470.000000              1470.000000   1470   \n",
       "unique            NaN             NaN                      NaN      2   \n",
       "top               NaN             NaN                      NaN   Male   \n",
       "freq              NaN             NaN                      NaN    882   \n",
       "mean              1.0     1024.865306                 2.721769    NaN   \n",
       "std               0.0      602.024335                 1.093082    NaN   \n",
       "min               1.0        1.000000                 1.000000    NaN   \n",
       "25%               1.0      491.250000                 2.000000    NaN   \n",
       "50%               1.0     1020.500000                 3.000000    NaN   \n",
       "75%               1.0     1555.750000                 4.000000    NaN   \n",
       "max               1.0     2068.000000                 4.000000    NaN   \n",
       "\n",
       "         HourlyRate  JobInvolvement     JobLevel          JobRole  \\\n",
       "count   1470.000000     1470.000000  1470.000000             1470   \n",
       "unique          NaN             NaN          NaN                9   \n",
       "top             NaN             NaN          NaN  Sales Executive   \n",
       "freq            NaN             NaN          NaN              326   \n",
       "mean      65.891156        2.729932     2.063946              NaN   \n",
       "std       20.329428        0.711561     1.106940              NaN   \n",
       "min       30.000000        1.000000     1.000000              NaN   \n",
       "25%       48.000000        2.000000     1.000000              NaN   \n",
       "50%       66.000000        3.000000     2.000000              NaN   \n",
       "75%       83.750000        3.000000     3.000000              NaN   \n",
       "max      100.000000        4.000000     5.000000              NaN   \n",
       "\n",
       "        JobSatisfaction MaritalStatus  MonthlyIncome   MonthlyRate  \\\n",
       "count       1470.000000          1470    1470.000000   1470.000000   \n",
       "unique              NaN             3            NaN           NaN   \n",
       "top                 NaN       Married            NaN           NaN   \n",
       "freq                NaN           673            NaN           NaN   \n",
       "mean           2.728571           NaN    6502.931293  14313.103401   \n",
       "std            1.102846           NaN    4707.956783   7117.786044   \n",
       "min            1.000000           NaN    1009.000000   2094.000000   \n",
       "25%            2.000000           NaN    2911.000000   8047.000000   \n",
       "50%            3.000000           NaN    4919.000000  14235.500000   \n",
       "75%            4.000000           NaN    8379.000000  20461.500000   \n",
       "max            4.000000           NaN   19999.000000  26999.000000   \n",
       "\n",
       "        NumCompaniesWorked Over18 OverTime  PercentSalaryHike  \\\n",
       "count          1470.000000   1470     1470        1470.000000   \n",
       "unique                 NaN      1        2                NaN   \n",
       "top                    NaN      Y       No                NaN   \n",
       "freq                   NaN   1470     1054                NaN   \n",
       "mean              2.693197    NaN      NaN          15.209524   \n",
       "std               2.498009    NaN      NaN           3.659938   \n",
       "min               0.000000    NaN      NaN          11.000000   \n",
       "25%               1.000000    NaN      NaN          12.000000   \n",
       "50%               2.000000    NaN      NaN          14.000000   \n",
       "75%               4.000000    NaN      NaN          18.000000   \n",
       "max               9.000000    NaN      NaN          25.000000   \n",
       "\n",
       "        PerformanceRating  RelationshipSatisfaction  StandardHours  \\\n",
       "count         1470.000000               1470.000000         1470.0   \n",
       "unique                NaN                       NaN            NaN   \n",
       "top                   NaN                       NaN            NaN   \n",
       "freq                  NaN                       NaN            NaN   \n",
       "mean             3.153741                  2.712245           80.0   \n",
       "std              0.360824                  1.081209            0.0   \n",
       "min              3.000000                  1.000000           80.0   \n",
       "25%              3.000000                  2.000000           80.0   \n",
       "50%              3.000000                  3.000000           80.0   \n",
       "75%              3.000000                  4.000000           80.0   \n",
       "max              4.000000                  4.000000           80.0   \n",
       "\n",
       "        StockOptionLevel  TotalWorkingYears  TrainingTimesLastYear  \\\n",
       "count        1470.000000        1470.000000            1470.000000   \n",
       "unique               NaN                NaN                    NaN   \n",
       "top                  NaN                NaN                    NaN   \n",
       "freq                 NaN                NaN                    NaN   \n",
       "mean            0.793878          11.279592               2.799320   \n",
       "std             0.852077           7.780782               1.289271   \n",
       "min             0.000000           0.000000               0.000000   \n",
       "25%             0.000000           6.000000               2.000000   \n",
       "50%             1.000000          10.000000               3.000000   \n",
       "75%             1.000000          15.000000               3.000000   \n",
       "max             3.000000          40.000000               6.000000   \n",
       "\n",
       "        WorkLifeBalance  YearsAtCompany  YearsInCurrentRole  \\\n",
       "count       1470.000000     1470.000000         1470.000000   \n",
       "unique              NaN             NaN                 NaN   \n",
       "top                 NaN             NaN                 NaN   \n",
       "freq                NaN             NaN                 NaN   \n",
       "mean           2.761224        7.008163            4.229252   \n",
       "std            0.706476        6.126525            3.623137   \n",
       "min            1.000000        0.000000            0.000000   \n",
       "25%            2.000000        3.000000            2.000000   \n",
       "50%            3.000000        5.000000            3.000000   \n",
       "75%            3.000000        9.000000            7.000000   \n",
       "max            4.000000       40.000000           18.000000   \n",
       "\n",
       "        YearsSinceLastPromotion  YearsWithCurrManager  \n",
       "count               1470.000000           1470.000000  \n",
       "unique                      NaN                   NaN  \n",
       "top                         NaN                   NaN  \n",
       "freq                        NaN                   NaN  \n",
       "mean                   2.187755              4.123129  \n",
       "std                    3.222430              3.568136  \n",
       "min                    0.000000              0.000000  \n",
       "25%                    0.000000              2.000000  \n",
       "50%                    1.000000              3.000000  \n",
       "75%                    3.000000              7.000000  \n",
       "max                   15.000000             17.000000  "
      ]
     },
     "execution_count": 4,
     "metadata": {},
     "output_type": "execute_result"
    }
   ],
   "source": [
    "hr_df.describe(include='all')"
   ]
  },
  {
   "cell_type": "markdown",
   "metadata": {},
   "source": [
    "All rows have values for each column. Therefore, there's no need to drop any rows."
   ]
  },
  {
   "cell_type": "code",
   "execution_count": 5,
   "metadata": {},
   "outputs": [
    {
     "data": {
      "text/plain": [
       "[]"
      ]
     },
     "execution_count": 5,
     "metadata": {},
     "output_type": "execute_result"
    }
   ],
   "source": [
    "hr_df.columns[hr_df.isna().any()].tolist()"
   ]
  },
  {
   "cell_type": "markdown",
   "metadata": {},
   "source": [
    "Upon inspection, column ```Over18``` has values that are all 'Y'. A good assumption would be that a person has to be 18 years old at the minimum to be employed. Initially, this can be considered uselss. However, I retained this for the following reasons:  \n",
    "1. Country - There are some countries where the legal minimum working age is lower than 18 (e.g. 15 for Japan). This dataset did not indicate which countries the employees are from.\n",
    "2. Live Production Data - This dataset is a snippet in its current form. However, if production data is always extracted, there will always be a possibility that the opposite value, 'N', would appear.\n",
    "3. Interns - While not present in the dataset, interns can be below 18 years old. In addition, every employer keeps records of their interns as they're still considered employees."
   ]
  },
  {
   "cell_type": "code",
   "execution_count": 6,
   "metadata": {
    "scrolled": true
   },
   "outputs": [
    {
     "data": {
      "text/plain": [
       "Y    1470\n",
       "Name: Over18, dtype: int64"
      ]
     },
     "execution_count": 6,
     "metadata": {},
     "output_type": "execute_result"
    }
   ],
   "source": [
    "hr_df['Over18'].value_counts()"
   ]
  },
  {
   "cell_type": "markdown",
   "metadata": {},
   "source": [
    "Column ```EmployeeCount``` contains a single value as well. However, this column does not make sense at all so I removed this one."
   ]
  },
  {
   "cell_type": "code",
   "execution_count": 7,
   "metadata": {
    "scrolled": true
   },
   "outputs": [
    {
     "data": {
      "text/plain": [
       "1    1470\n",
       "Name: EmployeeCount, dtype: int64"
      ]
     },
     "execution_count": 7,
     "metadata": {},
     "output_type": "execute_result"
    }
   ],
   "source": [
    "hr_df['EmployeeCount'].value_counts()"
   ]
  },
  {
   "cell_type": "code",
   "execution_count": 8,
   "metadata": {},
   "outputs": [],
   "source": [
    "hr_df.drop(['EmployeeCount'], axis=1, inplace=True)"
   ]
  },
  {
   "cell_type": "markdown",
   "metadata": {},
   "source": [
    "Column ```StandardHours``` contains only one value which is 80. There is a possibility that in the future, there will be a new value. However, at present, we cannot invent rows with say, 88, without considering other variables. There, this column needs to be dropped."
   ]
  },
  {
   "cell_type": "code",
   "execution_count": 9,
   "metadata": {
    "scrolled": true
   },
   "outputs": [
    {
     "data": {
      "text/plain": [
       "80    1470\n",
       "Name: StandardHours, dtype: int64"
      ]
     },
     "execution_count": 9,
     "metadata": {},
     "output_type": "execute_result"
    }
   ],
   "source": [
    "hr_df['StandardHours'].value_counts()"
   ]
  },
  {
   "cell_type": "code",
   "execution_count": 10,
   "metadata": {},
   "outputs": [],
   "source": [
    "hr_df.drop(['StandardHours'], axis=1, inplace=True)"
   ]
  },
  {
   "cell_type": "markdown",
   "metadata": {},
   "source": [
    "# 2. Exploring the Data"
   ]
  },
  {
   "cell_type": "markdown",
   "metadata": {},
   "source": [
    "## 2.1. Exploring the Whole Data"
   ]
  },
  {
   "cell_type": "markdown",
   "metadata": {},
   "source": [
    "In the attrition, those who stayed (No) greatly outnumber those who left (Yes)."
   ]
  },
  {
   "cell_type": "code",
   "execution_count": 11,
   "metadata": {
    "scrolled": true
   },
   "outputs": [
    {
     "data": {
      "image/png": "[encoded data removed]",
      "text/plain": [
       "<Figure size 432x288 with 1 Axes>"
      ]
     },
     "metadata": {},
     "output_type": "display_data"
    }
   ],
   "source": [
    "ax = hr_df['Attrition'].value_counts().plot(kind='bar')\n",
    "ax.set_title('Count of Attrition');"
   ]
  },
  {
   "cell_type": "markdown",
   "metadata": {},
   "source": [
    "Research & Development department has the highest number of employees, followed by Sales and Human Resources. R & D also has the highest number of employees who left."
   ]
  },
  {
   "cell_type": "code",
   "execution_count": 12,
   "metadata": {
    "scrolled": true
   },
   "outputs": [
    {
     "data": {
      "image/png": "[encoded data removed]",
      "text/plain": [
       "<Figure size 525.225x360 with 1 Axes>"
      ]
     },
     "metadata": {},
     "output_type": "display_data"
    }
   ],
   "source": [
    "fig = sns.catplot(x='Attrition', kind='count', hue='Department' ,data=hr_df )\n",
    "fig.set(xlabel='Attrition', ylabel=\"Employee Count\", title=\"Count of Attritions by Department\");"
   ]
  },
  {
   "cell_type": "markdown",
   "metadata": {},
   "source": [
    "If combined, those with Job Satisfaction of 1 and 2 are greater than those with 3 and 4."
   ]
  },
  {
   "cell_type": "code",
   "execution_count": 13,
   "metadata": {
    "scrolled": false
   },
   "outputs": [
    {
     "data": {
      "image/png": "[encoded data removed]",
      "text/plain": [
       "<Figure size 360x360 with 1 Axes>"
      ]
     },
     "metadata": {},
     "output_type": "display_data"
    }
   ],
   "source": [
    "fig = sns.catplot(x='JobSatisfaction', kind='count', data=hr_df )\n",
    "fig.set(xlabel='Attrition', ylabel=\"Employee Count\", title=\"Count of Employees by Job Satisfaction\");"
   ]
  },
  {
   "cell_type": "markdown",
   "metadata": {},
   "source": [
    "Majority of employees traver rarely."
   ]
  },
  {
   "cell_type": "code",
   "execution_count": 14,
   "metadata": {
    "scrolled": false
   },
   "outputs": [
    {
     "data": {
      "image/png": "[encoded data removed]",
      "text/plain": [
       "<Figure size 432x288 with 1 Axes>"
      ]
     },
     "metadata": {},
     "output_type": "display_data"
    }
   ],
   "source": [
    "hr_df['BusinessTravel'].value_counts().plot(kind='bar');"
   ]
  },
  {
   "cell_type": "code",
   "execution_count": 15,
   "metadata": {},
   "outputs": [
    {
     "name": "stdout",
     "output_type": "stream",
     "text": [
      "Mean Age: 36.923809523809524\n"
     ]
    },
    {
     "data": {
      "image/png": "[encoded data removed]",
      "text/plain": [
       "<Figure size 432x288 with 1 Axes>"
      ]
     },
     "metadata": {},
     "output_type": "display_data"
    }
   ],
   "source": [
    "print(\"Mean Age: {}\".format(hr_df['Age'].mean()))\n",
    "sns.distplot(hr_df['Age']);"
   ]
  },
  {
   "cell_type": "code",
   "execution_count": 16,
   "metadata": {
    "scrolled": true
   },
   "outputs": [
    {
     "name": "stdout",
     "output_type": "stream",
     "text": [
      "Mean Monthly Rate: 14313.103401360544\n"
     ]
    },
    {
     "data": {
      "image/png": "[encoded data removed]",
      "text/plain": [
       "<Figure size 432x288 with 1 Axes>"
      ]
     },
     "metadata": {},
     "output_type": "display_data"
    }
   ],
   "source": [
    "print(\"Mean Monthly Rate: {}\".format(hr_df['MonthlyRate'].mean()))\n",
    "sns.distplot(hr_df['MonthlyRate']);"
   ]
  },
  {
   "cell_type": "markdown",
   "metadata": {},
   "source": [
    "While the average tenure is 7 years, there are some outliers. These are employees who have stayed for longer than 10 years."
   ]
  },
  {
   "cell_type": "code",
   "execution_count": 17,
   "metadata": {
    "scrolled": false
   },
   "outputs": [
    {
     "name": "stdout",
     "output_type": "stream",
     "text": [
      "Mean Tenure (YearsAtCompany): 7.0081632653061225\n"
     ]
    },
    {
     "data": {
      "image/png": "[encoded data removed]",
      "text/plain": [
       "<Figure size 432x288 with 1 Axes>"
      ]
     },
     "metadata": {},
     "output_type": "display_data"
    }
   ],
   "source": [
    "print(\"Mean Tenure (YearsAtCompany): {}\".format(hr_df['YearsAtCompany'].mean()))\n",
    "sns.distplot(hr_df['YearsAtCompany']);"
   ]
  },
  {
   "cell_type": "markdown",
   "metadata": {},
   "source": [
    "This chart shows the distribution and average monthly rates for each department. Human Resources has the lowest average monthly salary."
   ]
  },
  {
   "cell_type": "code",
   "execution_count": 18,
   "metadata": {
    "scrolled": true
   },
   "outputs": [
    {
     "data": {
      "image/png": "[encoded data removed]",
      "text/plain": [
       "<Figure size 432x288 with 1 Axes>"
      ]
     },
     "metadata": {},
     "output_type": "display_data"
    }
   ],
   "source": [
    "unique_depts = hr_df['Department'].unique()\n",
    "\n",
    "for dept in unique_depts:\n",
    "    subset = hr_df[hr_df['Department'] == dept]\n",
    "    dept_mean = subset['MonthlyRate'].mean()\n",
    "    dept_label = '{} (Ave: {:.2f})'.format(dept, dept_mean)\n",
    "    sns.distplot(subset['MonthlyRate'], hist=False, label=dept_label)\n",
    "\n",
    "plt.legend(title='Departments');"
   ]
  },
  {
   "cell_type": "markdown",
   "metadata": {},
   "source": [
    "## 2.2. Exploring those who Left"
   ]
  },
  {
   "cell_type": "code",
   "execution_count": 19,
   "metadata": {},
   "outputs": [],
   "source": [
    "leaver_df = hr_df[hr_df['Attrition'] == 'Yes']"
   ]
  },
  {
   "cell_type": "code",
   "execution_count": 20,
   "metadata": {
    "scrolled": true
   },
   "outputs": [
    {
     "data": {
      "text/html": [
       "<div>\n",
       "<style scoped>\n",
       "    .dataframe tbody tr th:only-of-type {\n",
       "        vertical-align: middle;\n",
       "    }\n",
       "\n",
       "    .dataframe tbody tr th {\n",
       "        vertical-align: top;\n",
       "    }\n",
       "\n",
       "    .dataframe thead th {\n",
       "        text-align: right;\n",
       "    }\n",
       "</style>\n",
       "<table border=\"1\" class=\"dataframe\">\n",
       "  <thead>\n",
       "    <tr style=\"text-align: right;\">\n",
       "      <th></th>\n",
       "      <th>Age</th>\n",
       "      <th>Attrition</th>\n",
       "      <th>BusinessTravel</th>\n",
       "      <th>DailyRate</th>\n",
       "      <th>Department</th>\n",
       "      <th>DistanceFromHome</th>\n",
       "      <th>Education</th>\n",
       "      <th>EducationField</th>\n",
       "      <th>EmployeeNumber</th>\n",
       "      <th>EnvironmentSatisfaction</th>\n",
       "      <th>Gender</th>\n",
       "      <th>HourlyRate</th>\n",
       "      <th>JobInvolvement</th>\n",
       "      <th>JobLevel</th>\n",
       "      <th>JobRole</th>\n",
       "      <th>JobSatisfaction</th>\n",
       "      <th>MaritalStatus</th>\n",
       "      <th>MonthlyIncome</th>\n",
       "      <th>MonthlyRate</th>\n",
       "      <th>NumCompaniesWorked</th>\n",
       "      <th>Over18</th>\n",
       "      <th>OverTime</th>\n",
       "      <th>PercentSalaryHike</th>\n",
       "      <th>PerformanceRating</th>\n",
       "      <th>RelationshipSatisfaction</th>\n",
       "      <th>StockOptionLevel</th>\n",
       "      <th>TotalWorkingYears</th>\n",
       "      <th>TrainingTimesLastYear</th>\n",
       "      <th>WorkLifeBalance</th>\n",
       "      <th>YearsAtCompany</th>\n",
       "      <th>YearsInCurrentRole</th>\n",
       "      <th>YearsSinceLastPromotion</th>\n",
       "      <th>YearsWithCurrManager</th>\n",
       "    </tr>\n",
       "  </thead>\n",
       "  <tbody>\n",
       "    <tr>\n",
       "      <th>count</th>\n",
       "      <td>237.000000</td>\n",
       "      <td>237</td>\n",
       "      <td>237</td>\n",
       "      <td>237.000000</td>\n",
       "      <td>237</td>\n",
       "      <td>237.000000</td>\n",
       "      <td>237.000000</td>\n",
       "      <td>237</td>\n",
       "      <td>237.000000</td>\n",
       "      <td>237.000000</td>\n",
       "      <td>237</td>\n",
       "      <td>237.000000</td>\n",
       "      <td>237.000000</td>\n",
       "      <td>237.000000</td>\n",
       "      <td>237</td>\n",
       "      <td>237.000000</td>\n",
       "      <td>237</td>\n",
       "      <td>237.000000</td>\n",
       "      <td>237.000000</td>\n",
       "      <td>237.000000</td>\n",
       "      <td>237</td>\n",
       "      <td>237</td>\n",
       "      <td>237.000000</td>\n",
       "      <td>237.000000</td>\n",
       "      <td>237.000000</td>\n",
       "      <td>237.000000</td>\n",
       "      <td>237.000000</td>\n",
       "      <td>237.000000</td>\n",
       "      <td>237.000000</td>\n",
       "      <td>237.000000</td>\n",
       "      <td>237.000000</td>\n",
       "      <td>237.000000</td>\n",
       "      <td>237.000000</td>\n",
       "    </tr>\n",
       "    <tr>\n",
       "      <th>unique</th>\n",
       "      <td>NaN</td>\n",
       "      <td>1</td>\n",
       "      <td>3</td>\n",
       "      <td>NaN</td>\n",
       "      <td>3</td>\n",
       "      <td>NaN</td>\n",
       "      <td>NaN</td>\n",
       "      <td>6</td>\n",
       "      <td>NaN</td>\n",
       "      <td>NaN</td>\n",
       "      <td>2</td>\n",
       "      <td>NaN</td>\n",
       "      <td>NaN</td>\n",
       "      <td>NaN</td>\n",
       "      <td>9</td>\n",
       "      <td>NaN</td>\n",
       "      <td>3</td>\n",
       "      <td>NaN</td>\n",
       "      <td>NaN</td>\n",
       "      <td>NaN</td>\n",
       "      <td>1</td>\n",
       "      <td>2</td>\n",
       "      <td>NaN</td>\n",
       "      <td>NaN</td>\n",
       "      <td>NaN</td>\n",
       "      <td>NaN</td>\n",
       "      <td>NaN</td>\n",
       "      <td>NaN</td>\n",
       "      <td>NaN</td>\n",
       "      <td>NaN</td>\n",
       "      <td>NaN</td>\n",
       "      <td>NaN</td>\n",
       "      <td>NaN</td>\n",
       "    </tr>\n",
       "    <tr>\n",
       "      <th>top</th>\n",
       "      <td>NaN</td>\n",
       "      <td>Yes</td>\n",
       "      <td>Travel_Rarely</td>\n",
       "      <td>NaN</td>\n",
       "      <td>Research &amp; Development</td>\n",
       "      <td>NaN</td>\n",
       "      <td>NaN</td>\n",
       "      <td>Life Sciences</td>\n",
       "      <td>NaN</td>\n",
       "      <td>NaN</td>\n",
       "      <td>Male</td>\n",
       "      <td>NaN</td>\n",
       "      <td>NaN</td>\n",
       "      <td>NaN</td>\n",
       "      <td>Laboratory Technician</td>\n",
       "      <td>NaN</td>\n",
       "      <td>Single</td>\n",
       "      <td>NaN</td>\n",
       "      <td>NaN</td>\n",
       "      <td>NaN</td>\n",
       "      <td>Y</td>\n",
       "      <td>Yes</td>\n",
       "      <td>NaN</td>\n",
       "      <td>NaN</td>\n",
       "      <td>NaN</td>\n",
       "      <td>NaN</td>\n",
       "      <td>NaN</td>\n",
       "      <td>NaN</td>\n",
       "      <td>NaN</td>\n",
       "      <td>NaN</td>\n",
       "      <td>NaN</td>\n",
       "      <td>NaN</td>\n",
       "      <td>NaN</td>\n",
       "    </tr>\n",
       "    <tr>\n",
       "      <th>freq</th>\n",
       "      <td>NaN</td>\n",
       "      <td>237</td>\n",
       "      <td>156</td>\n",
       "      <td>NaN</td>\n",
       "      <td>133</td>\n",
       "      <td>NaN</td>\n",
       "      <td>NaN</td>\n",
       "      <td>89</td>\n",
       "      <td>NaN</td>\n",
       "      <td>NaN</td>\n",
       "      <td>150</td>\n",
       "      <td>NaN</td>\n",
       "      <td>NaN</td>\n",
       "      <td>NaN</td>\n",
       "      <td>62</td>\n",
       "      <td>NaN</td>\n",
       "      <td>120</td>\n",
       "      <td>NaN</td>\n",
       "      <td>NaN</td>\n",
       "      <td>NaN</td>\n",
       "      <td>237</td>\n",
       "      <td>127</td>\n",
       "      <td>NaN</td>\n",
       "      <td>NaN</td>\n",
       "      <td>NaN</td>\n",
       "      <td>NaN</td>\n",
       "      <td>NaN</td>\n",
       "      <td>NaN</td>\n",
       "      <td>NaN</td>\n",
       "      <td>NaN</td>\n",
       "      <td>NaN</td>\n",
       "      <td>NaN</td>\n",
       "      <td>NaN</td>\n",
       "    </tr>\n",
       "    <tr>\n",
       "      <th>mean</th>\n",
       "      <td>33.607595</td>\n",
       "      <td>NaN</td>\n",
       "      <td>NaN</td>\n",
       "      <td>750.362869</td>\n",
       "      <td>NaN</td>\n",
       "      <td>10.632911</td>\n",
       "      <td>2.839662</td>\n",
       "      <td>NaN</td>\n",
       "      <td>1010.345992</td>\n",
       "      <td>2.464135</td>\n",
       "      <td>NaN</td>\n",
       "      <td>65.573840</td>\n",
       "      <td>2.518987</td>\n",
       "      <td>1.637131</td>\n",
       "      <td>NaN</td>\n",
       "      <td>2.468354</td>\n",
       "      <td>NaN</td>\n",
       "      <td>4787.092827</td>\n",
       "      <td>14559.308017</td>\n",
       "      <td>2.940928</td>\n",
       "      <td>NaN</td>\n",
       "      <td>NaN</td>\n",
       "      <td>15.097046</td>\n",
       "      <td>3.156118</td>\n",
       "      <td>2.599156</td>\n",
       "      <td>0.527426</td>\n",
       "      <td>8.244726</td>\n",
       "      <td>2.624473</td>\n",
       "      <td>2.658228</td>\n",
       "      <td>5.130802</td>\n",
       "      <td>2.902954</td>\n",
       "      <td>1.945148</td>\n",
       "      <td>2.852321</td>\n",
       "    </tr>\n",
       "    <tr>\n",
       "      <th>std</th>\n",
       "      <td>9.689350</td>\n",
       "      <td>NaN</td>\n",
       "      <td>NaN</td>\n",
       "      <td>401.899519</td>\n",
       "      <td>NaN</td>\n",
       "      <td>8.452525</td>\n",
       "      <td>1.008244</td>\n",
       "      <td>NaN</td>\n",
       "      <td>580.750572</td>\n",
       "      <td>1.169791</td>\n",
       "      <td>NaN</td>\n",
       "      <td>20.099958</td>\n",
       "      <td>0.773405</td>\n",
       "      <td>0.940594</td>\n",
       "      <td>NaN</td>\n",
       "      <td>1.118058</td>\n",
       "      <td>NaN</td>\n",
       "      <td>3640.210367</td>\n",
       "      <td>7208.153264</td>\n",
       "      <td>2.678519</td>\n",
       "      <td>NaN</td>\n",
       "      <td>NaN</td>\n",
       "      <td>3.770294</td>\n",
       "      <td>0.363735</td>\n",
       "      <td>1.125437</td>\n",
       "      <td>0.856361</td>\n",
       "      <td>7.169204</td>\n",
       "      <td>1.254784</td>\n",
       "      <td>0.816453</td>\n",
       "      <td>5.949984</td>\n",
       "      <td>3.174827</td>\n",
       "      <td>3.153077</td>\n",
       "      <td>3.143349</td>\n",
       "    </tr>\n",
       "    <tr>\n",
       "      <th>min</th>\n",
       "      <td>18.000000</td>\n",
       "      <td>NaN</td>\n",
       "      <td>NaN</td>\n",
       "      <td>103.000000</td>\n",
       "      <td>NaN</td>\n",
       "      <td>1.000000</td>\n",
       "      <td>1.000000</td>\n",
       "      <td>NaN</td>\n",
       "      <td>1.000000</td>\n",
       "      <td>1.000000</td>\n",
       "      <td>NaN</td>\n",
       "      <td>31.000000</td>\n",
       "      <td>1.000000</td>\n",
       "      <td>1.000000</td>\n",
       "      <td>NaN</td>\n",
       "      <td>1.000000</td>\n",
       "      <td>NaN</td>\n",
       "      <td>1009.000000</td>\n",
       "      <td>2326.000000</td>\n",
       "      <td>0.000000</td>\n",
       "      <td>NaN</td>\n",
       "      <td>NaN</td>\n",
       "      <td>11.000000</td>\n",
       "      <td>3.000000</td>\n",
       "      <td>1.000000</td>\n",
       "      <td>0.000000</td>\n",
       "      <td>0.000000</td>\n",
       "      <td>0.000000</td>\n",
       "      <td>1.000000</td>\n",
       "      <td>0.000000</td>\n",
       "      <td>0.000000</td>\n",
       "      <td>0.000000</td>\n",
       "      <td>0.000000</td>\n",
       "    </tr>\n",
       "    <tr>\n",
       "      <th>25%</th>\n",
       "      <td>28.000000</td>\n",
       "      <td>NaN</td>\n",
       "      <td>NaN</td>\n",
       "      <td>408.000000</td>\n",
       "      <td>NaN</td>\n",
       "      <td>3.000000</td>\n",
       "      <td>2.000000</td>\n",
       "      <td>NaN</td>\n",
       "      <td>514.000000</td>\n",
       "      <td>1.000000</td>\n",
       "      <td>NaN</td>\n",
       "      <td>50.000000</td>\n",
       "      <td>2.000000</td>\n",
       "      <td>1.000000</td>\n",
       "      <td>NaN</td>\n",
       "      <td>1.000000</td>\n",
       "      <td>NaN</td>\n",
       "      <td>2373.000000</td>\n",
       "      <td>8870.000000</td>\n",
       "      <td>1.000000</td>\n",
       "      <td>NaN</td>\n",
       "      <td>NaN</td>\n",
       "      <td>12.000000</td>\n",
       "      <td>3.000000</td>\n",
       "      <td>2.000000</td>\n",
       "      <td>0.000000</td>\n",
       "      <td>3.000000</td>\n",
       "      <td>2.000000</td>\n",
       "      <td>2.000000</td>\n",
       "      <td>1.000000</td>\n",
       "      <td>0.000000</td>\n",
       "      <td>0.000000</td>\n",
       "      <td>0.000000</td>\n",
       "    </tr>\n",
       "    <tr>\n",
       "      <th>50%</th>\n",
       "      <td>32.000000</td>\n",
       "      <td>NaN</td>\n",
       "      <td>NaN</td>\n",
       "      <td>699.000000</td>\n",
       "      <td>NaN</td>\n",
       "      <td>9.000000</td>\n",
       "      <td>3.000000</td>\n",
       "      <td>NaN</td>\n",
       "      <td>1017.000000</td>\n",
       "      <td>3.000000</td>\n",
       "      <td>NaN</td>\n",
       "      <td>66.000000</td>\n",
       "      <td>3.000000</td>\n",
       "      <td>1.000000</td>\n",
       "      <td>NaN</td>\n",
       "      <td>3.000000</td>\n",
       "      <td>NaN</td>\n",
       "      <td>3202.000000</td>\n",
       "      <td>14618.000000</td>\n",
       "      <td>1.000000</td>\n",
       "      <td>NaN</td>\n",
       "      <td>NaN</td>\n",
       "      <td>14.000000</td>\n",
       "      <td>3.000000</td>\n",
       "      <td>3.000000</td>\n",
       "      <td>0.000000</td>\n",
       "      <td>7.000000</td>\n",
       "      <td>2.000000</td>\n",
       "      <td>3.000000</td>\n",
       "      <td>3.000000</td>\n",
       "      <td>2.000000</td>\n",
       "      <td>1.000000</td>\n",
       "      <td>2.000000</td>\n",
       "    </tr>\n",
       "    <tr>\n",
       "      <th>75%</th>\n",
       "      <td>39.000000</td>\n",
       "      <td>NaN</td>\n",
       "      <td>NaN</td>\n",
       "      <td>1092.000000</td>\n",
       "      <td>NaN</td>\n",
       "      <td>17.000000</td>\n",
       "      <td>4.000000</td>\n",
       "      <td>NaN</td>\n",
       "      <td>1486.000000</td>\n",
       "      <td>4.000000</td>\n",
       "      <td>NaN</td>\n",
       "      <td>84.000000</td>\n",
       "      <td>3.000000</td>\n",
       "      <td>2.000000</td>\n",
       "      <td>NaN</td>\n",
       "      <td>3.000000</td>\n",
       "      <td>NaN</td>\n",
       "      <td>5916.000000</td>\n",
       "      <td>21081.000000</td>\n",
       "      <td>5.000000</td>\n",
       "      <td>NaN</td>\n",
       "      <td>NaN</td>\n",
       "      <td>17.000000</td>\n",
       "      <td>3.000000</td>\n",
       "      <td>4.000000</td>\n",
       "      <td>1.000000</td>\n",
       "      <td>10.000000</td>\n",
       "      <td>3.000000</td>\n",
       "      <td>3.000000</td>\n",
       "      <td>7.000000</td>\n",
       "      <td>4.000000</td>\n",
       "      <td>2.000000</td>\n",
       "      <td>5.000000</td>\n",
       "    </tr>\n",
       "    <tr>\n",
       "      <th>max</th>\n",
       "      <td>58.000000</td>\n",
       "      <td>NaN</td>\n",
       "      <td>NaN</td>\n",
       "      <td>1496.000000</td>\n",
       "      <td>NaN</td>\n",
       "      <td>29.000000</td>\n",
       "      <td>5.000000</td>\n",
       "      <td>NaN</td>\n",
       "      <td>2055.000000</td>\n",
       "      <td>4.000000</td>\n",
       "      <td>NaN</td>\n",
       "      <td>100.000000</td>\n",
       "      <td>4.000000</td>\n",
       "      <td>5.000000</td>\n",
       "      <td>NaN</td>\n",
       "      <td>4.000000</td>\n",
       "      <td>NaN</td>\n",
       "      <td>19859.000000</td>\n",
       "      <td>26999.000000</td>\n",
       "      <td>9.000000</td>\n",
       "      <td>NaN</td>\n",
       "      <td>NaN</td>\n",
       "      <td>25.000000</td>\n",
       "      <td>4.000000</td>\n",
       "      <td>4.000000</td>\n",
       "      <td>3.000000</td>\n",
       "      <td>40.000000</td>\n",
       "      <td>6.000000</td>\n",
       "      <td>4.000000</td>\n",
       "      <td>40.000000</td>\n",
       "      <td>15.000000</td>\n",
       "      <td>15.000000</td>\n",
       "      <td>14.000000</td>\n",
       "    </tr>\n",
       "  </tbody>\n",
       "</table>\n",
       "</div>"
      ],
      "text/plain": [
       "               Age Attrition BusinessTravel    DailyRate  \\\n",
       "count   237.000000       237            237   237.000000   \n",
       "unique         NaN         1              3          NaN   \n",
       "top            NaN       Yes  Travel_Rarely          NaN   \n",
       "freq           NaN       237            156          NaN   \n",
       "mean     33.607595       NaN            NaN   750.362869   \n",
       "std       9.689350       NaN            NaN   401.899519   \n",
       "min      18.000000       NaN            NaN   103.000000   \n",
       "25%      28.000000       NaN            NaN   408.000000   \n",
       "50%      32.000000       NaN            NaN   699.000000   \n",
       "75%      39.000000       NaN            NaN  1092.000000   \n",
       "max      58.000000       NaN            NaN  1496.000000   \n",
       "\n",
       "                    Department  DistanceFromHome   Education EducationField  \\\n",
       "count                      237        237.000000  237.000000            237   \n",
       "unique                       3               NaN         NaN              6   \n",
       "top     Research & Development               NaN         NaN  Life Sciences   \n",
       "freq                       133               NaN         NaN             89   \n",
       "mean                       NaN         10.632911    2.839662            NaN   \n",
       "std                        NaN          8.452525    1.008244            NaN   \n",
       "min                        NaN          1.000000    1.000000            NaN   \n",
       "25%                        NaN          3.000000    2.000000            NaN   \n",
       "50%                        NaN          9.000000    3.000000            NaN   \n",
       "75%                        NaN         17.000000    4.000000            NaN   \n",
       "max                        NaN         29.000000    5.000000            NaN   \n",
       "\n",
       "        EmployeeNumber  EnvironmentSatisfaction Gender  HourlyRate  \\\n",
       "count       237.000000               237.000000    237  237.000000   \n",
       "unique             NaN                      NaN      2         NaN   \n",
       "top                NaN                      NaN   Male         NaN   \n",
       "freq               NaN                      NaN    150         NaN   \n",
       "mean       1010.345992                 2.464135    NaN   65.573840   \n",
       "std         580.750572                 1.169791    NaN   20.099958   \n",
       "min           1.000000                 1.000000    NaN   31.000000   \n",
       "25%         514.000000                 1.000000    NaN   50.000000   \n",
       "50%        1017.000000                 3.000000    NaN   66.000000   \n",
       "75%        1486.000000                 4.000000    NaN   84.000000   \n",
       "max        2055.000000                 4.000000    NaN  100.000000   \n",
       "\n",
       "        JobInvolvement    JobLevel                JobRole  JobSatisfaction  \\\n",
       "count       237.000000  237.000000                    237       237.000000   \n",
       "unique             NaN         NaN                      9              NaN   \n",
       "top                NaN         NaN  Laboratory Technician              NaN   \n",
       "freq               NaN         NaN                     62              NaN   \n",
       "mean          2.518987    1.637131                    NaN         2.468354   \n",
       "std           0.773405    0.940594                    NaN         1.118058   \n",
       "min           1.000000    1.000000                    NaN         1.000000   \n",
       "25%           2.000000    1.000000                    NaN         1.000000   \n",
       "50%           3.000000    1.000000                    NaN         3.000000   \n",
       "75%           3.000000    2.000000                    NaN         3.000000   \n",
       "max           4.000000    5.000000                    NaN         4.000000   \n",
       "\n",
       "       MaritalStatus  MonthlyIncome   MonthlyRate  NumCompaniesWorked Over18  \\\n",
       "count            237     237.000000    237.000000          237.000000    237   \n",
       "unique             3            NaN           NaN                 NaN      1   \n",
       "top           Single            NaN           NaN                 NaN      Y   \n",
       "freq             120            NaN           NaN                 NaN    237   \n",
       "mean             NaN    4787.092827  14559.308017            2.940928    NaN   \n",
       "std              NaN    3640.210367   7208.153264            2.678519    NaN   \n",
       "min              NaN    1009.000000   2326.000000            0.000000    NaN   \n",
       "25%              NaN    2373.000000   8870.000000            1.000000    NaN   \n",
       "50%              NaN    3202.000000  14618.000000            1.000000    NaN   \n",
       "75%              NaN    5916.000000  21081.000000            5.000000    NaN   \n",
       "max              NaN   19859.000000  26999.000000            9.000000    NaN   \n",
       "\n",
       "       OverTime  PercentSalaryHike  PerformanceRating  \\\n",
       "count       237         237.000000         237.000000   \n",
       "unique        2                NaN                NaN   \n",
       "top         Yes                NaN                NaN   \n",
       "freq        127                NaN                NaN   \n",
       "mean        NaN          15.097046           3.156118   \n",
       "std         NaN           3.770294           0.363735   \n",
       "min         NaN          11.000000           3.000000   \n",
       "25%         NaN          12.000000           3.000000   \n",
       "50%         NaN          14.000000           3.000000   \n",
       "75%         NaN          17.000000           3.000000   \n",
       "max         NaN          25.000000           4.000000   \n",
       "\n",
       "        RelationshipSatisfaction  StockOptionLevel  TotalWorkingYears  \\\n",
       "count                 237.000000        237.000000         237.000000   \n",
       "unique                       NaN               NaN                NaN   \n",
       "top                          NaN               NaN                NaN   \n",
       "freq                         NaN               NaN                NaN   \n",
       "mean                    2.599156          0.527426           8.244726   \n",
       "std                     1.125437          0.856361           7.169204   \n",
       "min                     1.000000          0.000000           0.000000   \n",
       "25%                     2.000000          0.000000           3.000000   \n",
       "50%                     3.000000          0.000000           7.000000   \n",
       "75%                     4.000000          1.000000          10.000000   \n",
       "max                     4.000000          3.000000          40.000000   \n",
       "\n",
       "        TrainingTimesLastYear  WorkLifeBalance  YearsAtCompany  \\\n",
       "count              237.000000       237.000000      237.000000   \n",
       "unique                    NaN              NaN             NaN   \n",
       "top                       NaN              NaN             NaN   \n",
       "freq                      NaN              NaN             NaN   \n",
       "mean                 2.624473         2.658228        5.130802   \n",
       "std                  1.254784         0.816453        5.949984   \n",
       "min                  0.000000         1.000000        0.000000   \n",
       "25%                  2.000000         2.000000        1.000000   \n",
       "50%                  2.000000         3.000000        3.000000   \n",
       "75%                  3.000000         3.000000        7.000000   \n",
       "max                  6.000000         4.000000       40.000000   \n",
       "\n",
       "        YearsInCurrentRole  YearsSinceLastPromotion  YearsWithCurrManager  \n",
       "count           237.000000               237.000000            237.000000  \n",
       "unique                 NaN                      NaN                   NaN  \n",
       "top                    NaN                      NaN                   NaN  \n",
       "freq                   NaN                      NaN                   NaN  \n",
       "mean              2.902954                 1.945148              2.852321  \n",
       "std               3.174827                 3.153077              3.143349  \n",
       "min               0.000000                 0.000000              0.000000  \n",
       "25%               0.000000                 0.000000              0.000000  \n",
       "50%               2.000000                 1.000000              2.000000  \n",
       "75%               4.000000                 2.000000              5.000000  \n",
       "max              15.000000                15.000000             14.000000  "
      ]
     },
     "execution_count": 20,
     "metadata": {},
     "output_type": "execute_result"
    }
   ],
   "source": [
    "leaver_df.describe(include='all')"
   ]
  },
  {
   "cell_type": "markdown",
   "metadata": {},
   "source": [
    "Many R&D employees of level 1 have left the company, followed by the Sales members."
   ]
  },
  {
   "cell_type": "code",
   "execution_count": 21,
   "metadata": {
    "scrolled": true
   },
   "outputs": [
    {
     "data": {
      "image/png": "[encoded data removed]",
      "text/plain": [
       "<Figure size 525.225x360 with 1 Axes>"
      ]
     },
     "metadata": {},
     "output_type": "display_data"
    }
   ],
   "source": [
    "fig = sns.catplot(x='JobLevel', kind='count', hue='Department', data=leaver_df )\n",
    "fig.set(xlabel='JobLevel', ylabel=\"Employee Count\", title=\"Count of Leavers by Job Level\");"
   ]
  },
  {
   "cell_type": "code",
   "execution_count": 22,
   "metadata": {
    "scrolled": false
   },
   "outputs": [
    {
     "data": {
      "text/plain": [
       "Laboratory Technician        62\n",
       "Research Scientist           47\n",
       "Manufacturing Director       10\n",
       "Healthcare Representative     9\n",
       "Manager                       3\n",
       "Research Director             2\n",
       "Name: JobRole, dtype: int64"
      ]
     },
     "execution_count": 22,
     "metadata": {},
     "output_type": "execute_result"
    }
   ],
   "source": [
    "leaver_df[leaver_df['Department'] == 'Research & Development']['JobRole'].value_counts()"
   ]
  },
  {
   "cell_type": "markdown",
   "metadata": {},
   "source": [
    "Laboratory Technicians, Sales Executives and Research Scientists are the roles with the most number of leavers."
   ]
  },
  {
   "cell_type": "code",
   "execution_count": 23,
   "metadata": {
    "scrolled": true
   },
   "outputs": [
    {
     "data": {
      "image/png": "[encoded data removed]",
      "text/plain": [
       "<Figure size 360x360 with 1 Axes>"
      ]
     },
     "metadata": {},
     "output_type": "display_data"
    }
   ],
   "source": [
    "fig = sns.catplot(x='JobRole', kind='count', data=leaver_df )\n",
    "fig.set(xlabel='JobRole', ylabel=\"Employee Count\", title=\"Count of Leavers by Job Role\")\n",
    "fig.set_xticklabels(rotation=90);"
   ]
  },
  {
   "cell_type": "markdown",
   "metadata": {},
   "source": [
    "# 3. Reusable Functions\n",
    "Below cells contain functions that will be reused during the logistic regressions."
   ]
  },
  {
   "cell_type": "code",
   "execution_count": 24,
   "metadata": {},
   "outputs": [],
   "source": [
    "def get_features_and_target(dataframe, target_column):\n",
    "\n",
    "    if isinstance(target_column, str):\n",
    "        target = dataframe[target_column]\n",
    "        features = dataframe.drop([target_column], axis=1)\n",
    "    elif isinstance(target_column, pd.core.series.Series):\n",
    "        target = target_column\n",
    "        features = dataframe\n",
    "        \n",
    "    return features, target"
   ]
  },
  {
   "cell_type": "code",
   "execution_count": 25,
   "metadata": {},
   "outputs": [],
   "source": [
    "def statsmodel_logit(features, target):\n",
    "\n",
    "    if 'const' not in features.columns:\n",
    "        features = sm.add_constant(features)\n",
    "        \n",
    "    # Create a Logit object\n",
    "    sm_obj = sm.Logit(target, features)\n",
    "    \n",
    "    # Create a fitted logit model\n",
    "    sm_model = sm_obj.fit()\n",
    "    \n",
    "    return sm_model"
   ]
  },
  {
   "cell_type": "code",
   "execution_count": 26,
   "metadata": {},
   "outputs": [],
   "source": [
    "def sklearn_logit(features, target):\n",
    "\n",
    "    with warnings.catch_warnings():\n",
    "        warnings.filterwarnings('error')\n",
    "        try:\n",
    "            sk_model = LogisticRegression(fit_intercept=True)\n",
    "            sk_model.fit(features, target)\n",
    "        except ConvergenceWarning:\n",
    "            # The default max_iter is 1000. There are cases when during fitting, max_iter has been reached\n",
    "            # If the fitting has encountered this warning, increase max_iter to 3000\n",
    "            # Set C to a high number as well to make sure that statsmodels' coefs match with sklearn's\n",
    "            sk_model = LogisticRegression(fit_intercept=True, C=1e9, max_iter=3000)\n",
    "            sk_model.fit(features, target)\n",
    "\n",
    "    score = sk_model.score(features, target)\n",
    "    print('Model Accuracy Score: {}%'.format(score * 100))\n",
    "\n",
    "    return sk_model"
   ]
  },
  {
   "cell_type": "code",
   "execution_count": 27,
   "metadata": {},
   "outputs": [],
   "source": [
    "def sklearn_predict(sklearn_model, features, actual_target, title):\n",
    "    predicted_target = sklearn_model.predict(features)\n",
    " \n",
    "    labels = actual_target.unique()\n",
    "    cm = plot_confusion_matrix(sklearn_model, X=features, y_true=actual_target, display_labels=labels,\n",
    "                               values_format='.2f', cmap=plt.cm.Blues)\n",
    "    cm.ax_.set_title(title)\n",
    "    plt.show()"
   ]
  },
  {
   "cell_type": "markdown",
   "metadata": {},
   "source": [
    "# 4. Logistic Regression on Initial Data State"
   ]
  },
  {
   "cell_type": "markdown",
   "metadata": {},
   "source": [
    "This section attempts to train a model to predict which employee will be a part of the attrition. The dependent variable is <b>Attrition</b>. Since it has two values, Yes and No, I used binary logistic regression.  \n",
    "\n",
    "<u>For clarity, the Attrition Values are:</u>  \n",
    "Yes (1) = Employee left the company  \n",
    "No (2) = Employee stayed in the company"
   ]
  },
  {
   "cell_type": "markdown",
   "metadata": {},
   "source": [
    "## 4.1. Initial Data Preparation"
   ]
  },
  {
   "cell_type": "markdown",
   "metadata": {},
   "source": [
    "### 4.1.1. Train Test Split\n",
    "Before proceeding with the ```train_test_split```, I added a constant column of 1s. This will be useful later on for the Varianc Inflation Factor and for running statmodels' ```Logit```."
   ]
  },
  {
   "cell_type": "code",
   "execution_count": 28,
   "metadata": {},
   "outputs": [],
   "source": [
    "# Add constants column for the whole dataset\n",
    "# https://stackoverflow.com/questions/42658379/variance-inflation-factor-in-python\n",
    "hr_df = sm.add_constant(hr_df)"
   ]
  },
  {
   "cell_type": "code",
   "execution_count": 29,
   "metadata": {},
   "outputs": [],
   "source": [
    "# Split the dataset into train and test\n",
    "target = hr_df['Attrition']\n",
    "features = hr_df.drop(['Attrition'], axis=1)\n",
    "x_train, x_test, y_train, y_test = train_test_split(features, target, test_size=0.2, random_state=432)"
   ]
  },
  {
   "cell_type": "markdown",
   "metadata": {},
   "source": [
    "I turned ```x_train``` and ```y_train``` into ```train_df```. All preprocessing will be fitted on the ```train_df``` and applied to the ```test_df``` after. I also reinserted the ```Attrition``` at its original column index 0. This will come in handy later on during One Hot Encoding."
   ]
  },
  {
   "cell_type": "code",
   "execution_count": 30,
   "metadata": {
    "scrolled": true
   },
   "outputs": [
    {
     "data": {
      "text/html": [
       "<div>\n",
       "<style scoped>\n",
       "    .dataframe tbody tr th:only-of-type {\n",
       "        vertical-align: middle;\n",
       "    }\n",
       "\n",
       "    .dataframe tbody tr th {\n",
       "        vertical-align: top;\n",
       "    }\n",
       "\n",
       "    .dataframe thead th {\n",
       "        text-align: right;\n",
       "    }\n",
       "</style>\n",
       "<table border=\"1\" class=\"dataframe\">\n",
       "  <thead>\n",
       "    <tr style=\"text-align: right;\">\n",
       "      <th></th>\n",
       "      <th>Attrition</th>\n",
       "      <th>const</th>\n",
       "      <th>Age</th>\n",
       "      <th>BusinessTravel</th>\n",
       "      <th>DailyRate</th>\n",
       "      <th>Department</th>\n",
       "      <th>DistanceFromHome</th>\n",
       "      <th>Education</th>\n",
       "      <th>EducationField</th>\n",
       "      <th>EmployeeNumber</th>\n",
       "      <th>EnvironmentSatisfaction</th>\n",
       "      <th>Gender</th>\n",
       "      <th>HourlyRate</th>\n",
       "      <th>JobInvolvement</th>\n",
       "      <th>JobLevel</th>\n",
       "      <th>JobRole</th>\n",
       "      <th>JobSatisfaction</th>\n",
       "      <th>MaritalStatus</th>\n",
       "      <th>MonthlyIncome</th>\n",
       "      <th>MonthlyRate</th>\n",
       "      <th>NumCompaniesWorked</th>\n",
       "      <th>Over18</th>\n",
       "      <th>OverTime</th>\n",
       "      <th>PercentSalaryHike</th>\n",
       "      <th>PerformanceRating</th>\n",
       "      <th>RelationshipSatisfaction</th>\n",
       "      <th>StockOptionLevel</th>\n",
       "      <th>TotalWorkingYears</th>\n",
       "      <th>TrainingTimesLastYear</th>\n",
       "      <th>WorkLifeBalance</th>\n",
       "      <th>YearsAtCompany</th>\n",
       "      <th>YearsInCurrentRole</th>\n",
       "      <th>YearsSinceLastPromotion</th>\n",
       "      <th>YearsWithCurrManager</th>\n",
       "    </tr>\n",
       "  </thead>\n",
       "  <tbody>\n",
       "    <tr>\n",
       "      <th>0</th>\n",
       "      <td>No</td>\n",
       "      <td>1.0</td>\n",
       "      <td>31</td>\n",
       "      <td>Travel_Rarely</td>\n",
       "      <td>1274</td>\n",
       "      <td>Research &amp; Development</td>\n",
       "      <td>9</td>\n",
       "      <td>1</td>\n",
       "      <td>Life Sciences</td>\n",
       "      <td>581</td>\n",
       "      <td>3</td>\n",
       "      <td>Male</td>\n",
       "      <td>33</td>\n",
       "      <td>3</td>\n",
       "      <td>3</td>\n",
       "      <td>Manufacturing Director</td>\n",
       "      <td>2</td>\n",
       "      <td>Divorced</td>\n",
       "      <td>10648</td>\n",
       "      <td>14394</td>\n",
       "      <td>1</td>\n",
       "      <td>Y</td>\n",
       "      <td>No</td>\n",
       "      <td>25</td>\n",
       "      <td>4</td>\n",
       "      <td>4</td>\n",
       "      <td>1</td>\n",
       "      <td>13</td>\n",
       "      <td>6</td>\n",
       "      <td>4</td>\n",
       "      <td>13</td>\n",
       "      <td>8</td>\n",
       "      <td>0</td>\n",
       "      <td>8</td>\n",
       "    </tr>\n",
       "    <tr>\n",
       "      <th>1</th>\n",
       "      <td>No</td>\n",
       "      <td>1.0</td>\n",
       "      <td>28</td>\n",
       "      <td>Travel_Rarely</td>\n",
       "      <td>640</td>\n",
       "      <td>Research &amp; Development</td>\n",
       "      <td>1</td>\n",
       "      <td>3</td>\n",
       "      <td>Technical Degree</td>\n",
       "      <td>1301</td>\n",
       "      <td>4</td>\n",
       "      <td>Male</td>\n",
       "      <td>84</td>\n",
       "      <td>3</td>\n",
       "      <td>1</td>\n",
       "      <td>Research Scientist</td>\n",
       "      <td>1</td>\n",
       "      <td>Single</td>\n",
       "      <td>2080</td>\n",
       "      <td>4732</td>\n",
       "      <td>2</td>\n",
       "      <td>Y</td>\n",
       "      <td>No</td>\n",
       "      <td>11</td>\n",
       "      <td>3</td>\n",
       "      <td>2</td>\n",
       "      <td>0</td>\n",
       "      <td>5</td>\n",
       "      <td>2</td>\n",
       "      <td>2</td>\n",
       "      <td>3</td>\n",
       "      <td>2</td>\n",
       "      <td>1</td>\n",
       "      <td>2</td>\n",
       "    </tr>\n",
       "  </tbody>\n",
       "</table>\n",
       "</div>"
      ],
      "text/plain": [
       "  Attrition  const  Age BusinessTravel  DailyRate              Department  \\\n",
       "0        No    1.0   31  Travel_Rarely       1274  Research & Development   \n",
       "1        No    1.0   28  Travel_Rarely        640  Research & Development   \n",
       "\n",
       "   DistanceFromHome  Education    EducationField  EmployeeNumber  \\\n",
       "0                 9          1     Life Sciences             581   \n",
       "1                 1          3  Technical Degree            1301   \n",
       "\n",
       "   EnvironmentSatisfaction Gender  HourlyRate  JobInvolvement  JobLevel  \\\n",
       "0                        3   Male          33               3         3   \n",
       "1                        4   Male          84               3         1   \n",
       "\n",
       "                  JobRole  JobSatisfaction MaritalStatus  MonthlyIncome  \\\n",
       "0  Manufacturing Director                2      Divorced          10648   \n",
       "1      Research Scientist                1        Single           2080   \n",
       "\n",
       "   MonthlyRate  NumCompaniesWorked Over18 OverTime  PercentSalaryHike  \\\n",
       "0        14394                   1      Y       No                 25   \n",
       "1         4732                   2      Y       No                 11   \n",
       "\n",
       "   PerformanceRating  RelationshipSatisfaction  StockOptionLevel  \\\n",
       "0                  4                         4                 1   \n",
       "1                  3                         2                 0   \n",
       "\n",
       "   TotalWorkingYears  TrainingTimesLastYear  WorkLifeBalance  YearsAtCompany  \\\n",
       "0                 13                      6                4              13   \n",
       "1                  5                      2                2               3   \n",
       "\n",
       "   YearsInCurrentRole  YearsSinceLastPromotion  YearsWithCurrManager  \n",
       "0                   8                        0                     8  \n",
       "1                   2                        1                     2  "
      ]
     },
     "execution_count": 30,
     "metadata": {},
     "output_type": "execute_result"
    }
   ],
   "source": [
    "train_df = x_train.copy()\n",
    "train_df.insert(0, 'Attrition', y_train)\n",
    "train_df.reset_index(drop=True, inplace=True)\n",
    "train_df.head(2)"
   ]
  },
  {
   "cell_type": "markdown",
   "metadata": {},
   "source": [
    "Quick sanity check if the re-inserted ```Attrition``` column still has the same values with the original ```hr_df```. Join the train_df and hr_df on ```EmployeeNumber``` resulting to a new dataframe, ```check_train_df```."
   ]
  },
  {
   "cell_type": "code",
   "execution_count": 31,
   "metadata": {},
   "outputs": [],
   "source": [
    "check_train_df = pd.merge(left=train_df, right=hr_df, on=['EmployeeNumber'])"
   ]
  },
  {
   "cell_type": "markdown",
   "metadata": {},
   "source": [
    " If ```check_train_df.Attrition``` is not equal with ```hr_df.Attrition``` it should show some rows. Luckily, it didn't, so the reinserted Attrition column in ```train_df``` still retained the original values."
   ]
  },
  {
   "cell_type": "code",
   "execution_count": 32,
   "metadata": {},
   "outputs": [
    {
     "data": {
      "text/html": [
       "<div>\n",
       "<style scoped>\n",
       "    .dataframe tbody tr th:only-of-type {\n",
       "        vertical-align: middle;\n",
       "    }\n",
       "\n",
       "    .dataframe tbody tr th {\n",
       "        vertical-align: top;\n",
       "    }\n",
       "\n",
       "    .dataframe thead th {\n",
       "        text-align: right;\n",
       "    }\n",
       "</style>\n",
       "<table border=\"1\" class=\"dataframe\">\n",
       "  <thead>\n",
       "    <tr style=\"text-align: right;\">\n",
       "      <th></th>\n",
       "      <th>Attrition_x</th>\n",
       "      <th>const_x</th>\n",
       "      <th>Age_x</th>\n",
       "      <th>BusinessTravel_x</th>\n",
       "      <th>DailyRate_x</th>\n",
       "      <th>Department_x</th>\n",
       "      <th>DistanceFromHome_x</th>\n",
       "      <th>Education_x</th>\n",
       "      <th>EducationField_x</th>\n",
       "      <th>EmployeeNumber</th>\n",
       "      <th>EnvironmentSatisfaction_x</th>\n",
       "      <th>Gender_x</th>\n",
       "      <th>HourlyRate_x</th>\n",
       "      <th>JobInvolvement_x</th>\n",
       "      <th>JobLevel_x</th>\n",
       "      <th>JobRole_x</th>\n",
       "      <th>JobSatisfaction_x</th>\n",
       "      <th>MaritalStatus_x</th>\n",
       "      <th>MonthlyIncome_x</th>\n",
       "      <th>MonthlyRate_x</th>\n",
       "      <th>NumCompaniesWorked_x</th>\n",
       "      <th>Over18_x</th>\n",
       "      <th>OverTime_x</th>\n",
       "      <th>PercentSalaryHike_x</th>\n",
       "      <th>PerformanceRating_x</th>\n",
       "      <th>RelationshipSatisfaction_x</th>\n",
       "      <th>StockOptionLevel_x</th>\n",
       "      <th>TotalWorkingYears_x</th>\n",
       "      <th>TrainingTimesLastYear_x</th>\n",
       "      <th>WorkLifeBalance_x</th>\n",
       "      <th>YearsAtCompany_x</th>\n",
       "      <th>YearsInCurrentRole_x</th>\n",
       "      <th>YearsSinceLastPromotion_x</th>\n",
       "      <th>YearsWithCurrManager_x</th>\n",
       "      <th>const_y</th>\n",
       "      <th>Age_y</th>\n",
       "      <th>Attrition_y</th>\n",
       "      <th>BusinessTravel_y</th>\n",
       "      <th>DailyRate_y</th>\n",
       "      <th>Department_y</th>\n",
       "      <th>DistanceFromHome_y</th>\n",
       "      <th>Education_y</th>\n",
       "      <th>EducationField_y</th>\n",
       "      <th>EnvironmentSatisfaction_y</th>\n",
       "      <th>Gender_y</th>\n",
       "      <th>HourlyRate_y</th>\n",
       "      <th>JobInvolvement_y</th>\n",
       "      <th>JobLevel_y</th>\n",
       "      <th>JobRole_y</th>\n",
       "      <th>JobSatisfaction_y</th>\n",
       "      <th>MaritalStatus_y</th>\n",
       "      <th>MonthlyIncome_y</th>\n",
       "      <th>MonthlyRate_y</th>\n",
       "      <th>NumCompaniesWorked_y</th>\n",
       "      <th>Over18_y</th>\n",
       "      <th>OverTime_y</th>\n",
       "      <th>PercentSalaryHike_y</th>\n",
       "      <th>PerformanceRating_y</th>\n",
       "      <th>RelationshipSatisfaction_y</th>\n",
       "      <th>StockOptionLevel_y</th>\n",
       "      <th>TotalWorkingYears_y</th>\n",
       "      <th>TrainingTimesLastYear_y</th>\n",
       "      <th>WorkLifeBalance_y</th>\n",
       "      <th>YearsAtCompany_y</th>\n",
       "      <th>YearsInCurrentRole_y</th>\n",
       "      <th>YearsSinceLastPromotion_y</th>\n",
       "      <th>YearsWithCurrManager_y</th>\n",
       "    </tr>\n",
       "  </thead>\n",
       "  <tbody>\n",
       "  </tbody>\n",
       "</table>\n",
       "</div>"
      ],
      "text/plain": [
       "Empty DataFrame\n",
       "Columns: [Attrition_x, const_x, Age_x, BusinessTravel_x, DailyRate_x, Department_x, DistanceFromHome_x, Education_x, EducationField_x, EmployeeNumber, EnvironmentSatisfaction_x, Gender_x, HourlyRate_x, JobInvolvement_x, JobLevel_x, JobRole_x, JobSatisfaction_x, MaritalStatus_x, MonthlyIncome_x, MonthlyRate_x, NumCompaniesWorked_x, Over18_x, OverTime_x, PercentSalaryHike_x, PerformanceRating_x, RelationshipSatisfaction_x, StockOptionLevel_x, TotalWorkingYears_x, TrainingTimesLastYear_x, WorkLifeBalance_x, YearsAtCompany_x, YearsInCurrentRole_x, YearsSinceLastPromotion_x, YearsWithCurrManager_x, const_y, Age_y, Attrition_y, BusinessTravel_y, DailyRate_y, Department_y, DistanceFromHome_y, Education_y, EducationField_y, EnvironmentSatisfaction_y, Gender_y, HourlyRate_y, JobInvolvement_y, JobLevel_y, JobRole_y, JobSatisfaction_y, MaritalStatus_y, MonthlyIncome_y, MonthlyRate_y, NumCompaniesWorked_y, Over18_y, OverTime_y, PercentSalaryHike_y, PerformanceRating_y, RelationshipSatisfaction_y, StockOptionLevel_y, TotalWorkingYears_y, TrainingTimesLastYear_y, WorkLifeBalance_y, YearsAtCompany_y, YearsInCurrentRole_y, YearsSinceLastPromotion_y, YearsWithCurrManager_y]\n",
       "Index: []"
      ]
     },
     "execution_count": 32,
     "metadata": {},
     "output_type": "execute_result"
    }
   ],
   "source": [
    "check_train_df[(check_train_df['Attrition_x'] != check_train_df['Attrition_y'])]"
   ]
  },
  {
   "cell_type": "markdown",
   "metadata": {},
   "source": [
    "For the ```test_df```, do the same method as that for ```train_df```. A quick check ensured that the reinserted Attrition column still has the original values."
   ]
  },
  {
   "cell_type": "code",
   "execution_count": 33,
   "metadata": {},
   "outputs": [
    {
     "data": {
      "text/html": [
       "<div>\n",
       "<style scoped>\n",
       "    .dataframe tbody tr th:only-of-type {\n",
       "        vertical-align: middle;\n",
       "    }\n",
       "\n",
       "    .dataframe tbody tr th {\n",
       "        vertical-align: top;\n",
       "    }\n",
       "\n",
       "    .dataframe thead th {\n",
       "        text-align: right;\n",
       "    }\n",
       "</style>\n",
       "<table border=\"1\" class=\"dataframe\">\n",
       "  <thead>\n",
       "    <tr style=\"text-align: right;\">\n",
       "      <th></th>\n",
       "      <th>Attrition</th>\n",
       "      <th>const</th>\n",
       "      <th>Age</th>\n",
       "      <th>BusinessTravel</th>\n",
       "      <th>DailyRate</th>\n",
       "      <th>Department</th>\n",
       "      <th>DistanceFromHome</th>\n",
       "      <th>Education</th>\n",
       "      <th>EducationField</th>\n",
       "      <th>EmployeeNumber</th>\n",
       "      <th>EnvironmentSatisfaction</th>\n",
       "      <th>Gender</th>\n",
       "      <th>HourlyRate</th>\n",
       "      <th>JobInvolvement</th>\n",
       "      <th>JobLevel</th>\n",
       "      <th>JobRole</th>\n",
       "      <th>JobSatisfaction</th>\n",
       "      <th>MaritalStatus</th>\n",
       "      <th>MonthlyIncome</th>\n",
       "      <th>MonthlyRate</th>\n",
       "      <th>NumCompaniesWorked</th>\n",
       "      <th>Over18</th>\n",
       "      <th>OverTime</th>\n",
       "      <th>PercentSalaryHike</th>\n",
       "      <th>PerformanceRating</th>\n",
       "      <th>RelationshipSatisfaction</th>\n",
       "      <th>StockOptionLevel</th>\n",
       "      <th>TotalWorkingYears</th>\n",
       "      <th>TrainingTimesLastYear</th>\n",
       "      <th>WorkLifeBalance</th>\n",
       "      <th>YearsAtCompany</th>\n",
       "      <th>YearsInCurrentRole</th>\n",
       "      <th>YearsSinceLastPromotion</th>\n",
       "      <th>YearsWithCurrManager</th>\n",
       "    </tr>\n",
       "  </thead>\n",
       "  <tbody>\n",
       "    <tr>\n",
       "      <th>0</th>\n",
       "      <td>Yes</td>\n",
       "      <td>1.0</td>\n",
       "      <td>50</td>\n",
       "      <td>Travel_Rarely</td>\n",
       "      <td>869</td>\n",
       "      <td>Sales</td>\n",
       "      <td>3</td>\n",
       "      <td>2</td>\n",
       "      <td>Marketing</td>\n",
       "      <td>47</td>\n",
       "      <td>1</td>\n",
       "      <td>Male</td>\n",
       "      <td>86</td>\n",
       "      <td>2</td>\n",
       "      <td>1</td>\n",
       "      <td>Sales Representative</td>\n",
       "      <td>3</td>\n",
       "      <td>Married</td>\n",
       "      <td>2683</td>\n",
       "      <td>3810</td>\n",
       "      <td>1</td>\n",
       "      <td>Y</td>\n",
       "      <td>Yes</td>\n",
       "      <td>14</td>\n",
       "      <td>3</td>\n",
       "      <td>3</td>\n",
       "      <td>0</td>\n",
       "      <td>3</td>\n",
       "      <td>2</td>\n",
       "      <td>3</td>\n",
       "      <td>3</td>\n",
       "      <td>2</td>\n",
       "      <td>0</td>\n",
       "      <td>2</td>\n",
       "    </tr>\n",
       "    <tr>\n",
       "      <th>1</th>\n",
       "      <td>No</td>\n",
       "      <td>1.0</td>\n",
       "      <td>27</td>\n",
       "      <td>Travel_Rarely</td>\n",
       "      <td>1103</td>\n",
       "      <td>Research &amp; Development</td>\n",
       "      <td>14</td>\n",
       "      <td>3</td>\n",
       "      <td>Life Sciences</td>\n",
       "      <td>1244</td>\n",
       "      <td>1</td>\n",
       "      <td>Male</td>\n",
       "      <td>42</td>\n",
       "      <td>3</td>\n",
       "      <td>1</td>\n",
       "      <td>Research Scientist</td>\n",
       "      <td>1</td>\n",
       "      <td>Married</td>\n",
       "      <td>2235</td>\n",
       "      <td>14377</td>\n",
       "      <td>1</td>\n",
       "      <td>Y</td>\n",
       "      <td>Yes</td>\n",
       "      <td>14</td>\n",
       "      <td>3</td>\n",
       "      <td>4</td>\n",
       "      <td>2</td>\n",
       "      <td>9</td>\n",
       "      <td>3</td>\n",
       "      <td>2</td>\n",
       "      <td>9</td>\n",
       "      <td>7</td>\n",
       "      <td>6</td>\n",
       "      <td>8</td>\n",
       "    </tr>\n",
       "  </tbody>\n",
       "</table>\n",
       "</div>"
      ],
      "text/plain": [
       "  Attrition  const  Age BusinessTravel  DailyRate              Department  \\\n",
       "0       Yes    1.0   50  Travel_Rarely        869                   Sales   \n",
       "1        No    1.0   27  Travel_Rarely       1103  Research & Development   \n",
       "\n",
       "   DistanceFromHome  Education EducationField  EmployeeNumber  \\\n",
       "0                 3          2      Marketing              47   \n",
       "1                14          3  Life Sciences            1244   \n",
       "\n",
       "   EnvironmentSatisfaction Gender  HourlyRate  JobInvolvement  JobLevel  \\\n",
       "0                        1   Male          86               2         1   \n",
       "1                        1   Male          42               3         1   \n",
       "\n",
       "                JobRole  JobSatisfaction MaritalStatus  MonthlyIncome  \\\n",
       "0  Sales Representative                3       Married           2683   \n",
       "1    Research Scientist                1       Married           2235   \n",
       "\n",
       "   MonthlyRate  NumCompaniesWorked Over18 OverTime  PercentSalaryHike  \\\n",
       "0         3810                   1      Y      Yes                 14   \n",
       "1        14377                   1      Y      Yes                 14   \n",
       "\n",
       "   PerformanceRating  RelationshipSatisfaction  StockOptionLevel  \\\n",
       "0                  3                         3                 0   \n",
       "1                  3                         4                 2   \n",
       "\n",
       "   TotalWorkingYears  TrainingTimesLastYear  WorkLifeBalance  YearsAtCompany  \\\n",
       "0                  3                      2                3               3   \n",
       "1                  9                      3                2               9   \n",
       "\n",
       "   YearsInCurrentRole  YearsSinceLastPromotion  YearsWithCurrManager  \n",
       "0                   2                        0                     2  \n",
       "1                   7                        6                     8  "
      ]
     },
     "execution_count": 33,
     "metadata": {},
     "output_type": "execute_result"
    }
   ],
   "source": [
    "test_df = x_test.copy()\n",
    "test_df.insert(0, 'Attrition', y_test)\n",
    "test_df.reset_index(drop=True, inplace=True)\n",
    "test_df.head(2)"
   ]
  },
  {
   "cell_type": "code",
   "execution_count": 34,
   "metadata": {
    "scrolled": true
   },
   "outputs": [
    {
     "data": {
      "text/html": [
       "<div>\n",
       "<style scoped>\n",
       "    .dataframe tbody tr th:only-of-type {\n",
       "        vertical-align: middle;\n",
       "    }\n",
       "\n",
       "    .dataframe tbody tr th {\n",
       "        vertical-align: top;\n",
       "    }\n",
       "\n",
       "    .dataframe thead th {\n",
       "        text-align: right;\n",
       "    }\n",
       "</style>\n",
       "<table border=\"1\" class=\"dataframe\">\n",
       "  <thead>\n",
       "    <tr style=\"text-align: right;\">\n",
       "      <th></th>\n",
       "      <th>Attrition_x</th>\n",
       "      <th>const_x</th>\n",
       "      <th>Age_x</th>\n",
       "      <th>BusinessTravel_x</th>\n",
       "      <th>DailyRate_x</th>\n",
       "      <th>Department_x</th>\n",
       "      <th>DistanceFromHome_x</th>\n",
       "      <th>Education_x</th>\n",
       "      <th>EducationField_x</th>\n",
       "      <th>EmployeeNumber</th>\n",
       "      <th>EnvironmentSatisfaction_x</th>\n",
       "      <th>Gender_x</th>\n",
       "      <th>HourlyRate_x</th>\n",
       "      <th>JobInvolvement_x</th>\n",
       "      <th>JobLevel_x</th>\n",
       "      <th>JobRole_x</th>\n",
       "      <th>JobSatisfaction_x</th>\n",
       "      <th>MaritalStatus_x</th>\n",
       "      <th>MonthlyIncome_x</th>\n",
       "      <th>MonthlyRate_x</th>\n",
       "      <th>NumCompaniesWorked_x</th>\n",
       "      <th>Over18_x</th>\n",
       "      <th>OverTime_x</th>\n",
       "      <th>PercentSalaryHike_x</th>\n",
       "      <th>PerformanceRating_x</th>\n",
       "      <th>RelationshipSatisfaction_x</th>\n",
       "      <th>StockOptionLevel_x</th>\n",
       "      <th>TotalWorkingYears_x</th>\n",
       "      <th>TrainingTimesLastYear_x</th>\n",
       "      <th>WorkLifeBalance_x</th>\n",
       "      <th>YearsAtCompany_x</th>\n",
       "      <th>YearsInCurrentRole_x</th>\n",
       "      <th>YearsSinceLastPromotion_x</th>\n",
       "      <th>YearsWithCurrManager_x</th>\n",
       "      <th>const_y</th>\n",
       "      <th>Age_y</th>\n",
       "      <th>Attrition_y</th>\n",
       "      <th>BusinessTravel_y</th>\n",
       "      <th>DailyRate_y</th>\n",
       "      <th>Department_y</th>\n",
       "      <th>DistanceFromHome_y</th>\n",
       "      <th>Education_y</th>\n",
       "      <th>EducationField_y</th>\n",
       "      <th>EnvironmentSatisfaction_y</th>\n",
       "      <th>Gender_y</th>\n",
       "      <th>HourlyRate_y</th>\n",
       "      <th>JobInvolvement_y</th>\n",
       "      <th>JobLevel_y</th>\n",
       "      <th>JobRole_y</th>\n",
       "      <th>JobSatisfaction_y</th>\n",
       "      <th>MaritalStatus_y</th>\n",
       "      <th>MonthlyIncome_y</th>\n",
       "      <th>MonthlyRate_y</th>\n",
       "      <th>NumCompaniesWorked_y</th>\n",
       "      <th>Over18_y</th>\n",
       "      <th>OverTime_y</th>\n",
       "      <th>PercentSalaryHike_y</th>\n",
       "      <th>PerformanceRating_y</th>\n",
       "      <th>RelationshipSatisfaction_y</th>\n",
       "      <th>StockOptionLevel_y</th>\n",
       "      <th>TotalWorkingYears_y</th>\n",
       "      <th>TrainingTimesLastYear_y</th>\n",
       "      <th>WorkLifeBalance_y</th>\n",
       "      <th>YearsAtCompany_y</th>\n",
       "      <th>YearsInCurrentRole_y</th>\n",
       "      <th>YearsSinceLastPromotion_y</th>\n",
       "      <th>YearsWithCurrManager_y</th>\n",
       "    </tr>\n",
       "  </thead>\n",
       "  <tbody>\n",
       "  </tbody>\n",
       "</table>\n",
       "</div>"
      ],
      "text/plain": [
       "Empty DataFrame\n",
       "Columns: [Attrition_x, const_x, Age_x, BusinessTravel_x, DailyRate_x, Department_x, DistanceFromHome_x, Education_x, EducationField_x, EmployeeNumber, EnvironmentSatisfaction_x, Gender_x, HourlyRate_x, JobInvolvement_x, JobLevel_x, JobRole_x, JobSatisfaction_x, MaritalStatus_x, MonthlyIncome_x, MonthlyRate_x, NumCompaniesWorked_x, Over18_x, OverTime_x, PercentSalaryHike_x, PerformanceRating_x, RelationshipSatisfaction_x, StockOptionLevel_x, TotalWorkingYears_x, TrainingTimesLastYear_x, WorkLifeBalance_x, YearsAtCompany_x, YearsInCurrentRole_x, YearsSinceLastPromotion_x, YearsWithCurrManager_x, const_y, Age_y, Attrition_y, BusinessTravel_y, DailyRate_y, Department_y, DistanceFromHome_y, Education_y, EducationField_y, EnvironmentSatisfaction_y, Gender_y, HourlyRate_y, JobInvolvement_y, JobLevel_y, JobRole_y, JobSatisfaction_y, MaritalStatus_y, MonthlyIncome_y, MonthlyRate_y, NumCompaniesWorked_y, Over18_y, OverTime_y, PercentSalaryHike_y, PerformanceRating_y, RelationshipSatisfaction_y, StockOptionLevel_y, TotalWorkingYears_y, TrainingTimesLastYear_y, WorkLifeBalance_y, YearsAtCompany_y, YearsInCurrentRole_y, YearsSinceLastPromotion_y, YearsWithCurrManager_y]\n",
       "Index: []"
      ]
     },
     "execution_count": 34,
     "metadata": {},
     "output_type": "execute_result"
    }
   ],
   "source": [
    "check_test_df = pd.merge(left=test_df, right=hr_df, on=['EmployeeNumber'])\n",
    "check_test_df[(check_test_df['Attrition_x'] != check_test_df['Attrition_y'])]"
   ]
  },
  {
   "cell_type": "markdown",
   "metadata": {},
   "source": [
    "### 4.1.2. One-Hot Encoding the Training Dataset"
   ]
  },
  {
   "cell_type": "markdown",
   "metadata": {},
   "source": [
    "These columns have categorical values. To be able to proceed with preprocessing and model fitting, I used One-Hot Encoding."
   ]
  },
  {
   "cell_type": "code",
   "execution_count": 35,
   "metadata": {},
   "outputs": [],
   "source": [
    "nominal_categories = ['Attrition', 'BusinessTravel', 'Department', 'EducationField', \n",
    "                      'Gender', 'JobRole', 'MaritalStatus', 'Over18', 'OverTime']"
   ]
  },
  {
   "cell_type": "markdown",
   "metadata": {},
   "source": [
    "Multicollinearity is the problem where 2 or more variables are highly correlated. To avoid this, the argument ```drop='first'``` is specified."
   ]
  },
  {
   "cell_type": "code",
   "execution_count": 36,
   "metadata": {},
   "outputs": [],
   "source": [
    "ohe = OneHotEncoder(categories='auto', drop='first')"
   ]
  },
  {
   "cell_type": "markdown",
   "metadata": {},
   "source": [
    "Fit OHE on to the ```train_df```, then use it to transform the same dataframe."
   ]
  },
  {
   "cell_type": "code",
   "execution_count": 37,
   "metadata": {},
   "outputs": [],
   "source": [
    "ohe.fit(train_df[nominal_categories])\n",
    "train_arr = ohe.transform(train_df[nominal_categories]).toarray()"
   ]
  },
  {
   "cell_type": "markdown",
   "metadata": {},
   "source": [
    "These are the new feature names generated from OHE."
   ]
  },
  {
   "cell_type": "code",
   "execution_count": 38,
   "metadata": {
    "scrolled": true
   },
   "outputs": [
    {
     "name": "stdout",
     "output_type": "stream",
     "text": [
      "['x0_Yes', 'x1_Travel_Frequently', 'x1_Travel_Rarely', 'x2_Research & Development', 'x2_Sales', 'x3_Life Sciences', 'x3_Marketing', 'x3_Medical', 'x3_Other', 'x3_Technical Degree', 'x4_Male', 'x5_Human Resources', 'x5_Laboratory Technician', 'x5_Manager', 'x5_Manufacturing Director', 'x5_Research Director', 'x5_Research Scientist', 'x5_Sales Executive', 'x5_Sales Representative', 'x6_Married', 'x6_Single', 'x8_Yes']\n"
     ]
    }
   ],
   "source": [
    "train_cols = ohe.get_feature_names()\n",
    "train_cols_list = train_cols.tolist()\n",
    "print(train_cols_list)"
   ]
  },
  {
   "cell_type": "markdown",
   "metadata": {},
   "source": [
    "For each new feature name, append the original column name with the new value name. Put them all in a list."
   ]
  },
  {
   "cell_type": "code",
   "execution_count": 39,
   "metadata": {
    "scrolled": true
   },
   "outputs": [
    {
     "name": "stdout",
     "output_type": "stream",
     "text": [
      "['Attrition_Yes', 'BusinessTravel_Travel_Frequently', 'BusinessTravel_Travel_Rarely', 'Department_Research & Development', 'Department_Sales', 'EducationField_Life Sciences', 'EducationField_Marketing', 'EducationField_Medical', 'EducationField_Other', 'EducationField_Technical Degree', 'Gender_Male', 'JobRole_Human Resources', 'JobRole_Laboratory Technician', 'JobRole_Manager', 'JobRole_Manufacturing Director', 'JobRole_Research Director', 'JobRole_Research Scientist', 'JobRole_Sales Executive', 'JobRole_Sales Representative', 'MaritalStatus_Married', 'MaritalStatus_Single', 'OverTime_Yes']\n"
     ]
    }
   ],
   "source": [
    "new_cols_list = []\n",
    "for index, value in enumerate(train_cols_list):\n",
    "    new_cols_list.append(nominal_categories[int(value[1])] + value[2:])\n",
    "    continue\n",
    "print(new_cols_list)"
   ]
  },
  {
   "cell_type": "markdown",
   "metadata": {},
   "source": [
    "Create ```train_ohe_df``` with the transformed ```train_arr```. Label the columns with the ```new_cols_list```."
   ]
  },
  {
   "cell_type": "code",
   "execution_count": 40,
   "metadata": {
    "scrolled": false
   },
   "outputs": [
    {
     "data": {
      "text/html": [
       "<div>\n",
       "<style scoped>\n",
       "    .dataframe tbody tr th:only-of-type {\n",
       "        vertical-align: middle;\n",
       "    }\n",
       "\n",
       "    .dataframe tbody tr th {\n",
       "        vertical-align: top;\n",
       "    }\n",
       "\n",
       "    .dataframe thead th {\n",
       "        text-align: right;\n",
       "    }\n",
       "</style>\n",
       "<table border=\"1\" class=\"dataframe\">\n",
       "  <thead>\n",
       "    <tr style=\"text-align: right;\">\n",
       "      <th></th>\n",
       "      <th>Attrition_Yes</th>\n",
       "      <th>BusinessTravel_Travel_Frequently</th>\n",
       "      <th>BusinessTravel_Travel_Rarely</th>\n",
       "      <th>Department_Research &amp; Development</th>\n",
       "      <th>Department_Sales</th>\n",
       "      <th>EducationField_Life Sciences</th>\n",
       "      <th>EducationField_Marketing</th>\n",
       "      <th>EducationField_Medical</th>\n",
       "      <th>EducationField_Other</th>\n",
       "      <th>EducationField_Technical Degree</th>\n",
       "      <th>Gender_Male</th>\n",
       "      <th>JobRole_Human Resources</th>\n",
       "      <th>JobRole_Laboratory Technician</th>\n",
       "      <th>JobRole_Manager</th>\n",
       "      <th>JobRole_Manufacturing Director</th>\n",
       "      <th>JobRole_Research Director</th>\n",
       "      <th>JobRole_Research Scientist</th>\n",
       "      <th>JobRole_Sales Executive</th>\n",
       "      <th>JobRole_Sales Representative</th>\n",
       "      <th>MaritalStatus_Married</th>\n",
       "      <th>MaritalStatus_Single</th>\n",
       "      <th>OverTime_Yes</th>\n",
       "    </tr>\n",
       "  </thead>\n",
       "  <tbody>\n",
       "    <tr>\n",
       "      <th>0</th>\n",
       "      <td>0.0</td>\n",
       "      <td>0.0</td>\n",
       "      <td>1.0</td>\n",
       "      <td>1.0</td>\n",
       "      <td>0.0</td>\n",
       "      <td>1.0</td>\n",
       "      <td>0.0</td>\n",
       "      <td>0.0</td>\n",
       "      <td>0.0</td>\n",
       "      <td>0.0</td>\n",
       "      <td>1.0</td>\n",
       "      <td>0.0</td>\n",
       "      <td>0.0</td>\n",
       "      <td>0.0</td>\n",
       "      <td>1.0</td>\n",
       "      <td>0.0</td>\n",
       "      <td>0.0</td>\n",
       "      <td>0.0</td>\n",
       "      <td>0.0</td>\n",
       "      <td>0.0</td>\n",
       "      <td>0.0</td>\n",
       "      <td>0.0</td>\n",
       "    </tr>\n",
       "    <tr>\n",
       "      <th>1</th>\n",
       "      <td>0.0</td>\n",
       "      <td>0.0</td>\n",
       "      <td>1.0</td>\n",
       "      <td>1.0</td>\n",
       "      <td>0.0</td>\n",
       "      <td>0.0</td>\n",
       "      <td>0.0</td>\n",
       "      <td>0.0</td>\n",
       "      <td>0.0</td>\n",
       "      <td>1.0</td>\n",
       "      <td>1.0</td>\n",
       "      <td>0.0</td>\n",
       "      <td>0.0</td>\n",
       "      <td>0.0</td>\n",
       "      <td>0.0</td>\n",
       "      <td>0.0</td>\n",
       "      <td>1.0</td>\n",
       "      <td>0.0</td>\n",
       "      <td>0.0</td>\n",
       "      <td>0.0</td>\n",
       "      <td>1.0</td>\n",
       "      <td>0.0</td>\n",
       "    </tr>\n",
       "  </tbody>\n",
       "</table>\n",
       "</div>"
      ],
      "text/plain": [
       "   Attrition_Yes  BusinessTravel_Travel_Frequently  \\\n",
       "0            0.0                               0.0   \n",
       "1            0.0                               0.0   \n",
       "\n",
       "   BusinessTravel_Travel_Rarely  Department_Research & Development  \\\n",
       "0                           1.0                                1.0   \n",
       "1                           1.0                                1.0   \n",
       "\n",
       "   Department_Sales  EducationField_Life Sciences  EducationField_Marketing  \\\n",
       "0               0.0                           1.0                       0.0   \n",
       "1               0.0                           0.0                       0.0   \n",
       "\n",
       "   EducationField_Medical  EducationField_Other  \\\n",
       "0                     0.0                   0.0   \n",
       "1                     0.0                   0.0   \n",
       "\n",
       "   EducationField_Technical Degree  Gender_Male  JobRole_Human Resources  \\\n",
       "0                              0.0          1.0                      0.0   \n",
       "1                              1.0          1.0                      0.0   \n",
       "\n",
       "   JobRole_Laboratory Technician  JobRole_Manager  \\\n",
       "0                            0.0              0.0   \n",
       "1                            0.0              0.0   \n",
       "\n",
       "   JobRole_Manufacturing Director  JobRole_Research Director  \\\n",
       "0                             1.0                        0.0   \n",
       "1                             0.0                        0.0   \n",
       "\n",
       "   JobRole_Research Scientist  JobRole_Sales Executive  \\\n",
       "0                         0.0                      0.0   \n",
       "1                         1.0                      0.0   \n",
       "\n",
       "   JobRole_Sales Representative  MaritalStatus_Married  MaritalStatus_Single  \\\n",
       "0                           0.0                    0.0                   0.0   \n",
       "1                           0.0                    0.0                   1.0   \n",
       "\n",
       "   OverTime_Yes  \n",
       "0           0.0  \n",
       "1           0.0  "
      ]
     },
     "execution_count": 40,
     "metadata": {},
     "output_type": "execute_result"
    }
   ],
   "source": [
    "train_ohe_df = pd.DataFrame(train_arr, columns=new_cols_list)\n",
    "train_ohe_df.head(2)"
   ]
  },
  {
   "cell_type": "markdown",
   "metadata": {},
   "source": [
    "Merge the original ```train_df``` and ```train_ohe_df``` by their indexes. The result will be the new value of ```train_df```."
   ]
  },
  {
   "cell_type": "code",
   "execution_count": 41,
   "metadata": {},
   "outputs": [],
   "source": [
    "train_df = pd.merge(left=train_df, right=train_ohe_df, left_index=True, right_index=True)"
   ]
  },
  {
   "cell_type": "markdown",
   "metadata": {},
   "source": [
    "Drop the original nominal category columns so that only the one-hot encoded columns remain"
   ]
  },
  {
   "cell_type": "code",
   "execution_count": 42,
   "metadata": {
    "scrolled": true
   },
   "outputs": [],
   "source": [
    "train_df.drop(nominal_categories, axis=1, inplace=True)"
   ]
  },
  {
   "cell_type": "markdown",
   "metadata": {},
   "source": [
    "Drop ```EmployeeNumber``` column since they will affect the model even if they are meaningless."
   ]
  },
  {
   "cell_type": "code",
   "execution_count": 43,
   "metadata": {},
   "outputs": [],
   "source": [
    "train_df.drop(['EmployeeNumber'], axis=1, inplace=True)"
   ]
  },
  {
   "cell_type": "code",
   "execution_count": 44,
   "metadata": {
    "scrolled": true
   },
   "outputs": [
    {
     "data": {
      "text/html": [
       "<div>\n",
       "<style scoped>\n",
       "    .dataframe tbody tr th:only-of-type {\n",
       "        vertical-align: middle;\n",
       "    }\n",
       "\n",
       "    .dataframe tbody tr th {\n",
       "        vertical-align: top;\n",
       "    }\n",
       "\n",
       "    .dataframe thead th {\n",
       "        text-align: right;\n",
       "    }\n",
       "</style>\n",
       "<table border=\"1\" class=\"dataframe\">\n",
       "  <thead>\n",
       "    <tr style=\"text-align: right;\">\n",
       "      <th></th>\n",
       "      <th>const</th>\n",
       "      <th>Age</th>\n",
       "      <th>DailyRate</th>\n",
       "      <th>DistanceFromHome</th>\n",
       "      <th>Education</th>\n",
       "      <th>EnvironmentSatisfaction</th>\n",
       "      <th>HourlyRate</th>\n",
       "      <th>JobInvolvement</th>\n",
       "      <th>JobLevel</th>\n",
       "      <th>JobSatisfaction</th>\n",
       "      <th>MonthlyIncome</th>\n",
       "      <th>MonthlyRate</th>\n",
       "      <th>NumCompaniesWorked</th>\n",
       "      <th>PercentSalaryHike</th>\n",
       "      <th>PerformanceRating</th>\n",
       "      <th>RelationshipSatisfaction</th>\n",
       "      <th>StockOptionLevel</th>\n",
       "      <th>TotalWorkingYears</th>\n",
       "      <th>TrainingTimesLastYear</th>\n",
       "      <th>WorkLifeBalance</th>\n",
       "      <th>YearsAtCompany</th>\n",
       "      <th>YearsInCurrentRole</th>\n",
       "      <th>YearsSinceLastPromotion</th>\n",
       "      <th>YearsWithCurrManager</th>\n",
       "      <th>Attrition_Yes</th>\n",
       "      <th>BusinessTravel_Travel_Frequently</th>\n",
       "      <th>BusinessTravel_Travel_Rarely</th>\n",
       "      <th>Department_Research &amp; Development</th>\n",
       "      <th>Department_Sales</th>\n",
       "      <th>EducationField_Life Sciences</th>\n",
       "      <th>EducationField_Marketing</th>\n",
       "      <th>EducationField_Medical</th>\n",
       "      <th>EducationField_Other</th>\n",
       "      <th>EducationField_Technical Degree</th>\n",
       "      <th>Gender_Male</th>\n",
       "      <th>JobRole_Human Resources</th>\n",
       "      <th>JobRole_Laboratory Technician</th>\n",
       "      <th>JobRole_Manager</th>\n",
       "      <th>JobRole_Manufacturing Director</th>\n",
       "      <th>JobRole_Research Director</th>\n",
       "      <th>JobRole_Research Scientist</th>\n",
       "      <th>JobRole_Sales Executive</th>\n",
       "      <th>JobRole_Sales Representative</th>\n",
       "      <th>MaritalStatus_Married</th>\n",
       "      <th>MaritalStatus_Single</th>\n",
       "      <th>OverTime_Yes</th>\n",
       "    </tr>\n",
       "  </thead>\n",
       "  <tbody>\n",
       "    <tr>\n",
       "      <th>0</th>\n",
       "      <td>1.0</td>\n",
       "      <td>31</td>\n",
       "      <td>1274</td>\n",
       "      <td>9</td>\n",
       "      <td>1</td>\n",
       "      <td>3</td>\n",
       "      <td>33</td>\n",
       "      <td>3</td>\n",
       "      <td>3</td>\n",
       "      <td>2</td>\n",
       "      <td>10648</td>\n",
       "      <td>14394</td>\n",
       "      <td>1</td>\n",
       "      <td>25</td>\n",
       "      <td>4</td>\n",
       "      <td>4</td>\n",
       "      <td>1</td>\n",
       "      <td>13</td>\n",
       "      <td>6</td>\n",
       "      <td>4</td>\n",
       "      <td>13</td>\n",
       "      <td>8</td>\n",
       "      <td>0</td>\n",
       "      <td>8</td>\n",
       "      <td>0.0</td>\n",
       "      <td>0.0</td>\n",
       "      <td>1.0</td>\n",
       "      <td>1.0</td>\n",
       "      <td>0.0</td>\n",
       "      <td>1.0</td>\n",
       "      <td>0.0</td>\n",
       "      <td>0.0</td>\n",
       "      <td>0.0</td>\n",
       "      <td>0.0</td>\n",
       "      <td>1.0</td>\n",
       "      <td>0.0</td>\n",
       "      <td>0.0</td>\n",
       "      <td>0.0</td>\n",
       "      <td>1.0</td>\n",
       "      <td>0.0</td>\n",
       "      <td>0.0</td>\n",
       "      <td>0.0</td>\n",
       "      <td>0.0</td>\n",
       "      <td>0.0</td>\n",
       "      <td>0.0</td>\n",
       "      <td>0.0</td>\n",
       "    </tr>\n",
       "    <tr>\n",
       "      <th>1</th>\n",
       "      <td>1.0</td>\n",
       "      <td>28</td>\n",
       "      <td>640</td>\n",
       "      <td>1</td>\n",
       "      <td>3</td>\n",
       "      <td>4</td>\n",
       "      <td>84</td>\n",
       "      <td>3</td>\n",
       "      <td>1</td>\n",
       "      <td>1</td>\n",
       "      <td>2080</td>\n",
       "      <td>4732</td>\n",
       "      <td>2</td>\n",
       "      <td>11</td>\n",
       "      <td>3</td>\n",
       "      <td>2</td>\n",
       "      <td>0</td>\n",
       "      <td>5</td>\n",
       "      <td>2</td>\n",
       "      <td>2</td>\n",
       "      <td>3</td>\n",
       "      <td>2</td>\n",
       "      <td>1</td>\n",
       "      <td>2</td>\n",
       "      <td>0.0</td>\n",
       "      <td>0.0</td>\n",
       "      <td>1.0</td>\n",
       "      <td>1.0</td>\n",
       "      <td>0.0</td>\n",
       "      <td>0.0</td>\n",
       "      <td>0.0</td>\n",
       "      <td>0.0</td>\n",
       "      <td>0.0</td>\n",
       "      <td>1.0</td>\n",
       "      <td>1.0</td>\n",
       "      <td>0.0</td>\n",
       "      <td>0.0</td>\n",
       "      <td>0.0</td>\n",
       "      <td>0.0</td>\n",
       "      <td>0.0</td>\n",
       "      <td>1.0</td>\n",
       "      <td>0.0</td>\n",
       "      <td>0.0</td>\n",
       "      <td>0.0</td>\n",
       "      <td>1.0</td>\n",
       "      <td>0.0</td>\n",
       "    </tr>\n",
       "  </tbody>\n",
       "</table>\n",
       "</div>"
      ],
      "text/plain": [
       "   const  Age  DailyRate  DistanceFromHome  Education  \\\n",
       "0    1.0   31       1274                 9          1   \n",
       "1    1.0   28        640                 1          3   \n",
       "\n",
       "   EnvironmentSatisfaction  HourlyRate  JobInvolvement  JobLevel  \\\n",
       "0                        3          33               3         3   \n",
       "1                        4          84               3         1   \n",
       "\n",
       "   JobSatisfaction  MonthlyIncome  MonthlyRate  NumCompaniesWorked  \\\n",
       "0                2          10648        14394                   1   \n",
       "1                1           2080         4732                   2   \n",
       "\n",
       "   PercentSalaryHike  PerformanceRating  RelationshipSatisfaction  \\\n",
       "0                 25                  4                         4   \n",
       "1                 11                  3                         2   \n",
       "\n",
       "   StockOptionLevel  TotalWorkingYears  TrainingTimesLastYear  \\\n",
       "0                 1                 13                      6   \n",
       "1                 0                  5                      2   \n",
       "\n",
       "   WorkLifeBalance  YearsAtCompany  YearsInCurrentRole  \\\n",
       "0                4              13                   8   \n",
       "1                2               3                   2   \n",
       "\n",
       "   YearsSinceLastPromotion  YearsWithCurrManager  Attrition_Yes  \\\n",
       "0                        0                     8            0.0   \n",
       "1                        1                     2            0.0   \n",
       "\n",
       "   BusinessTravel_Travel_Frequently  BusinessTravel_Travel_Rarely  \\\n",
       "0                               0.0                           1.0   \n",
       "1                               0.0                           1.0   \n",
       "\n",
       "   Department_Research & Development  Department_Sales  \\\n",
       "0                                1.0               0.0   \n",
       "1                                1.0               0.0   \n",
       "\n",
       "   EducationField_Life Sciences  EducationField_Marketing  \\\n",
       "0                           1.0                       0.0   \n",
       "1                           0.0                       0.0   \n",
       "\n",
       "   EducationField_Medical  EducationField_Other  \\\n",
       "0                     0.0                   0.0   \n",
       "1                     0.0                   0.0   \n",
       "\n",
       "   EducationField_Technical Degree  Gender_Male  JobRole_Human Resources  \\\n",
       "0                              0.0          1.0                      0.0   \n",
       "1                              1.0          1.0                      0.0   \n",
       "\n",
       "   JobRole_Laboratory Technician  JobRole_Manager  \\\n",
       "0                            0.0              0.0   \n",
       "1                            0.0              0.0   \n",
       "\n",
       "   JobRole_Manufacturing Director  JobRole_Research Director  \\\n",
       "0                             1.0                        0.0   \n",
       "1                             0.0                        0.0   \n",
       "\n",
       "   JobRole_Research Scientist  JobRole_Sales Executive  \\\n",
       "0                         0.0                      0.0   \n",
       "1                         1.0                      0.0   \n",
       "\n",
       "   JobRole_Sales Representative  MaritalStatus_Married  MaritalStatus_Single  \\\n",
       "0                           0.0                    0.0                   0.0   \n",
       "1                           0.0                    0.0                   1.0   \n",
       "\n",
       "   OverTime_Yes  \n",
       "0           0.0  \n",
       "1           0.0  "
      ]
     },
     "execution_count": 44,
     "metadata": {},
     "output_type": "execute_result"
    }
   ],
   "source": [
    "train_df.head(2)"
   ]
  },
  {
   "cell_type": "markdown",
   "metadata": {},
   "source": [
    "### 4.1.3.  Applying OHE to the Test Dataset\n",
    "With the OHE fitted on the training dataset, use it again to transform the ```test_df```'s categorical columns. Do the same processing for ```test_df``` after."
   ]
  },
  {
   "cell_type": "code",
   "execution_count": 45,
   "metadata": {},
   "outputs": [],
   "source": [
    "test_arr = ohe.transform(test_df[nominal_categories]).toarray()"
   ]
  },
  {
   "cell_type": "code",
   "execution_count": 46,
   "metadata": {},
   "outputs": [],
   "source": [
    "test_cols = ohe.get_feature_names()\n",
    "test_cols_list = test_cols.tolist()"
   ]
  },
  {
   "cell_type": "code",
   "execution_count": 47,
   "metadata": {},
   "outputs": [],
   "source": [
    "new_cols_list = []\n",
    "for index, value in enumerate(test_cols_list):\n",
    "    new_cols_list.append(nominal_categories[int(value[1])] + value[2:])\n",
    "    continue"
   ]
  },
  {
   "cell_type": "code",
   "execution_count": 48,
   "metadata": {},
   "outputs": [
    {
     "data": {
      "text/html": [
       "<div>\n",
       "<style scoped>\n",
       "    .dataframe tbody tr th:only-of-type {\n",
       "        vertical-align: middle;\n",
       "    }\n",
       "\n",
       "    .dataframe tbody tr th {\n",
       "        vertical-align: top;\n",
       "    }\n",
       "\n",
       "    .dataframe thead th {\n",
       "        text-align: right;\n",
       "    }\n",
       "</style>\n",
       "<table border=\"1\" class=\"dataframe\">\n",
       "  <thead>\n",
       "    <tr style=\"text-align: right;\">\n",
       "      <th></th>\n",
       "      <th>Attrition_Yes</th>\n",
       "      <th>BusinessTravel_Travel_Frequently</th>\n",
       "      <th>BusinessTravel_Travel_Rarely</th>\n",
       "      <th>Department_Research &amp; Development</th>\n",
       "      <th>Department_Sales</th>\n",
       "      <th>EducationField_Life Sciences</th>\n",
       "      <th>EducationField_Marketing</th>\n",
       "      <th>EducationField_Medical</th>\n",
       "      <th>EducationField_Other</th>\n",
       "      <th>EducationField_Technical Degree</th>\n",
       "      <th>Gender_Male</th>\n",
       "      <th>JobRole_Human Resources</th>\n",
       "      <th>JobRole_Laboratory Technician</th>\n",
       "      <th>JobRole_Manager</th>\n",
       "      <th>JobRole_Manufacturing Director</th>\n",
       "      <th>JobRole_Research Director</th>\n",
       "      <th>JobRole_Research Scientist</th>\n",
       "      <th>JobRole_Sales Executive</th>\n",
       "      <th>JobRole_Sales Representative</th>\n",
       "      <th>MaritalStatus_Married</th>\n",
       "      <th>MaritalStatus_Single</th>\n",
       "      <th>OverTime_Yes</th>\n",
       "    </tr>\n",
       "  </thead>\n",
       "  <tbody>\n",
       "    <tr>\n",
       "      <th>0</th>\n",
       "      <td>1.0</td>\n",
       "      <td>0.0</td>\n",
       "      <td>1.0</td>\n",
       "      <td>0.0</td>\n",
       "      <td>1.0</td>\n",
       "      <td>0.0</td>\n",
       "      <td>1.0</td>\n",
       "      <td>0.0</td>\n",
       "      <td>0.0</td>\n",
       "      <td>0.0</td>\n",
       "      <td>1.0</td>\n",
       "      <td>0.0</td>\n",
       "      <td>0.0</td>\n",
       "      <td>0.0</td>\n",
       "      <td>0.0</td>\n",
       "      <td>0.0</td>\n",
       "      <td>0.0</td>\n",
       "      <td>0.0</td>\n",
       "      <td>1.0</td>\n",
       "      <td>1.0</td>\n",
       "      <td>0.0</td>\n",
       "      <td>1.0</td>\n",
       "    </tr>\n",
       "    <tr>\n",
       "      <th>1</th>\n",
       "      <td>0.0</td>\n",
       "      <td>0.0</td>\n",
       "      <td>1.0</td>\n",
       "      <td>1.0</td>\n",
       "      <td>0.0</td>\n",
       "      <td>1.0</td>\n",
       "      <td>0.0</td>\n",
       "      <td>0.0</td>\n",
       "      <td>0.0</td>\n",
       "      <td>0.0</td>\n",
       "      <td>1.0</td>\n",
       "      <td>0.0</td>\n",
       "      <td>0.0</td>\n",
       "      <td>0.0</td>\n",
       "      <td>0.0</td>\n",
       "      <td>0.0</td>\n",
       "      <td>1.0</td>\n",
       "      <td>0.0</td>\n",
       "      <td>0.0</td>\n",
       "      <td>1.0</td>\n",
       "      <td>0.0</td>\n",
       "      <td>1.0</td>\n",
       "    </tr>\n",
       "  </tbody>\n",
       "</table>\n",
       "</div>"
      ],
      "text/plain": [
       "   Attrition_Yes  BusinessTravel_Travel_Frequently  \\\n",
       "0            1.0                               0.0   \n",
       "1            0.0                               0.0   \n",
       "\n",
       "   BusinessTravel_Travel_Rarely  Department_Research & Development  \\\n",
       "0                           1.0                                0.0   \n",
       "1                           1.0                                1.0   \n",
       "\n",
       "   Department_Sales  EducationField_Life Sciences  EducationField_Marketing  \\\n",
       "0               1.0                           0.0                       1.0   \n",
       "1               0.0                           1.0                       0.0   \n",
       "\n",
       "   EducationField_Medical  EducationField_Other  \\\n",
       "0                     0.0                   0.0   \n",
       "1                     0.0                   0.0   \n",
       "\n",
       "   EducationField_Technical Degree  Gender_Male  JobRole_Human Resources  \\\n",
       "0                              0.0          1.0                      0.0   \n",
       "1                              0.0          1.0                      0.0   \n",
       "\n",
       "   JobRole_Laboratory Technician  JobRole_Manager  \\\n",
       "0                            0.0              0.0   \n",
       "1                            0.0              0.0   \n",
       "\n",
       "   JobRole_Manufacturing Director  JobRole_Research Director  \\\n",
       "0                             0.0                        0.0   \n",
       "1                             0.0                        0.0   \n",
       "\n",
       "   JobRole_Research Scientist  JobRole_Sales Executive  \\\n",
       "0                         0.0                      0.0   \n",
       "1                         1.0                      0.0   \n",
       "\n",
       "   JobRole_Sales Representative  MaritalStatus_Married  MaritalStatus_Single  \\\n",
       "0                           1.0                    1.0                   0.0   \n",
       "1                           0.0                    1.0                   0.0   \n",
       "\n",
       "   OverTime_Yes  \n",
       "0           1.0  \n",
       "1           1.0  "
      ]
     },
     "execution_count": 48,
     "metadata": {},
     "output_type": "execute_result"
    }
   ],
   "source": [
    "test_ohe_df = pd.DataFrame(test_arr, columns=new_cols_list)\n",
    "test_ohe_df.head(2)"
   ]
  },
  {
   "cell_type": "code",
   "execution_count": 49,
   "metadata": {},
   "outputs": [],
   "source": [
    "test_df = pd.merge(left=test_df, right=test_ohe_df, left_index=True, right_index=True)"
   ]
  },
  {
   "cell_type": "code",
   "execution_count": 50,
   "metadata": {
    "scrolled": false
   },
   "outputs": [],
   "source": [
    "test_df.drop(nominal_categories, axis=1, inplace=True)"
   ]
  },
  {
   "cell_type": "code",
   "execution_count": 51,
   "metadata": {},
   "outputs": [],
   "source": [
    "test_df.drop(['EmployeeNumber'], axis=1, inplace=True)"
   ]
  },
  {
   "cell_type": "markdown",
   "metadata": {},
   "source": [
    "### 4.1.4. Variance Inflation Factor\n",
    "To detect multicollinearity, I used Variance Inflation Factor (VIF)."
   ]
  },
  {
   "cell_type": "code",
   "execution_count": 52,
   "metadata": {},
   "outputs": [
    {
     "data": {
      "text/html": [
       "<div>\n",
       "<style scoped>\n",
       "    .dataframe tbody tr th:only-of-type {\n",
       "        vertical-align: middle;\n",
       "    }\n",
       "\n",
       "    .dataframe tbody tr th {\n",
       "        vertical-align: top;\n",
       "    }\n",
       "\n",
       "    .dataframe thead th {\n",
       "        text-align: right;\n",
       "    }\n",
       "</style>\n",
       "<table border=\"1\" class=\"dataframe\">\n",
       "  <thead>\n",
       "    <tr style=\"text-align: right;\">\n",
       "      <th></th>\n",
       "      <th>Independent Variables</th>\n",
       "      <th>VIF</th>\n",
       "    </tr>\n",
       "  </thead>\n",
       "  <tbody>\n",
       "    <tr>\n",
       "      <th>3</th>\n",
       "      <td>DistanceFromHome</td>\n",
       "      <td>1.019908</td>\n",
       "    </tr>\n",
       "    <tr>\n",
       "      <th>6</th>\n",
       "      <td>HourlyRate</td>\n",
       "      <td>1.030179</td>\n",
       "    </tr>\n",
       "    <tr>\n",
       "      <th>11</th>\n",
       "      <td>MonthlyRate</td>\n",
       "      <td>1.032481</td>\n",
       "    </tr>\n",
       "    <tr>\n",
       "      <th>33</th>\n",
       "      <td>Gender_Male</td>\n",
       "      <td>1.032588</td>\n",
       "    </tr>\n",
       "    <tr>\n",
       "      <th>9</th>\n",
       "      <td>JobSatisfaction</td>\n",
       "      <td>1.033529</td>\n",
       "    </tr>\n",
       "    <tr>\n",
       "      <th>15</th>\n",
       "      <td>RelationshipSatisfaction</td>\n",
       "      <td>1.035164</td>\n",
       "    </tr>\n",
       "    <tr>\n",
       "      <th>19</th>\n",
       "      <td>WorkLifeBalance</td>\n",
       "      <td>1.039642</td>\n",
       "    </tr>\n",
       "    <tr>\n",
       "      <th>7</th>\n",
       "      <td>JobInvolvement</td>\n",
       "      <td>1.041250</td>\n",
       "    </tr>\n",
       "    <tr>\n",
       "      <th>18</th>\n",
       "      <td>TrainingTimesLastYear</td>\n",
       "      <td>1.041352</td>\n",
       "    </tr>\n",
       "    <tr>\n",
       "      <th>5</th>\n",
       "      <td>EnvironmentSatisfaction</td>\n",
       "      <td>1.041774</td>\n",
       "    </tr>\n",
       "    <tr>\n",
       "      <th>2</th>\n",
       "      <td>DailyRate</td>\n",
       "      <td>1.043193</td>\n",
       "    </tr>\n",
       "    <tr>\n",
       "      <th>44</th>\n",
       "      <td>OverTime_Yes</td>\n",
       "      <td>1.045045</td>\n",
       "    </tr>\n",
       "    <tr>\n",
       "      <th>4</th>\n",
       "      <td>Education</td>\n",
       "      <td>1.080111</td>\n",
       "    </tr>\n",
       "    <tr>\n",
       "      <th>12</th>\n",
       "      <td>NumCompaniesWorked</td>\n",
       "      <td>1.263437</td>\n",
       "    </tr>\n",
       "    <tr>\n",
       "      <th>22</th>\n",
       "      <td>YearsSinceLastPromotion</td>\n",
       "      <td>1.771375</td>\n",
       "    </tr>\n",
       "    <tr>\n",
       "      <th>42</th>\n",
       "      <td>MaritalStatus_Married</td>\n",
       "      <td>1.808821</td>\n",
       "    </tr>\n",
       "    <tr>\n",
       "      <th>16</th>\n",
       "      <td>StockOptionLevel</td>\n",
       "      <td>1.913115</td>\n",
       "    </tr>\n",
       "    <tr>\n",
       "      <th>37</th>\n",
       "      <td>JobRole_Manufacturing Director</td>\n",
       "      <td>1.944353</td>\n",
       "    </tr>\n",
       "    <tr>\n",
       "      <th>1</th>\n",
       "      <td>Age</td>\n",
       "      <td>2.035180</td>\n",
       "    </tr>\n",
       "    <tr>\n",
       "      <th>24</th>\n",
       "      <td>BusinessTravel_Travel_Frequently</td>\n",
       "      <td>2.417022</td>\n",
       "    </tr>\n",
       "    <tr>\n",
       "      <th>25</th>\n",
       "      <td>BusinessTravel_Travel_Rarely</td>\n",
       "      <td>2.418450</td>\n",
       "    </tr>\n",
       "    <tr>\n",
       "      <th>14</th>\n",
       "      <td>PerformanceRating</td>\n",
       "      <td>2.555080</td>\n",
       "    </tr>\n",
       "    <tr>\n",
       "      <th>13</th>\n",
       "      <td>PercentSalaryHike</td>\n",
       "      <td>2.576426</td>\n",
       "    </tr>\n",
       "    <tr>\n",
       "      <th>38</th>\n",
       "      <td>JobRole_Research Director</td>\n",
       "      <td>2.723024</td>\n",
       "    </tr>\n",
       "    <tr>\n",
       "      <th>23</th>\n",
       "      <td>YearsWithCurrManager</td>\n",
       "      <td>2.773584</td>\n",
       "    </tr>\n",
       "    <tr>\n",
       "      <th>21</th>\n",
       "      <td>YearsInCurrentRole</td>\n",
       "      <td>2.794820</td>\n",
       "    </tr>\n",
       "    <tr>\n",
       "      <th>43</th>\n",
       "      <td>MaritalStatus_Single</td>\n",
       "      <td>2.967017</td>\n",
       "    </tr>\n",
       "    <tr>\n",
       "      <th>35</th>\n",
       "      <td>JobRole_Laboratory Technician</td>\n",
       "      <td>3.221695</td>\n",
       "    </tr>\n",
       "    <tr>\n",
       "      <th>39</th>\n",
       "      <td>JobRole_Research Scientist</td>\n",
       "      <td>3.431305</td>\n",
       "    </tr>\n",
       "    <tr>\n",
       "      <th>36</th>\n",
       "      <td>JobRole_Manager</td>\n",
       "      <td>4.473090</td>\n",
       "    </tr>\n",
       "    <tr>\n",
       "      <th>20</th>\n",
       "      <td>YearsAtCompany</td>\n",
       "      <td>4.740765</td>\n",
       "    </tr>\n",
       "    <tr>\n",
       "      <th>41</th>\n",
       "      <td>JobRole_Sales Representative</td>\n",
       "      <td>5.025629</td>\n",
       "    </tr>\n",
       "    <tr>\n",
       "      <th>17</th>\n",
       "      <td>TotalWorkingYears</td>\n",
       "      <td>5.123743</td>\n",
       "    </tr>\n",
       "    <tr>\n",
       "      <th>31</th>\n",
       "      <td>EducationField_Other</td>\n",
       "      <td>5.734186</td>\n",
       "    </tr>\n",
       "    <tr>\n",
       "      <th>34</th>\n",
       "      <td>JobRole_Human Resources</td>\n",
       "      <td>7.486205</td>\n",
       "    </tr>\n",
       "    <tr>\n",
       "      <th>32</th>\n",
       "      <td>EducationField_Technical Degree</td>\n",
       "      <td>8.747694</td>\n",
       "    </tr>\n",
       "    <tr>\n",
       "      <th>29</th>\n",
       "      <td>EducationField_Marketing</td>\n",
       "      <td>11.075825</td>\n",
       "    </tr>\n",
       "    <tr>\n",
       "      <th>40</th>\n",
       "      <td>JobRole_Sales Executive</td>\n",
       "      <td>13.746882</td>\n",
       "    </tr>\n",
       "    <tr>\n",
       "      <th>8</th>\n",
       "      <td>JobLevel</td>\n",
       "      <td>14.570042</td>\n",
       "    </tr>\n",
       "    <tr>\n",
       "      <th>10</th>\n",
       "      <td>MonthlyIncome</td>\n",
       "      <td>19.216663</td>\n",
       "    </tr>\n",
       "    <tr>\n",
       "      <th>30</th>\n",
       "      <td>EducationField_Medical</td>\n",
       "      <td>21.445197</td>\n",
       "    </tr>\n",
       "    <tr>\n",
       "      <th>28</th>\n",
       "      <td>EducationField_Life Sciences</td>\n",
       "      <td>24.054523</td>\n",
       "    </tr>\n",
       "    <tr>\n",
       "      <th>27</th>\n",
       "      <td>Department_Sales</td>\n",
       "      <td>46.152920</td>\n",
       "    </tr>\n",
       "    <tr>\n",
       "      <th>26</th>\n",
       "      <td>Department_Research &amp; Development</td>\n",
       "      <td>46.584758</td>\n",
       "    </tr>\n",
       "    <tr>\n",
       "      <th>0</th>\n",
       "      <td>const</td>\n",
       "      <td>429.360556</td>\n",
       "    </tr>\n",
       "  </tbody>\n",
       "</table>\n",
       "</div>"
      ],
      "text/plain": [
       "                Independent Variables         VIF\n",
       "3                    DistanceFromHome    1.019908\n",
       "6                          HourlyRate    1.030179\n",
       "11                        MonthlyRate    1.032481\n",
       "33                        Gender_Male    1.032588\n",
       "9                     JobSatisfaction    1.033529\n",
       "15           RelationshipSatisfaction    1.035164\n",
       "19                    WorkLifeBalance    1.039642\n",
       "7                      JobInvolvement    1.041250\n",
       "18              TrainingTimesLastYear    1.041352\n",
       "5             EnvironmentSatisfaction    1.041774\n",
       "2                           DailyRate    1.043193\n",
       "44                       OverTime_Yes    1.045045\n",
       "4                           Education    1.080111\n",
       "12                 NumCompaniesWorked    1.263437\n",
       "22            YearsSinceLastPromotion    1.771375\n",
       "42              MaritalStatus_Married    1.808821\n",
       "16                   StockOptionLevel    1.913115\n",
       "37     JobRole_Manufacturing Director    1.944353\n",
       "1                                 Age    2.035180\n",
       "24   BusinessTravel_Travel_Frequently    2.417022\n",
       "25       BusinessTravel_Travel_Rarely    2.418450\n",
       "14                  PerformanceRating    2.555080\n",
       "13                  PercentSalaryHike    2.576426\n",
       "38          JobRole_Research Director    2.723024\n",
       "23               YearsWithCurrManager    2.773584\n",
       "21                 YearsInCurrentRole    2.794820\n",
       "43               MaritalStatus_Single    2.967017\n",
       "35      JobRole_Laboratory Technician    3.221695\n",
       "39         JobRole_Research Scientist    3.431305\n",
       "36                    JobRole_Manager    4.473090\n",
       "20                     YearsAtCompany    4.740765\n",
       "41       JobRole_Sales Representative    5.025629\n",
       "17                  TotalWorkingYears    5.123743\n",
       "31               EducationField_Other    5.734186\n",
       "34            JobRole_Human Resources    7.486205\n",
       "32    EducationField_Technical Degree    8.747694\n",
       "29           EducationField_Marketing   11.075825\n",
       "40            JobRole_Sales Executive   13.746882\n",
       "8                            JobLevel   14.570042\n",
       "10                      MonthlyIncome   19.216663\n",
       "30             EducationField_Medical   21.445197\n",
       "28       EducationField_Life Sciences   24.054523\n",
       "27                   Department_Sales   46.152920\n",
       "26  Department_Research & Development   46.584758\n",
       "0                               const  429.360556"
      ]
     },
     "execution_count": 52,
     "metadata": {},
     "output_type": "execute_result"
    }
   ],
   "source": [
    "vif_df = pd.DataFrame()\n",
    "variables = train_df.drop(['Attrition_Yes'], axis=1)\n",
    "vif_df['Independent Variables'] = variables.columns\n",
    "vif_df['VIF'] = [vif(variables.values, i) for i in range(variables.shape[1])]\n",
    "vif_df.sort_values(by='VIF')"
   ]
  },
  {
   "cell_type": "markdown",
   "metadata": {},
   "source": [
    "Drop the columns whose VIF are greater than 10 from both ```train_df``` and ```test_df```."
   ]
  },
  {
   "cell_type": "code",
   "execution_count": 53,
   "metadata": {},
   "outputs": [
    {
     "name": "stdout",
     "output_type": "stream",
     "text": [
      "['JobLevel' 'MonthlyIncome' 'Department_Research & Development'\n",
      " 'Department_Sales' 'EducationField_Life Sciences'\n",
      " 'EducationField_Marketing' 'EducationField_Medical'\n",
      " 'JobRole_Sales Executive']\n"
     ]
    }
   ],
   "source": [
    "high_vif_columns = vif_df[(vif_df['VIF'] > 10) & (vif_df['Independent Variables'] != 'const')]['Independent Variables']\n",
    "high_vif_columns = high_vif_columns.values\n",
    "print(high_vif_columns)"
   ]
  },
  {
   "cell_type": "code",
   "execution_count": 54,
   "metadata": {},
   "outputs": [],
   "source": [
    "train_df.drop(high_vif_columns, axis=1, inplace=True)\n",
    "test_df.drop(high_vif_columns, axis=1, inplace=True)"
   ]
  },
  {
   "cell_type": "markdown",
   "metadata": {},
   "source": [
    "## 4.2. Logistic Regression on Data after OHE and VIF"
   ]
  },
  {
   "cell_type": "markdown",
   "metadata": {},
   "source": [
    "### 4.2.1. Training the Model"
   ]
  },
  {
   "cell_type": "code",
   "execution_count": 55,
   "metadata": {},
   "outputs": [],
   "source": [
    "train_features, train_target = get_features_and_target(train_df, 'Attrition_Yes')"
   ]
  },
  {
   "cell_type": "code",
   "execution_count": 56,
   "metadata": {
    "scrolled": true
   },
   "outputs": [
    {
     "name": "stdout",
     "output_type": "stream",
     "text": [
      "Optimization terminated successfully.\n",
      "         Current function value: 0.284189\n",
      "         Iterations 8\n"
     ]
    }
   ],
   "source": [
    "m1_sm_model = statsmodel_logit(train_features, train_target)"
   ]
  },
  {
   "cell_type": "code",
   "execution_count": 57,
   "metadata": {
    "scrolled": true
   },
   "outputs": [
    {
     "data": {
      "text/html": [
       "<table class=\"simpletable\">\n",
       "<caption>Logit Regression Results</caption>\n",
       "<tr>\n",
       "  <th>Dep. Variable:</th>     <td>Attrition_Yes</td>  <th>  No. Observations:  </th>  <td>  1176</td>  \n",
       "</tr>\n",
       "<tr>\n",
       "  <th>Model:</th>                 <td>Logit</td>      <th>  Df Residuals:      </th>  <td>  1139</td>  \n",
       "</tr>\n",
       "<tr>\n",
       "  <th>Method:</th>                 <td>MLE</td>       <th>  Df Model:          </th>  <td>    36</td>  \n",
       "</tr>\n",
       "<tr>\n",
       "  <th>Date:</th>            <td>Tue, 21 Apr 2020</td> <th>  Pseudo R-squ.:     </th>  <td>0.3448</td>  \n",
       "</tr>\n",
       "<tr>\n",
       "  <th>Time:</th>                <td>00:08:48</td>     <th>  Log-Likelihood:    </th> <td> -334.21</td> \n",
       "</tr>\n",
       "<tr>\n",
       "  <th>converged:</th>             <td>True</td>       <th>  LL-Null:           </th> <td> -510.10</td> \n",
       "</tr>\n",
       "<tr>\n",
       "  <th>Covariance Type:</th>     <td>nonrobust</td>    <th>  LLR p-value:       </th> <td>1.876e-53</td>\n",
       "</tr>\n",
       "</table>\n",
       "<table class=\"simpletable\">\n",
       "<tr>\n",
       "                  <td></td>                    <th>coef</th>     <th>std err</th>      <th>z</th>      <th>P>|z|</th>  <th>[0.025</th>    <th>0.975]</th>  \n",
       "</tr>\n",
       "<tr>\n",
       "  <th>const</th>                            <td>    1.6982</td> <td>    1.492</td> <td>    1.138</td> <td> 0.255</td> <td>   -1.226</td> <td>    4.623</td>\n",
       "</tr>\n",
       "<tr>\n",
       "  <th>Age</th>                              <td>   -0.0342</td> <td>    0.015</td> <td>   -2.232</td> <td> 0.026</td> <td>   -0.064</td> <td>   -0.004</td>\n",
       "</tr>\n",
       "<tr>\n",
       "  <th>DailyRate</th>                        <td>   -0.0004</td> <td>    0.000</td> <td>   -1.441</td> <td> 0.150</td> <td>   -0.001</td> <td>    0.000</td>\n",
       "</tr>\n",
       "<tr>\n",
       "  <th>DistanceFromHome</th>                 <td>    0.0522</td> <td>    0.012</td> <td>    4.287</td> <td> 0.000</td> <td>    0.028</td> <td>    0.076</td>\n",
       "</tr>\n",
       "<tr>\n",
       "  <th>Education</th>                        <td>    0.0486</td> <td>    0.099</td> <td>    0.490</td> <td> 0.624</td> <td>   -0.146</td> <td>    0.243</td>\n",
       "</tr>\n",
       "<tr>\n",
       "  <th>EnvironmentSatisfaction</th>          <td>   -0.4767</td> <td>    0.095</td> <td>   -5.026</td> <td> 0.000</td> <td>   -0.663</td> <td>   -0.291</td>\n",
       "</tr>\n",
       "<tr>\n",
       "  <th>HourlyRate</th>                       <td>    0.0040</td> <td>    0.005</td> <td>    0.789</td> <td> 0.430</td> <td>   -0.006</td> <td>    0.014</td>\n",
       "</tr>\n",
       "<tr>\n",
       "  <th>JobInvolvement</th>                   <td>   -0.5154</td> <td>    0.138</td> <td>   -3.730</td> <td> 0.000</td> <td>   -0.786</td> <td>   -0.245</td>\n",
       "</tr>\n",
       "<tr>\n",
       "  <th>JobSatisfaction</th>                  <td>   -0.3393</td> <td>    0.094</td> <td>   -3.604</td> <td> 0.000</td> <td>   -0.524</td> <td>   -0.155</td>\n",
       "</tr>\n",
       "<tr>\n",
       "  <th>MonthlyRate</th>                      <td> 1.398e-05</td> <td> 1.43e-05</td> <td>    0.978</td> <td> 0.328</td> <td> -1.4e-05</td> <td>  4.2e-05</td>\n",
       "</tr>\n",
       "<tr>\n",
       "  <th>NumCompaniesWorked</th>               <td>    0.2226</td> <td>    0.042</td> <td>    5.247</td> <td> 0.000</td> <td>    0.139</td> <td>    0.306</td>\n",
       "</tr>\n",
       "<tr>\n",
       "  <th>PercentSalaryHike</th>                <td>   -0.0340</td> <td>    0.045</td> <td>   -0.753</td> <td> 0.451</td> <td>   -0.122</td> <td>    0.054</td>\n",
       "</tr>\n",
       "<tr>\n",
       "  <th>PerformanceRating</th>                <td>    0.2377</td> <td>    0.454</td> <td>    0.524</td> <td> 0.600</td> <td>   -0.651</td> <td>    1.127</td>\n",
       "</tr>\n",
       "<tr>\n",
       "  <th>RelationshipSatisfaction</th>         <td>   -0.2209</td> <td>    0.094</td> <td>   -2.348</td> <td> 0.019</td> <td>   -0.405</td> <td>   -0.037</td>\n",
       "</tr>\n",
       "<tr>\n",
       "  <th>StockOptionLevel</th>                 <td>   -0.2917</td> <td>    0.176</td> <td>   -1.659</td> <td> 0.097</td> <td>   -0.636</td> <td>    0.053</td>\n",
       "</tr>\n",
       "<tr>\n",
       "  <th>TotalWorkingYears</th>                <td>   -0.0684</td> <td>    0.030</td> <td>   -2.286</td> <td> 0.022</td> <td>   -0.127</td> <td>   -0.010</td>\n",
       "</tr>\n",
       "<tr>\n",
       "  <th>TrainingTimesLastYear</th>            <td>   -0.2558</td> <td>    0.083</td> <td>   -3.080</td> <td> 0.002</td> <td>   -0.419</td> <td>   -0.093</td>\n",
       "</tr>\n",
       "<tr>\n",
       "  <th>WorkLifeBalance</th>                  <td>   -0.4144</td> <td>    0.143</td> <td>   -2.888</td> <td> 0.004</td> <td>   -0.696</td> <td>   -0.133</td>\n",
       "</tr>\n",
       "<tr>\n",
       "  <th>YearsAtCompany</th>                   <td>    0.1050</td> <td>    0.043</td> <td>    2.462</td> <td> 0.014</td> <td>    0.021</td> <td>    0.189</td>\n",
       "</tr>\n",
       "<tr>\n",
       "  <th>YearsInCurrentRole</th>               <td>   -0.1519</td> <td>    0.051</td> <td>   -2.958</td> <td> 0.003</td> <td>   -0.253</td> <td>   -0.051</td>\n",
       "</tr>\n",
       "<tr>\n",
       "  <th>YearsSinceLastPromotion</th>          <td>    0.1603</td> <td>    0.048</td> <td>    3.363</td> <td> 0.001</td> <td>    0.067</td> <td>    0.254</td>\n",
       "</tr>\n",
       "<tr>\n",
       "  <th>YearsWithCurrManager</th>             <td>   -0.1455</td> <td>    0.051</td> <td>   -2.826</td> <td> 0.005</td> <td>   -0.246</td> <td>   -0.045</td>\n",
       "</tr>\n",
       "<tr>\n",
       "  <th>BusinessTravel_Travel_Frequently</th> <td>    1.7595</td> <td>    0.475</td> <td>    3.706</td> <td> 0.000</td> <td>    0.829</td> <td>    2.690</td>\n",
       "</tr>\n",
       "<tr>\n",
       "  <th>BusinessTravel_Travel_Rarely</th>     <td>    1.0772</td> <td>    0.437</td> <td>    2.465</td> <td> 0.014</td> <td>    0.221</td> <td>    1.934</td>\n",
       "</tr>\n",
       "<tr>\n",
       "  <th>EducationField_Other</th>             <td>    0.1825</td> <td>    0.451</td> <td>    0.405</td> <td> 0.686</td> <td>   -0.701</td> <td>    1.066</td>\n",
       "</tr>\n",
       "<tr>\n",
       "  <th>EducationField_Technical Degree</th>  <td>    0.9444</td> <td>    0.318</td> <td>    2.971</td> <td> 0.003</td> <td>    0.321</td> <td>    1.567</td>\n",
       "</tr>\n",
       "<tr>\n",
       "  <th>Gender_Male</th>                      <td>    0.4026</td> <td>    0.210</td> <td>    1.919</td> <td> 0.055</td> <td>   -0.009</td> <td>    0.814</td>\n",
       "</tr>\n",
       "<tr>\n",
       "  <th>JobRole_Human Resources</th>          <td>    0.8306</td> <td>    0.486</td> <td>    1.707</td> <td> 0.088</td> <td>   -0.123</td> <td>    1.784</td>\n",
       "</tr>\n",
       "<tr>\n",
       "  <th>JobRole_Laboratory Technician</th>    <td>    0.5852</td> <td>    0.291</td> <td>    2.010</td> <td> 0.044</td> <td>    0.014</td> <td>    1.156</td>\n",
       "</tr>\n",
       "<tr>\n",
       "  <th>JobRole_Manager</th>                  <td>   -0.7580</td> <td>    0.635</td> <td>   -1.194</td> <td> 0.232</td> <td>   -2.002</td> <td>    0.486</td>\n",
       "</tr>\n",
       "<tr>\n",
       "  <th>JobRole_Manufacturing Director</th>   <td>   -1.0030</td> <td>    0.504</td> <td>   -1.991</td> <td> 0.046</td> <td>   -1.990</td> <td>   -0.016</td>\n",
       "</tr>\n",
       "<tr>\n",
       "  <th>JobRole_Research Director</th>        <td>   -1.3319</td> <td>    0.831</td> <td>   -1.604</td> <td> 0.109</td> <td>   -2.960</td> <td>    0.296</td>\n",
       "</tr>\n",
       "<tr>\n",
       "  <th>JobRole_Research Scientist</th>       <td>   -0.1178</td> <td>    0.298</td> <td>   -0.396</td> <td> 0.692</td> <td>   -0.701</td> <td>    0.466</td>\n",
       "</tr>\n",
       "<tr>\n",
       "  <th>JobRole_Sales Representative</th>     <td>    1.1972</td> <td>    0.403</td> <td>    2.969</td> <td> 0.003</td> <td>    0.407</td> <td>    1.987</td>\n",
       "</tr>\n",
       "<tr>\n",
       "  <th>MaritalStatus_Married</th>            <td>    0.3926</td> <td>    0.305</td> <td>    1.288</td> <td> 0.198</td> <td>   -0.205</td> <td>    0.990</td>\n",
       "</tr>\n",
       "<tr>\n",
       "  <th>MaritalStatus_Single</th>             <td>    1.0671</td> <td>    0.395</td> <td>    2.698</td> <td> 0.007</td> <td>    0.292</td> <td>    1.842</td>\n",
       "</tr>\n",
       "<tr>\n",
       "  <th>OverTime_Yes</th>                     <td>    1.9744</td> <td>    0.222</td> <td>    8.910</td> <td> 0.000</td> <td>    1.540</td> <td>    2.409</td>\n",
       "</tr>\n",
       "</table>"
      ],
      "text/plain": [
       "<class 'statsmodels.iolib.summary.Summary'>\n",
       "\"\"\"\n",
       "                           Logit Regression Results                           \n",
       "==============================================================================\n",
       "Dep. Variable:          Attrition_Yes   No. Observations:                 1176\n",
       "Model:                          Logit   Df Residuals:                     1139\n",
       "Method:                           MLE   Df Model:                           36\n",
       "Date:                Tue, 21 Apr 2020   Pseudo R-squ.:                  0.3448\n",
       "Time:                        00:08:48   Log-Likelihood:                -334.21\n",
       "converged:                       True   LL-Null:                       -510.10\n",
       "Covariance Type:            nonrobust   LLR p-value:                 1.876e-53\n",
       "====================================================================================================\n",
       "                                       coef    std err          z      P>|z|      [0.025      0.975]\n",
       "----------------------------------------------------------------------------------------------------\n",
       "const                                1.6982      1.492      1.138      0.255      -1.226       4.623\n",
       "Age                                 -0.0342      0.015     -2.232      0.026      -0.064      -0.004\n",
       "DailyRate                           -0.0004      0.000     -1.441      0.150      -0.001       0.000\n",
       "DistanceFromHome                     0.0522      0.012      4.287      0.000       0.028       0.076\n",
       "Education                            0.0486      0.099      0.490      0.624      -0.146       0.243\n",
       "EnvironmentSatisfaction             -0.4767      0.095     -5.026      0.000      -0.663      -0.291\n",
       "HourlyRate                           0.0040      0.005      0.789      0.430      -0.006       0.014\n",
       "JobInvolvement                      -0.5154      0.138     -3.730      0.000      -0.786      -0.245\n",
       "JobSatisfaction                     -0.3393      0.094     -3.604      0.000      -0.524      -0.155\n",
       "MonthlyRate                       1.398e-05   1.43e-05      0.978      0.328    -1.4e-05     4.2e-05\n",
       "NumCompaniesWorked                   0.2226      0.042      5.247      0.000       0.139       0.306\n",
       "PercentSalaryHike                   -0.0340      0.045     -0.753      0.451      -0.122       0.054\n",
       "PerformanceRating                    0.2377      0.454      0.524      0.600      -0.651       1.127\n",
       "RelationshipSatisfaction            -0.2209      0.094     -2.348      0.019      -0.405      -0.037\n",
       "StockOptionLevel                    -0.2917      0.176     -1.659      0.097      -0.636       0.053\n",
       "TotalWorkingYears                   -0.0684      0.030     -2.286      0.022      -0.127      -0.010\n",
       "TrainingTimesLastYear               -0.2558      0.083     -3.080      0.002      -0.419      -0.093\n",
       "WorkLifeBalance                     -0.4144      0.143     -2.888      0.004      -0.696      -0.133\n",
       "YearsAtCompany                       0.1050      0.043      2.462      0.014       0.021       0.189\n",
       "YearsInCurrentRole                  -0.1519      0.051     -2.958      0.003      -0.253      -0.051\n",
       "YearsSinceLastPromotion              0.1603      0.048      3.363      0.001       0.067       0.254\n",
       "YearsWithCurrManager                -0.1455      0.051     -2.826      0.005      -0.246      -0.045\n",
       "BusinessTravel_Travel_Frequently     1.7595      0.475      3.706      0.000       0.829       2.690\n",
       "BusinessTravel_Travel_Rarely         1.0772      0.437      2.465      0.014       0.221       1.934\n",
       "EducationField_Other                 0.1825      0.451      0.405      0.686      -0.701       1.066\n",
       "EducationField_Technical Degree      0.9444      0.318      2.971      0.003       0.321       1.567\n",
       "Gender_Male                          0.4026      0.210      1.919      0.055      -0.009       0.814\n",
       "JobRole_Human Resources              0.8306      0.486      1.707      0.088      -0.123       1.784\n",
       "JobRole_Laboratory Technician        0.5852      0.291      2.010      0.044       0.014       1.156\n",
       "JobRole_Manager                     -0.7580      0.635     -1.194      0.232      -2.002       0.486\n",
       "JobRole_Manufacturing Director      -1.0030      0.504     -1.991      0.046      -1.990      -0.016\n",
       "JobRole_Research Director           -1.3319      0.831     -1.604      0.109      -2.960       0.296\n",
       "JobRole_Research Scientist          -0.1178      0.298     -0.396      0.692      -0.701       0.466\n",
       "JobRole_Sales Representative         1.1972      0.403      2.969      0.003       0.407       1.987\n",
       "MaritalStatus_Married                0.3926      0.305      1.288      0.198      -0.205       0.990\n",
       "MaritalStatus_Single                 1.0671      0.395      2.698      0.007       0.292       1.842\n",
       "OverTime_Yes                         1.9744      0.222      8.910      0.000       1.540       2.409\n",
       "====================================================================================================\n",
       "\"\"\""
      ]
     },
     "execution_count": 57,
     "metadata": {},
     "output_type": "execute_result"
    }
   ],
   "source": [
    "m1_sm_model.summary()"
   ]
  },
  {
   "cell_type": "code",
   "execution_count": 58,
   "metadata": {
    "scrolled": true
   },
   "outputs": [
    {
     "name": "stdout",
     "output_type": "stream",
     "text": [
      "Model Accuracy Score: 89.28571428571429%\n"
     ]
    }
   ],
   "source": [
    "sk_model = sklearn_logit(train_features, train_target)"
   ]
  },
  {
   "cell_type": "code",
   "execution_count": 59,
   "metadata": {
    "scrolled": false
   },
   "outputs": [
    {
     "data": {
      "image/png": "[encoded data removed]",
      "text/plain": [
       "<Figure size 432x288 with 2 Axes>"
      ]
     },
     "metadata": {},
     "output_type": "display_data"
    }
   ],
   "source": [
    "sklearn_predict(sk_model, train_features, train_target, title='Method 1: Confusion Matrix of Training Data')"
   ]
  },
  {
   "cell_type": "markdown",
   "metadata": {},
   "source": [
    "### 4.2.2 Testing the Model"
   ]
  },
  {
   "cell_type": "code",
   "execution_count": 60,
   "metadata": {},
   "outputs": [],
   "source": [
    "test_features, test_target = get_features_and_target(test_df, 'Attrition_Yes')"
   ]
  },
  {
   "cell_type": "code",
   "execution_count": 61,
   "metadata": {
    "scrolled": true
   },
   "outputs": [
    {
     "data": {
      "image/png": "[encoded data removed]",
      "text/plain": [
       "<Figure size 432x288 with 2 Axes>"
      ]
     },
     "metadata": {},
     "output_type": "display_data"
    }
   ],
   "source": [
    "sklearn_predict(sk_model, test_features, test_target, title='Method 1: Confusion Matrix of Test Data')"
   ]
  },
  {
   "cell_type": "markdown",
   "metadata": {},
   "source": [
    "### 4.2.3. Conclusion"
   ]
  },
  {
   "cell_type": "markdown",
   "metadata": {},
   "source": [
    "The model has an accuracy score of <b>89.29%</b>. The pseudo R-squared is <b>0.3448</b>. However, from statsmodels' summary, there are many variables whose p-values are greater than 0.05 .  \n",
    "\n",
    "There is a possibility that accuracy can be increased if scaled data is used. In the next section, the data will be scaled."
   ]
  },
  {
   "cell_type": "markdown",
   "metadata": {},
   "source": [
    "# 5. Logistic Regression on a Scaled Dataset"
   ]
  },
  {
   "cell_type": "markdown",
   "metadata": {},
   "source": [
    "## 5.1. Fitting the Scaler on the Training Dataset\n",
    "The ```scaled_train_df``` is a copy of ```train_df```. Sklearn's ```StandardScaler``` is fitted on the training data. The scaled results are now in the ```scaled_train_df```.\n",
    "\n",
    "During fitting and transforming, columns ```Attrition_Yes``` and ```const``` shouldn't be scaled so I left them out."
   ]
  },
  {
   "cell_type": "code",
   "execution_count": 62,
   "metadata": {},
   "outputs": [],
   "source": [
    "scaled_train_df = train_df.copy()"
   ]
  },
  {
   "cell_type": "code",
   "execution_count": 63,
   "metadata": {},
   "outputs": [
    {
     "data": {
      "text/plain": [
       "StandardScaler(copy=True, with_mean=True, with_std=True)"
      ]
     },
     "execution_count": 63,
     "metadata": {},
     "output_type": "execute_result"
    }
   ],
   "source": [
    "scaler = StandardScaler()\n",
    "scaler.fit(scaled_train_df.drop(['Attrition_Yes', 'const'], axis=1))"
   ]
  },
  {
   "cell_type": "code",
   "execution_count": 64,
   "metadata": {},
   "outputs": [],
   "source": [
    "scaled_train_arr = scaler.transform(train_df.drop(['Attrition_Yes', 'const'], axis=1))"
   ]
  },
  {
   "cell_type": "markdown",
   "metadata": {},
   "source": [
    "Put the results ```scaled_train_arr``` in a dataframe, then merge them back with ```train_df```'s columns ```Attrition_Yes``` and ```const```."
   ]
  },
  {
   "cell_type": "code",
   "execution_count": 65,
   "metadata": {
    "scrolled": true
   },
   "outputs": [
    {
     "data": {
      "text/html": [
       "<div>\n",
       "<style scoped>\n",
       "    .dataframe tbody tr th:only-of-type {\n",
       "        vertical-align: middle;\n",
       "    }\n",
       "\n",
       "    .dataframe tbody tr th {\n",
       "        vertical-align: top;\n",
       "    }\n",
       "\n",
       "    .dataframe thead th {\n",
       "        text-align: right;\n",
       "    }\n",
       "</style>\n",
       "<table border=\"1\" class=\"dataframe\">\n",
       "  <thead>\n",
       "    <tr style=\"text-align: right;\">\n",
       "      <th></th>\n",
       "      <th>Age</th>\n",
       "      <th>DailyRate</th>\n",
       "      <th>DistanceFromHome</th>\n",
       "      <th>Education</th>\n",
       "      <th>EnvironmentSatisfaction</th>\n",
       "      <th>HourlyRate</th>\n",
       "      <th>JobInvolvement</th>\n",
       "      <th>JobSatisfaction</th>\n",
       "      <th>MonthlyRate</th>\n",
       "      <th>NumCompaniesWorked</th>\n",
       "      <th>PercentSalaryHike</th>\n",
       "      <th>PerformanceRating</th>\n",
       "      <th>RelationshipSatisfaction</th>\n",
       "      <th>StockOptionLevel</th>\n",
       "      <th>TotalWorkingYears</th>\n",
       "      <th>TrainingTimesLastYear</th>\n",
       "      <th>WorkLifeBalance</th>\n",
       "      <th>YearsAtCompany</th>\n",
       "      <th>YearsInCurrentRole</th>\n",
       "      <th>YearsSinceLastPromotion</th>\n",
       "      <th>YearsWithCurrManager</th>\n",
       "      <th>BusinessTravel_Travel_Frequently</th>\n",
       "      <th>BusinessTravel_Travel_Rarely</th>\n",
       "      <th>EducationField_Other</th>\n",
       "      <th>EducationField_Technical Degree</th>\n",
       "      <th>Gender_Male</th>\n",
       "      <th>JobRole_Human Resources</th>\n",
       "      <th>JobRole_Laboratory Technician</th>\n",
       "      <th>JobRole_Manager</th>\n",
       "      <th>JobRole_Manufacturing Director</th>\n",
       "      <th>JobRole_Research Director</th>\n",
       "      <th>JobRole_Research Scientist</th>\n",
       "      <th>JobRole_Sales Representative</th>\n",
       "      <th>MaritalStatus_Married</th>\n",
       "      <th>MaritalStatus_Single</th>\n",
       "      <th>OverTime_Yes</th>\n",
       "      <th>Attrition_Yes</th>\n",
       "      <th>const</th>\n",
       "    </tr>\n",
       "  </thead>\n",
       "  <tbody>\n",
       "    <tr>\n",
       "      <th>0</th>\n",
       "      <td>-0.689868</td>\n",
       "      <td>1.143634</td>\n",
       "      <td>-0.016933</td>\n",
       "      <td>-1.917270</td>\n",
       "      <td>0.236912</td>\n",
       "      <td>-1.614977</td>\n",
       "      <td>0.392794</td>\n",
       "      <td>-0.649704</td>\n",
       "      <td>0.020201</td>\n",
       "      <td>-0.695759</td>\n",
       "      <td>2.687165</td>\n",
       "      <td>2.367856</td>\n",
       "      <td>1.190677</td>\n",
       "      <td>0.211383</td>\n",
       "      <td>0.199999</td>\n",
       "      <td>2.490413</td>\n",
       "      <td>1.758492</td>\n",
       "      <td>0.960155</td>\n",
       "      <td>1.019052</td>\n",
       "      <td>-0.677871</td>\n",
       "      <td>1.071443</td>\n",
       "      <td>-0.483733</td>\n",
       "      <td>0.640369</td>\n",
       "      <td>-0.235914</td>\n",
       "      <td>-0.311472</td>\n",
       "      <td>0.820263</td>\n",
       "      <td>-0.194814</td>\n",
       "      <td>-0.455403</td>\n",
       "      <td>-0.287877</td>\n",
       "      <td>3.008535</td>\n",
       "      <td>-0.243843</td>\n",
       "      <td>-0.482394</td>\n",
       "      <td>-0.239904</td>\n",
       "      <td>-0.904223</td>\n",
       "      <td>-0.674867</td>\n",
       "      <td>-0.632456</td>\n",
       "      <td>0.0</td>\n",
       "      <td>1.0</td>\n",
       "    </tr>\n",
       "    <tr>\n",
       "      <th>1</th>\n",
       "      <td>-1.021999</td>\n",
       "      <td>-0.409053</td>\n",
       "      <td>-1.006426</td>\n",
       "      <td>0.071887</td>\n",
       "      <td>1.156410</td>\n",
       "      <td>0.906036</td>\n",
       "      <td>0.392794</td>\n",
       "      <td>-1.562550</td>\n",
       "      <td>-1.338901</td>\n",
       "      <td>-0.295264</td>\n",
       "      <td>-1.159252</td>\n",
       "      <td>-0.422323</td>\n",
       "      <td>-0.659041</td>\n",
       "      <td>-0.944831</td>\n",
       "      <td>-0.823161</td>\n",
       "      <td>-0.617813</td>\n",
       "      <td>-1.093903</td>\n",
       "      <td>-0.655906</td>\n",
       "      <td>-0.615880</td>\n",
       "      <td>-0.372790</td>\n",
       "      <td>-0.601146</td>\n",
       "      <td>-0.483733</td>\n",
       "      <td>0.640369</td>\n",
       "      <td>-0.235914</td>\n",
       "      <td>3.210560</td>\n",
       "      <td>0.820263</td>\n",
       "      <td>-0.194814</td>\n",
       "      <td>-0.455403</td>\n",
       "      <td>-0.287877</td>\n",
       "      <td>-0.332388</td>\n",
       "      <td>-0.243843</td>\n",
       "      <td>2.072992</td>\n",
       "      <td>-0.239904</td>\n",
       "      <td>-0.904223</td>\n",
       "      <td>1.481773</td>\n",
       "      <td>-0.632456</td>\n",
       "      <td>0.0</td>\n",
       "      <td>1.0</td>\n",
       "    </tr>\n",
       "    <tr>\n",
       "      <th>2</th>\n",
       "      <td>1.967178</td>\n",
       "      <td>0.695461</td>\n",
       "      <td>-0.882739</td>\n",
       "      <td>-1.917270</td>\n",
       "      <td>1.156410</td>\n",
       "      <td>-0.033165</td>\n",
       "      <td>0.392794</td>\n",
       "      <td>-0.649704</td>\n",
       "      <td>0.219804</td>\n",
       "      <td>0.105232</td>\n",
       "      <td>0.763957</td>\n",
       "      <td>-0.422323</td>\n",
       "      <td>-0.659041</td>\n",
       "      <td>0.211383</td>\n",
       "      <td>1.478949</td>\n",
       "      <td>0.936300</td>\n",
       "      <td>0.332294</td>\n",
       "      <td>-0.655906</td>\n",
       "      <td>-0.615880</td>\n",
       "      <td>-0.372790</td>\n",
       "      <td>-0.601146</td>\n",
       "      <td>2.067255</td>\n",
       "      <td>-1.561601</td>\n",
       "      <td>-0.235914</td>\n",
       "      <td>-0.311472</td>\n",
       "      <td>0.820263</td>\n",
       "      <td>-0.194814</td>\n",
       "      <td>-0.455403</td>\n",
       "      <td>-0.287877</td>\n",
       "      <td>3.008535</td>\n",
       "      <td>-0.243843</td>\n",
       "      <td>-0.482394</td>\n",
       "      <td>-0.239904</td>\n",
       "      <td>1.105922</td>\n",
       "      <td>-0.674867</td>\n",
       "      <td>-0.632456</td>\n",
       "      <td>0.0</td>\n",
       "      <td>1.0</td>\n",
       "    </tr>\n",
       "  </tbody>\n",
       "</table>\n",
       "</div>"
      ],
      "text/plain": [
       "        Age  DailyRate  DistanceFromHome  Education  EnvironmentSatisfaction  \\\n",
       "0 -0.689868   1.143634         -0.016933  -1.917270                 0.236912   \n",
       "1 -1.021999  -0.409053         -1.006426   0.071887                 1.156410   \n",
       "2  1.967178   0.695461         -0.882739  -1.917270                 1.156410   \n",
       "\n",
       "   HourlyRate  JobInvolvement  JobSatisfaction  MonthlyRate  \\\n",
       "0   -1.614977        0.392794        -0.649704     0.020201   \n",
       "1    0.906036        0.392794        -1.562550    -1.338901   \n",
       "2   -0.033165        0.392794        -0.649704     0.219804   \n",
       "\n",
       "   NumCompaniesWorked  PercentSalaryHike  PerformanceRating  \\\n",
       "0           -0.695759           2.687165           2.367856   \n",
       "1           -0.295264          -1.159252          -0.422323   \n",
       "2            0.105232           0.763957          -0.422323   \n",
       "\n",
       "   RelationshipSatisfaction  StockOptionLevel  TotalWorkingYears  \\\n",
       "0                  1.190677          0.211383           0.199999   \n",
       "1                 -0.659041         -0.944831          -0.823161   \n",
       "2                 -0.659041          0.211383           1.478949   \n",
       "\n",
       "   TrainingTimesLastYear  WorkLifeBalance  YearsAtCompany  YearsInCurrentRole  \\\n",
       "0               2.490413         1.758492        0.960155            1.019052   \n",
       "1              -0.617813        -1.093903       -0.655906           -0.615880   \n",
       "2               0.936300         0.332294       -0.655906           -0.615880   \n",
       "\n",
       "   YearsSinceLastPromotion  YearsWithCurrManager  \\\n",
       "0                -0.677871              1.071443   \n",
       "1                -0.372790             -0.601146   \n",
       "2                -0.372790             -0.601146   \n",
       "\n",
       "   BusinessTravel_Travel_Frequently  BusinessTravel_Travel_Rarely  \\\n",
       "0                         -0.483733                      0.640369   \n",
       "1                         -0.483733                      0.640369   \n",
       "2                          2.067255                     -1.561601   \n",
       "\n",
       "   EducationField_Other  EducationField_Technical Degree  Gender_Male  \\\n",
       "0             -0.235914                        -0.311472     0.820263   \n",
       "1             -0.235914                         3.210560     0.820263   \n",
       "2             -0.235914                        -0.311472     0.820263   \n",
       "\n",
       "   JobRole_Human Resources  JobRole_Laboratory Technician  JobRole_Manager  \\\n",
       "0                -0.194814                      -0.455403        -0.287877   \n",
       "1                -0.194814                      -0.455403        -0.287877   \n",
       "2                -0.194814                      -0.455403        -0.287877   \n",
       "\n",
       "   JobRole_Manufacturing Director  JobRole_Research Director  \\\n",
       "0                        3.008535                  -0.243843   \n",
       "1                       -0.332388                  -0.243843   \n",
       "2                        3.008535                  -0.243843   \n",
       "\n",
       "   JobRole_Research Scientist  JobRole_Sales Representative  \\\n",
       "0                   -0.482394                     -0.239904   \n",
       "1                    2.072992                     -0.239904   \n",
       "2                   -0.482394                     -0.239904   \n",
       "\n",
       "   MaritalStatus_Married  MaritalStatus_Single  OverTime_Yes  Attrition_Yes  \\\n",
       "0              -0.904223             -0.674867     -0.632456            0.0   \n",
       "1              -0.904223              1.481773     -0.632456            0.0   \n",
       "2               1.105922             -0.674867     -0.632456            0.0   \n",
       "\n",
       "   const  \n",
       "0    1.0  \n",
       "1    1.0  \n",
       "2    1.0  "
      ]
     },
     "execution_count": 65,
     "metadata": {},
     "output_type": "execute_result"
    }
   ],
   "source": [
    "scaled_train_df = pd.DataFrame(scaled_train_arr, columns=train_df.drop(['Attrition_Yes', 'const'], axis=1).columns)\n",
    "scaled_train_df = pd.merge(left=scaled_train_df, right=train_df[['Attrition_Yes', 'const']], left_index=True, right_index=True)\n",
    "scaled_train_df.head(3)"
   ]
  },
  {
   "cell_type": "markdown",
   "metadata": {},
   "source": [
    "## 5.2 Scaling the Test Dataset\n",
    "Apply the fitted StandardScaler to transform the test dataset. After that, do the same steps to get ```scaled_test_df```."
   ]
  },
  {
   "cell_type": "code",
   "execution_count": 66,
   "metadata": {},
   "outputs": [],
   "source": [
    "scaled_test_arr = scaler.transform(test_df.drop(['Attrition_Yes', 'const'], axis=1))"
   ]
  },
  {
   "cell_type": "code",
   "execution_count": 67,
   "metadata": {
    "scrolled": true
   },
   "outputs": [
    {
     "data": {
      "text/html": [
       "<div>\n",
       "<style scoped>\n",
       "    .dataframe tbody tr th:only-of-type {\n",
       "        vertical-align: middle;\n",
       "    }\n",
       "\n",
       "    .dataframe tbody tr th {\n",
       "        vertical-align: top;\n",
       "    }\n",
       "\n",
       "    .dataframe thead th {\n",
       "        text-align: right;\n",
       "    }\n",
       "</style>\n",
       "<table border=\"1\" class=\"dataframe\">\n",
       "  <thead>\n",
       "    <tr style=\"text-align: right;\">\n",
       "      <th></th>\n",
       "      <th>Age</th>\n",
       "      <th>DailyRate</th>\n",
       "      <th>DistanceFromHome</th>\n",
       "      <th>Education</th>\n",
       "      <th>EnvironmentSatisfaction</th>\n",
       "      <th>HourlyRate</th>\n",
       "      <th>JobInvolvement</th>\n",
       "      <th>JobSatisfaction</th>\n",
       "      <th>MonthlyRate</th>\n",
       "      <th>NumCompaniesWorked</th>\n",
       "      <th>PercentSalaryHike</th>\n",
       "      <th>PerformanceRating</th>\n",
       "      <th>RelationshipSatisfaction</th>\n",
       "      <th>StockOptionLevel</th>\n",
       "      <th>TotalWorkingYears</th>\n",
       "      <th>TrainingTimesLastYear</th>\n",
       "      <th>WorkLifeBalance</th>\n",
       "      <th>YearsAtCompany</th>\n",
       "      <th>YearsInCurrentRole</th>\n",
       "      <th>YearsSinceLastPromotion</th>\n",
       "      <th>YearsWithCurrManager</th>\n",
       "      <th>BusinessTravel_Travel_Frequently</th>\n",
       "      <th>BusinessTravel_Travel_Rarely</th>\n",
       "      <th>EducationField_Other</th>\n",
       "      <th>EducationField_Technical Degree</th>\n",
       "      <th>Gender_Male</th>\n",
       "      <th>JobRole_Human Resources</th>\n",
       "      <th>JobRole_Laboratory Technician</th>\n",
       "      <th>JobRole_Manager</th>\n",
       "      <th>JobRole_Manufacturing Director</th>\n",
       "      <th>JobRole_Research Director</th>\n",
       "      <th>JobRole_Research Scientist</th>\n",
       "      <th>JobRole_Sales Representative</th>\n",
       "      <th>MaritalStatus_Married</th>\n",
       "      <th>MaritalStatus_Single</th>\n",
       "      <th>OverTime_Yes</th>\n",
       "      <th>Attrition_Yes</th>\n",
       "      <th>const</th>\n",
       "    </tr>\n",
       "  </thead>\n",
       "  <tbody>\n",
       "    <tr>\n",
       "      <th>0</th>\n",
       "      <td>1.413627</td>\n",
       "      <td>0.151775</td>\n",
       "      <td>-0.759053</td>\n",
       "      <td>-0.922691</td>\n",
       "      <td>-1.602085</td>\n",
       "      <td>1.004900</td>\n",
       "      <td>-1.002752</td>\n",
       "      <td>0.263142</td>\n",
       "      <td>-1.468594</td>\n",
       "      <td>-0.695759</td>\n",
       "      <td>-0.335020</td>\n",
       "      <td>-0.422323</td>\n",
       "      <td>0.265818</td>\n",
       "      <td>-0.944831</td>\n",
       "      <td>-1.078951</td>\n",
       "      <td>-0.617813</td>\n",
       "      <td>0.332294</td>\n",
       "      <td>-0.655906</td>\n",
       "      <td>-0.615880</td>\n",
       "      <td>-0.677871</td>\n",
       "      <td>-0.601146</td>\n",
       "      <td>-0.483733</td>\n",
       "      <td>0.640369</td>\n",
       "      <td>-0.235914</td>\n",
       "      <td>-0.311472</td>\n",
       "      <td>0.820263</td>\n",
       "      <td>-0.194814</td>\n",
       "      <td>-0.455403</td>\n",
       "      <td>-0.287877</td>\n",
       "      <td>-0.332388</td>\n",
       "      <td>-0.243843</td>\n",
       "      <td>-0.482394</td>\n",
       "      <td>4.168333</td>\n",
       "      <td>1.105922</td>\n",
       "      <td>-0.674867</td>\n",
       "      <td>1.581139</td>\n",
       "      <td>1.0</td>\n",
       "      <td>1.0</td>\n",
       "    </tr>\n",
       "    <tr>\n",
       "      <th>1</th>\n",
       "      <td>-1.132709</td>\n",
       "      <td>0.724849</td>\n",
       "      <td>0.601500</td>\n",
       "      <td>0.071887</td>\n",
       "      <td>-1.602085</td>\n",
       "      <td>-1.170092</td>\n",
       "      <td>0.392794</td>\n",
       "      <td>-1.562550</td>\n",
       "      <td>0.017809</td>\n",
       "      <td>-0.695759</td>\n",
       "      <td>-0.335020</td>\n",
       "      <td>-0.422323</td>\n",
       "      <td>1.190677</td>\n",
       "      <td>1.367596</td>\n",
       "      <td>-0.311581</td>\n",
       "      <td>0.159244</td>\n",
       "      <td>-1.093903</td>\n",
       "      <td>0.313730</td>\n",
       "      <td>0.746563</td>\n",
       "      <td>1.152614</td>\n",
       "      <td>1.071443</td>\n",
       "      <td>-0.483733</td>\n",
       "      <td>0.640369</td>\n",
       "      <td>-0.235914</td>\n",
       "      <td>-0.311472</td>\n",
       "      <td>0.820263</td>\n",
       "      <td>-0.194814</td>\n",
       "      <td>-0.455403</td>\n",
       "      <td>-0.287877</td>\n",
       "      <td>-0.332388</td>\n",
       "      <td>-0.243843</td>\n",
       "      <td>2.072992</td>\n",
       "      <td>-0.239904</td>\n",
       "      <td>1.105922</td>\n",
       "      <td>-0.674867</td>\n",
       "      <td>1.581139</td>\n",
       "      <td>0.0</td>\n",
       "      <td>1.0</td>\n",
       "    </tr>\n",
       "    <tr>\n",
       "      <th>2</th>\n",
       "      <td>-0.136317</td>\n",
       "      <td>-0.607425</td>\n",
       "      <td>0.354126</td>\n",
       "      <td>1.066465</td>\n",
       "      <td>0.236912</td>\n",
       "      <td>0.510583</td>\n",
       "      <td>0.392794</td>\n",
       "      <td>0.263142</td>\n",
       "      <td>-0.257331</td>\n",
       "      <td>2.508208</td>\n",
       "      <td>-0.884508</td>\n",
       "      <td>-0.422323</td>\n",
       "      <td>-0.659041</td>\n",
       "      <td>1.367596</td>\n",
       "      <td>-0.567371</td>\n",
       "      <td>-0.617813</td>\n",
       "      <td>0.332294</td>\n",
       "      <td>-0.655906</td>\n",
       "      <td>-0.615880</td>\n",
       "      <td>-0.372790</td>\n",
       "      <td>-0.879911</td>\n",
       "      <td>-0.483733</td>\n",
       "      <td>0.640369</td>\n",
       "      <td>-0.235914</td>\n",
       "      <td>-0.311472</td>\n",
       "      <td>-1.219122</td>\n",
       "      <td>-0.194814</td>\n",
       "      <td>-0.455403</td>\n",
       "      <td>-0.287877</td>\n",
       "      <td>3.008535</td>\n",
       "      <td>-0.243843</td>\n",
       "      <td>-0.482394</td>\n",
       "      <td>-0.239904</td>\n",
       "      <td>1.105922</td>\n",
       "      <td>-0.674867</td>\n",
       "      <td>1.581139</td>\n",
       "      <td>0.0</td>\n",
       "      <td>1.0</td>\n",
       "    </tr>\n",
       "  </tbody>\n",
       "</table>\n",
       "</div>"
      ],
      "text/plain": [
       "        Age  DailyRate  DistanceFromHome  Education  EnvironmentSatisfaction  \\\n",
       "0  1.413627   0.151775         -0.759053  -0.922691                -1.602085   \n",
       "1 -1.132709   0.724849          0.601500   0.071887                -1.602085   \n",
       "2 -0.136317  -0.607425          0.354126   1.066465                 0.236912   \n",
       "\n",
       "   HourlyRate  JobInvolvement  JobSatisfaction  MonthlyRate  \\\n",
       "0    1.004900       -1.002752         0.263142    -1.468594   \n",
       "1   -1.170092        0.392794        -1.562550     0.017809   \n",
       "2    0.510583        0.392794         0.263142    -0.257331   \n",
       "\n",
       "   NumCompaniesWorked  PercentSalaryHike  PerformanceRating  \\\n",
       "0           -0.695759          -0.335020          -0.422323   \n",
       "1           -0.695759          -0.335020          -0.422323   \n",
       "2            2.508208          -0.884508          -0.422323   \n",
       "\n",
       "   RelationshipSatisfaction  StockOptionLevel  TotalWorkingYears  \\\n",
       "0                  0.265818         -0.944831          -1.078951   \n",
       "1                  1.190677          1.367596          -0.311581   \n",
       "2                 -0.659041          1.367596          -0.567371   \n",
       "\n",
       "   TrainingTimesLastYear  WorkLifeBalance  YearsAtCompany  YearsInCurrentRole  \\\n",
       "0              -0.617813         0.332294       -0.655906           -0.615880   \n",
       "1               0.159244        -1.093903        0.313730            0.746563   \n",
       "2              -0.617813         0.332294       -0.655906           -0.615880   \n",
       "\n",
       "   YearsSinceLastPromotion  YearsWithCurrManager  \\\n",
       "0                -0.677871             -0.601146   \n",
       "1                 1.152614              1.071443   \n",
       "2                -0.372790             -0.879911   \n",
       "\n",
       "   BusinessTravel_Travel_Frequently  BusinessTravel_Travel_Rarely  \\\n",
       "0                         -0.483733                      0.640369   \n",
       "1                         -0.483733                      0.640369   \n",
       "2                         -0.483733                      0.640369   \n",
       "\n",
       "   EducationField_Other  EducationField_Technical Degree  Gender_Male  \\\n",
       "0             -0.235914                        -0.311472     0.820263   \n",
       "1             -0.235914                        -0.311472     0.820263   \n",
       "2             -0.235914                        -0.311472    -1.219122   \n",
       "\n",
       "   JobRole_Human Resources  JobRole_Laboratory Technician  JobRole_Manager  \\\n",
       "0                -0.194814                      -0.455403        -0.287877   \n",
       "1                -0.194814                      -0.455403        -0.287877   \n",
       "2                -0.194814                      -0.455403        -0.287877   \n",
       "\n",
       "   JobRole_Manufacturing Director  JobRole_Research Director  \\\n",
       "0                       -0.332388                  -0.243843   \n",
       "1                       -0.332388                  -0.243843   \n",
       "2                        3.008535                  -0.243843   \n",
       "\n",
       "   JobRole_Research Scientist  JobRole_Sales Representative  \\\n",
       "0                   -0.482394                      4.168333   \n",
       "1                    2.072992                     -0.239904   \n",
       "2                   -0.482394                     -0.239904   \n",
       "\n",
       "   MaritalStatus_Married  MaritalStatus_Single  OverTime_Yes  Attrition_Yes  \\\n",
       "0               1.105922             -0.674867      1.581139            1.0   \n",
       "1               1.105922             -0.674867      1.581139            0.0   \n",
       "2               1.105922             -0.674867      1.581139            0.0   \n",
       "\n",
       "   const  \n",
       "0    1.0  \n",
       "1    1.0  \n",
       "2    1.0  "
      ]
     },
     "execution_count": 67,
     "metadata": {},
     "output_type": "execute_result"
    }
   ],
   "source": [
    "scaled_test_df = pd.DataFrame(scaled_test_arr, columns=test_df.drop(['Attrition_Yes', 'const'], axis=1).columns)\n",
    "scaled_test_df = pd.merge(left=scaled_test_df, right=test_df[['Attrition_Yes', 'const']], left_index=True, right_index=True)\n",
    "scaled_test_df.head(3)"
   ]
  },
  {
   "cell_type": "markdown",
   "metadata": {},
   "source": [
    "## 5.3. Logistic Regression on Scaled Data"
   ]
  },
  {
   "cell_type": "markdown",
   "metadata": {},
   "source": [
    "### 5.3.1. Training the Model"
   ]
  },
  {
   "cell_type": "code",
   "execution_count": 68,
   "metadata": {},
   "outputs": [],
   "source": [
    "train_features, train_target = get_features_and_target(scaled_train_df, 'Attrition_Yes')"
   ]
  },
  {
   "cell_type": "code",
   "execution_count": 69,
   "metadata": {
    "scrolled": true
   },
   "outputs": [
    {
     "name": "stdout",
     "output_type": "stream",
     "text": [
      "Optimization terminated successfully.\n",
      "         Current function value: 0.284189\n",
      "         Iterations 8\n"
     ]
    }
   ],
   "source": [
    "m2_sm_model = statsmodel_logit(train_features, train_target)"
   ]
  },
  {
   "cell_type": "code",
   "execution_count": 70,
   "metadata": {},
   "outputs": [
    {
     "data": {
      "text/html": [
       "<table class=\"simpletable\">\n",
       "<caption>Logit Regression Results</caption>\n",
       "<tr>\n",
       "  <th>Dep. Variable:</th>     <td>Attrition_Yes</td>  <th>  No. Observations:  </th>  <td>  1176</td>  \n",
       "</tr>\n",
       "<tr>\n",
       "  <th>Model:</th>                 <td>Logit</td>      <th>  Df Residuals:      </th>  <td>  1139</td>  \n",
       "</tr>\n",
       "<tr>\n",
       "  <th>Method:</th>                 <td>MLE</td>       <th>  Df Model:          </th>  <td>    36</td>  \n",
       "</tr>\n",
       "<tr>\n",
       "  <th>Date:</th>            <td>Tue, 21 Apr 2020</td> <th>  Pseudo R-squ.:     </th>  <td>0.3448</td>  \n",
       "</tr>\n",
       "<tr>\n",
       "  <th>Time:</th>                <td>00:08:55</td>     <th>  Log-Likelihood:    </th> <td> -334.21</td> \n",
       "</tr>\n",
       "<tr>\n",
       "  <th>converged:</th>             <td>True</td>       <th>  LL-Null:           </th> <td> -510.10</td> \n",
       "</tr>\n",
       "<tr>\n",
       "  <th>Covariance Type:</th>     <td>nonrobust</td>    <th>  LLR p-value:       </th> <td>1.876e-53</td>\n",
       "</tr>\n",
       "</table>\n",
       "<table class=\"simpletable\">\n",
       "<tr>\n",
       "                  <td></td>                    <th>coef</th>     <th>std err</th>      <th>z</th>      <th>P>|z|</th>  <th>[0.025</th>    <th>0.975]</th>  \n",
       "</tr>\n",
       "<tr>\n",
       "  <th>Age</th>                              <td>   -0.3088</td> <td>    0.138</td> <td>   -2.232</td> <td> 0.026</td> <td>   -0.580</td> <td>   -0.038</td>\n",
       "</tr>\n",
       "<tr>\n",
       "  <th>DailyRate</th>                        <td>   -0.1458</td> <td>    0.101</td> <td>   -1.441</td> <td> 0.150</td> <td>   -0.344</td> <td>    0.053</td>\n",
       "</tr>\n",
       "<tr>\n",
       "  <th>DistanceFromHome</th>                 <td>    0.4218</td> <td>    0.098</td> <td>    4.287</td> <td> 0.000</td> <td>    0.229</td> <td>    0.615</td>\n",
       "</tr>\n",
       "<tr>\n",
       "  <th>Education</th>                        <td>    0.0488</td> <td>    0.100</td> <td>    0.490</td> <td> 0.624</td> <td>   -0.146</td> <td>    0.244</td>\n",
       "</tr>\n",
       "<tr>\n",
       "  <th>EnvironmentSatisfaction</th>          <td>   -0.5185</td> <td>    0.103</td> <td>   -5.026</td> <td> 0.000</td> <td>   -0.721</td> <td>   -0.316</td>\n",
       "</tr>\n",
       "<tr>\n",
       "  <th>HourlyRate</th>                       <td>    0.0810</td> <td>    0.103</td> <td>    0.789</td> <td> 0.430</td> <td>   -0.120</td> <td>    0.282</td>\n",
       "</tr>\n",
       "<tr>\n",
       "  <th>JobInvolvement</th>                   <td>   -0.3693</td> <td>    0.099</td> <td>   -3.730</td> <td> 0.000</td> <td>   -0.563</td> <td>   -0.175</td>\n",
       "</tr>\n",
       "<tr>\n",
       "  <th>JobSatisfaction</th>                  <td>   -0.3717</td> <td>    0.103</td> <td>   -3.604</td> <td> 0.000</td> <td>   -0.574</td> <td>   -0.170</td>\n",
       "</tr>\n",
       "<tr>\n",
       "  <th>MonthlyRate</th>                      <td>    0.0994</td> <td>    0.102</td> <td>    0.978</td> <td> 0.328</td> <td>   -0.100</td> <td>    0.299</td>\n",
       "</tr>\n",
       "<tr>\n",
       "  <th>NumCompaniesWorked</th>               <td>    0.5558</td> <td>    0.106</td> <td>    5.247</td> <td> 0.000</td> <td>    0.348</td> <td>    0.763</td>\n",
       "</tr>\n",
       "<tr>\n",
       "  <th>PercentSalaryHike</th>                <td>   -0.1238</td> <td>    0.164</td> <td>   -0.753</td> <td> 0.451</td> <td>   -0.446</td> <td>    0.198</td>\n",
       "</tr>\n",
       "<tr>\n",
       "  <th>PerformanceRating</th>                <td>    0.0852</td> <td>    0.163</td> <td>    0.524</td> <td> 0.600</td> <td>   -0.233</td> <td>    0.404</td>\n",
       "</tr>\n",
       "<tr>\n",
       "  <th>RelationshipSatisfaction</th>         <td>   -0.2389</td> <td>    0.102</td> <td>   -2.348</td> <td> 0.019</td> <td>   -0.438</td> <td>   -0.039</td>\n",
       "</tr>\n",
       "<tr>\n",
       "  <th>StockOptionLevel</th>                 <td>   -0.2523</td> <td>    0.152</td> <td>   -1.659</td> <td> 0.097</td> <td>   -0.550</td> <td>    0.046</td>\n",
       "</tr>\n",
       "<tr>\n",
       "  <th>TotalWorkingYears</th>                <td>   -0.5345</td> <td>    0.234</td> <td>   -2.286</td> <td> 0.022</td> <td>   -0.993</td> <td>   -0.076</td>\n",
       "</tr>\n",
       "<tr>\n",
       "  <th>TrainingTimesLastYear</th>            <td>   -0.3292</td> <td>    0.107</td> <td>   -3.080</td> <td> 0.002</td> <td>   -0.539</td> <td>   -0.120</td>\n",
       "</tr>\n",
       "<tr>\n",
       "  <th>WorkLifeBalance</th>                  <td>   -0.2906</td> <td>    0.101</td> <td>   -2.888</td> <td> 0.004</td> <td>   -0.488</td> <td>   -0.093</td>\n",
       "</tr>\n",
       "<tr>\n",
       "  <th>YearsAtCompany</th>                   <td>    0.6495</td> <td>    0.264</td> <td>    2.462</td> <td> 0.014</td> <td>    0.133</td> <td>    1.166</td>\n",
       "</tr>\n",
       "<tr>\n",
       "  <th>YearsInCurrentRole</th>               <td>   -0.5574</td> <td>    0.188</td> <td>   -2.958</td> <td> 0.003</td> <td>   -0.927</td> <td>   -0.188</td>\n",
       "</tr>\n",
       "<tr>\n",
       "  <th>YearsSinceLastPromotion</th>          <td>    0.5255</td> <td>    0.156</td> <td>    3.363</td> <td> 0.001</td> <td>    0.219</td> <td>    0.832</td>\n",
       "</tr>\n",
       "<tr>\n",
       "  <th>YearsWithCurrManager</th>             <td>   -0.5220</td> <td>    0.185</td> <td>   -2.826</td> <td> 0.005</td> <td>   -0.884</td> <td>   -0.160</td>\n",
       "</tr>\n",
       "<tr>\n",
       "  <th>BusinessTravel_Travel_Frequently</th> <td>    0.6897</td> <td>    0.186</td> <td>    3.706</td> <td> 0.000</td> <td>    0.325</td> <td>    1.055</td>\n",
       "</tr>\n",
       "<tr>\n",
       "  <th>BusinessTravel_Travel_Rarely</th>     <td>    0.4892</td> <td>    0.198</td> <td>    2.465</td> <td> 0.014</td> <td>    0.100</td> <td>    0.878</td>\n",
       "</tr>\n",
       "<tr>\n",
       "  <th>EducationField_Other</th>             <td>    0.0408</td> <td>    0.101</td> <td>    0.405</td> <td> 0.686</td> <td>   -0.157</td> <td>    0.238</td>\n",
       "</tr>\n",
       "<tr>\n",
       "  <th>EducationField_Technical Degree</th>  <td>    0.2681</td> <td>    0.090</td> <td>    2.971</td> <td> 0.003</td> <td>    0.091</td> <td>    0.445</td>\n",
       "</tr>\n",
       "<tr>\n",
       "  <th>Gender_Male</th>                      <td>    0.1974</td> <td>    0.103</td> <td>    1.919</td> <td> 0.055</td> <td>   -0.004</td> <td>    0.399</td>\n",
       "</tr>\n",
       "<tr>\n",
       "  <th>JobRole_Human Resources</th>          <td>    0.1559</td> <td>    0.091</td> <td>    1.707</td> <td> 0.088</td> <td>   -0.023</td> <td>    0.335</td>\n",
       "</tr>\n",
       "<tr>\n",
       "  <th>JobRole_Laboratory Technician</th>    <td>    0.2207</td> <td>    0.110</td> <td>    2.010</td> <td> 0.044</td> <td>    0.005</td> <td>    0.436</td>\n",
       "</tr>\n",
       "<tr>\n",
       "  <th>JobRole_Manager</th>                  <td>   -0.2015</td> <td>    0.169</td> <td>   -1.194</td> <td> 0.232</td> <td>   -0.532</td> <td>    0.129</td>\n",
       "</tr>\n",
       "<tr>\n",
       "  <th>JobRole_Manufacturing Director</th>   <td>   -0.3002</td> <td>    0.151</td> <td>   -1.991</td> <td> 0.046</td> <td>   -0.596</td> <td>   -0.005</td>\n",
       "</tr>\n",
       "<tr>\n",
       "  <th>JobRole_Research Director</th>        <td>   -0.3066</td> <td>    0.191</td> <td>   -1.604</td> <td> 0.109</td> <td>   -0.681</td> <td>    0.068</td>\n",
       "</tr>\n",
       "<tr>\n",
       "  <th>JobRole_Research Scientist</th>       <td>   -0.0461</td> <td>    0.117</td> <td>   -0.396</td> <td> 0.692</td> <td>   -0.274</td> <td>    0.182</td>\n",
       "</tr>\n",
       "<tr>\n",
       "  <th>JobRole_Sales Representative</th>     <td>    0.2716</td> <td>    0.091</td> <td>    2.969</td> <td> 0.003</td> <td>    0.092</td> <td>    0.451</td>\n",
       "</tr>\n",
       "<tr>\n",
       "  <th>MaritalStatus_Married</th>            <td>    0.1953</td> <td>    0.152</td> <td>    1.288</td> <td> 0.198</td> <td>   -0.102</td> <td>    0.493</td>\n",
       "</tr>\n",
       "<tr>\n",
       "  <th>MaritalStatus_Single</th>             <td>    0.4948</td> <td>    0.183</td> <td>    2.698</td> <td> 0.007</td> <td>    0.135</td> <td>    0.854</td>\n",
       "</tr>\n",
       "<tr>\n",
       "  <th>OverTime_Yes</th>                     <td>    0.8920</td> <td>    0.100</td> <td>    8.910</td> <td> 0.000</td> <td>    0.696</td> <td>    1.088</td>\n",
       "</tr>\n",
       "<tr>\n",
       "  <th>const</th>                            <td>   -2.7582</td> <td>    0.161</td> <td>  -17.181</td> <td> 0.000</td> <td>   -3.073</td> <td>   -2.444</td>\n",
       "</tr>\n",
       "</table>"
      ],
      "text/plain": [
       "<class 'statsmodels.iolib.summary.Summary'>\n",
       "\"\"\"\n",
       "                           Logit Regression Results                           \n",
       "==============================================================================\n",
       "Dep. Variable:          Attrition_Yes   No. Observations:                 1176\n",
       "Model:                          Logit   Df Residuals:                     1139\n",
       "Method:                           MLE   Df Model:                           36\n",
       "Date:                Tue, 21 Apr 2020   Pseudo R-squ.:                  0.3448\n",
       "Time:                        00:08:55   Log-Likelihood:                -334.21\n",
       "converged:                       True   LL-Null:                       -510.10\n",
       "Covariance Type:            nonrobust   LLR p-value:                 1.876e-53\n",
       "====================================================================================================\n",
       "                                       coef    std err          z      P>|z|      [0.025      0.975]\n",
       "----------------------------------------------------------------------------------------------------\n",
       "Age                                 -0.3088      0.138     -2.232      0.026      -0.580      -0.038\n",
       "DailyRate                           -0.1458      0.101     -1.441      0.150      -0.344       0.053\n",
       "DistanceFromHome                     0.4218      0.098      4.287      0.000       0.229       0.615\n",
       "Education                            0.0488      0.100      0.490      0.624      -0.146       0.244\n",
       "EnvironmentSatisfaction             -0.5185      0.103     -5.026      0.000      -0.721      -0.316\n",
       "HourlyRate                           0.0810      0.103      0.789      0.430      -0.120       0.282\n",
       "JobInvolvement                      -0.3693      0.099     -3.730      0.000      -0.563      -0.175\n",
       "JobSatisfaction                     -0.3717      0.103     -3.604      0.000      -0.574      -0.170\n",
       "MonthlyRate                          0.0994      0.102      0.978      0.328      -0.100       0.299\n",
       "NumCompaniesWorked                   0.5558      0.106      5.247      0.000       0.348       0.763\n",
       "PercentSalaryHike                   -0.1238      0.164     -0.753      0.451      -0.446       0.198\n",
       "PerformanceRating                    0.0852      0.163      0.524      0.600      -0.233       0.404\n",
       "RelationshipSatisfaction            -0.2389      0.102     -2.348      0.019      -0.438      -0.039\n",
       "StockOptionLevel                    -0.2523      0.152     -1.659      0.097      -0.550       0.046\n",
       "TotalWorkingYears                   -0.5345      0.234     -2.286      0.022      -0.993      -0.076\n",
       "TrainingTimesLastYear               -0.3292      0.107     -3.080      0.002      -0.539      -0.120\n",
       "WorkLifeBalance                     -0.2906      0.101     -2.888      0.004      -0.488      -0.093\n",
       "YearsAtCompany                       0.6495      0.264      2.462      0.014       0.133       1.166\n",
       "YearsInCurrentRole                  -0.5574      0.188     -2.958      0.003      -0.927      -0.188\n",
       "YearsSinceLastPromotion              0.5255      0.156      3.363      0.001       0.219       0.832\n",
       "YearsWithCurrManager                -0.5220      0.185     -2.826      0.005      -0.884      -0.160\n",
       "BusinessTravel_Travel_Frequently     0.6897      0.186      3.706      0.000       0.325       1.055\n",
       "BusinessTravel_Travel_Rarely         0.4892      0.198      2.465      0.014       0.100       0.878\n",
       "EducationField_Other                 0.0408      0.101      0.405      0.686      -0.157       0.238\n",
       "EducationField_Technical Degree      0.2681      0.090      2.971      0.003       0.091       0.445\n",
       "Gender_Male                          0.1974      0.103      1.919      0.055      -0.004       0.399\n",
       "JobRole_Human Resources              0.1559      0.091      1.707      0.088      -0.023       0.335\n",
       "JobRole_Laboratory Technician        0.2207      0.110      2.010      0.044       0.005       0.436\n",
       "JobRole_Manager                     -0.2015      0.169     -1.194      0.232      -0.532       0.129\n",
       "JobRole_Manufacturing Director      -0.3002      0.151     -1.991      0.046      -0.596      -0.005\n",
       "JobRole_Research Director           -0.3066      0.191     -1.604      0.109      -0.681       0.068\n",
       "JobRole_Research Scientist          -0.0461      0.117     -0.396      0.692      -0.274       0.182\n",
       "JobRole_Sales Representative         0.2716      0.091      2.969      0.003       0.092       0.451\n",
       "MaritalStatus_Married                0.1953      0.152      1.288      0.198      -0.102       0.493\n",
       "MaritalStatus_Single                 0.4948      0.183      2.698      0.007       0.135       0.854\n",
       "OverTime_Yes                         0.8920      0.100      8.910      0.000       0.696       1.088\n",
       "const                               -2.7582      0.161    -17.181      0.000      -3.073      -2.444\n",
       "====================================================================================================\n",
       "\"\"\""
      ]
     },
     "execution_count": 70,
     "metadata": {},
     "output_type": "execute_result"
    }
   ],
   "source": [
    "m2_sm_model.summary()"
   ]
  },
  {
   "cell_type": "code",
   "execution_count": 71,
   "metadata": {
    "scrolled": true
   },
   "outputs": [
    {
     "name": "stdout",
     "output_type": "stream",
     "text": [
      "Model Accuracy Score: 89.62585034013605%\n"
     ]
    }
   ],
   "source": [
    "m2_sk_model = sklearn_logit(train_features, train_target)"
   ]
  },
  {
   "cell_type": "code",
   "execution_count": 72,
   "metadata": {
    "scrolled": true
   },
   "outputs": [
    {
     "data": {
      "image/png": "[encoded data removed]",
      "text/plain": [
       "<Figure size 432x288 with 2 Axes>"
      ]
     },
     "metadata": {},
     "output_type": "display_data"
    }
   ],
   "source": [
    "sklearn_predict(m2_sk_model, train_features, train_target, title='Method 2: Confusion Matrix of Training Data')"
   ]
  },
  {
   "cell_type": "markdown",
   "metadata": {},
   "source": [
    "### 5.3.2. Testing the Model"
   ]
  },
  {
   "cell_type": "code",
   "execution_count": 73,
   "metadata": {},
   "outputs": [],
   "source": [
    "test_features, test_target = get_features_and_target(scaled_test_df, 'Attrition_Yes')"
   ]
  },
  {
   "cell_type": "code",
   "execution_count": 74,
   "metadata": {
    "scrolled": false
   },
   "outputs": [
    {
     "data": {
      "image/png": "[encoded data removed]",
      "text/plain": [
       "<Figure size 432x288 with 2 Axes>"
      ]
     },
     "metadata": {},
     "output_type": "display_data"
    }
   ],
   "source": [
    "sklearn_predict(m2_sk_model, test_features, test_target, title='Method 2: Confusion Matrix of Test Data')"
   ]
  },
  {
   "cell_type": "markdown",
   "metadata": {},
   "source": [
    "### 5.3.2. Conclusion"
   ]
  },
  {
   "cell_type": "markdown",
   "metadata": {},
   "source": [
    "The model has an accuracy score of <b>89.62%</b>. It's an increase of 0.33% from the previous model. However, the pseudo R-squared is still <b>0.3448</b> and there are still a lot of variables whose p-values are greater than 0.05 ."
   ]
  },
  {
   "cell_type": "markdown",
   "metadata": {},
   "source": [
    "# 6. Logistic Regression of Selected Features"
   ]
  },
  {
   "cell_type": "markdown",
   "metadata": {},
   "source": [
    "## 6.1. Recursive Feature Elimination with Cross Validation (RFECV)\n",
    "Recursive Feature Elimination (RFE) repeatedly fits a model and chooses the best features based on their coefficients. RFE with Cross Validation (RFECV) cross-validates the number of features selected."
   ]
  },
  {
   "cell_type": "markdown",
   "metadata": {},
   "source": [
    "Create a LogisticRegression object."
   ]
  },
  {
   "cell_type": "code",
   "execution_count": 75,
   "metadata": {},
   "outputs": [],
   "source": [
    "log_reg = LogisticRegression()"
   ]
  },
  {
   "cell_type": "markdown",
   "metadata": {},
   "source": [
    "In the RFECV instance, the ```estimator```is the LogisticRegression object. ```StratifiedKFold()``` returns approximately the same percentage samples of the targets. ```scoring='accuracy'``` uses ```sklearn.metrics.accuracy_score``` to compute multilable classification accuracy."
   ]
  },
  {
   "cell_type": "code",
   "execution_count": 76,
   "metadata": {},
   "outputs": [],
   "source": [
    "rfecv = RFECV(estimator=log_reg, cv=StratifiedKFold(), scoring='accuracy')"
   ]
  },
  {
   "cell_type": "markdown",
   "metadata": {},
   "source": [
    "Fit the ```rfecv``` on the training features (except ```const```) and on the training target."
   ]
  },
  {
   "cell_type": "code",
   "execution_count": 77,
   "metadata": {
    "scrolled": true
   },
   "outputs": [
    {
     "data": {
      "text/plain": [
       "RFECV(cv=StratifiedKFold(n_splits=5, random_state=None, shuffle=False),\n",
       "      estimator=LogisticRegression(C=1.0, class_weight=None, dual=False,\n",
       "                                   fit_intercept=True, intercept_scaling=1,\n",
       "                                   l1_ratio=None, max_iter=100,\n",
       "                                   multi_class='auto', n_jobs=None,\n",
       "                                   penalty='l2', random_state=None,\n",
       "                                   solver='lbfgs', tol=0.0001, verbose=0,\n",
       "                                   warm_start=False),\n",
       "      min_features_to_select=1, n_jobs=None, scoring='accuracy', step=1,\n",
       "      verbose=0)"
      ]
     },
     "execution_count": 77,
     "metadata": {},
     "output_type": "execute_result"
    }
   ],
   "source": [
    "rfecv.fit(scaled_train_df.drop(['Attrition_Yes', 'const'], axis=1), scaled_train_df['Attrition_Yes'])"
   ]
  },
  {
   "cell_type": "markdown",
   "metadata": {},
   "source": [
    "Plot the "
   ]
  },
  {
   "cell_type": "code",
   "execution_count": 78,
   "metadata": {
    "scrolled": true
   },
   "outputs": [
    {
     "data": {
      "image/png": "[encoded data removed]",
      "text/plain": [
       "<Figure size 720x720 with 1 Axes>"
      ]
     },
     "metadata": {},
     "output_type": "display_data"
    }
   ],
   "source": [
    "plt.figure(figsize=(10, 10))\n",
    "plt.xlabel(\"Number of features selected\")\n",
    "plt.ylabel(\"Cross validation score (Correct Classifications)\")\n",
    "plt.xticks(np.arange(0,50,1));\n",
    "plt.plot(range(1, len(rfecv.grid_scores_) + 1), rfecv.grid_scores_);"
   ]
  },
  {
   "cell_type": "markdown",
   "metadata": {},
   "source": [
    "Based on this plot, the most ideal number of features is <b>31</b>.  \n",
    "\n",
    "Get the indices selected by the RFECV, then extract them from the ```scaled_train_df``` and ```scaled_test_df```."
   ]
  },
  {
   "cell_type": "code",
   "execution_count": 79,
   "metadata": {
    "scrolled": true
   },
   "outputs": [
    {
     "data": {
      "text/plain": [
       "array([ 0,  1,  2,  4,  6,  7,  8,  9, 10, 12, 13, 14, 15, 16, 17, 18, 19,\n",
       "       20, 21, 22, 24, 25, 26, 27, 28, 29, 30, 32, 33, 34, 35],\n",
       "      dtype=int32)"
      ]
     },
     "execution_count": 79,
     "metadata": {},
     "output_type": "execute_result"
    }
   ],
   "source": [
    "rfecv.get_support(indices=True)"
   ]
  },
  {
   "cell_type": "code",
   "execution_count": 80,
   "metadata": {
    "scrolled": true
   },
   "outputs": [],
   "source": [
    "rfecv_idx = rfecv.get_support(indices=True).tolist()"
   ]
  },
  {
   "cell_type": "markdown",
   "metadata": {},
   "source": [
    "Reattach the target ```Attrition_Yes``` and the ```const``` column to the datasets.m"
   ]
  },
  {
   "cell_type": "code",
   "execution_count": 81,
   "metadata": {},
   "outputs": [
    {
     "name": "stdout",
     "output_type": "stream",
     "text": [
      "33\n"
     ]
    }
   ],
   "source": [
    "cols_to_retain = scaled_train_df.iloc[:, rfecv_idx].columns.tolist()\n",
    "cols_to_retain.append('Attrition_Yes')\n",
    "cols_to_retain.append('const')\n",
    "print(len(cols_to_retain))"
   ]
  },
  {
   "cell_type": "code",
   "execution_count": 82,
   "metadata": {},
   "outputs": [],
   "source": [
    "scaled_train_df = scaled_train_df[cols_to_retain]"
   ]
  },
  {
   "cell_type": "code",
   "execution_count": 83,
   "metadata": {},
   "outputs": [],
   "source": [
    "scaled_test_df = scaled_test_df[cols_to_retain]"
   ]
  },
  {
   "cell_type": "markdown",
   "metadata": {},
   "source": [
    "## 6.2. Logistic Regression on the RFECV-Selected Features"
   ]
  },
  {
   "cell_type": "markdown",
   "metadata": {},
   "source": [
    "### 6.2.1. Train the Model"
   ]
  },
  {
   "cell_type": "code",
   "execution_count": 84,
   "metadata": {},
   "outputs": [],
   "source": [
    "train_features, train_target = get_features_and_target(scaled_train_df, 'Attrition_Yes')"
   ]
  },
  {
   "cell_type": "code",
   "execution_count": 85,
   "metadata": {
    "scrolled": true
   },
   "outputs": [
    {
     "name": "stdout",
     "output_type": "stream",
     "text": [
      "Optimization terminated successfully.\n",
      "         Current function value: 0.284805\n",
      "         Iterations 8\n"
     ]
    }
   ],
   "source": [
    "m3_sm_model = statsmodel_logit(train_features, train_target)"
   ]
  },
  {
   "cell_type": "code",
   "execution_count": 86,
   "metadata": {},
   "outputs": [
    {
     "data": {
      "text/html": [
       "<table class=\"simpletable\">\n",
       "<caption>Logit Regression Results</caption>\n",
       "<tr>\n",
       "  <th>Dep. Variable:</th>     <td>Attrition_Yes</td>  <th>  No. Observations:  </th>  <td>  1176</td>  \n",
       "</tr>\n",
       "<tr>\n",
       "  <th>Model:</th>                 <td>Logit</td>      <th>  Df Residuals:      </th>  <td>  1144</td>  \n",
       "</tr>\n",
       "<tr>\n",
       "  <th>Method:</th>                 <td>MLE</td>       <th>  Df Model:          </th>  <td>    31</td>  \n",
       "</tr>\n",
       "<tr>\n",
       "  <th>Date:</th>            <td>Tue, 21 Apr 2020</td> <th>  Pseudo R-squ.:     </th>  <td>0.3434</td>  \n",
       "</tr>\n",
       "<tr>\n",
       "  <th>Time:</th>                <td>00:09:07</td>     <th>  Log-Likelihood:    </th> <td> -334.93</td> \n",
       "</tr>\n",
       "<tr>\n",
       "  <th>converged:</th>             <td>True</td>       <th>  LL-Null:           </th> <td> -510.10</td> \n",
       "</tr>\n",
       "<tr>\n",
       "  <th>Covariance Type:</th>     <td>nonrobust</td>    <th>  LLR p-value:       </th> <td>9.291e-56</td>\n",
       "</tr>\n",
       "</table>\n",
       "<table class=\"simpletable\">\n",
       "<tr>\n",
       "                  <td></td>                    <th>coef</th>     <th>std err</th>      <th>z</th>      <th>P>|z|</th>  <th>[0.025</th>    <th>0.975]</th>  \n",
       "</tr>\n",
       "<tr>\n",
       "  <th>Age</th>                              <td>   -0.2975</td> <td>    0.137</td> <td>   -2.174</td> <td> 0.030</td> <td>   -0.566</td> <td>   -0.029</td>\n",
       "</tr>\n",
       "<tr>\n",
       "  <th>DailyRate</th>                        <td>   -0.1410</td> <td>    0.101</td> <td>   -1.400</td> <td> 0.162</td> <td>   -0.338</td> <td>    0.056</td>\n",
       "</tr>\n",
       "<tr>\n",
       "  <th>DistanceFromHome</th>                 <td>    0.4199</td> <td>    0.098</td> <td>    4.283</td> <td> 0.000</td> <td>    0.228</td> <td>    0.612</td>\n",
       "</tr>\n",
       "<tr>\n",
       "  <th>EnvironmentSatisfaction</th>          <td>   -0.5156</td> <td>    0.102</td> <td>   -5.048</td> <td> 0.000</td> <td>   -0.716</td> <td>   -0.315</td>\n",
       "</tr>\n",
       "<tr>\n",
       "  <th>JobInvolvement</th>                   <td>   -0.3673</td> <td>    0.098</td> <td>   -3.729</td> <td> 0.000</td> <td>   -0.560</td> <td>   -0.174</td>\n",
       "</tr>\n",
       "<tr>\n",
       "  <th>JobSatisfaction</th>                  <td>   -0.3806</td> <td>    0.102</td> <td>   -3.713</td> <td> 0.000</td> <td>   -0.581</td> <td>   -0.180</td>\n",
       "</tr>\n",
       "<tr>\n",
       "  <th>MonthlyRate</th>                      <td>    0.0909</td> <td>    0.101</td> <td>    0.904</td> <td> 0.366</td> <td>   -0.106</td> <td>    0.288</td>\n",
       "</tr>\n",
       "<tr>\n",
       "  <th>NumCompaniesWorked</th>               <td>    0.5521</td> <td>    0.106</td> <td>    5.227</td> <td> 0.000</td> <td>    0.345</td> <td>    0.759</td>\n",
       "</tr>\n",
       "<tr>\n",
       "  <th>PercentSalaryHike</th>                <td>   -0.0569</td> <td>    0.103</td> <td>   -0.553</td> <td> 0.580</td> <td>   -0.258</td> <td>    0.144</td>\n",
       "</tr>\n",
       "<tr>\n",
       "  <th>RelationshipSatisfaction</th>         <td>   -0.2383</td> <td>    0.101</td> <td>   -2.356</td> <td> 0.018</td> <td>   -0.436</td> <td>   -0.040</td>\n",
       "</tr>\n",
       "<tr>\n",
       "  <th>StockOptionLevel</th>                 <td>   -0.2596</td> <td>    0.152</td> <td>   -1.710</td> <td> 0.087</td> <td>   -0.557</td> <td>    0.038</td>\n",
       "</tr>\n",
       "<tr>\n",
       "  <th>TotalWorkingYears</th>                <td>   -0.5119</td> <td>    0.228</td> <td>   -2.242</td> <td> 0.025</td> <td>   -0.959</td> <td>   -0.064</td>\n",
       "</tr>\n",
       "<tr>\n",
       "  <th>TrainingTimesLastYear</th>            <td>   -0.3240</td> <td>    0.107</td> <td>   -3.042</td> <td> 0.002</td> <td>   -0.533</td> <td>   -0.115</td>\n",
       "</tr>\n",
       "<tr>\n",
       "  <th>WorkLifeBalance</th>                  <td>   -0.2858</td> <td>    0.100</td> <td>   -2.864</td> <td> 0.004</td> <td>   -0.481</td> <td>   -0.090</td>\n",
       "</tr>\n",
       "<tr>\n",
       "  <th>YearsAtCompany</th>                   <td>    0.6353</td> <td>    0.262</td> <td>    2.424</td> <td> 0.015</td> <td>    0.122</td> <td>    1.149</td>\n",
       "</tr>\n",
       "<tr>\n",
       "  <th>YearsInCurrentRole</th>               <td>   -0.5461</td> <td>    0.187</td> <td>   -2.916</td> <td> 0.004</td> <td>   -0.913</td> <td>   -0.179</td>\n",
       "</tr>\n",
       "<tr>\n",
       "  <th>YearsSinceLastPromotion</th>          <td>    0.5185</td> <td>    0.155</td> <td>    3.342</td> <td> 0.001</td> <td>    0.214</td> <td>    0.823</td>\n",
       "</tr>\n",
       "<tr>\n",
       "  <th>YearsWithCurrManager</th>             <td>   -0.5086</td> <td>    0.183</td> <td>   -2.776</td> <td> 0.006</td> <td>   -0.868</td> <td>   -0.149</td>\n",
       "</tr>\n",
       "<tr>\n",
       "  <th>BusinessTravel_Travel_Frequently</th> <td>    0.6959</td> <td>    0.185</td> <td>    3.767</td> <td> 0.000</td> <td>    0.334</td> <td>    1.058</td>\n",
       "</tr>\n",
       "<tr>\n",
       "  <th>BusinessTravel_Travel_Rarely</th>     <td>    0.4929</td> <td>    0.197</td> <td>    2.503</td> <td> 0.012</td> <td>    0.107</td> <td>    0.879</td>\n",
       "</tr>\n",
       "<tr>\n",
       "  <th>EducationField_Technical Degree</th>  <td>    0.2644</td> <td>    0.090</td> <td>    2.941</td> <td> 0.003</td> <td>    0.088</td> <td>    0.441</td>\n",
       "</tr>\n",
       "<tr>\n",
       "  <th>Gender_Male</th>                      <td>    0.1929</td> <td>    0.103</td> <td>    1.881</td> <td> 0.060</td> <td>   -0.008</td> <td>    0.394</td>\n",
       "</tr>\n",
       "<tr>\n",
       "  <th>JobRole_Human Resources</th>          <td>    0.1635</td> <td>    0.087</td> <td>    1.869</td> <td> 0.062</td> <td>   -0.008</td> <td>    0.335</td>\n",
       "</tr>\n",
       "<tr>\n",
       "  <th>JobRole_Laboratory Technician</th>    <td>    0.2414</td> <td>    0.096</td> <td>    2.519</td> <td> 0.012</td> <td>    0.054</td> <td>    0.429</td>\n",
       "</tr>\n",
       "<tr>\n",
       "  <th>JobRole_Manager</th>                  <td>   -0.1864</td> <td>    0.167</td> <td>   -1.117</td> <td> 0.264</td> <td>   -0.513</td> <td>    0.141</td>\n",
       "</tr>\n",
       "<tr>\n",
       "  <th>JobRole_Manufacturing Director</th>   <td>   -0.2926</td> <td>    0.147</td> <td>   -1.993</td> <td> 0.046</td> <td>   -0.580</td> <td>   -0.005</td>\n",
       "</tr>\n",
       "<tr>\n",
       "  <th>JobRole_Research Director</th>        <td>   -0.3126</td> <td>    0.191</td> <td>   -1.639</td> <td> 0.101</td> <td>   -0.686</td> <td>    0.061</td>\n",
       "</tr>\n",
       "<tr>\n",
       "  <th>JobRole_Sales Representative</th>     <td>    0.2761</td> <td>    0.085</td> <td>    3.260</td> <td> 0.001</td> <td>    0.110</td> <td>    0.442</td>\n",
       "</tr>\n",
       "<tr>\n",
       "  <th>MaritalStatus_Married</th>            <td>    0.2026</td> <td>    0.151</td> <td>    1.339</td> <td> 0.181</td> <td>   -0.094</td> <td>    0.499</td>\n",
       "</tr>\n",
       "<tr>\n",
       "  <th>MaritalStatus_Single</th>             <td>    0.4929</td> <td>    0.183</td> <td>    2.699</td> <td> 0.007</td> <td>    0.135</td> <td>    0.851</td>\n",
       "</tr>\n",
       "<tr>\n",
       "  <th>OverTime_Yes</th>                     <td>    0.8904</td> <td>    0.099</td> <td>    9.009</td> <td> 0.000</td> <td>    0.697</td> <td>    1.084</td>\n",
       "</tr>\n",
       "<tr>\n",
       "  <th>const</th>                            <td>   -2.7485</td> <td>    0.160</td> <td>  -17.222</td> <td> 0.000</td> <td>   -3.061</td> <td>   -2.436</td>\n",
       "</tr>\n",
       "</table>"
      ],
      "text/plain": [
       "<class 'statsmodels.iolib.summary.Summary'>\n",
       "\"\"\"\n",
       "                           Logit Regression Results                           \n",
       "==============================================================================\n",
       "Dep. Variable:          Attrition_Yes   No. Observations:                 1176\n",
       "Model:                          Logit   Df Residuals:                     1144\n",
       "Method:                           MLE   Df Model:                           31\n",
       "Date:                Tue, 21 Apr 2020   Pseudo R-squ.:                  0.3434\n",
       "Time:                        00:09:07   Log-Likelihood:                -334.93\n",
       "converged:                       True   LL-Null:                       -510.10\n",
       "Covariance Type:            nonrobust   LLR p-value:                 9.291e-56\n",
       "====================================================================================================\n",
       "                                       coef    std err          z      P>|z|      [0.025      0.975]\n",
       "----------------------------------------------------------------------------------------------------\n",
       "Age                                 -0.2975      0.137     -2.174      0.030      -0.566      -0.029\n",
       "DailyRate                           -0.1410      0.101     -1.400      0.162      -0.338       0.056\n",
       "DistanceFromHome                     0.4199      0.098      4.283      0.000       0.228       0.612\n",
       "EnvironmentSatisfaction             -0.5156      0.102     -5.048      0.000      -0.716      -0.315\n",
       "JobInvolvement                      -0.3673      0.098     -3.729      0.000      -0.560      -0.174\n",
       "JobSatisfaction                     -0.3806      0.102     -3.713      0.000      -0.581      -0.180\n",
       "MonthlyRate                          0.0909      0.101      0.904      0.366      -0.106       0.288\n",
       "NumCompaniesWorked                   0.5521      0.106      5.227      0.000       0.345       0.759\n",
       "PercentSalaryHike                   -0.0569      0.103     -0.553      0.580      -0.258       0.144\n",
       "RelationshipSatisfaction            -0.2383      0.101     -2.356      0.018      -0.436      -0.040\n",
       "StockOptionLevel                    -0.2596      0.152     -1.710      0.087      -0.557       0.038\n",
       "TotalWorkingYears                   -0.5119      0.228     -2.242      0.025      -0.959      -0.064\n",
       "TrainingTimesLastYear               -0.3240      0.107     -3.042      0.002      -0.533      -0.115\n",
       "WorkLifeBalance                     -0.2858      0.100     -2.864      0.004      -0.481      -0.090\n",
       "YearsAtCompany                       0.6353      0.262      2.424      0.015       0.122       1.149\n",
       "YearsInCurrentRole                  -0.5461      0.187     -2.916      0.004      -0.913      -0.179\n",
       "YearsSinceLastPromotion              0.5185      0.155      3.342      0.001       0.214       0.823\n",
       "YearsWithCurrManager                -0.5086      0.183     -2.776      0.006      -0.868      -0.149\n",
       "BusinessTravel_Travel_Frequently     0.6959      0.185      3.767      0.000       0.334       1.058\n",
       "BusinessTravel_Travel_Rarely         0.4929      0.197      2.503      0.012       0.107       0.879\n",
       "EducationField_Technical Degree      0.2644      0.090      2.941      0.003       0.088       0.441\n",
       "Gender_Male                          0.1929      0.103      1.881      0.060      -0.008       0.394\n",
       "JobRole_Human Resources              0.1635      0.087      1.869      0.062      -0.008       0.335\n",
       "JobRole_Laboratory Technician        0.2414      0.096      2.519      0.012       0.054       0.429\n",
       "JobRole_Manager                     -0.1864      0.167     -1.117      0.264      -0.513       0.141\n",
       "JobRole_Manufacturing Director      -0.2926      0.147     -1.993      0.046      -0.580      -0.005\n",
       "JobRole_Research Director           -0.3126      0.191     -1.639      0.101      -0.686       0.061\n",
       "JobRole_Sales Representative         0.2761      0.085      3.260      0.001       0.110       0.442\n",
       "MaritalStatus_Married                0.2026      0.151      1.339      0.181      -0.094       0.499\n",
       "MaritalStatus_Single                 0.4929      0.183      2.699      0.007       0.135       0.851\n",
       "OverTime_Yes                         0.8904      0.099      9.009      0.000       0.697       1.084\n",
       "const                               -2.7485      0.160    -17.222      0.000      -3.061      -2.436\n",
       "====================================================================================================\n",
       "\"\"\""
      ]
     },
     "execution_count": 86,
     "metadata": {},
     "output_type": "execute_result"
    }
   ],
   "source": [
    "m3_sm_model.summary()"
   ]
  },
  {
   "cell_type": "code",
   "execution_count": 87,
   "metadata": {
    "scrolled": false
   },
   "outputs": [
    {
     "name": "stdout",
     "output_type": "stream",
     "text": [
      "Model Accuracy Score: 89.54081632653062%\n"
     ]
    }
   ],
   "source": [
    "m3_sk_model = sklearn_logit(train_features, train_target)"
   ]
  },
  {
   "cell_type": "code",
   "execution_count": 88,
   "metadata": {},
   "outputs": [
    {
     "data": {
      "image/png": "[encoded data removed]",
      "text/plain": [
       "<Figure size 432x288 with 2 Axes>"
      ]
     },
     "metadata": {},
     "output_type": "display_data"
    }
   ],
   "source": [
    "sklearn_predict(m3_sk_model, train_features, train_target, title='Method 3: Confusion Matrix of Training Data')"
   ]
  },
  {
   "cell_type": "markdown",
   "metadata": {},
   "source": [
    "### 6.2.2. Test the Model"
   ]
  },
  {
   "cell_type": "code",
   "execution_count": 89,
   "metadata": {},
   "outputs": [],
   "source": [
    "test_features, test_target = get_features_and_target(scaled_test_df, 'Attrition_Yes')"
   ]
  },
  {
   "cell_type": "code",
   "execution_count": 90,
   "metadata": {
    "scrolled": true
   },
   "outputs": [
    {
     "data": {
      "image/png": "[encoded data removed]",
      "text/plain": [
       "<Figure size 432x288 with 2 Axes>"
      ]
     },
     "metadata": {},
     "output_type": "display_data"
    }
   ],
   "source": [
    "sklearn_predict(m3_sk_model, test_features, test_target, title='Method 1: Confusion Matrix of Test Data')"
   ]
  },
  {
   "cell_type": "markdown",
   "metadata": {},
   "source": [
    "### 6.2.3. Conclusion\n",
    "There is a slight decrease from the previous results. This model has is <b>89.54% accurate</b> and the pseudo R-squared is <b>0.3434</b>.  \n",
    "\n",
    "However, nearly all variables are statistically significant, save for a few. These need to be dropped from the training and testing datasets."
   ]
  },
  {
   "cell_type": "markdown",
   "metadata": {},
   "source": [
    "## 6.3. Logistic Regression on Significant Features"
   ]
  },
  {
   "cell_type": "markdown",
   "metadata": {},
   "source": [
    "### 6.3.1. Dropping Features with P-values > 0.05\n",
    "From the last model's summary, there are still a few features left whose p-values are greater than 0.05, meaning they are statistically insignificant."
   ]
  },
  {
   "cell_type": "code",
   "execution_count": 91,
   "metadata": {},
   "outputs": [],
   "source": [
    "insignificant_cols = ['DailyRate', 'MonthlyRate', 'PercentSalaryHike', 'StockOptionLevel',\n",
    "                      'Gender_Male', 'JobRole_Human Resources', 'JobRole_Manager',\n",
    "                      'JobRole_Research Director', 'MaritalStatus_Married']"
   ]
  },
  {
   "cell_type": "markdown",
   "metadata": {},
   "source": [
    "Drop these columns from the scaled training and testing datasets."
   ]
  },
  {
   "cell_type": "code",
   "execution_count": 92,
   "metadata": {},
   "outputs": [],
   "source": [
    "scaled_train_df.drop(insignificant_cols, axis=1, inplace=True)"
   ]
  },
  {
   "cell_type": "code",
   "execution_count": 93,
   "metadata": {},
   "outputs": [],
   "source": [
    "scaled_test_df.drop(insignificant_cols, axis=1, inplace=True)"
   ]
  },
  {
   "cell_type": "markdown",
   "metadata": {},
   "source": [
    "### 6.3.2. Train the Model"
   ]
  },
  {
   "cell_type": "code",
   "execution_count": 94,
   "metadata": {},
   "outputs": [],
   "source": [
    "train_features, train_target = get_features_and_target(scaled_train_df, 'Attrition_Yes')"
   ]
  },
  {
   "cell_type": "code",
   "execution_count": 95,
   "metadata": {
    "scrolled": false
   },
   "outputs": [
    {
     "name": "stdout",
     "output_type": "stream",
     "text": [
      "Optimization terminated successfully.\n",
      "         Current function value: 0.293821\n",
      "         Iterations 8\n"
     ]
    }
   ],
   "source": [
    "m4_sm_model = statsmodel_logit(train_features, train_target)"
   ]
  },
  {
   "cell_type": "code",
   "execution_count": 96,
   "metadata": {},
   "outputs": [
    {
     "data": {
      "text/plain": [
       "0.32261357128047796"
      ]
     },
     "execution_count": 96,
     "metadata": {},
     "output_type": "execute_result"
    }
   ],
   "source": [
    "m4_sm_model.prsquared"
   ]
  },
  {
   "cell_type": "code",
   "execution_count": 97,
   "metadata": {},
   "outputs": [
    {
     "data": {
      "text/html": [
       "<table class=\"simpletable\">\n",
       "<caption>Logit Regression Results</caption>\n",
       "<tr>\n",
       "  <th>Dep. Variable:</th>     <td>Attrition_Yes</td>  <th>  No. Observations:  </th>  <td>  1176</td>  \n",
       "</tr>\n",
       "<tr>\n",
       "  <th>Model:</th>                 <td>Logit</td>      <th>  Df Residuals:      </th>  <td>  1153</td>  \n",
       "</tr>\n",
       "<tr>\n",
       "  <th>Method:</th>                 <td>MLE</td>       <th>  Df Model:          </th>  <td>    22</td>  \n",
       "</tr>\n",
       "<tr>\n",
       "  <th>Date:</th>            <td>Tue, 21 Apr 2020</td> <th>  Pseudo R-squ.:     </th>  <td>0.3226</td>  \n",
       "</tr>\n",
       "<tr>\n",
       "  <th>Time:</th>                <td>00:09:10</td>     <th>  Log-Likelihood:    </th> <td> -345.53</td> \n",
       "</tr>\n",
       "<tr>\n",
       "  <th>converged:</th>             <td>True</td>       <th>  LL-Null:           </th> <td> -510.10</td> \n",
       "</tr>\n",
       "<tr>\n",
       "  <th>Covariance Type:</th>     <td>nonrobust</td>    <th>  LLR p-value:       </th> <td>1.449e-56</td>\n",
       "</tr>\n",
       "</table>\n",
       "<table class=\"simpletable\">\n",
       "<tr>\n",
       "                  <td></td>                    <th>coef</th>     <th>std err</th>      <th>z</th>      <th>P>|z|</th>  <th>[0.025</th>    <th>0.975]</th>  \n",
       "</tr>\n",
       "<tr>\n",
       "  <th>Age</th>                              <td>   -0.2960</td> <td>    0.136</td> <td>   -2.173</td> <td> 0.030</td> <td>   -0.563</td> <td>   -0.029</td>\n",
       "</tr>\n",
       "<tr>\n",
       "  <th>DistanceFromHome</th>                 <td>    0.4012</td> <td>    0.095</td> <td>    4.233</td> <td> 0.000</td> <td>    0.215</td> <td>    0.587</td>\n",
       "</tr>\n",
       "<tr>\n",
       "  <th>EnvironmentSatisfaction</th>          <td>   -0.5164</td> <td>    0.101</td> <td>   -5.132</td> <td> 0.000</td> <td>   -0.714</td> <td>   -0.319</td>\n",
       "</tr>\n",
       "<tr>\n",
       "  <th>JobInvolvement</th>                   <td>   -0.3778</td> <td>    0.096</td> <td>   -3.929</td> <td> 0.000</td> <td>   -0.566</td> <td>   -0.189</td>\n",
       "</tr>\n",
       "<tr>\n",
       "  <th>JobSatisfaction</th>                  <td>   -0.3786</td> <td>    0.100</td> <td>   -3.792</td> <td> 0.000</td> <td>   -0.574</td> <td>   -0.183</td>\n",
       "</tr>\n",
       "<tr>\n",
       "  <th>NumCompaniesWorked</th>               <td>    0.5261</td> <td>    0.103</td> <td>    5.128</td> <td> 0.000</td> <td>    0.325</td> <td>    0.727</td>\n",
       "</tr>\n",
       "<tr>\n",
       "  <th>RelationshipSatisfaction</th>         <td>   -0.2126</td> <td>    0.098</td> <td>   -2.163</td> <td> 0.031</td> <td>   -0.405</td> <td>   -0.020</td>\n",
       "</tr>\n",
       "<tr>\n",
       "  <th>TotalWorkingYears</th>                <td>   -0.6428</td> <td>    0.210</td> <td>   -3.065</td> <td> 0.002</td> <td>   -1.054</td> <td>   -0.232</td>\n",
       "</tr>\n",
       "<tr>\n",
       "  <th>TrainingTimesLastYear</th>            <td>   -0.3526</td> <td>    0.105</td> <td>   -3.355</td> <td> 0.001</td> <td>   -0.559</td> <td>   -0.147</td>\n",
       "</tr>\n",
       "<tr>\n",
       "  <th>WorkLifeBalance</th>                  <td>   -0.2740</td> <td>    0.097</td> <td>   -2.821</td> <td> 0.005</td> <td>   -0.464</td> <td>   -0.084</td>\n",
       "</tr>\n",
       "<tr>\n",
       "  <th>YearsAtCompany</th>                   <td>    0.6010</td> <td>    0.256</td> <td>    2.346</td> <td> 0.019</td> <td>    0.099</td> <td>    1.103</td>\n",
       "</tr>\n",
       "<tr>\n",
       "  <th>YearsInCurrentRole</th>               <td>   -0.4914</td> <td>    0.184</td> <td>   -2.676</td> <td> 0.007</td> <td>   -0.851</td> <td>   -0.132</td>\n",
       "</tr>\n",
       "<tr>\n",
       "  <th>YearsSinceLastPromotion</th>          <td>    0.5037</td> <td>    0.149</td> <td>    3.383</td> <td> 0.001</td> <td>    0.212</td> <td>    0.795</td>\n",
       "</tr>\n",
       "<tr>\n",
       "  <th>YearsWithCurrManager</th>             <td>   -0.5145</td> <td>    0.183</td> <td>   -2.807</td> <td> 0.005</td> <td>   -0.874</td> <td>   -0.155</td>\n",
       "</tr>\n",
       "<tr>\n",
       "  <th>BusinessTravel_Travel_Frequently</th> <td>    0.7196</td> <td>    0.180</td> <td>    4.005</td> <td> 0.000</td> <td>    0.367</td> <td>    1.072</td>\n",
       "</tr>\n",
       "<tr>\n",
       "  <th>BusinessTravel_Travel_Rarely</th>     <td>    0.5055</td> <td>    0.192</td> <td>    2.627</td> <td> 0.009</td> <td>    0.128</td> <td>    0.883</td>\n",
       "</tr>\n",
       "<tr>\n",
       "  <th>EducationField_Technical Degree</th>  <td>    0.2639</td> <td>    0.089</td> <td>    2.978</td> <td> 0.003</td> <td>    0.090</td> <td>    0.438</td>\n",
       "</tr>\n",
       "<tr>\n",
       "  <th>JobRole_Laboratory Technician</th>    <td>    0.2204</td> <td>    0.093</td> <td>    2.373</td> <td> 0.018</td> <td>    0.038</td> <td>    0.402</td>\n",
       "</tr>\n",
       "<tr>\n",
       "  <th>JobRole_Manufacturing Director</th>   <td>   -0.2760</td> <td>    0.141</td> <td>   -1.952</td> <td> 0.051</td> <td>   -0.553</td> <td>    0.001</td>\n",
       "</tr>\n",
       "<tr>\n",
       "  <th>JobRole_Sales Representative</th>     <td>    0.2448</td> <td>    0.083</td> <td>    2.962</td> <td> 0.003</td> <td>    0.083</td> <td>    0.407</td>\n",
       "</tr>\n",
       "<tr>\n",
       "  <th>MaritalStatus_Single</th>             <td>    0.5097</td> <td>    0.096</td> <td>    5.313</td> <td> 0.000</td> <td>    0.322</td> <td>    0.698</td>\n",
       "</tr>\n",
       "<tr>\n",
       "  <th>OverTime_Yes</th>                     <td>    0.8408</td> <td>    0.095</td> <td>    8.808</td> <td> 0.000</td> <td>    0.654</td> <td>    1.028</td>\n",
       "</tr>\n",
       "<tr>\n",
       "  <th>const</th>                            <td>   -2.6231</td> <td>    0.147</td> <td>  -17.813</td> <td> 0.000</td> <td>   -2.912</td> <td>   -2.334</td>\n",
       "</tr>\n",
       "</table>"
      ],
      "text/plain": [
       "<class 'statsmodels.iolib.summary.Summary'>\n",
       "\"\"\"\n",
       "                           Logit Regression Results                           \n",
       "==============================================================================\n",
       "Dep. Variable:          Attrition_Yes   No. Observations:                 1176\n",
       "Model:                          Logit   Df Residuals:                     1153\n",
       "Method:                           MLE   Df Model:                           22\n",
       "Date:                Tue, 21 Apr 2020   Pseudo R-squ.:                  0.3226\n",
       "Time:                        00:09:10   Log-Likelihood:                -345.53\n",
       "converged:                       True   LL-Null:                       -510.10\n",
       "Covariance Type:            nonrobust   LLR p-value:                 1.449e-56\n",
       "====================================================================================================\n",
       "                                       coef    std err          z      P>|z|      [0.025      0.975]\n",
       "----------------------------------------------------------------------------------------------------\n",
       "Age                                 -0.2960      0.136     -2.173      0.030      -0.563      -0.029\n",
       "DistanceFromHome                     0.4012      0.095      4.233      0.000       0.215       0.587\n",
       "EnvironmentSatisfaction             -0.5164      0.101     -5.132      0.000      -0.714      -0.319\n",
       "JobInvolvement                      -0.3778      0.096     -3.929      0.000      -0.566      -0.189\n",
       "JobSatisfaction                     -0.3786      0.100     -3.792      0.000      -0.574      -0.183\n",
       "NumCompaniesWorked                   0.5261      0.103      5.128      0.000       0.325       0.727\n",
       "RelationshipSatisfaction            -0.2126      0.098     -2.163      0.031      -0.405      -0.020\n",
       "TotalWorkingYears                   -0.6428      0.210     -3.065      0.002      -1.054      -0.232\n",
       "TrainingTimesLastYear               -0.3526      0.105     -3.355      0.001      -0.559      -0.147\n",
       "WorkLifeBalance                     -0.2740      0.097     -2.821      0.005      -0.464      -0.084\n",
       "YearsAtCompany                       0.6010      0.256      2.346      0.019       0.099       1.103\n",
       "YearsInCurrentRole                  -0.4914      0.184     -2.676      0.007      -0.851      -0.132\n",
       "YearsSinceLastPromotion              0.5037      0.149      3.383      0.001       0.212       0.795\n",
       "YearsWithCurrManager                -0.5145      0.183     -2.807      0.005      -0.874      -0.155\n",
       "BusinessTravel_Travel_Frequently     0.7196      0.180      4.005      0.000       0.367       1.072\n",
       "BusinessTravel_Travel_Rarely         0.5055      0.192      2.627      0.009       0.128       0.883\n",
       "EducationField_Technical Degree      0.2639      0.089      2.978      0.003       0.090       0.438\n",
       "JobRole_Laboratory Technician        0.2204      0.093      2.373      0.018       0.038       0.402\n",
       "JobRole_Manufacturing Director      -0.2760      0.141     -1.952      0.051      -0.553       0.001\n",
       "JobRole_Sales Representative         0.2448      0.083      2.962      0.003       0.083       0.407\n",
       "MaritalStatus_Single                 0.5097      0.096      5.313      0.000       0.322       0.698\n",
       "OverTime_Yes                         0.8408      0.095      8.808      0.000       0.654       1.028\n",
       "const                               -2.6231      0.147    -17.813      0.000      -2.912      -2.334\n",
       "====================================================================================================\n",
       "\"\"\""
      ]
     },
     "execution_count": 97,
     "metadata": {},
     "output_type": "execute_result"
    }
   ],
   "source": [
    "m4_sm_model.summary()"
   ]
  },
  {
   "cell_type": "code",
   "execution_count": 98,
   "metadata": {
    "scrolled": true
   },
   "outputs": [
    {
     "name": "stdout",
     "output_type": "stream",
     "text": [
      "Model Accuracy Score: 89.54081632653062%\n"
     ]
    }
   ],
   "source": [
    "m4_sk_model = sklearn_logit(train_features, train_target)"
   ]
  },
  {
   "cell_type": "code",
   "execution_count": 99,
   "metadata": {
    "scrolled": true
   },
   "outputs": [
    {
     "data": {
      "image/png": "[encoded data removed]",
      "text/plain": [
       "<Figure size 432x288 with 2 Axes>"
      ]
     },
     "metadata": {},
     "output_type": "display_data"
    }
   ],
   "source": [
    "sklearn_predict(m4_sk_model, train_features, train_target, title='Method 4: Confusion Matrix of Training Data')"
   ]
  },
  {
   "cell_type": "markdown",
   "metadata": {},
   "source": [
    "### 6.3.3. Testing the Model"
   ]
  },
  {
   "cell_type": "code",
   "execution_count": 100,
   "metadata": {},
   "outputs": [],
   "source": [
    "test_features, test_target = get_features_and_target(scaled_test_df, 'Attrition_Yes')"
   ]
  },
  {
   "cell_type": "code",
   "execution_count": 101,
   "metadata": {
    "scrolled": true
   },
   "outputs": [
    {
     "data": {
      "image/png": "[encoded data removed]",
      "text/plain": [
       "<Figure size 432x288 with 2 Axes>"
      ]
     },
     "metadata": {},
     "output_type": "display_data"
    }
   ],
   "source": [
    "sklearn_predict(m4_sk_model, test_features, test_target, title='Method 4: Confusion Matrix of Test Data')"
   ]
  },
  {
   "cell_type": "markdown",
   "metadata": {},
   "source": [
    "### 6.3.4. Conclusion\n",
    "This model has the same accuracy of <b>89.54%</b> like the previous one. However, the Pseudo R-squared decreased to <b>0.3226</b>."
   ]
  },
  {
   "cell_type": "markdown",
   "metadata": {},
   "source": [
    "# 7. Logistic Regression on Oversampled Data\n",
    "In the original dataset ```hr_df```, the count of rows with ```Attrition``` value of <i>No</i> greatly outnumbers those with <i>Yes</i>. Those with <i>No</i> values are then the minority class."
   ]
  },
  {
   "cell_type": "code",
   "execution_count": 102,
   "metadata": {
    "scrolled": true
   },
   "outputs": [
    {
     "data": {
      "image/png": "[encoded data removed]",
      "text/plain": [
       "<Figure size 432x288 with 1 Axes>"
      ]
     },
     "metadata": {},
     "output_type": "display_data"
    }
   ],
   "source": [
    "ax = hr_df['Attrition'].value_counts().plot(kind='bar');"
   ]
  },
  {
   "cell_type": "markdown",
   "metadata": {},
   "source": [
    "There is a great imbalance between the two values of the target variable. To solve this, I used SMOTE."
   ]
  },
  {
   "cell_type": "markdown",
   "metadata": {},
   "source": [
    "## 7.1. Synthetic Minority Oversampling Technique (SMOTE)\n",
    "SMOTE selects a random sample from the minority class and finds that sample's k-nearest neighbors. It then chooses a random neighbor then generates synthetic data based on the combined random sample and the random neighbor.  \n",
    "\n",
    "Fit ```SMOTE``` on the ```scaled_train_df```."
   ]
  },
  {
   "cell_type": "code",
   "execution_count": 103,
   "metadata": {
    "scrolled": true
   },
   "outputs": [],
   "source": [
    "smote = SMOTE(random_state=18)"
   ]
  },
  {
   "cell_type": "code",
   "execution_count": 104,
   "metadata": {},
   "outputs": [],
   "source": [
    "train_target = scaled_train_df['Attrition_Yes']\n",
    "train_scaled_features = scaled_train_df.drop(['Attrition_Yes'], axis=1)"
   ]
  },
  {
   "cell_type": "code",
   "execution_count": 105,
   "metadata": {},
   "outputs": [],
   "source": [
    "smote_train_feat, smote_train_target = smote.fit_sample(train_scaled_features, train_target)"
   ]
  },
  {
   "cell_type": "code",
   "execution_count": 106,
   "metadata": {
    "scrolled": true
   },
   "outputs": [
    {
     "data": {
      "text/plain": [
       "(1984, 23)"
      ]
     },
     "execution_count": 106,
     "metadata": {},
     "output_type": "execute_result"
    }
   ],
   "source": [
    "smote_train_feat.shape"
   ]
  },
  {
   "cell_type": "markdown",
   "metadata": {},
   "source": [
    "Both 1 and 0 values of ```Attrition_Yes``` now have the same number of rows/instances."
   ]
  },
  {
   "cell_type": "code",
   "execution_count": 107,
   "metadata": {
    "scrolled": true
   },
   "outputs": [
    {
     "data": {
      "text/plain": [
       "1.0    992\n",
       "0.0    992\n",
       "Name: Attrition_Yes, dtype: int64"
      ]
     },
     "execution_count": 107,
     "metadata": {},
     "output_type": "execute_result"
    }
   ],
   "source": [
    "smote_train_target.value_counts()"
   ]
  },
  {
   "cell_type": "markdown",
   "metadata": {},
   "source": [
    "## 7.2. Logistic Regression on the Balanced Model Created from SMOTE"
   ]
  },
  {
   "cell_type": "markdown",
   "metadata": {},
   "source": [
    "### 7.2.1 Train the Model"
   ]
  },
  {
   "cell_type": "code",
   "execution_count": 108,
   "metadata": {},
   "outputs": [],
   "source": [
    "train_features, train_target = get_features_and_target(smote_train_feat, smote_train_target)"
   ]
  },
  {
   "cell_type": "code",
   "execution_count": 109,
   "metadata": {
    "scrolled": true
   },
   "outputs": [
    {
     "name": "stdout",
     "output_type": "stream",
     "text": [
      "Optimization terminated successfully.\n",
      "         Current function value: 0.447414\n",
      "         Iterations 7\n"
     ]
    }
   ],
   "source": [
    "m5_sm_model = statsmodel_logit(train_features, train_target)"
   ]
  },
  {
   "cell_type": "code",
   "execution_count": 110,
   "metadata": {},
   "outputs": [
    {
     "data": {
      "text/html": [
       "<table class=\"simpletable\">\n",
       "<caption>Logit Regression Results</caption>\n",
       "<tr>\n",
       "  <th>Dep. Variable:</th>     <td>Attrition_Yes</td>  <th>  No. Observations:  </th>   <td>  1984</td>  \n",
       "</tr>\n",
       "<tr>\n",
       "  <th>Model:</th>                 <td>Logit</td>      <th>  Df Residuals:      </th>   <td>  1961</td>  \n",
       "</tr>\n",
       "<tr>\n",
       "  <th>Method:</th>                 <td>MLE</td>       <th>  Df Model:          </th>   <td>    22</td>  \n",
       "</tr>\n",
       "<tr>\n",
       "  <th>Date:</th>            <td>Tue, 21 Apr 2020</td> <th>  Pseudo R-squ.:     </th>   <td>0.3545</td>  \n",
       "</tr>\n",
       "<tr>\n",
       "  <th>Time:</th>                <td>00:09:13</td>     <th>  Log-Likelihood:    </th>  <td> -887.67</td> \n",
       "</tr>\n",
       "<tr>\n",
       "  <th>converged:</th>             <td>True</td>       <th>  LL-Null:           </th>  <td> -1375.2</td> \n",
       "</tr>\n",
       "<tr>\n",
       "  <th>Covariance Type:</th>     <td>nonrobust</td>    <th>  LLR p-value:       </th> <td>3.941e-192</td>\n",
       "</tr>\n",
       "</table>\n",
       "<table class=\"simpletable\">\n",
       "<tr>\n",
       "                  <td></td>                    <th>coef</th>     <th>std err</th>      <th>z</th>      <th>P>|z|</th>  <th>[0.025</th>    <th>0.975]</th>  \n",
       "</tr>\n",
       "<tr>\n",
       "  <th>Age</th>                              <td>   -0.1643</td> <td>    0.085</td> <td>   -1.924</td> <td> 0.054</td> <td>   -0.332</td> <td>    0.003</td>\n",
       "</tr>\n",
       "<tr>\n",
       "  <th>DistanceFromHome</th>                 <td>    0.4250</td> <td>    0.062</td> <td>    6.815</td> <td> 0.000</td> <td>    0.303</td> <td>    0.547</td>\n",
       "</tr>\n",
       "<tr>\n",
       "  <th>EnvironmentSatisfaction</th>          <td>   -0.5234</td> <td>    0.063</td> <td>   -8.364</td> <td> 0.000</td> <td>   -0.646</td> <td>   -0.401</td>\n",
       "</tr>\n",
       "<tr>\n",
       "  <th>JobInvolvement</th>                   <td>   -0.3436</td> <td>    0.063</td> <td>   -5.435</td> <td> 0.000</td> <td>   -0.468</td> <td>   -0.220</td>\n",
       "</tr>\n",
       "<tr>\n",
       "  <th>JobSatisfaction</th>                  <td>   -0.3701</td> <td>    0.064</td> <td>   -5.825</td> <td> 0.000</td> <td>   -0.495</td> <td>   -0.246</td>\n",
       "</tr>\n",
       "<tr>\n",
       "  <th>NumCompaniesWorked</th>               <td>    0.5161</td> <td>    0.069</td> <td>    7.518</td> <td> 0.000</td> <td>    0.382</td> <td>    0.651</td>\n",
       "</tr>\n",
       "<tr>\n",
       "  <th>RelationshipSatisfaction</th>         <td>   -0.1254</td> <td>    0.062</td> <td>   -2.035</td> <td> 0.042</td> <td>   -0.246</td> <td>   -0.005</td>\n",
       "</tr>\n",
       "<tr>\n",
       "  <th>TotalWorkingYears</th>                <td>   -0.7765</td> <td>    0.133</td> <td>   -5.821</td> <td> 0.000</td> <td>   -1.038</td> <td>   -0.515</td>\n",
       "</tr>\n",
       "<tr>\n",
       "  <th>TrainingTimesLastYear</th>            <td>   -0.4546</td> <td>    0.067</td> <td>   -6.760</td> <td> 0.000</td> <td>   -0.586</td> <td>   -0.323</td>\n",
       "</tr>\n",
       "<tr>\n",
       "  <th>WorkLifeBalance</th>                  <td>   -0.1919</td> <td>    0.062</td> <td>   -3.112</td> <td> 0.002</td> <td>   -0.313</td> <td>   -0.071</td>\n",
       "</tr>\n",
       "<tr>\n",
       "  <th>YearsAtCompany</th>                   <td>    0.6416</td> <td>    0.152</td> <td>    4.223</td> <td> 0.000</td> <td>    0.344</td> <td>    0.939</td>\n",
       "</tr>\n",
       "<tr>\n",
       "  <th>YearsInCurrentRole</th>               <td>   -0.4597</td> <td>    0.117</td> <td>   -3.915</td> <td> 0.000</td> <td>   -0.690</td> <td>   -0.230</td>\n",
       "</tr>\n",
       "<tr>\n",
       "  <th>YearsSinceLastPromotion</th>          <td>    0.4671</td> <td>    0.090</td> <td>    5.216</td> <td> 0.000</td> <td>    0.292</td> <td>    0.643</td>\n",
       "</tr>\n",
       "<tr>\n",
       "  <th>YearsWithCurrManager</th>             <td>   -0.4277</td> <td>    0.109</td> <td>   -3.939</td> <td> 0.000</td> <td>   -0.640</td> <td>   -0.215</td>\n",
       "</tr>\n",
       "<tr>\n",
       "  <th>BusinessTravel_Travel_Frequently</th> <td>    0.8406</td> <td>    0.120</td> <td>    6.999</td> <td> 0.000</td> <td>    0.605</td> <td>    1.076</td>\n",
       "</tr>\n",
       "<tr>\n",
       "  <th>BusinessTravel_Travel_Rarely</th>     <td>    0.7964</td> <td>    0.129</td> <td>    6.171</td> <td> 0.000</td> <td>    0.543</td> <td>    1.049</td>\n",
       "</tr>\n",
       "<tr>\n",
       "  <th>EducationField_Technical Degree</th>  <td>    0.1889</td> <td>    0.060</td> <td>    3.173</td> <td> 0.002</td> <td>    0.072</td> <td>    0.306</td>\n",
       "</tr>\n",
       "<tr>\n",
       "  <th>JobRole_Laboratory Technician</th>    <td>    0.1346</td> <td>    0.061</td> <td>    2.207</td> <td> 0.027</td> <td>    0.015</td> <td>    0.254</td>\n",
       "</tr>\n",
       "<tr>\n",
       "  <th>JobRole_Manufacturing Director</th>   <td>   -0.3799</td> <td>    0.088</td> <td>   -4.315</td> <td> 0.000</td> <td>   -0.552</td> <td>   -0.207</td>\n",
       "</tr>\n",
       "<tr>\n",
       "  <th>JobRole_Sales Representative</th>     <td>    0.2244</td> <td>    0.054</td> <td>    4.121</td> <td> 0.000</td> <td>    0.118</td> <td>    0.331</td>\n",
       "</tr>\n",
       "<tr>\n",
       "  <th>MaritalStatus_Single</th>             <td>    0.4867</td> <td>    0.061</td> <td>    7.969</td> <td> 0.000</td> <td>    0.367</td> <td>    0.606</td>\n",
       "</tr>\n",
       "<tr>\n",
       "  <th>OverTime_Yes</th>                     <td>    0.8315</td> <td>    0.060</td> <td>   13.922</td> <td> 0.000</td> <td>    0.714</td> <td>    0.949</td>\n",
       "</tr>\n",
       "<tr>\n",
       "  <th>const</th>                            <td>   -0.9714</td> <td>    0.076</td> <td>  -12.795</td> <td> 0.000</td> <td>   -1.120</td> <td>   -0.823</td>\n",
       "</tr>\n",
       "</table>"
      ],
      "text/plain": [
       "<class 'statsmodels.iolib.summary.Summary'>\n",
       "\"\"\"\n",
       "                           Logit Regression Results                           \n",
       "==============================================================================\n",
       "Dep. Variable:          Attrition_Yes   No. Observations:                 1984\n",
       "Model:                          Logit   Df Residuals:                     1961\n",
       "Method:                           MLE   Df Model:                           22\n",
       "Date:                Tue, 21 Apr 2020   Pseudo R-squ.:                  0.3545\n",
       "Time:                        00:09:13   Log-Likelihood:                -887.67\n",
       "converged:                       True   LL-Null:                       -1375.2\n",
       "Covariance Type:            nonrobust   LLR p-value:                3.941e-192\n",
       "====================================================================================================\n",
       "                                       coef    std err          z      P>|z|      [0.025      0.975]\n",
       "----------------------------------------------------------------------------------------------------\n",
       "Age                                 -0.1643      0.085     -1.924      0.054      -0.332       0.003\n",
       "DistanceFromHome                     0.4250      0.062      6.815      0.000       0.303       0.547\n",
       "EnvironmentSatisfaction             -0.5234      0.063     -8.364      0.000      -0.646      -0.401\n",
       "JobInvolvement                      -0.3436      0.063     -5.435      0.000      -0.468      -0.220\n",
       "JobSatisfaction                     -0.3701      0.064     -5.825      0.000      -0.495      -0.246\n",
       "NumCompaniesWorked                   0.5161      0.069      7.518      0.000       0.382       0.651\n",
       "RelationshipSatisfaction            -0.1254      0.062     -2.035      0.042      -0.246      -0.005\n",
       "TotalWorkingYears                   -0.7765      0.133     -5.821      0.000      -1.038      -0.515\n",
       "TrainingTimesLastYear               -0.4546      0.067     -6.760      0.000      -0.586      -0.323\n",
       "WorkLifeBalance                     -0.1919      0.062     -3.112      0.002      -0.313      -0.071\n",
       "YearsAtCompany                       0.6416      0.152      4.223      0.000       0.344       0.939\n",
       "YearsInCurrentRole                  -0.4597      0.117     -3.915      0.000      -0.690      -0.230\n",
       "YearsSinceLastPromotion              0.4671      0.090      5.216      0.000       0.292       0.643\n",
       "YearsWithCurrManager                -0.4277      0.109     -3.939      0.000      -0.640      -0.215\n",
       "BusinessTravel_Travel_Frequently     0.8406      0.120      6.999      0.000       0.605       1.076\n",
       "BusinessTravel_Travel_Rarely         0.7964      0.129      6.171      0.000       0.543       1.049\n",
       "EducationField_Technical Degree      0.1889      0.060      3.173      0.002       0.072       0.306\n",
       "JobRole_Laboratory Technician        0.1346      0.061      2.207      0.027       0.015       0.254\n",
       "JobRole_Manufacturing Director      -0.3799      0.088     -4.315      0.000      -0.552      -0.207\n",
       "JobRole_Sales Representative         0.2244      0.054      4.121      0.000       0.118       0.331\n",
       "MaritalStatus_Single                 0.4867      0.061      7.969      0.000       0.367       0.606\n",
       "OverTime_Yes                         0.8315      0.060     13.922      0.000       0.714       0.949\n",
       "const                               -0.9714      0.076    -12.795      0.000      -1.120      -0.823\n",
       "====================================================================================================\n",
       "\"\"\""
      ]
     },
     "execution_count": 110,
     "metadata": {},
     "output_type": "execute_result"
    }
   ],
   "source": [
    "m5_sm_model.summary()"
   ]
  },
  {
   "cell_type": "code",
   "execution_count": 111,
   "metadata": {
    "scrolled": true
   },
   "outputs": [
    {
     "name": "stdout",
     "output_type": "stream",
     "text": [
      "Model Accuracy Score: 79.83870967741935%\n"
     ]
    }
   ],
   "source": [
    "m5_sk_model = sklearn_logit(train_features, train_target)"
   ]
  },
  {
   "cell_type": "code",
   "execution_count": 112,
   "metadata": {
    "scrolled": true
   },
   "outputs": [
    {
     "data": {
      "image/png": "[encoded data removed]",
      "text/plain": [
       "<Figure size 432x288 with 2 Axes>"
      ]
     },
     "metadata": {},
     "output_type": "display_data"
    }
   ],
   "source": [
    "sklearn_predict(m5_sk_model, train_features, train_target, title='Method 5: Confusion Matrix of Training Data')"
   ]
  },
  {
   "cell_type": "markdown",
   "metadata": {},
   "source": [
    "### 7.2.2. Testing the Model"
   ]
  },
  {
   "cell_type": "code",
   "execution_count": 113,
   "metadata": {},
   "outputs": [],
   "source": [
    "test_features, test_target = get_features_and_target(scaled_test_df, 'Attrition_Yes')"
   ]
  },
  {
   "cell_type": "code",
   "execution_count": 114,
   "metadata": {
    "scrolled": false
   },
   "outputs": [
    {
     "data": {
      "image/png": "[encoded data removed]",
      "text/plain": [
       "<Figure size 432x288 with 2 Axes>"
      ]
     },
     "metadata": {},
     "output_type": "display_data"
    }
   ],
   "source": [
    "sklearn_predict(m5_sk_model, test_features, test_target, title='Method 5: Confusion Matrix of Test Data')"
   ]
  },
  {
   "cell_type": "markdown",
   "metadata": {},
   "source": [
    "### 7.2.3. Conclusion\n",
    "The accuracy model definitely decreased to <b>79.84%</b>. However, this model has increased its pseudo r-squared to <b>0.3545</b>."
   ]
  },
  {
   "cell_type": "markdown",
   "metadata": {},
   "source": [
    "# 8. Takeaways"
   ]
  },
  {
   "cell_type": "markdown",
   "metadata": {},
   "source": [
    "The last model which was trained on feature-selected and oversampled data is the one I'm going to use. While it is less accurate than its previous versions, it is still accurate at almost 80%. In addition, this model is <b>more relevant because of its higher pseudo r-squared</b>.\n",
    "\n",
    "While it might sound good to use the previous models (especially the one with 89.62% accuracy), there is a strong possibility that they are <b>overfitted</b>. Those models have barely undergone feature selection, and having too many features without regards to the sample size runs a risk of overfitting. If those models are used on unseen data, it will perform poorly.  \n",
    "\n",
    "For my next action, I will look at other ways to improve the last model or find another method of binary classification."
   ]
  },
  {
   "cell_type": "code",
   "execution_count": null,
   "metadata": {},
   "outputs": [],
   "source": []
  }
 ],
 "metadata": {
  "kernelspec": {
   "display_name": "Python 3",
   "language": "python",
   "name": "python3"
  },
  "language_info": {
   "codemirror_mode": {
    "name": "ipython",
    "version": 3
   },
   "file_extension": ".py",
   "mimetype": "text/x-python",
   "name": "python",
   "nbconvert_exporter": "python",
   "pygments_lexer": "ipython3",
   "version": "3.7.3"
  }
 },
 "nbformat": 4,
 "nbformat_minor": 2
}

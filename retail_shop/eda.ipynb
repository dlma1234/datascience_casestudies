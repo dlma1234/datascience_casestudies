{
 "cells": [
  {
   "cell_type": "markdown",
   "metadata": {},
   "source": [
    "# TODO: Constant dictionary for rename_prod_subcat\n",
    "# TODO: Create function for dropping rows & resetting index\n",
    "# TODO: Create distribution by birth year / age?"
   ]
  },
  {
   "cell_type": "markdown",
   "metadata": {},
   "source": [
    "# I. Introduction\n",
    "\n",
    "The goal of this study is to see the emerging markets in the Retail Shop Datasets through cluster analysis."
   ]
  },
  {
   "cell_type": "markdown",
   "metadata": {},
   "source": [
    "# II. Cleaning the Datasets\n",
    "There are 3 datasets for this study: customers, product categories and transactions. Some columns of the datasets were transformed to lowercase and renamed for easier understanding. Rows with null values were also dropped since they would give no value at all.\n",
    "\n",
    "At the end of this section, these three are merged into one dataset using SQL syntax enabled by the pandasql library."
   ]
  },
  {
   "cell_type": "code",
   "execution_count": 31,
   "metadata": {},
   "outputs": [],
   "source": [
    "import os\n",
    "from datetime import datetime\n",
    "import pandas as pd\n",
    "import numpy as np\n",
    "import matplotlib.pyplot as plt\n",
    "import seaborn as sns\n",
    "\n",
    "from IPython.display import Image\n",
    "from IPython.core.display import HTML \n",
    "\n",
    "sns.set(rc={'figure.figsize':(10,10)})\n",
    "\n",
    "%matplotlib inline"
   ]
  },
  {
   "cell_type": "code",
   "execution_count": 2,
   "metadata": {},
   "outputs": [],
   "source": [
    "# Load the csv datasets into pandas dataframes\n",
    "dataset_dir = os.path.join(os.getcwd(), 'dataset')"
   ]
  },
  {
   "cell_type": "markdown",
   "metadata": {},
   "source": [
    "## A. The Customers Dataset"
   ]
  },
  {
   "cell_type": "code",
   "execution_count": 3,
   "metadata": {},
   "outputs": [],
   "source": [
    "customer_csv = os.path.join(dataset_dir, 'Customer.csv')\n",
    "customer_df = pd.read_csv(customer_csv)"
   ]
  },
  {
   "cell_type": "code",
   "execution_count": 4,
   "metadata": {},
   "outputs": [],
   "source": [
    "customer_df_col_map = {\n",
    "    'customer_Id': 'customer_id',\n",
    "    'DOB': 'birth_year',\n",
    "    'Gender': 'gender'\n",
    "}\n",
    "customer_df.rename(columns=customer_df_col_map, inplace=True)"
   ]
  },
  {
   "cell_type": "code",
   "execution_count": 5,
   "metadata": {},
   "outputs": [
    {
     "data": {
      "text/plain": [
       "customer_id    0\n",
       "birth_year     0\n",
       "gender         2\n",
       "city_code      2\n",
       "dtype: int64"
      ]
     },
     "execution_count": 5,
     "metadata": {},
     "output_type": "execute_result"
    }
   ],
   "source": [
    "# Check for and drop the rows with null values\n",
    "customer_df.isna().sum()"
   ]
  },
  {
   "cell_type": "code",
   "execution_count": 6,
   "metadata": {},
   "outputs": [],
   "source": [
    "customer_df.dropna(inplace=True)\n",
    "customer_df.reset_index(drop=True, inplace=True)"
   ]
  },
  {
   "cell_type": "code",
   "execution_count": 7,
   "metadata": {},
   "outputs": [],
   "source": [
    "# Transform the former DOB column to Year only\n",
    "customer_df['birth_year'] = customer_df['birth_year'].apply(lambda x: datetime.strptime(x, '%d-%m-%Y').year)"
   ]
  },
  {
   "cell_type": "code",
   "execution_count": 8,
   "metadata": {
    "scrolled": true
   },
   "outputs": [
    {
     "data": {
      "text/html": [
       "<div>\n",
       "<style scoped>\n",
       "    .dataframe tbody tr th:only-of-type {\n",
       "        vertical-align: middle;\n",
       "    }\n",
       "\n",
       "    .dataframe tbody tr th {\n",
       "        vertical-align: top;\n",
       "    }\n",
       "\n",
       "    .dataframe thead th {\n",
       "        text-align: right;\n",
       "    }\n",
       "</style>\n",
       "<table border=\"1\" class=\"dataframe\">\n",
       "  <thead>\n",
       "    <tr style=\"text-align: right;\">\n",
       "      <th></th>\n",
       "      <th>customer_id</th>\n",
       "      <th>birth_year</th>\n",
       "      <th>gender</th>\n",
       "      <th>city_code</th>\n",
       "    </tr>\n",
       "  </thead>\n",
       "  <tbody>\n",
       "    <tr>\n",
       "      <th>0</th>\n",
       "      <td>268408</td>\n",
       "      <td>1970</td>\n",
       "      <td>M</td>\n",
       "      <td>4.0</td>\n",
       "    </tr>\n",
       "    <tr>\n",
       "      <th>1</th>\n",
       "      <td>269696</td>\n",
       "      <td>1970</td>\n",
       "      <td>F</td>\n",
       "      <td>8.0</td>\n",
       "    </tr>\n",
       "    <tr>\n",
       "      <th>2</th>\n",
       "      <td>268159</td>\n",
       "      <td>1970</td>\n",
       "      <td>F</td>\n",
       "      <td>8.0</td>\n",
       "    </tr>\n",
       "    <tr>\n",
       "      <th>3</th>\n",
       "      <td>270181</td>\n",
       "      <td>1970</td>\n",
       "      <td>F</td>\n",
       "      <td>2.0</td>\n",
       "    </tr>\n",
       "    <tr>\n",
       "      <th>4</th>\n",
       "      <td>268073</td>\n",
       "      <td>1970</td>\n",
       "      <td>M</td>\n",
       "      <td>1.0</td>\n",
       "    </tr>\n",
       "  </tbody>\n",
       "</table>\n",
       "</div>"
      ],
      "text/plain": [
       "   customer_id  birth_year gender  city_code\n",
       "0       268408        1970      M        4.0\n",
       "1       269696        1970      F        8.0\n",
       "2       268159        1970      F        8.0\n",
       "3       270181        1970      F        2.0\n",
       "4       268073        1970      M        1.0"
      ]
     },
     "execution_count": 8,
     "metadata": {},
     "output_type": "execute_result"
    }
   ],
   "source": [
    "customer_df.head()"
   ]
  },
  {
   "cell_type": "markdown",
   "metadata": {},
   "source": [
    "## B. Product Categories Dataset"
   ]
  },
  {
   "cell_type": "code",
   "execution_count": 9,
   "metadata": {},
   "outputs": [],
   "source": [
    "prodcat_csv = os.path.join(dataset_dir, 'prod_cat_info.csv')\n",
    "prodcat_df = pd.read_csv(prodcat_csv)"
   ]
  },
  {
   "cell_type": "code",
   "execution_count": 10,
   "metadata": {},
   "outputs": [],
   "source": [
    "# Rename column prod_subcat to prod_sub_cat for consistency\n",
    "prodcat_df.rename(columns={'prod_subcat': 'prod_sub_cat'}, inplace=True)"
   ]
  },
  {
   "cell_type": "markdown",
   "metadata": {},
   "source": [
    "Notice that \"prod_cat\" column with values \"Clothing\", \"Footwear\" and \"Bags\" all have the same \"prod_sub_cat\" values. To avoid confusion later on in the clustering, the \"prod_sub_cat\" values must be unique."
   ]
  },
  {
   "cell_type": "code",
   "execution_count": 11,
   "metadata": {
    "scrolled": false
   },
   "outputs": [
    {
     "data": {
      "text/html": [
       "<div>\n",
       "<style scoped>\n",
       "    .dataframe tbody tr th:only-of-type {\n",
       "        vertical-align: middle;\n",
       "    }\n",
       "\n",
       "    .dataframe tbody tr th {\n",
       "        vertical-align: top;\n",
       "    }\n",
       "\n",
       "    .dataframe thead th {\n",
       "        text-align: right;\n",
       "    }\n",
       "</style>\n",
       "<table border=\"1\" class=\"dataframe\">\n",
       "  <thead>\n",
       "    <tr style=\"text-align: right;\">\n",
       "      <th></th>\n",
       "      <th>prod_cat_code</th>\n",
       "      <th>prod_cat</th>\n",
       "      <th>prod_sub_cat_code</th>\n",
       "      <th>prod_sub_cat</th>\n",
       "    </tr>\n",
       "  </thead>\n",
       "  <tbody>\n",
       "    <tr>\n",
       "      <th>0</th>\n",
       "      <td>1</td>\n",
       "      <td>Clothing</td>\n",
       "      <td>4</td>\n",
       "      <td>Mens</td>\n",
       "    </tr>\n",
       "    <tr>\n",
       "      <th>1</th>\n",
       "      <td>1</td>\n",
       "      <td>Clothing</td>\n",
       "      <td>1</td>\n",
       "      <td>Women</td>\n",
       "    </tr>\n",
       "    <tr>\n",
       "      <th>2</th>\n",
       "      <td>1</td>\n",
       "      <td>Clothing</td>\n",
       "      <td>3</td>\n",
       "      <td>Kids</td>\n",
       "    </tr>\n",
       "    <tr>\n",
       "      <th>3</th>\n",
       "      <td>2</td>\n",
       "      <td>Footwear</td>\n",
       "      <td>1</td>\n",
       "      <td>Mens</td>\n",
       "    </tr>\n",
       "    <tr>\n",
       "      <th>4</th>\n",
       "      <td>2</td>\n",
       "      <td>Footwear</td>\n",
       "      <td>3</td>\n",
       "      <td>Women</td>\n",
       "    </tr>\n",
       "    <tr>\n",
       "      <th>5</th>\n",
       "      <td>2</td>\n",
       "      <td>Footwear</td>\n",
       "      <td>4</td>\n",
       "      <td>Kids</td>\n",
       "    </tr>\n",
       "    <tr>\n",
       "      <th>11</th>\n",
       "      <td>4</td>\n",
       "      <td>Bags</td>\n",
       "      <td>1</td>\n",
       "      <td>Mens</td>\n",
       "    </tr>\n",
       "    <tr>\n",
       "      <th>12</th>\n",
       "      <td>4</td>\n",
       "      <td>Bags</td>\n",
       "      <td>4</td>\n",
       "      <td>Women</td>\n",
       "    </tr>\n",
       "  </tbody>\n",
       "</table>\n",
       "</div>"
      ],
      "text/plain": [
       "    prod_cat_code  prod_cat  prod_sub_cat_code prod_sub_cat\n",
       "0               1  Clothing                  4         Mens\n",
       "1               1  Clothing                  1        Women\n",
       "2               1  Clothing                  3         Kids\n",
       "3               2  Footwear                  1         Mens\n",
       "4               2  Footwear                  3        Women\n",
       "5               2  Footwear                  4         Kids\n",
       "11              4      Bags                  1         Mens\n",
       "12              4      Bags                  4        Women"
      ]
     },
     "execution_count": 11,
     "metadata": {},
     "output_type": "execute_result"
    }
   ],
   "source": [
    "prodcat_df[prodcat_df['prod_cat'].isin([\"Clothing\", \"Footwear\", \"Bags\"])]"
   ]
  },
  {
   "cell_type": "markdown",
   "metadata": {},
   "source": [
    "Function rename_prod_sub_cat is created to transform the \"prod_sub_cat\" values."
   ]
  },
  {
   "cell_type": "code",
   "execution_count": 12,
   "metadata": {},
   "outputs": [],
   "source": [
    "def rename_prod_sub_cat(prod_cat_value, old_sub_cat, new_sub_cat):\n",
    "    # Locate the row that corresponds to parm prod_cat_value and old_sub_cat\n",
    "    # Replace the prod_sub_cat of that row with the new_sub_cat\n",
    "    prodcat_df.loc[(prodcat_df['prod_cat'] == prod_cat_value) &\n",
    "                   (prodcat_df['prod_sub_cat'] == old_sub_cat),\n",
    "                   'prod_sub_cat'] = new_sub_cat"
   ]
  },
  {
   "cell_type": "code",
   "execution_count": 13,
   "metadata": {},
   "outputs": [],
   "source": [
    "rename_prod_sub_cat('Clothing', 'Mens', 'clothing_men')\n",
    "rename_prod_sub_cat('Clothing', 'Women', 'clothing_women')\n",
    "rename_prod_sub_cat('Clothing', 'Kids', 'clothing_kids')\n",
    "rename_prod_sub_cat('Footwear', 'Mens', 'footwear_men')\n",
    "rename_prod_sub_cat('Footwear', 'Women', 'footwear_women')\n",
    "rename_prod_sub_cat('Footwear', 'Kids', 'footwear_kids')\n",
    "rename_prod_sub_cat('Bags', 'Mens', 'bags_mens')\n",
    "rename_prod_sub_cat('Bags', 'Women', 'bags_women')"
   ]
  },
  {
   "cell_type": "code",
   "execution_count": 14,
   "metadata": {},
   "outputs": [
    {
     "data": {
      "text/html": [
       "<div>\n",
       "<style scoped>\n",
       "    .dataframe tbody tr th:only-of-type {\n",
       "        vertical-align: middle;\n",
       "    }\n",
       "\n",
       "    .dataframe tbody tr th {\n",
       "        vertical-align: top;\n",
       "    }\n",
       "\n",
       "    .dataframe thead th {\n",
       "        text-align: right;\n",
       "    }\n",
       "</style>\n",
       "<table border=\"1\" class=\"dataframe\">\n",
       "  <thead>\n",
       "    <tr style=\"text-align: right;\">\n",
       "      <th></th>\n",
       "      <th>prod_cat_code</th>\n",
       "      <th>prod_cat</th>\n",
       "      <th>prod_sub_cat_code</th>\n",
       "      <th>prod_sub_cat</th>\n",
       "    </tr>\n",
       "  </thead>\n",
       "  <tbody>\n",
       "    <tr>\n",
       "      <th>0</th>\n",
       "      <td>1</td>\n",
       "      <td>Clothing</td>\n",
       "      <td>4</td>\n",
       "      <td>clothing_men</td>\n",
       "    </tr>\n",
       "    <tr>\n",
       "      <th>1</th>\n",
       "      <td>1</td>\n",
       "      <td>Clothing</td>\n",
       "      <td>1</td>\n",
       "      <td>clothing_women</td>\n",
       "    </tr>\n",
       "    <tr>\n",
       "      <th>2</th>\n",
       "      <td>1</td>\n",
       "      <td>Clothing</td>\n",
       "      <td>3</td>\n",
       "      <td>clothing_kids</td>\n",
       "    </tr>\n",
       "    <tr>\n",
       "      <th>3</th>\n",
       "      <td>2</td>\n",
       "      <td>Footwear</td>\n",
       "      <td>1</td>\n",
       "      <td>footwear_men</td>\n",
       "    </tr>\n",
       "    <tr>\n",
       "      <th>4</th>\n",
       "      <td>2</td>\n",
       "      <td>Footwear</td>\n",
       "      <td>3</td>\n",
       "      <td>footwear_women</td>\n",
       "    </tr>\n",
       "    <tr>\n",
       "      <th>5</th>\n",
       "      <td>2</td>\n",
       "      <td>Footwear</td>\n",
       "      <td>4</td>\n",
       "      <td>footwear_kids</td>\n",
       "    </tr>\n",
       "    <tr>\n",
       "      <th>6</th>\n",
       "      <td>3</td>\n",
       "      <td>Electronics</td>\n",
       "      <td>4</td>\n",
       "      <td>Mobiles</td>\n",
       "    </tr>\n",
       "    <tr>\n",
       "      <th>7</th>\n",
       "      <td>3</td>\n",
       "      <td>Electronics</td>\n",
       "      <td>5</td>\n",
       "      <td>Computers</td>\n",
       "    </tr>\n",
       "    <tr>\n",
       "      <th>8</th>\n",
       "      <td>3</td>\n",
       "      <td>Electronics</td>\n",
       "      <td>8</td>\n",
       "      <td>Personal Appliances</td>\n",
       "    </tr>\n",
       "    <tr>\n",
       "      <th>9</th>\n",
       "      <td>3</td>\n",
       "      <td>Electronics</td>\n",
       "      <td>9</td>\n",
       "      <td>Cameras</td>\n",
       "    </tr>\n",
       "    <tr>\n",
       "      <th>10</th>\n",
       "      <td>3</td>\n",
       "      <td>Electronics</td>\n",
       "      <td>10</td>\n",
       "      <td>Audio and video</td>\n",
       "    </tr>\n",
       "    <tr>\n",
       "      <th>11</th>\n",
       "      <td>4</td>\n",
       "      <td>Bags</td>\n",
       "      <td>1</td>\n",
       "      <td>bags_mens</td>\n",
       "    </tr>\n",
       "    <tr>\n",
       "      <th>12</th>\n",
       "      <td>4</td>\n",
       "      <td>Bags</td>\n",
       "      <td>4</td>\n",
       "      <td>bags_women</td>\n",
       "    </tr>\n",
       "    <tr>\n",
       "      <th>13</th>\n",
       "      <td>5</td>\n",
       "      <td>Books</td>\n",
       "      <td>7</td>\n",
       "      <td>Fiction</td>\n",
       "    </tr>\n",
       "    <tr>\n",
       "      <th>14</th>\n",
       "      <td>5</td>\n",
       "      <td>Books</td>\n",
       "      <td>12</td>\n",
       "      <td>Academic</td>\n",
       "    </tr>\n",
       "    <tr>\n",
       "      <th>15</th>\n",
       "      <td>5</td>\n",
       "      <td>Books</td>\n",
       "      <td>10</td>\n",
       "      <td>Non-Fiction</td>\n",
       "    </tr>\n",
       "    <tr>\n",
       "      <th>16</th>\n",
       "      <td>5</td>\n",
       "      <td>Books</td>\n",
       "      <td>11</td>\n",
       "      <td>Children</td>\n",
       "    </tr>\n",
       "    <tr>\n",
       "      <th>17</th>\n",
       "      <td>5</td>\n",
       "      <td>Books</td>\n",
       "      <td>3</td>\n",
       "      <td>Comics</td>\n",
       "    </tr>\n",
       "    <tr>\n",
       "      <th>18</th>\n",
       "      <td>5</td>\n",
       "      <td>Books</td>\n",
       "      <td>6</td>\n",
       "      <td>DIY</td>\n",
       "    </tr>\n",
       "    <tr>\n",
       "      <th>19</th>\n",
       "      <td>6</td>\n",
       "      <td>Home and kitchen</td>\n",
       "      <td>2</td>\n",
       "      <td>Furnishing</td>\n",
       "    </tr>\n",
       "    <tr>\n",
       "      <th>20</th>\n",
       "      <td>6</td>\n",
       "      <td>Home and kitchen</td>\n",
       "      <td>10</td>\n",
       "      <td>Kitchen</td>\n",
       "    </tr>\n",
       "    <tr>\n",
       "      <th>21</th>\n",
       "      <td>6</td>\n",
       "      <td>Home and kitchen</td>\n",
       "      <td>11</td>\n",
       "      <td>Bath</td>\n",
       "    </tr>\n",
       "    <tr>\n",
       "      <th>22</th>\n",
       "      <td>6</td>\n",
       "      <td>Home and kitchen</td>\n",
       "      <td>12</td>\n",
       "      <td>Tools</td>\n",
       "    </tr>\n",
       "  </tbody>\n",
       "</table>\n",
       "</div>"
      ],
      "text/plain": [
       "    prod_cat_code          prod_cat  prod_sub_cat_code         prod_sub_cat\n",
       "0               1          Clothing                  4         clothing_men\n",
       "1               1          Clothing                  1       clothing_women\n",
       "2               1          Clothing                  3        clothing_kids\n",
       "3               2          Footwear                  1         footwear_men\n",
       "4               2          Footwear                  3       footwear_women\n",
       "5               2          Footwear                  4        footwear_kids\n",
       "6               3       Electronics                  4              Mobiles\n",
       "7               3       Electronics                  5            Computers\n",
       "8               3       Electronics                  8  Personal Appliances\n",
       "9               3       Electronics                  9              Cameras\n",
       "10              3       Electronics                 10      Audio and video\n",
       "11              4              Bags                  1            bags_mens\n",
       "12              4              Bags                  4           bags_women\n",
       "13              5             Books                  7              Fiction\n",
       "14              5             Books                 12             Academic\n",
       "15              5             Books                 10          Non-Fiction\n",
       "16              5             Books                 11             Children\n",
       "17              5             Books                  3               Comics\n",
       "18              5             Books                  6                  DIY\n",
       "19              6  Home and kitchen                  2           Furnishing\n",
       "20              6  Home and kitchen                 10              Kitchen\n",
       "21              6  Home and kitchen                 11                 Bath\n",
       "22              6  Home and kitchen                 12                Tools"
      ]
     },
     "execution_count": 14,
     "metadata": {},
     "output_type": "execute_result"
    }
   ],
   "source": [
    "prodcat_df"
   ]
  },
  {
   "cell_type": "markdown",
   "metadata": {},
   "source": [
    "## C. Transactions Dataset"
   ]
  },
  {
   "cell_type": "code",
   "execution_count": 15,
   "metadata": {
    "scrolled": true
   },
   "outputs": [],
   "source": [
    "transact_csv = os.path.join(dataset_dir, 'Transactions.csv')\n",
    "transact_df = pd.read_csv(transact_csv)"
   ]
  },
  {
   "cell_type": "code",
   "execution_count": 16,
   "metadata": {},
   "outputs": [],
   "source": [
    "# Set to lowercase these columns of transact_df for easier reference\n",
    "transact_df_col_map = {\n",
    "    'cust_id': 'customer_id',\n",
    "    'prod_subcat_code': 'prod_sub_cat_code',\n",
    "    'Qty': 'qty',\n",
    "    'Rate': 'rate',\n",
    "    'Tax': 'tax',\n",
    "    'Store_type': 'store_type',\n",
    "    'tran_date': 'transact_date'\n",
    "}\n",
    "transact_df.rename(columns=transact_df_col_map, inplace=True)"
   ]
  },
  {
   "cell_type": "markdown",
   "metadata": {},
   "source": [
    "There are some transactions where the \"qty\" columns is less than 1. These can be interpreted as returns or refunds. However, since this study aims to know the emerging markets, these refund rows will be dropped. "
   ]
  },
  {
   "cell_type": "code",
   "execution_count": 17,
   "metadata": {},
   "outputs": [
    {
     "data": {
      "text/html": [
       "<div>\n",
       "<style scoped>\n",
       "    .dataframe tbody tr th:only-of-type {\n",
       "        vertical-align: middle;\n",
       "    }\n",
       "\n",
       "    .dataframe tbody tr th {\n",
       "        vertical-align: top;\n",
       "    }\n",
       "\n",
       "    .dataframe thead th {\n",
       "        text-align: right;\n",
       "    }\n",
       "</style>\n",
       "<table border=\"1\" class=\"dataframe\">\n",
       "  <thead>\n",
       "    <tr style=\"text-align: right;\">\n",
       "      <th></th>\n",
       "      <th>transaction_id</th>\n",
       "      <th>customer_id</th>\n",
       "      <th>transact_date</th>\n",
       "      <th>prod_sub_cat_code</th>\n",
       "      <th>prod_cat_code</th>\n",
       "      <th>qty</th>\n",
       "      <th>rate</th>\n",
       "      <th>tax</th>\n",
       "      <th>total_amt</th>\n",
       "      <th>store_type</th>\n",
       "    </tr>\n",
       "  </thead>\n",
       "  <tbody>\n",
       "    <tr>\n",
       "      <th>0</th>\n",
       "      <td>80712190438</td>\n",
       "      <td>270351</td>\n",
       "      <td>28-02-2014</td>\n",
       "      <td>1</td>\n",
       "      <td>1</td>\n",
       "      <td>-5</td>\n",
       "      <td>-772</td>\n",
       "      <td>405.300</td>\n",
       "      <td>-4265.300</td>\n",
       "      <td>e-Shop</td>\n",
       "    </tr>\n",
       "    <tr>\n",
       "      <th>1</th>\n",
       "      <td>29258453508</td>\n",
       "      <td>270384</td>\n",
       "      <td>27-02-2014</td>\n",
       "      <td>5</td>\n",
       "      <td>3</td>\n",
       "      <td>-5</td>\n",
       "      <td>-1497</td>\n",
       "      <td>785.925</td>\n",
       "      <td>-8270.925</td>\n",
       "      <td>e-Shop</td>\n",
       "    </tr>\n",
       "    <tr>\n",
       "      <th>2</th>\n",
       "      <td>51750724947</td>\n",
       "      <td>273420</td>\n",
       "      <td>24-02-2014</td>\n",
       "      <td>6</td>\n",
       "      <td>5</td>\n",
       "      <td>-2</td>\n",
       "      <td>-791</td>\n",
       "      <td>166.110</td>\n",
       "      <td>-1748.110</td>\n",
       "      <td>TeleShop</td>\n",
       "    </tr>\n",
       "    <tr>\n",
       "      <th>3</th>\n",
       "      <td>93274880719</td>\n",
       "      <td>271509</td>\n",
       "      <td>24-02-2014</td>\n",
       "      <td>11</td>\n",
       "      <td>6</td>\n",
       "      <td>-3</td>\n",
       "      <td>-1363</td>\n",
       "      <td>429.345</td>\n",
       "      <td>-4518.345</td>\n",
       "      <td>e-Shop</td>\n",
       "    </tr>\n",
       "    <tr>\n",
       "      <th>4</th>\n",
       "      <td>51750724947</td>\n",
       "      <td>273420</td>\n",
       "      <td>23-02-2014</td>\n",
       "      <td>6</td>\n",
       "      <td>5</td>\n",
       "      <td>-2</td>\n",
       "      <td>-791</td>\n",
       "      <td>166.110</td>\n",
       "      <td>-1748.110</td>\n",
       "      <td>TeleShop</td>\n",
       "    </tr>\n",
       "  </tbody>\n",
       "</table>\n",
       "</div>"
      ],
      "text/plain": [
       "   transaction_id  customer_id transact_date  prod_sub_cat_code  \\\n",
       "0     80712190438       270351    28-02-2014                  1   \n",
       "1     29258453508       270384    27-02-2014                  5   \n",
       "2     51750724947       273420    24-02-2014                  6   \n",
       "3     93274880719       271509    24-02-2014                 11   \n",
       "4     51750724947       273420    23-02-2014                  6   \n",
       "\n",
       "   prod_cat_code  qty  rate      tax  total_amt store_type  \n",
       "0              1   -5  -772  405.300  -4265.300     e-Shop  \n",
       "1              3   -5 -1497  785.925  -8270.925     e-Shop  \n",
       "2              5   -2  -791  166.110  -1748.110   TeleShop  \n",
       "3              6   -3 -1363  429.345  -4518.345     e-Shop  \n",
       "4              5   -2  -791  166.110  -1748.110   TeleShop  "
      ]
     },
     "execution_count": 17,
     "metadata": {},
     "output_type": "execute_result"
    }
   ],
   "source": [
    "transact_df[transact_df['qty'] < 1].head()"
   ]
  },
  {
   "cell_type": "code",
   "execution_count": 18,
   "metadata": {},
   "outputs": [],
   "source": [
    "# Remove the rows where qty is less than 1\n",
    "rows_to_drop = transact_df[transact_df['qty'] < 1].index\n",
    "transact_df.drop(rows_to_drop, axis=0, inplace=True)\n",
    "transact_df.reset_index(drop=True, inplace=True)"
   ]
  },
  {
   "cell_type": "markdown",
   "metadata": {},
   "source": [
    "Convert \"transact_date\" to a datetime object. This column has a mix of dates formatted in DD-MM-YYYY and DD/MM/YYYY, so pandas.to_datetime with dayfirst=True param is used"
   ]
  },
  {
   "cell_type": "code",
   "execution_count": 19,
   "metadata": {
    "scrolled": true
   },
   "outputs": [],
   "source": [
    "transact_df['transact_date'] = pd.to_datetime(transact_df['transact_date'], dayfirst=True)"
   ]
  },
  {
   "cell_type": "markdown",
   "metadata": {},
   "source": [
    "Create new columns transact_year and transact_month that are derived from transact_date."
   ]
  },
  {
   "cell_type": "code",
   "execution_count": 20,
   "metadata": {},
   "outputs": [],
   "source": [
    "transact_df['transact_year'] = transact_df['transact_date'].dt.year\n",
    "transact_df['transact_month'] = transact_df['transact_date'].dt.month"
   ]
  },
  {
   "cell_type": "code",
   "execution_count": 21,
   "metadata": {
    "scrolled": true
   },
   "outputs": [
    {
     "data": {
      "text/html": [
       "<div>\n",
       "<style scoped>\n",
       "    .dataframe tbody tr th:only-of-type {\n",
       "        vertical-align: middle;\n",
       "    }\n",
       "\n",
       "    .dataframe tbody tr th {\n",
       "        vertical-align: top;\n",
       "    }\n",
       "\n",
       "    .dataframe thead th {\n",
       "        text-align: right;\n",
       "    }\n",
       "</style>\n",
       "<table border=\"1\" class=\"dataframe\">\n",
       "  <thead>\n",
       "    <tr style=\"text-align: right;\">\n",
       "      <th></th>\n",
       "      <th>transaction_id</th>\n",
       "      <th>customer_id</th>\n",
       "      <th>transact_date</th>\n",
       "      <th>prod_sub_cat_code</th>\n",
       "      <th>prod_cat_code</th>\n",
       "      <th>qty</th>\n",
       "      <th>rate</th>\n",
       "      <th>tax</th>\n",
       "      <th>total_amt</th>\n",
       "      <th>store_type</th>\n",
       "      <th>transact_year</th>\n",
       "      <th>transact_month</th>\n",
       "    </tr>\n",
       "  </thead>\n",
       "  <tbody>\n",
       "    <tr>\n",
       "      <th>0</th>\n",
       "      <td>29258453508</td>\n",
       "      <td>270384</td>\n",
       "      <td>2014-02-20</td>\n",
       "      <td>5</td>\n",
       "      <td>3</td>\n",
       "      <td>5</td>\n",
       "      <td>1497</td>\n",
       "      <td>785.925</td>\n",
       "      <td>8270.925</td>\n",
       "      <td>e-Shop</td>\n",
       "      <td>2014</td>\n",
       "      <td>2</td>\n",
       "    </tr>\n",
       "    <tr>\n",
       "      <th>1</th>\n",
       "      <td>25455265351</td>\n",
       "      <td>267750</td>\n",
       "      <td>2014-02-20</td>\n",
       "      <td>12</td>\n",
       "      <td>6</td>\n",
       "      <td>3</td>\n",
       "      <td>1360</td>\n",
       "      <td>428.400</td>\n",
       "      <td>4508.400</td>\n",
       "      <td>e-Shop</td>\n",
       "      <td>2014</td>\n",
       "      <td>2</td>\n",
       "    </tr>\n",
       "    <tr>\n",
       "      <th>2</th>\n",
       "      <td>1571002198</td>\n",
       "      <td>275023</td>\n",
       "      <td>2014-02-20</td>\n",
       "      <td>6</td>\n",
       "      <td>5</td>\n",
       "      <td>4</td>\n",
       "      <td>587</td>\n",
       "      <td>246.540</td>\n",
       "      <td>2594.540</td>\n",
       "      <td>e-Shop</td>\n",
       "      <td>2014</td>\n",
       "      <td>2</td>\n",
       "    </tr>\n",
       "    <tr>\n",
       "      <th>3</th>\n",
       "      <td>36554696014</td>\n",
       "      <td>269345</td>\n",
       "      <td>2014-02-20</td>\n",
       "      <td>3</td>\n",
       "      <td>5</td>\n",
       "      <td>3</td>\n",
       "      <td>1253</td>\n",
       "      <td>394.695</td>\n",
       "      <td>4153.695</td>\n",
       "      <td>e-Shop</td>\n",
       "      <td>2014</td>\n",
       "      <td>2</td>\n",
       "    </tr>\n",
       "    <tr>\n",
       "      <th>4</th>\n",
       "      <td>56814940239</td>\n",
       "      <td>268799</td>\n",
       "      <td>2014-02-20</td>\n",
       "      <td>7</td>\n",
       "      <td>5</td>\n",
       "      <td>5</td>\n",
       "      <td>368</td>\n",
       "      <td>193.200</td>\n",
       "      <td>2033.200</td>\n",
       "      <td>e-Shop</td>\n",
       "      <td>2014</td>\n",
       "      <td>2</td>\n",
       "    </tr>\n",
       "  </tbody>\n",
       "</table>\n",
       "</div>"
      ],
      "text/plain": [
       "   transaction_id  customer_id transact_date  prod_sub_cat_code  \\\n",
       "0     29258453508       270384    2014-02-20                  5   \n",
       "1     25455265351       267750    2014-02-20                 12   \n",
       "2      1571002198       275023    2014-02-20                  6   \n",
       "3     36554696014       269345    2014-02-20                  3   \n",
       "4     56814940239       268799    2014-02-20                  7   \n",
       "\n",
       "   prod_cat_code  qty  rate      tax  total_amt store_type  transact_year  \\\n",
       "0              3    5  1497  785.925   8270.925     e-Shop           2014   \n",
       "1              6    3  1360  428.400   4508.400     e-Shop           2014   \n",
       "2              5    4   587  246.540   2594.540     e-Shop           2014   \n",
       "3              5    3  1253  394.695   4153.695     e-Shop           2014   \n",
       "4              5    5   368  193.200   2033.200     e-Shop           2014   \n",
       "\n",
       "   transact_month  \n",
       "0               2  \n",
       "1               2  \n",
       "2               2  \n",
       "3               2  \n",
       "4               2  "
      ]
     },
     "execution_count": 21,
     "metadata": {},
     "output_type": "execute_result"
    }
   ],
   "source": [
    "transact_df.head()"
   ]
  },
  {
   "cell_type": "markdown",
   "metadata": {},
   "source": [
    "## D. Merging the Datasets\n",
    "The library pandasql is used to join the three datasets together using SQL. This is more precise and easier to read, because the SQL Joins allow more control than pandas."
   ]
  },
  {
   "cell_type": "code",
   "execution_count": 22,
   "metadata": {},
   "outputs": [],
   "source": [
    "# Use pandasql to easily merge the three datasets together\n",
    "from pandasql import sqldf"
   ]
  },
  {
   "cell_type": "code",
   "execution_count": 23,
   "metadata": {},
   "outputs": [],
   "source": [
    "merged_df = lambda query: sqldf(query, globals())\n",
    "query = \"\"\"\n",
    "    SELECT\n",
    "        t.*,\n",
    "        c.birth_year,\n",
    "        c.gender,\n",
    "        c.city_code,\n",
    "        p.prod_cat,\n",
    "        p.prod_sub_cat\n",
    "    FROM transact_df t\n",
    "    INNER JOIN customer_df c\n",
    "        on c.customer_id = t.customer_id\n",
    "    INNER JOIN prodcat_df p\n",
    "        ON p.prod_cat_code = t.prod_cat_code\n",
    "        AND p.prod_sub_cat_code = t.prod_sub_cat_code\n",
    "\"\"\"\n",
    "merged_df = merged_df(query)"
   ]
  },
  {
   "cell_type": "markdown",
   "metadata": {},
   "source": [
    "Add new column 'age_at_purchase'"
   ]
  },
  {
   "cell_type": "code",
   "execution_count": 24,
   "metadata": {},
   "outputs": [],
   "source": [
    "# Add column of age at time of purchase\n",
    "merged_df['age_at_purchase'] = merged_df['transact_year'] - merged_df['birth_year']"
   ]
  },
  {
   "cell_type": "code",
   "execution_count": 25,
   "metadata": {},
   "outputs": [
    {
     "data": {
      "text/html": [
       "<div>\n",
       "<style scoped>\n",
       "    .dataframe tbody tr th:only-of-type {\n",
       "        vertical-align: middle;\n",
       "    }\n",
       "\n",
       "    .dataframe tbody tr th {\n",
       "        vertical-align: top;\n",
       "    }\n",
       "\n",
       "    .dataframe thead th {\n",
       "        text-align: right;\n",
       "    }\n",
       "</style>\n",
       "<table border=\"1\" class=\"dataframe\">\n",
       "  <thead>\n",
       "    <tr style=\"text-align: right;\">\n",
       "      <th></th>\n",
       "      <th>transaction_id</th>\n",
       "      <th>customer_id</th>\n",
       "      <th>transact_date</th>\n",
       "      <th>prod_sub_cat_code</th>\n",
       "      <th>prod_cat_code</th>\n",
       "      <th>qty</th>\n",
       "      <th>rate</th>\n",
       "      <th>tax</th>\n",
       "      <th>total_amt</th>\n",
       "      <th>store_type</th>\n",
       "      <th>transact_year</th>\n",
       "      <th>transact_month</th>\n",
       "      <th>birth_year</th>\n",
       "      <th>gender</th>\n",
       "      <th>city_code</th>\n",
       "      <th>prod_cat</th>\n",
       "      <th>prod_sub_cat</th>\n",
       "      <th>age_at_purchase</th>\n",
       "    </tr>\n",
       "  </thead>\n",
       "  <tbody>\n",
       "    <tr>\n",
       "      <th>0</th>\n",
       "      <td>29258453508</td>\n",
       "      <td>270384</td>\n",
       "      <td>2014-02-20 00:00:00.000000</td>\n",
       "      <td>5</td>\n",
       "      <td>3</td>\n",
       "      <td>5</td>\n",
       "      <td>1497</td>\n",
       "      <td>785.925</td>\n",
       "      <td>8270.925</td>\n",
       "      <td>e-Shop</td>\n",
       "      <td>2014</td>\n",
       "      <td>2</td>\n",
       "      <td>1973</td>\n",
       "      <td>F</td>\n",
       "      <td>8.0</td>\n",
       "      <td>Electronics</td>\n",
       "      <td>Computers</td>\n",
       "      <td>41</td>\n",
       "    </tr>\n",
       "    <tr>\n",
       "      <th>1</th>\n",
       "      <td>25455265351</td>\n",
       "      <td>267750</td>\n",
       "      <td>2014-02-20 00:00:00.000000</td>\n",
       "      <td>12</td>\n",
       "      <td>6</td>\n",
       "      <td>3</td>\n",
       "      <td>1360</td>\n",
       "      <td>428.400</td>\n",
       "      <td>4508.400</td>\n",
       "      <td>e-Shop</td>\n",
       "      <td>2014</td>\n",
       "      <td>2</td>\n",
       "      <td>1986</td>\n",
       "      <td>M</td>\n",
       "      <td>1.0</td>\n",
       "      <td>Home and kitchen</td>\n",
       "      <td>Tools</td>\n",
       "      <td>28</td>\n",
       "    </tr>\n",
       "    <tr>\n",
       "      <th>2</th>\n",
       "      <td>1571002198</td>\n",
       "      <td>275023</td>\n",
       "      <td>2014-02-20 00:00:00.000000</td>\n",
       "      <td>6</td>\n",
       "      <td>5</td>\n",
       "      <td>4</td>\n",
       "      <td>587</td>\n",
       "      <td>246.540</td>\n",
       "      <td>2594.540</td>\n",
       "      <td>e-Shop</td>\n",
       "      <td>2014</td>\n",
       "      <td>2</td>\n",
       "      <td>1971</td>\n",
       "      <td>M</td>\n",
       "      <td>6.0</td>\n",
       "      <td>Books</td>\n",
       "      <td>DIY</td>\n",
       "      <td>43</td>\n",
       "    </tr>\n",
       "    <tr>\n",
       "      <th>3</th>\n",
       "      <td>36554696014</td>\n",
       "      <td>269345</td>\n",
       "      <td>2014-02-20 00:00:00.000000</td>\n",
       "      <td>3</td>\n",
       "      <td>5</td>\n",
       "      <td>3</td>\n",
       "      <td>1253</td>\n",
       "      <td>394.695</td>\n",
       "      <td>4153.695</td>\n",
       "      <td>e-Shop</td>\n",
       "      <td>2014</td>\n",
       "      <td>2</td>\n",
       "      <td>1970</td>\n",
       "      <td>F</td>\n",
       "      <td>10.0</td>\n",
       "      <td>Books</td>\n",
       "      <td>Comics</td>\n",
       "      <td>44</td>\n",
       "    </tr>\n",
       "    <tr>\n",
       "      <th>4</th>\n",
       "      <td>56814940239</td>\n",
       "      <td>268799</td>\n",
       "      <td>2014-02-20 00:00:00.000000</td>\n",
       "      <td>7</td>\n",
       "      <td>5</td>\n",
       "      <td>5</td>\n",
       "      <td>368</td>\n",
       "      <td>193.200</td>\n",
       "      <td>2033.200</td>\n",
       "      <td>e-Shop</td>\n",
       "      <td>2014</td>\n",
       "      <td>2</td>\n",
       "      <td>1979</td>\n",
       "      <td>M</td>\n",
       "      <td>9.0</td>\n",
       "      <td>Books</td>\n",
       "      <td>Fiction</td>\n",
       "      <td>35</td>\n",
       "    </tr>\n",
       "  </tbody>\n",
       "</table>\n",
       "</div>"
      ],
      "text/plain": [
       "   transaction_id  customer_id               transact_date  prod_sub_cat_code  \\\n",
       "0     29258453508       270384  2014-02-20 00:00:00.000000                  5   \n",
       "1     25455265351       267750  2014-02-20 00:00:00.000000                 12   \n",
       "2      1571002198       275023  2014-02-20 00:00:00.000000                  6   \n",
       "3     36554696014       269345  2014-02-20 00:00:00.000000                  3   \n",
       "4     56814940239       268799  2014-02-20 00:00:00.000000                  7   \n",
       "\n",
       "   prod_cat_code  qty  rate      tax  total_amt store_type  transact_year  \\\n",
       "0              3    5  1497  785.925   8270.925     e-Shop           2014   \n",
       "1              6    3  1360  428.400   4508.400     e-Shop           2014   \n",
       "2              5    4   587  246.540   2594.540     e-Shop           2014   \n",
       "3              5    3  1253  394.695   4153.695     e-Shop           2014   \n",
       "4              5    5   368  193.200   2033.200     e-Shop           2014   \n",
       "\n",
       "   transact_month  birth_year gender  city_code          prod_cat  \\\n",
       "0               2        1973      F        8.0       Electronics   \n",
       "1               2        1986      M        1.0  Home and kitchen   \n",
       "2               2        1971      M        6.0             Books   \n",
       "3               2        1970      F       10.0             Books   \n",
       "4               2        1979      M        9.0             Books   \n",
       "\n",
       "  prod_sub_cat  age_at_purchase  \n",
       "0    Computers               41  \n",
       "1        Tools               28  \n",
       "2          DIY               43  \n",
       "3       Comics               44  \n",
       "4      Fiction               35  "
      ]
     },
     "execution_count": 25,
     "metadata": {},
     "output_type": "execute_result"
    }
   ],
   "source": [
    "merged_df.head()"
   ]
  },
  {
   "cell_type": "markdown",
   "metadata": {},
   "source": [
    "# III. Exploring the Data\n",
    "The goal is to find out which emerging market to look out for. As I narrowed the criteria, I trimmed the merged dataset until I got the ideal dataset for clustering. Aside from having a defined scope, this section also helped me run cluster analysis in R successfully with the hardware specifications of my machine."
   ]
  },
  {
   "cell_type": "markdown",
   "metadata": {},
   "source": [
    "## A. Exploring the Merged Dataset"
   ]
  },
  {
   "cell_type": "markdown",
   "metadata": {},
   "source": [
    "The merged_df has 19,905 rows. This needs to be narrowed down as mentioned above."
   ]
  },
  {
   "cell_type": "code",
   "execution_count": 44,
   "metadata": {},
   "outputs": [
    {
     "data": {
      "text/plain": [
       "(19905, 18)"
      ]
     },
     "execution_count": 44,
     "metadata": {},
     "output_type": "execute_result"
    }
   ],
   "source": [
    "merged_df.shape"
   ]
  },
  {
   "cell_type": "markdown",
   "metadata": {},
   "source": [
    "As the 2014 transactions are up to Feburary only, remove all 2014 transactions from the dataframe."
   ]
  },
  {
   "cell_type": "code",
   "execution_count": 33,
   "metadata": {
    "scrolled": true
   },
   "outputs": [
    {
     "data": {
      "image/png": "[encoded data removed]",
      "text/plain": [
       "<Figure size 439.175x360 with 1 Axes>"
      ]
     },
     "metadata": {
      "needs_background": "light"
     },
     "output_type": "display_data"
    }
   ],
   "source": [
    "fig = sns.catplot(x='transact_year', kind='count', hue='transact_month' ,data=merged_df )\n",
    "fig.set(xlabel='Store Type', ylabel=\"Transaction Count\", title=\"Count of Transactions by Year, Month\");"
   ]
  },
  {
   "cell_type": "code",
   "execution_count": 34,
   "metadata": {},
   "outputs": [],
   "source": [
    "rows_to_drop = merged_df[merged_df['transact_year'] == 2014].index\n",
    "merged_df.drop(rows_to_drop, axis=0, inplace=True)\n",
    "merged_df.reset_index(drop=True,inplace=True)"
   ]
  },
  {
   "cell_type": "markdown",
   "metadata": {},
   "source": [
    "Majority of the transactions come from the 'e-Shop'. The number of rows to analyze is significant enough to focus only on the e-Shop."
   ]
  },
  {
   "cell_type": "code",
   "execution_count": 40,
   "metadata": {
    "scrolled": true
   },
   "outputs": [
    {
     "data": {
      "image/png": "[encoded data removed]",
      "text/plain": [
       "<Figure size 430.8x360 with 1 Axes>"
      ]
     },
     "metadata": {
      "needs_background": "light"
     },
     "output_type": "display_data"
    }
   ],
   "source": [
    "fig = sns.catplot(x='store_type', kind='count', hue='transact_year', data=merged_df )\n",
    "fig.set(xlabel='Store Type', ylabel=\"Transaction Count\",title=\"Count of Transactions by Store Type\");"
   ]
  },
  {
   "cell_type": "markdown",
   "metadata": {},
   "source": [
    "In addition, the total sales from the e-Shop is the highest among the store types. "
   ]
  },
  {
   "cell_type": "code",
   "execution_count": 39,
   "metadata": {},
   "outputs": [
    {
     "data": {
      "image/png": "[encoded data removed]",
      "text/plain": [
       "<Figure size 432x288 with 1 Axes>"
      ]
     },
     "metadata": {
      "needs_background": "light"
     },
     "output_type": "display_data"
    }
   ],
   "source": [
    "plt = merged_df.groupby('store_type').total_amt.sum().plot(kind='bar');\n",
    "plt.set_title('Sales by Store Type')\n",
    "plt.set_ylabel('Total Sales')\n",
    "plt.set_xlabel('Store Type');"
   ]
  },
  {
   "cell_type": "markdown",
   "metadata": {},
   "source": [
    "With these, a new dataframe called \"eshop_df\" is created. It is a copy of the \"merged_df\", but it will only contain rows where \"store_type\" is equal to \"e_Shop\"."
   ]
  },
  {
   "cell_type": "code",
   "execution_count": 42,
   "metadata": {},
   "outputs": [
    {
     "data": {
      "text/html": [
       "<div>\n",
       "<style scoped>\n",
       "    .dataframe tbody tr th:only-of-type {\n",
       "        vertical-align: middle;\n",
       "    }\n",
       "\n",
       "    .dataframe tbody tr th {\n",
       "        vertical-align: top;\n",
       "    }\n",
       "\n",
       "    .dataframe thead th {\n",
       "        text-align: right;\n",
       "    }\n",
       "</style>\n",
       "<table border=\"1\" class=\"dataframe\">\n",
       "  <thead>\n",
       "    <tr style=\"text-align: right;\">\n",
       "      <th></th>\n",
       "      <th>transaction_id</th>\n",
       "      <th>customer_id</th>\n",
       "      <th>transact_date</th>\n",
       "      <th>prod_sub_cat_code</th>\n",
       "      <th>prod_cat_code</th>\n",
       "      <th>qty</th>\n",
       "      <th>rate</th>\n",
       "      <th>tax</th>\n",
       "      <th>total_amt</th>\n",
       "      <th>store_type</th>\n",
       "      <th>transact_year</th>\n",
       "      <th>transact_month</th>\n",
       "      <th>birth_year</th>\n",
       "      <th>gender</th>\n",
       "      <th>city_code</th>\n",
       "      <th>prod_cat</th>\n",
       "      <th>prod_sub_cat</th>\n",
       "      <th>age_at_purchase</th>\n",
       "    </tr>\n",
       "  </thead>\n",
       "  <tbody>\n",
       "    <tr>\n",
       "      <th>0</th>\n",
       "      <td>58387181112</td>\n",
       "      <td>275068</td>\n",
       "      <td>2013-12-31 00:00:00.000000</td>\n",
       "      <td>8</td>\n",
       "      <td>3</td>\n",
       "      <td>5</td>\n",
       "      <td>792</td>\n",
       "      <td>415.800</td>\n",
       "      <td>4375.800</td>\n",
       "      <td>e-Shop</td>\n",
       "      <td>2013</td>\n",
       "      <td>12</td>\n",
       "      <td>1982</td>\n",
       "      <td>M</td>\n",
       "      <td>2.0</td>\n",
       "      <td>Electronics</td>\n",
       "      <td>Personal Appliances</td>\n",
       "      <td>31</td>\n",
       "    </tr>\n",
       "    <tr>\n",
       "      <th>1</th>\n",
       "      <td>26100869804</td>\n",
       "      <td>273836</td>\n",
       "      <td>2013-12-31 00:00:00.000000</td>\n",
       "      <td>9</td>\n",
       "      <td>3</td>\n",
       "      <td>3</td>\n",
       "      <td>843</td>\n",
       "      <td>265.545</td>\n",
       "      <td>2794.545</td>\n",
       "      <td>e-Shop</td>\n",
       "      <td>2013</td>\n",
       "      <td>12</td>\n",
       "      <td>1983</td>\n",
       "      <td>M</td>\n",
       "      <td>10.0</td>\n",
       "      <td>Electronics</td>\n",
       "      <td>Cameras</td>\n",
       "      <td>30</td>\n",
       "    </tr>\n",
       "    <tr>\n",
       "      <th>2</th>\n",
       "      <td>4116412179</td>\n",
       "      <td>269788</td>\n",
       "      <td>2013-12-31 00:00:00.000000</td>\n",
       "      <td>10</td>\n",
       "      <td>3</td>\n",
       "      <td>3</td>\n",
       "      <td>984</td>\n",
       "      <td>309.960</td>\n",
       "      <td>3261.960</td>\n",
       "      <td>e-Shop</td>\n",
       "      <td>2013</td>\n",
       "      <td>12</td>\n",
       "      <td>1984</td>\n",
       "      <td>F</td>\n",
       "      <td>1.0</td>\n",
       "      <td>Electronics</td>\n",
       "      <td>Audio and video</td>\n",
       "      <td>29</td>\n",
       "    </tr>\n",
       "    <tr>\n",
       "      <th>3</th>\n",
       "      <td>51849180620</td>\n",
       "      <td>273963</td>\n",
       "      <td>2013-12-31 00:00:00.000000</td>\n",
       "      <td>9</td>\n",
       "      <td>3</td>\n",
       "      <td>3</td>\n",
       "      <td>617</td>\n",
       "      <td>194.355</td>\n",
       "      <td>2045.355</td>\n",
       "      <td>e-Shop</td>\n",
       "      <td>2013</td>\n",
       "      <td>12</td>\n",
       "      <td>1971</td>\n",
       "      <td>F</td>\n",
       "      <td>7.0</td>\n",
       "      <td>Electronics</td>\n",
       "      <td>Cameras</td>\n",
       "      <td>42</td>\n",
       "    </tr>\n",
       "    <tr>\n",
       "      <th>4</th>\n",
       "      <td>73514951834</td>\n",
       "      <td>269518</td>\n",
       "      <td>2013-12-31 00:00:00.000000</td>\n",
       "      <td>6</td>\n",
       "      <td>5</td>\n",
       "      <td>2</td>\n",
       "      <td>582</td>\n",
       "      <td>122.220</td>\n",
       "      <td>1286.220</td>\n",
       "      <td>e-Shop</td>\n",
       "      <td>2013</td>\n",
       "      <td>12</td>\n",
       "      <td>1980</td>\n",
       "      <td>M</td>\n",
       "      <td>2.0</td>\n",
       "      <td>Books</td>\n",
       "      <td>DIY</td>\n",
       "      <td>33</td>\n",
       "    </tr>\n",
       "  </tbody>\n",
       "</table>\n",
       "</div>"
      ],
      "text/plain": [
       "   transaction_id  customer_id               transact_date  prod_sub_cat_code  \\\n",
       "0     58387181112       275068  2013-12-31 00:00:00.000000                  8   \n",
       "1     26100869804       273836  2013-12-31 00:00:00.000000                  9   \n",
       "2      4116412179       269788  2013-12-31 00:00:00.000000                 10   \n",
       "3     51849180620       273963  2013-12-31 00:00:00.000000                  9   \n",
       "4     73514951834       269518  2013-12-31 00:00:00.000000                  6   \n",
       "\n",
       "   prod_cat_code  qty  rate      tax  total_amt store_type  transact_year  \\\n",
       "0              3    5   792  415.800   4375.800     e-Shop           2013   \n",
       "1              3    3   843  265.545   2794.545     e-Shop           2013   \n",
       "2              3    3   984  309.960   3261.960     e-Shop           2013   \n",
       "3              3    3   617  194.355   2045.355     e-Shop           2013   \n",
       "4              5    2   582  122.220   1286.220     e-Shop           2013   \n",
       "\n",
       "   transact_month  birth_year gender  city_code     prod_cat  \\\n",
       "0              12        1982      M        2.0  Electronics   \n",
       "1              12        1983      M       10.0  Electronics   \n",
       "2              12        1984      F        1.0  Electronics   \n",
       "3              12        1971      F        7.0  Electronics   \n",
       "4              12        1980      M        2.0        Books   \n",
       "\n",
       "          prod_sub_cat  age_at_purchase  \n",
       "0  Personal Appliances               31  \n",
       "1              Cameras               30  \n",
       "2      Audio and video               29  \n",
       "3              Cameras               42  \n",
       "4                  DIY               33  "
      ]
     },
     "execution_count": 42,
     "metadata": {},
     "output_type": "execute_result"
    }
   ],
   "source": [
    "eshop_df = merged_df.copy(deep=True)\n",
    "rows_to_drop = eshop_df[eshop_df['store_type'] != 'e-Shop'].index\n",
    "eshop_df.drop(rows_to_drop, axis=0, inplace=True)\n",
    "eshop_df.reset_index(drop=True, inplace=True)\n",
    "eshop_df.head()"
   ]
  },
  {
   "cell_type": "markdown",
   "metadata": {},
   "source": [
    "## B. Exploring the E-Shop Dataset"
   ]
  },
  {
   "cell_type": "markdown",
   "metadata": {},
   "source": [
    "The chart below shows the Books category having the highest transaction count followed by Electronics, Home and Kitchen."
   ]
  },
  {
   "cell_type": "code",
   "execution_count": 78,
   "metadata": {
    "scrolled": false
   },
   "outputs": [
    {
     "data": {
      "image/png": "[encoded data removed]",
      "text/plain": [
       "<Figure size 430.8x360 with 1 Axes>"
      ]
     },
     "metadata": {
      "needs_background": "light"
     },
     "output_type": "display_data"
    }
   ],
   "source": [
    "fig = sns.catplot(x='prod_cat', kind='count', hue='transact_year', data=eshop_df)\n",
    "fig.set(xlabel='Product Category', ylabel=\"Transaction Count\", title=\"Count of Transactions by Year and Product Category\");\n",
    "fig.set_xticklabels(rotation=45);"
   ]
  },
  {
   "cell_type": "markdown",
   "metadata": {},
   "source": [
    "The same can be said when checking the store's total sales by year per product category."
   ]
  },
  {
   "cell_type": "code",
   "execution_count": 76,
   "metadata": {
    "scrolled": false
   },
   "outputs": [
    {
     "data": {
      "image/png": "[encoded data removed]",
      "text/plain": [
       "<Figure size 432x288 with 1 Axes>"
      ]
     },
     "metadata": {
      "needs_background": "light"
     },
     "output_type": "display_data"
    }
   ],
   "source": [
    "grouped_df = eshop_df.groupby(['prod_cat', 'transact_year']).total_amt.sum().reset_index()\n",
    "fig = sns.barplot(x='prod_cat', y='total_amt', hue='transact_year', data=grouped_df)\n",
    "fig.set(xlabel='Product Category', ylabel=\"Total Sales\", title=\"Total Sales by Year and Product Category\")\n",
    "fig.set_xticklabels(fig.get_xticklabels(), rotation=45);"
   ]
  },
  {
   "cell_type": "markdown",
   "metadata": {},
   "source": [
    "For Bags, Clothing and Home and Kitchen, they are the only product categories whose sales are increasing year by year. While their cumulative sales are lower than that of Books and Electronics, they are gaining traction in the E-Shop.\n",
    "\n",
    "It is of interest to know the customers who buy from the Bags, Clothing and Home and Kitchen categories. There is a potential for these categories to grow further in sales, and knowing who the right customers are can drive this.\n",
    "\n",
    "A new dataframe, 'rising_market_df', is created and is derived from the eshop_df."
   ]
  },
  {
   "cell_type": "code",
   "execution_count": 79,
   "metadata": {},
   "outputs": [
    {
     "data": {
      "text/html": [
       "<div>\n",
       "<style scoped>\n",
       "    .dataframe tbody tr th:only-of-type {\n",
       "        vertical-align: middle;\n",
       "    }\n",
       "\n",
       "    .dataframe tbody tr th {\n",
       "        vertical-align: top;\n",
       "    }\n",
       "\n",
       "    .dataframe thead th {\n",
       "        text-align: right;\n",
       "    }\n",
       "</style>\n",
       "<table border=\"1\" class=\"dataframe\">\n",
       "  <thead>\n",
       "    <tr style=\"text-align: right;\">\n",
       "      <th></th>\n",
       "      <th>transaction_id</th>\n",
       "      <th>customer_id</th>\n",
       "      <th>transact_date</th>\n",
       "      <th>prod_sub_cat_code</th>\n",
       "      <th>prod_cat_code</th>\n",
       "      <th>qty</th>\n",
       "      <th>rate</th>\n",
       "      <th>tax</th>\n",
       "      <th>total_amt</th>\n",
       "      <th>store_type</th>\n",
       "      <th>transact_year</th>\n",
       "      <th>transact_month</th>\n",
       "      <th>birth_year</th>\n",
       "      <th>gender</th>\n",
       "      <th>city_code</th>\n",
       "      <th>prod_cat</th>\n",
       "      <th>prod_sub_cat</th>\n",
       "      <th>age_at_purchase</th>\n",
       "    </tr>\n",
       "  </thead>\n",
       "  <tbody>\n",
       "    <tr>\n",
       "      <th>6</th>\n",
       "      <td>83963970126</td>\n",
       "      <td>274655</td>\n",
       "      <td>2013-12-31 00:00:00.000000</td>\n",
       "      <td>3</td>\n",
       "      <td>1</td>\n",
       "      <td>5</td>\n",
       "      <td>213</td>\n",
       "      <td>111.825</td>\n",
       "      <td>1176.825</td>\n",
       "      <td>e-Shop</td>\n",
       "      <td>2013</td>\n",
       "      <td>12</td>\n",
       "      <td>1981</td>\n",
       "      <td>M</td>\n",
       "      <td>9.0</td>\n",
       "      <td>Clothing</td>\n",
       "      <td>clothing_kids</td>\n",
       "      <td>32</td>\n",
       "    </tr>\n",
       "    <tr>\n",
       "      <th>11</th>\n",
       "      <td>51514545410</td>\n",
       "      <td>270709</td>\n",
       "      <td>2013-12-30 00:00:00.000000</td>\n",
       "      <td>1</td>\n",
       "      <td>1</td>\n",
       "      <td>5</td>\n",
       "      <td>1304</td>\n",
       "      <td>684.600</td>\n",
       "      <td>7204.600</td>\n",
       "      <td>e-Shop</td>\n",
       "      <td>2013</td>\n",
       "      <td>12</td>\n",
       "      <td>1976</td>\n",
       "      <td>M</td>\n",
       "      <td>7.0</td>\n",
       "      <td>Clothing</td>\n",
       "      <td>clothing_women</td>\n",
       "      <td>37</td>\n",
       "    </tr>\n",
       "    <tr>\n",
       "      <th>13</th>\n",
       "      <td>83941716509</td>\n",
       "      <td>273771</td>\n",
       "      <td>2013-12-30 00:00:00.000000</td>\n",
       "      <td>4</td>\n",
       "      <td>1</td>\n",
       "      <td>5</td>\n",
       "      <td>725</td>\n",
       "      <td>380.625</td>\n",
       "      <td>4005.625</td>\n",
       "      <td>e-Shop</td>\n",
       "      <td>2013</td>\n",
       "      <td>12</td>\n",
       "      <td>1981</td>\n",
       "      <td>M</td>\n",
       "      <td>2.0</td>\n",
       "      <td>Clothing</td>\n",
       "      <td>clothing_men</td>\n",
       "      <td>32</td>\n",
       "    </tr>\n",
       "    <tr>\n",
       "      <th>16</th>\n",
       "      <td>33215457342</td>\n",
       "      <td>272081</td>\n",
       "      <td>2013-12-29 00:00:00.000000</td>\n",
       "      <td>12</td>\n",
       "      <td>6</td>\n",
       "      <td>4</td>\n",
       "      <td>1079</td>\n",
       "      <td>453.180</td>\n",
       "      <td>4769.180</td>\n",
       "      <td>e-Shop</td>\n",
       "      <td>2013</td>\n",
       "      <td>12</td>\n",
       "      <td>1978</td>\n",
       "      <td>F</td>\n",
       "      <td>6.0</td>\n",
       "      <td>Home and kitchen</td>\n",
       "      <td>Tools</td>\n",
       "      <td>35</td>\n",
       "    </tr>\n",
       "    <tr>\n",
       "      <th>17</th>\n",
       "      <td>9488888491</td>\n",
       "      <td>267446</td>\n",
       "      <td>2013-12-29 00:00:00.000000</td>\n",
       "      <td>1</td>\n",
       "      <td>4</td>\n",
       "      <td>2</td>\n",
       "      <td>1336</td>\n",
       "      <td>280.560</td>\n",
       "      <td>2952.560</td>\n",
       "      <td>e-Shop</td>\n",
       "      <td>2013</td>\n",
       "      <td>12</td>\n",
       "      <td>1992</td>\n",
       "      <td>M</td>\n",
       "      <td>6.0</td>\n",
       "      <td>Bags</td>\n",
       "      <td>bags_mens</td>\n",
       "      <td>21</td>\n",
       "    </tr>\n",
       "  </tbody>\n",
       "</table>\n",
       "</div>"
      ],
      "text/plain": [
       "    transaction_id  customer_id               transact_date  \\\n",
       "6      83963970126       274655  2013-12-31 00:00:00.000000   \n",
       "11     51514545410       270709  2013-12-30 00:00:00.000000   \n",
       "13     83941716509       273771  2013-12-30 00:00:00.000000   \n",
       "16     33215457342       272081  2013-12-29 00:00:00.000000   \n",
       "17      9488888491       267446  2013-12-29 00:00:00.000000   \n",
       "\n",
       "    prod_sub_cat_code  prod_cat_code  qty  rate      tax  total_amt  \\\n",
       "6                   3              1    5   213  111.825   1176.825   \n",
       "11                  1              1    5  1304  684.600   7204.600   \n",
       "13                  4              1    5   725  380.625   4005.625   \n",
       "16                 12              6    4  1079  453.180   4769.180   \n",
       "17                  1              4    2  1336  280.560   2952.560   \n",
       "\n",
       "   store_type  transact_year  transact_month  birth_year gender  city_code  \\\n",
       "6      e-Shop           2013              12        1981      M        9.0   \n",
       "11     e-Shop           2013              12        1976      M        7.0   \n",
       "13     e-Shop           2013              12        1981      M        2.0   \n",
       "16     e-Shop           2013              12        1978      F        6.0   \n",
       "17     e-Shop           2013              12        1992      M        6.0   \n",
       "\n",
       "            prod_cat    prod_sub_cat  age_at_purchase  \n",
       "6           Clothing   clothing_kids               32  \n",
       "11          Clothing  clothing_women               37  \n",
       "13          Clothing    clothing_men               32  \n",
       "16  Home and kitchen           Tools               35  \n",
       "17              Bags       bags_mens               21  "
      ]
     },
     "execution_count": 79,
     "metadata": {},
     "output_type": "execute_result"
    }
   ],
   "source": [
    "rising_market_df = eshop_df.copy(deep=True)\n",
    "rows_to_drop = rising_market_df[~rising_market_df['prod_cat'].isin(['Clothing', 'Home and kitchen', 'Bags'])].index\n",
    "rising_market_df.drop(rows_to_drop, axis=0, inplace=True)\n",
    "rising_market_df.reset_index(drop=True)\n",
    "rising_market_df.head()"
   ]
  },
  {
   "cell_type": "code",
   "execution_count": null,
   "metadata": {},
   "outputs": [],
   "source": []
  }
 ],
 "metadata": {
  "file_extension": ".py",
  "kernelspec": {
   "display_name": "Python 3.7.3 32-bit",
   "language": "python",
   "name": "python37332bit450c94dd39314720a63448e4fa3fd3c9"
  },
  "language_info": {
   "codemirror_mode": {
    "name": "ipython",
    "version": 3
   },
   "file_extension": ".py",
   "mimetype": "text/x-python",
   "name": "python",
   "nbconvert_exporter": "python",
   "pygments_lexer": "ipython3",
   "version": "3.7.3"
  },
  "mimetype": "text/x-python",
  "name": "python",
  "npconvert_exporter": "python",
  "pygments_lexer": "ipython3",
  "version": 3
 },
 "nbformat": 4,
 "nbformat_minor": 2
}

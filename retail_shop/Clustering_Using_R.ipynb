{
 "cells": [
  {
   "cell_type": "markdown",
   "metadata": {},
   "source": [
    "# 1. Preparing the Dataset"
   ]
  },
  {
   "cell_type": "code",
   "execution_count": 17,
   "metadata": {},
   "outputs": [],
   "source": [
    "library(dplyr)\n",
    "library(Rtsne)\n",
    "library(cluster)\n",
    "library(data.table)\n",
    "library(ggplot2)"
   ]
  },
  {
   "cell_type": "code",
   "execution_count": 18,
   "metadata": {},
   "outputs": [],
   "source": [
    "# Set the common exported dataset directory\n",
    "dataset_dir <- file.path(getwd(), 'dataset', 'exported')"
   ]
  },
  {
   "cell_type": "code",
   "execution_count": 19,
   "metadata": {},
   "outputs": [],
   "source": [
    "# Read the repeat dataset. It returns a data.table type\n",
    "profile_csv <- file.path(dataset_dir, 'profile')\n",
    "profile_df <- fread(profile_csv)"
   ]
  },
  {
   "cell_type": "markdown",
   "metadata": {},
   "source": [
    "Convert these columns to type factor."
   ]
  },
  {
   "cell_type": "code",
   "execution_count": 20,
   "metadata": {},
   "outputs": [],
   "source": [
    "profile_df$gender <- factor(profile_df$gender)\n",
    "profile_df$city_code <- factor(profile_df$city_code)"
   ]
  },
  {
   "cell_type": "markdown",
   "metadata": {},
   "source": [
    "# 2. Clustering"
   ]
  },
  {
   "cell_type": "markdown",
   "metadata": {},
   "source": [
    "<b>All codes below are based on this site: https://www.r-bloggers.com/clustering-mixed-data-types-in-r/ </b>"
   ]
  },
  {
   "cell_type": "markdown",
   "metadata": {},
   "source": [
    "## 2.1. Gower Distance"
   ]
  },
  {
   "cell_type": "markdown",
   "metadata": {},
   "source": [
    "Use gower distance because it can handle mixed data types.\n",
    "\n",
    "Why I didn't use log transform:  \n",
    "1. The dataset is from a pivot table. One customer may have bought only from the bath subcategory, but another one bought from kitchen and bags_men. There are a lot of zeros, which is normal for pivoting to get the sales per customer per subcategory. If I drop those zeroes, I would be left with no data at all.  \n",
    "2. The means of each subcategory are near to each other.  \n",
    "3. When I tested with the log transform, the medoids were only sales for ```total_bath```. It did not consider that some clusters have sales on "
   ]
  },
  {
   "cell_type": "code",
   "execution_count": 21,
   "metadata": {},
   "outputs": [],
   "source": [
    "gower_dist <- daisy(profile_df[, -c('customer_id')],\n",
    "                    metric = 'gower')"
   ]
  },
  {
   "cell_type": "markdown",
   "metadata": {},
   "source": [
    "## 2.2. Silhoutte Width\n",
    "Use the silhoutte width to choose the final number of clusters to use."
   ]
  },
  {
   "cell_type": "code",
   "execution_count": 22,
   "metadata": {},
   "outputs": [],
   "source": [
    "# For k ranging from 2 to 10, use PAM\n",
    "sil_width <- c(NA)\n",
    "for (i in 2:10) {\n",
    "    pam_fit <- pam(gower_dist, diss=TRUE, k=i)\n",
    "    sil_width[i] <- pam_fit$silinfo$avg.width\n",
    "}"
   ]
  },
  {
   "cell_type": "code",
   "execution_count": 23,
   "metadata": {
    "scrolled": true
   },
   "outputs": [
    {
     "data": {
      "image/png": "[encoded data removed]",
      "text/plain": [
       "plot without title"
      ]
     },
     "metadata": {
      "image/png": {
       "height": 420,
       "width": 420
      }
     },
     "output_type": "display_data"
    }
   ],
   "source": [
    "# Plot\n",
    "plot(1:10, sil_width,\n",
    "     xlab = \"Number of Clusters\",\n",
    "     ylab = \"Silhoutte Width\")\n",
    "lines(1:10, sil_width)"
   ]
  },
  {
   "cell_type": "markdown",
   "metadata": {},
   "source": [
    "### Interpretation of the Silhoutte Width\n",
    "Two clusters would output the best result followed by 3 clusters. However, having 10 clusters also produced a good measurement.\n",
    "\n",
    "With this, I decided to <b>go with 10 clusters</b>. In the e-shop marketing view, grouping the customers into many small clusters is viable. Since this is an e-shop, recommendations in the site are not as costly as wide-reach marketing campaigns like television commercials, billboards, etc. If we are going with onsite recommendations, having 10 clusters would mean 10 targeted marketing campaigns with sure results."
   ]
  },
  {
   "cell_type": "markdown",
   "metadata": {},
   "source": [
    "## 2.3. Partitioning around Medoids\n",
    "Do PAM with 10 clusters. Print out the summary and medoids of each cluster."
   ]
  },
  {
   "cell_type": "code",
   "execution_count": 24,
   "metadata": {},
   "outputs": [],
   "source": [
    "# Set the seed at a random number (in this case, 7) to always reproduce the result\n",
    "set.seed(7)"
   ]
  },
  {
   "cell_type": "code",
   "execution_count": 25,
   "metadata": {},
   "outputs": [],
   "source": [
    "pam_fit <- pam(gower_dist, diss = TRUE, k = 10)"
   ]
  },
  {
   "cell_type": "code",
   "execution_count": 26,
   "metadata": {},
   "outputs": [],
   "source": [
    "pam_results <- profile_df %>%\n",
    "    dplyr::select(-c(customer_id)) %>%\n",
    "    mutate(cluster = pam_fit$clustering) %>% \n",
    "    group_by(cluster) %>%\n",
    "    do(the_summary = summary(.))"
   ]
  },
  {
   "cell_type": "code",
   "execution_count": 27,
   "metadata": {},
   "outputs": [
    {
     "data": {
      "text/plain": [
       "[[1]]\n",
       " total_bags_men   total_bags_women   total_bath     total_clothing_kids\n",
       " Min.   :   0.0   Min.   :   0.0   Min.   :   0.0   Min.   :   0.0     \n",
       " 1st Qu.:   0.0   1st Qu.:   0.0   1st Qu.:   0.0   1st Qu.:   0.0     \n",
       " Median :   0.0   Median :   0.0   Median :   0.0   Median :   0.0     \n",
       " Mean   : 470.6   Mean   : 335.7   Mean   : 406.5   Mean   : 348.4     \n",
       " 3rd Qu.:   0.0   3rd Qu.:   0.0   3rd Qu.:   0.0   3rd Qu.:   0.0     \n",
       " Max.   :8121.8   Max.   :6856.5   Max.   :7602.4   Max.   :8141.6     \n",
       "                                                                       \n",
       " total_clothing_men total_clothing_women total_furnishing total_kitchen   \n",
       " Min.   :   0.0     Min.   :   0.0       Min.   :   0.0   Min.   :   0.0  \n",
       " 1st Qu.:   0.0     1st Qu.:   0.0       1st Qu.:   0.0   1st Qu.:   0.0  \n",
       " Median :   0.0     Median :   0.0       Median :   0.0   Median :   0.0  \n",
       " Mean   : 392.3     Mean   : 428.7       Mean   : 378.4   Mean   : 441.5  \n",
       " 3rd Qu.:   0.0     3rd Qu.:   0.0       3rd Qu.:   0.0   3rd Qu.:   0.0  \n",
       " Max.   :7933.9     Max.   :7083.1       Max.   :7188.0   Max.   :8099.6  \n",
       "                                                                          \n",
       "  total_tools     gender    city_code     birth_year      cluster \n",
       " Min.   :   0.0   F:289   5      :127   Min.   :1970   Min.   :1  \n",
       " 1st Qu.:   0.0   M:  0   2      : 37   1st Qu.:1972   1st Qu.:1  \n",
       " Median :   0.0           8      : 36   Median :1975   Median :1  \n",
       " Mean   : 435.5           3      : 31   Mean   :1977   Mean   :1  \n",
       " 3rd Qu.:   0.0           4      : 30   3rd Qu.:1979   3rd Qu.:1  \n",
       " Max.   :7939.4           6      : 28   Max.   :1992   Max.   :1  \n",
       "                          (Other):  0                             \n",
       "\n",
       "[[2]]\n",
       " total_bags_men   total_bags_women   total_bath     total_clothing_kids\n",
       " Min.   :   0.0   Min.   :   0.0   Min.   :   0.0   Min.   :   0.0     \n",
       " 1st Qu.:   0.0   1st Qu.:   0.0   1st Qu.:   0.0   1st Qu.:   0.0     \n",
       " Median :   0.0   Median :   0.0   Median :   0.0   Median :   0.0     \n",
       " Mean   : 271.7   Mean   : 309.6   Mean   : 383.4   Mean   : 312.7     \n",
       " 3rd Qu.:   0.0   3rd Qu.:   0.0   3rd Qu.:   0.0   3rd Qu.:   0.0     \n",
       " Max.   :8121.8   Max.   :6577.0   Max.   :6280.8   Max.   :6563.7     \n",
       "                                                                       \n",
       " total_clothing_men total_clothing_women total_furnishing total_kitchen   \n",
       " Min.   :   0.0     Min.   :   0.0       Min.   :   0.0   Min.   :   0.0  \n",
       " 1st Qu.:   0.0     1st Qu.:   0.0       1st Qu.:   0.0   1st Qu.:   0.0  \n",
       " Median :   0.0     Median :   0.0       Median :   0.0   Median :   0.0  \n",
       " Mean   : 289.3     Mean   : 418.9       Mean   : 413.5   Mean   : 348.6  \n",
       " 3rd Qu.:   0.0     3rd Qu.:   0.0       3rd Qu.:   0.0   3rd Qu.:   0.0  \n",
       " Max.   :8210.1     Max.   :7762.6       Max.   :6547.1   Max.   :6889.7  \n",
       "                                                                          \n",
       "  total_tools     gender    city_code     birth_year      cluster \n",
       " Min.   :   0.0   F: 12   4      :142   Min.   :1970   Min.   :2  \n",
       " 1st Qu.:   0.0   M:165   1      : 11   1st Qu.:1975   1st Qu.:2  \n",
       " Median :   0.0           7      :  9   Median :1977   Median :2  \n",
       " Mean   : 524.5           6      :  6   Mean   :1979   Mean   :2  \n",
       " 3rd Qu.:   0.0           9      :  6   3rd Qu.:1983   3rd Qu.:2  \n",
       " Max.   :7143.8           10     :  3   Max.   :1992   Max.   :2  \n",
       "                          (Other):  0                             \n",
       "\n",
       "[[3]]\n",
       " total_bags_men   total_bags_women   total_bath     total_clothing_kids\n",
       " Min.   :   0.0   Min.   :   0.0   Min.   :   0.0   Min.   :   0.0     \n",
       " 1st Qu.:   0.0   1st Qu.:   0.0   1st Qu.:   0.0   1st Qu.:   0.0     \n",
       " Median :   0.0   Median :   0.0   Median :   0.0   Median :   0.0     \n",
       " Mean   : 295.7   Mean   : 415.1   Mean   : 419.5   Mean   : 442.6     \n",
       " 3rd Qu.:   0.0   3rd Qu.:   0.0   3rd Qu.:   0.0   3rd Qu.:   0.0     \n",
       " Max.   :5852.1   Max.   :8265.4   Max.   :8215.7   Max.   :7596.9     \n",
       "                                                                       \n",
       " total_clothing_men total_clothing_women total_furnishing total_kitchen   \n",
       " Min.   :   0.0     Min.   :   0.0       Min.   :   0.0   Min.   :   0.0  \n",
       " 1st Qu.:   0.0     1st Qu.:   0.0       1st Qu.:   0.0   1st Qu.:   0.0  \n",
       " Median :   0.0     Median :   0.0       Median :   0.0   Median :   0.0  \n",
       " Mean   : 402.5     Mean   : 265.4       Mean   : 309.8   Mean   : 263.7  \n",
       " 3rd Qu.:   0.0     3rd Qu.:   0.0       3rd Qu.:   0.0   3rd Qu.:   0.0  \n",
       " Max.   :7630.0     Max.   :8265.4       Max.   :5513.9   Max.   :7160.4  \n",
       "                                                                          \n",
       "  total_tools     gender    city_code     birth_year      cluster \n",
       " Min.   :   0.0   F:  0   5      :142   Min.   :1970   Min.   :3  \n",
       " 1st Qu.:   0.0   M:275   6      : 30   1st Qu.:1972   1st Qu.:3  \n",
       " Median :   0.0           10     : 28   Median :1974   Median :3  \n",
       " Mean   : 378.9           1      : 27   Mean   :1976   Mean   :3  \n",
       " 3rd Qu.:   0.0           7      : 24   3rd Qu.:1980   3rd Qu.:3  \n",
       " Max.   :7994.7           9      : 24   Max.   :1992   Max.   :3  \n",
       "                          (Other):  0                             \n",
       "\n",
       "[[4]]\n",
       " total_bags_men   total_bags_women    total_bath      total_clothing_kids\n",
       " Min.   :   0.0   Min.   :    0.0   Min.   :    0.0   Min.   :   0.0     \n",
       " 1st Qu.:   0.0   1st Qu.:    0.0   1st Qu.:    0.0   1st Qu.:   0.0     \n",
       " Median :   0.0   Median :    0.0   Median :    0.0   Median :   0.0     \n",
       " Mean   : 239.2   Mean   :  388.5   Mean   :  433.1   Mean   : 448.3     \n",
       " 3rd Qu.:   0.0   3rd Qu.:    0.0   3rd Qu.:    0.0   3rd Qu.:   0.0     \n",
       " Max.   :7939.4   Max.   :11418.0   Max.   :10290.9   Max.   :9632.3     \n",
       "                                                                         \n",
       " total_clothing_men total_clothing_women total_furnishing total_kitchen   \n",
       " Min.   :   0.0     Min.   :   0.0       Min.   :   0.0   Min.   :   0.0  \n",
       " 1st Qu.:   0.0     1st Qu.:   0.0       1st Qu.:   0.0   1st Qu.:   0.0  \n",
       " Median :   0.0     Median :   0.0       Median :   0.0   Median :   0.0  \n",
       " Mean   : 371.4     Mean   : 307.4       Mean   : 447.5   Mean   : 489.1  \n",
       " 3rd Qu.:   0.0     3rd Qu.:   0.0       3rd Qu.:   0.0   3rd Qu.:   0.0  \n",
       " Max.   :8243.3     Max.   :7591.4       Max.   :8044.4   Max.   :7828.9  \n",
       "                                                                          \n",
       "  total_tools     gender    city_code     birth_year      cluster \n",
       " Min.   :   0.0   F:274   7      :149   Min.   :1970   Min.   :4  \n",
       " 1st Qu.:   0.0   M: 23   6      : 41   1st Qu.:1983   1st Qu.:4  \n",
       " Median :   0.0           4      : 40   Median :1988   Median :4  \n",
       " Mean   : 440.4           3      : 25   Mean   :1986   Mean   :4  \n",
       " 3rd Qu.:   0.0           8      : 23   3rd Qu.:1990   3rd Qu.:4  \n",
       " Max.   :8132.8           2      : 19   Max.   :1992   Max.   :4  \n",
       "                          (Other):  0                             \n",
       "\n",
       "[[5]]\n",
       " total_bags_men   total_bags_women   total_bath     total_clothing_kids\n",
       " Min.   :   0.0   Min.   :   0.0   Min.   :   0.0   Min.   :   0.0     \n",
       " 1st Qu.:   0.0   1st Qu.:   0.0   1st Qu.:   0.0   1st Qu.:   0.0     \n",
       " Median :   0.0   Median :   0.0   Median :   0.0   Median :   0.0     \n",
       " Mean   : 322.2   Mean   : 361.3   Mean   : 227.5   Mean   : 333.7     \n",
       " 3rd Qu.:   0.0   3rd Qu.:   0.0   3rd Qu.:   0.0   3rd Qu.:   0.0     \n",
       " Max.   :6501.8   Max.   :7746.1   Max.   :5317.3   Max.   :6378.1     \n",
       "                                                                       \n",
       " total_clothing_men total_clothing_women total_furnishing total_kitchen   \n",
       " Min.   :   0.0     Min.   :   0.0       Min.   :   0.0   Min.   :   0.0  \n",
       " 1st Qu.:   0.0     1st Qu.:   0.0       1st Qu.:   0.0   1st Qu.:   0.0  \n",
       " Median :   0.0     Median :   0.0       Median :   0.0   Median :   0.0  \n",
       " Mean   : 356.7     Mean   : 331.3       Mean   : 376.1   Mean   : 370.1  \n",
       " 3rd Qu.:   0.0     3rd Qu.:   0.0       3rd Qu.:   0.0   3rd Qu.:   0.0  \n",
       " Max.   :7542.7     Max.   :7469.8       Max.   :5552.6   Max.   :7116.2  \n",
       "                                                                          \n",
       "  total_tools     gender    city_code     birth_year      cluster \n",
       " Min.   :   0.0   F:187   1      :139   Min.   :1970   Min.   :5  \n",
       " 1st Qu.:   0.0   M: 15   6      : 22   1st Qu.:1979   1st Qu.:5  \n",
       " Median :   0.0           2      : 16   Median :1980   Median :5  \n",
       " Mean   : 486.5           3      : 13   Mean   :1981   Mean   :5  \n",
       " 3rd Qu.:   0.0           4      :  8   3rd Qu.:1983   3rd Qu.:5  \n",
       " Max.   :8011.2           8      :  4   Max.   :1992   Max.   :5  \n",
       "                          (Other):  0                             \n",
       "\n",
       "[[6]]\n",
       " total_bags_men   total_bags_women   total_bath     total_clothing_kids\n",
       " Min.   :   0.0   Min.   :   0.0   Min.   :   0.0   Min.   :   0.0     \n",
       " 1st Qu.:   0.0   1st Qu.:   0.0   1st Qu.:   0.0   1st Qu.:   0.0     \n",
       " Median :   0.0   Median :   0.0   Median :   0.0   Median :   0.0     \n",
       " Mean   : 457.1   Mean   : 424.2   Mean   : 325.9   Mean   : 405.5     \n",
       " 3rd Qu.:   0.0   3rd Qu.:   0.0   3rd Qu.:   0.0   3rd Qu.:   0.0     \n",
       " Max.   :7983.6   Max.   :8202.4   Max.   :6563.7   Max.   :9285.3     \n",
       "                                                                       \n",
       " total_clothing_men total_clothing_women total_furnishing total_kitchen   \n",
       " Min.   :   0.0     Min.   :   0.0       Min.   :   0.0   Min.   :   0.0  \n",
       " 1st Qu.:   0.0     1st Qu.:   0.0       1st Qu.:   0.0   1st Qu.:   0.0  \n",
       " Median :   0.0     Median :   0.0       Median :   0.0   Median :   0.0  \n",
       " Mean   : 545.1     Mean   : 270.2       Mean   : 326.9   Mean   : 419.5  \n",
       " 3rd Qu.:   0.0     3rd Qu.:   0.0       3rd Qu.:   0.0   3rd Qu.:   0.0  \n",
       " Max.   :6986.9     Max.   :6458.7       Max.   :8099.6   Max.   :7480.9  \n",
       "                                                                          \n",
       "  total_tools     gender    city_code     birth_year      cluster \n",
       " Min.   :   0.0   F: 18   2      :138   Min.   :1970   Min.   :6  \n",
       " 1st Qu.:   0.0   M:200   7      : 23   1st Qu.:1980   1st Qu.:6  \n",
       " Median :   0.0           9      : 18   Median :1983   Median :6  \n",
       " Mean   : 292.9           6      : 15   Mean   :1982   Mean   :6  \n",
       " 3rd Qu.:   0.0           10     : 14   3rd Qu.:1985   3rd Qu.:6  \n",
       " Max.   :8204.6           1      : 10   Max.   :1992   Max.   :6  \n",
       "                          (Other):  0                             \n",
       "\n",
       "[[7]]\n",
       " total_bags_men   total_bags_women   total_bath     total_clothing_kids\n",
       " Min.   :   0.0   Min.   :   0     Min.   :   0.0   Min.   :   0.0     \n",
       " 1st Qu.:   0.0   1st Qu.:   0     1st Qu.:   0.0   1st Qu.:   0.0     \n",
       " Median :   0.0   Median :   0     Median :   0.0   Median :   0.0     \n",
       " Mean   : 423.9   Mean   : 396     Mean   : 353.6   Mean   : 282.5     \n",
       " 3rd Qu.:   0.0   3rd Qu.:   0     3rd Qu.:   0.0   3rd Qu.:   0.0     \n",
       " Max.   :7221.2   Max.   :7807     Max.   :6646.6   Max.   :6663.1     \n",
       "                                                                       \n",
       " total_clothing_men total_clothing_women total_furnishing total_kitchen   \n",
       " Min.   :   0.0     Min.   :   0.0       Min.   :   0     Min.   :   0.0  \n",
       " 1st Qu.:   0.0     1st Qu.:   0.0       1st Qu.:   0     1st Qu.:   0.0  \n",
       " Median :   0.0     Median :   0.0       Median :   0     Median :   0.0  \n",
       " Mean   : 353.3     Mean   : 412.7       Mean   : 351     Mean   : 223.9  \n",
       " 3rd Qu.:   0.0     3rd Qu.:   0.0       3rd Qu.:   0     3rd Qu.:   0.0  \n",
       " Max.   :7099.6     Max.   :7939.4       Max.   :7774     Max.   :6204.6  \n",
       "                                                                          \n",
       "  total_tools   gender    city_code     birth_year      cluster \n",
       " Min.   :   0   F:191   10     :143   Min.   :1970   Min.   :7  \n",
       " 1st Qu.:   0   M: 19   6      : 19   1st Qu.:1979   1st Qu.:7  \n",
       " Median :   0           4      : 18   Median :1982   Median :7  \n",
       " Mean   : 392           3      : 13   Mean   :1982   Mean   :7  \n",
       " 3rd Qu.:   0           8      : 13   3rd Qu.:1985   3rd Qu.:7  \n",
       " Max.   :7591           2      :  4   Max.   :1992   Max.   :7  \n",
       "                        (Other):  0                             \n",
       "\n",
       "[[8]]\n",
       " total_bags_men   total_bags_women   total_bath     total_clothing_kids\n",
       " Min.   :   0.0   Min.   :   0.0   Min.   :   0.0   Min.   :   0.0     \n",
       " 1st Qu.:   0.0   1st Qu.:   0.0   1st Qu.:   0.0   1st Qu.:   0.0     \n",
       " Median :   0.0   Median :   0.0   Median :   0.0   Median :   0.0     \n",
       " Mean   : 522.8   Mean   : 374.1   Mean   : 423.9   Mean   : 616.0     \n",
       " 3rd Qu.:   0.0   3rd Qu.:   0.0   3rd Qu.:   0.0   3rd Qu.: 468.5     \n",
       " Max.   :8370.4   Max.   :7743.8   Max.   :5644.3   Max.   :6740.5     \n",
       "                                                                       \n",
       " total_clothing_men total_clothing_women total_furnishing total_kitchen   \n",
       " Min.   :   0.0     Min.   :   0.0       Min.   :   0.0   Min.   :   0.0  \n",
       " 1st Qu.:   0.0     1st Qu.:   0.0       1st Qu.:   0.0   1st Qu.:   0.0  \n",
       " Median :   0.0     Median :   0.0       Median :   0.0   Median :   0.0  \n",
       " Mean   : 524.4     Mean   : 221.6       Mean   : 379.5   Mean   : 249.8  \n",
       " 3rd Qu.:   0.0     3rd Qu.:   0.0       3rd Qu.:   0.0   3rd Qu.:   0.0  \n",
       " Max.   :8324.0     Max.   :6263.1       Max.   :7585.8   Max.   :8215.7  \n",
       "                                                                          \n",
       "  total_tools   gender    city_code     birth_year      cluster \n",
       " Min.   :   0   F:143   9      :142   Min.   :1970   Min.   :8  \n",
       " 1st Qu.:   0   M: 17   3      :  5   1st Qu.:1977   1st Qu.:8  \n",
       " Median :   0           6      :  4   Median :1981   Median :8  \n",
       " Mean   : 314           8      :  4   Mean   :1981   Mean   :8  \n",
       " 3rd Qu.:   0           4      :  3   3rd Qu.:1984   3rd Qu.:8  \n",
       " Max.   :6591           2      :  2   Max.   :1992   Max.   :8  \n",
       "                        (Other):  0                             \n",
       "\n",
       "[[9]]\n",
       " total_bags_men   total_bags_women   total_bath     total_clothing_kids\n",
       " Min.   :   0.0   Min.   :   0.0   Min.   :   0.0   Min.   :   0.0     \n",
       " 1st Qu.:   0.0   1st Qu.:   0.0   1st Qu.:   0.0   1st Qu.:   0.0     \n",
       " Median :   0.0   Median :   0.0   Median :   0.0   Median :   0.0     \n",
       " Mean   : 236.3   Mean   : 379.6   Mean   : 265.2   Mean   : 251.9     \n",
       " 3rd Qu.:   0.0   3rd Qu.:   0.0   3rd Qu.:   0.0   3rd Qu.:   0.0     \n",
       " Max.   :7072.0   Max.   :7226.7   Max.   :6510.7   Max.   :6493.0     \n",
       "                                                                       \n",
       " total_clothing_men total_clothing_women total_furnishing total_kitchen   \n",
       " Min.   :   0.0     Min.   :   0.0       Min.   :   0.0   Min.   :   0.0  \n",
       " 1st Qu.:   0.0     1st Qu.:   0.0       1st Qu.:   0.0   1st Qu.:   0.0  \n",
       " Median :   0.0     Median :   0.0       Median :   0.0   Median :   0.0  \n",
       " Mean   : 549.5     Mean   : 433.5       Mean   : 217.5   Mean   : 408.2  \n",
       " 3rd Qu.:   0.0     3rd Qu.:   0.0       3rd Qu.:   0.0   3rd Qu.:   0.0  \n",
       " Max.   :8248.8     Max.   :9503.0       Max.   :5184.7   Max.   :6193.5  \n",
       "                                                                          \n",
       "  total_tools   gender    city_code     birth_year      cluster \n",
       " Min.   :   0   F: 19   8      :154   Min.   :1970   Min.   :9  \n",
       " 1st Qu.:   0   M:207   6      : 25   1st Qu.:1977   1st Qu.:9  \n",
       " Median :   0           7      : 17   Median :1979   Median :9  \n",
       " Mean   : 407           10     : 13   Mean   :1980   Mean   :9  \n",
       " 3rd Qu.:   0           1      : 11   3rd Qu.:1984   3rd Qu.:9  \n",
       " Max.   :8227           9      :  6   Max.   :1992   Max.   :9  \n",
       "                        (Other):  0                             \n",
       "\n",
       "[[10]]\n",
       " total_bags_men   total_bags_women   total_bath     total_clothing_kids\n",
       " Min.   :   0.0   Min.   :   0     Min.   :   0.0   Min.   :   0       \n",
       " 1st Qu.:   0.0   1st Qu.:   0     1st Qu.:   0.0   1st Qu.:   0       \n",
       " Median :   0.0   Median :   0     Median :   0.0   Median :   0       \n",
       " Mean   : 462.8   Mean   : 259     Mean   : 366.2   Mean   : 301       \n",
       " 3rd Qu.:   0.0   3rd Qu.:   0     3rd Qu.:   0.0   3rd Qu.:   0       \n",
       " Max.   :7558.2   Max.   :7564     Max.   :6823.4   Max.   :8111       \n",
       "                                                                       \n",
       " total_clothing_men total_clothing_women total_furnishing total_kitchen   \n",
       " Min.   :   0.0     Min.   :   0.0       Min.   :   0.0   Min.   :   0.0  \n",
       " 1st Qu.:   0.0     1st Qu.:   0.0       1st Qu.:   0.0   1st Qu.:   0.0  \n",
       " Median :   0.0     Median :   0.0       Median :   0.0   Median :   0.0  \n",
       " Mean   : 331.9     Mean   : 378.7       Mean   : 447.9   Mean   : 380.4  \n",
       " 3rd Qu.:   0.0     3rd Qu.:   0.0       3rd Qu.:   0.0   3rd Qu.:   0.0  \n",
       " Max.   :7668.7     Max.   :7171.4       Max.   :7420.1   Max.   :7574.8  \n",
       "                                                                          \n",
       "  total_tools     gender    city_code     birth_year      cluster  \n",
       " Min.   :   0.0   F: 21   3      :150   Min.   :1970   Min.   :10  \n",
       " 1st Qu.:   0.0   M:301   1      : 48   1st Qu.:1985   1st Qu.:10  \n",
       " Median :   0.0           10     : 40   Median :1987   Median :10  \n",
       " Mean   : 510.4           6      : 37   Mean   :1986   Mean   :10  \n",
       " 3rd Qu.:   0.0           9      : 32   3rd Qu.:1990   3rd Qu.:10  \n",
       " Max.   :8623.4           7      : 15   Max.   :1992   Max.   :10  \n",
       "                          (Other):  0                              \n"
      ]
     },
     "metadata": {},
     "output_type": "display_data"
    }
   ],
   "source": [
    "pam_results$the_summary"
   ]
  },
  {
   "cell_type": "code",
   "execution_count": 28,
   "metadata": {
    "scrolled": true
   },
   "outputs": [
    {
     "data": {
      "text/html": [
       "<table>\n",
       "<caption>A data.table: 10 × 13</caption>\n",
       "<thead>\n",
       "\t<tr><th scope=col>customer_id</th><th scope=col>total_bags_men</th><th scope=col>total_bags_women</th><th scope=col>total_bath</th><th scope=col>total_clothing_kids</th><th scope=col>total_clothing_men</th><th scope=col>total_clothing_women</th><th scope=col>total_furnishing</th><th scope=col>total_kitchen</th><th scope=col>total_tools</th><th scope=col>gender</th><th scope=col>city_code</th><th scope=col>birth_year</th></tr>\n",
       "\t<tr><th scope=col>&lt;int&gt;</th><th scope=col>&lt;dbl&gt;</th><th scope=col>&lt;dbl&gt;</th><th scope=col>&lt;dbl&gt;</th><th scope=col>&lt;dbl&gt;</th><th scope=col>&lt;dbl&gt;</th><th scope=col>&lt;dbl&gt;</th><th scope=col>&lt;dbl&gt;</th><th scope=col>&lt;dbl&gt;</th><th scope=col>&lt;dbl&gt;</th><th scope=col>&lt;fct&gt;</th><th scope=col>&lt;fct&gt;</th><th scope=col>&lt;int&gt;</th></tr>\n",
       "</thead>\n",
       "<tbody>\n",
       "\t<tr><td>269430</td><td> 0.000</td><td>  0.000</td><td>  0.00</td><td>  0.00</td><td>110.5</td><td>0</td><td>  0.00</td><td>0</td><td>  0.000</td><td>F</td><td>5 </td><td>1974</td></tr>\n",
       "\t<tr><td>269136</td><td> 0.000</td><td>  0.000</td><td>  0.00</td><td>  0.00</td><td>  0.0</td><td>0</td><td>  0.00</td><td>0</td><td>415.480</td><td>M</td><td>4 </td><td>1976</td></tr>\n",
       "\t<tr><td>271969</td><td> 0.000</td><td>  0.000</td><td>  0.00</td><td> 77.35</td><td>  0.0</td><td>0</td><td>  0.00</td><td>0</td><td>  0.000</td><td>M</td><td>5 </td><td>1974</td></tr>\n",
       "\t<tr><td>270344</td><td> 0.000</td><td>  0.000</td><td>320.45</td><td>  0.00</td><td>  0.0</td><td>0</td><td>  0.00</td><td>0</td><td>  0.000</td><td>F</td><td>7 </td><td>1989</td></tr>\n",
       "\t<tr><td>272759</td><td> 0.000</td><td>  0.000</td><td>  0.00</td><td>  0.00</td><td>  0.0</td><td>0</td><td>  0.00</td><td>0</td><td> 93.925</td><td>F</td><td>1 </td><td>1981</td></tr>\n",
       "\t<tr><td>275049</td><td> 0.000</td><td>184.535</td><td>  0.00</td><td>  0.00</td><td>  0.0</td><td>0</td><td>  0.00</td><td>0</td><td>  0.000</td><td>M</td><td>2 </td><td>1983</td></tr>\n",
       "\t<tr><td>271405</td><td>98.345</td><td>  0.000</td><td>  0.00</td><td>  0.00</td><td>  0.0</td><td>0</td><td>  0.00</td><td>0</td><td>  0.000</td><td>F</td><td>10</td><td>1982</td></tr>\n",
       "\t<tr><td>272047</td><td> 0.000</td><td>  0.000</td><td>  0.00</td><td>384.54</td><td>  0.0</td><td>0</td><td>  0.00</td><td>0</td><td>  0.000</td><td>F</td><td>9 </td><td>1981</td></tr>\n",
       "\t<tr><td>267222</td><td> 0.000</td><td>  0.000</td><td>  0.00</td><td>  0.00</td><td>  0.0</td><td>0</td><td>  0.00</td><td>0</td><td>132.600</td><td>M</td><td>8 </td><td>1978</td></tr>\n",
       "\t<tr><td>275026</td><td> 0.000</td><td>  0.000</td><td>  0.00</td><td>  0.00</td><td>  0.0</td><td>0</td><td>216.58</td><td>0</td><td>  0.000</td><td>M</td><td>3 </td><td>1987</td></tr>\n",
       "</tbody>\n",
       "</table>\n"
      ],
      "text/latex": [
       "A data.table: 10 × 13\n",
       "\\begin{tabular}{lllllllllllll}\n",
       " customer\\_id & total\\_bags\\_men & total\\_bags\\_women & total\\_bath & total\\_clothing\\_kids & total\\_clothing\\_men & total\\_clothing\\_women & total\\_furnishing & total\\_kitchen & total\\_tools & gender & city\\_code & birth\\_year\\\\\n",
       " <int> & <dbl> & <dbl> & <dbl> & <dbl> & <dbl> & <dbl> & <dbl> & <dbl> & <dbl> & <fct> & <fct> & <int>\\\\\n",
       "\\hline\n",
       "\t 269430 &  0.000 &   0.000 &   0.00 &   0.00 & 110.5 & 0 &   0.00 & 0 &   0.000 & F & 5  & 1974\\\\\n",
       "\t 269136 &  0.000 &   0.000 &   0.00 &   0.00 &   0.0 & 0 &   0.00 & 0 & 415.480 & M & 4  & 1976\\\\\n",
       "\t 271969 &  0.000 &   0.000 &   0.00 &  77.35 &   0.0 & 0 &   0.00 & 0 &   0.000 & M & 5  & 1974\\\\\n",
       "\t 270344 &  0.000 &   0.000 & 320.45 &   0.00 &   0.0 & 0 &   0.00 & 0 &   0.000 & F & 7  & 1989\\\\\n",
       "\t 272759 &  0.000 &   0.000 &   0.00 &   0.00 &   0.0 & 0 &   0.00 & 0 &  93.925 & F & 1  & 1981\\\\\n",
       "\t 275049 &  0.000 & 184.535 &   0.00 &   0.00 &   0.0 & 0 &   0.00 & 0 &   0.000 & M & 2  & 1983\\\\\n",
       "\t 271405 & 98.345 &   0.000 &   0.00 &   0.00 &   0.0 & 0 &   0.00 & 0 &   0.000 & F & 10 & 1982\\\\\n",
       "\t 272047 &  0.000 &   0.000 &   0.00 & 384.54 &   0.0 & 0 &   0.00 & 0 &   0.000 & F & 9  & 1981\\\\\n",
       "\t 267222 &  0.000 &   0.000 &   0.00 &   0.00 &   0.0 & 0 &   0.00 & 0 & 132.600 & M & 8  & 1978\\\\\n",
       "\t 275026 &  0.000 &   0.000 &   0.00 &   0.00 &   0.0 & 0 & 216.58 & 0 &   0.000 & M & 3  & 1987\\\\\n",
       "\\end{tabular}\n"
      ],
      "text/markdown": [
       "\n",
       "A data.table: 10 × 13\n",
       "\n",
       "| customer_id &lt;int&gt; | total_bags_men &lt;dbl&gt; | total_bags_women &lt;dbl&gt; | total_bath &lt;dbl&gt; | total_clothing_kids &lt;dbl&gt; | total_clothing_men &lt;dbl&gt; | total_clothing_women &lt;dbl&gt; | total_furnishing &lt;dbl&gt; | total_kitchen &lt;dbl&gt; | total_tools &lt;dbl&gt; | gender &lt;fct&gt; | city_code &lt;fct&gt; | birth_year &lt;int&gt; |\n",
       "|---|---|---|---|---|---|---|---|---|---|---|---|---|\n",
       "| 269430 |  0.000 |   0.000 |   0.00 |   0.00 | 110.5 | 0 |   0.00 | 0 |   0.000 | F | 5  | 1974 |\n",
       "| 269136 |  0.000 |   0.000 |   0.00 |   0.00 |   0.0 | 0 |   0.00 | 0 | 415.480 | M | 4  | 1976 |\n",
       "| 271969 |  0.000 |   0.000 |   0.00 |  77.35 |   0.0 | 0 |   0.00 | 0 |   0.000 | M | 5  | 1974 |\n",
       "| 270344 |  0.000 |   0.000 | 320.45 |   0.00 |   0.0 | 0 |   0.00 | 0 |   0.000 | F | 7  | 1989 |\n",
       "| 272759 |  0.000 |   0.000 |   0.00 |   0.00 |   0.0 | 0 |   0.00 | 0 |  93.925 | F | 1  | 1981 |\n",
       "| 275049 |  0.000 | 184.535 |   0.00 |   0.00 |   0.0 | 0 |   0.00 | 0 |   0.000 | M | 2  | 1983 |\n",
       "| 271405 | 98.345 |   0.000 |   0.00 |   0.00 |   0.0 | 0 |   0.00 | 0 |   0.000 | F | 10 | 1982 |\n",
       "| 272047 |  0.000 |   0.000 |   0.00 | 384.54 |   0.0 | 0 |   0.00 | 0 |   0.000 | F | 9  | 1981 |\n",
       "| 267222 |  0.000 |   0.000 |   0.00 |   0.00 |   0.0 | 0 |   0.00 | 0 | 132.600 | M | 8  | 1978 |\n",
       "| 275026 |  0.000 |   0.000 |   0.00 |   0.00 |   0.0 | 0 | 216.58 | 0 |   0.000 | M | 3  | 1987 |\n",
       "\n"
      ],
      "text/plain": [
       "   customer_id total_bags_men total_bags_women total_bath total_clothing_kids\n",
       "1  269430       0.000           0.000            0.00       0.00             \n",
       "2  269136       0.000           0.000            0.00       0.00             \n",
       "3  271969       0.000           0.000            0.00      77.35             \n",
       "4  270344       0.000           0.000          320.45       0.00             \n",
       "5  272759       0.000           0.000            0.00       0.00             \n",
       "6  275049       0.000         184.535            0.00       0.00             \n",
       "7  271405      98.345           0.000            0.00       0.00             \n",
       "8  272047       0.000           0.000            0.00     384.54             \n",
       "9  267222       0.000           0.000            0.00       0.00             \n",
       "10 275026       0.000           0.000            0.00       0.00             \n",
       "   total_clothing_men total_clothing_women total_furnishing total_kitchen\n",
       "1  110.5              0                      0.00           0            \n",
       "2    0.0              0                      0.00           0            \n",
       "3    0.0              0                      0.00           0            \n",
       "4    0.0              0                      0.00           0            \n",
       "5    0.0              0                      0.00           0            \n",
       "6    0.0              0                      0.00           0            \n",
       "7    0.0              0                      0.00           0            \n",
       "8    0.0              0                      0.00           0            \n",
       "9    0.0              0                      0.00           0            \n",
       "10   0.0              0                    216.58           0            \n",
       "   total_tools gender city_code birth_year\n",
       "1    0.000     F      5         1974      \n",
       "2  415.480     M      4         1976      \n",
       "3    0.000     M      5         1974      \n",
       "4    0.000     F      7         1989      \n",
       "5   93.925     F      1         1981      \n",
       "6    0.000     M      2         1983      \n",
       "7    0.000     F      10        1982      \n",
       "8    0.000     F      9         1981      \n",
       "9  132.600     M      8         1978      \n",
       "10   0.000     M      3         1987      "
      ]
     },
     "metadata": {},
     "output_type": "display_data"
    }
   ],
   "source": [
    "profile_df[pam_fit$medoids, ]"
   ]
  },
  {
   "cell_type": "markdown",
   "metadata": {},
   "source": [
    "## 2.4. Plotting the Clusters\n",
    "Use t-distributed stochastic neighbor embedding to plot the clusters using the gower distance."
   ]
  },
  {
   "cell_type": "code",
   "execution_count": 29,
   "metadata": {},
   "outputs": [],
   "source": [
    "tsne_obj <- Rtsne(gower_dist, is_distance = TRUE)"
   ]
  },
  {
   "cell_type": "code",
   "execution_count": 30,
   "metadata": {},
   "outputs": [],
   "source": [
    "tsne_data <- tsne_obj$Y %>%\n",
    "  data.frame() %>%\n",
    "  setNames(c(\"X\", \"Y\")) %>%\n",
    "  mutate(cluster = factor(pam_fit$clustering),\n",
    "         customer_id = profile_df$customer_id)"
   ]
  },
  {
   "cell_type": "code",
   "execution_count": 31,
   "metadata": {
    "scrolled": true
   },
   "outputs": [
    {
     "data": {
      "image/png": "[encoded data removed]",
      "text/plain": [
       "plot without title"
      ]
     },
     "metadata": {
      "image/png": {
       "height": 420,
       "width": 420
      }
     },
     "output_type": "display_data"
    }
   ],
   "source": [
    "ggplot(aes(x = X, y = Y), data = tsne_data) +\n",
    "  geom_point(aes(color = cluster))"
   ]
  },
  {
   "cell_type": "markdown",
   "metadata": {},
   "source": [
    "## 2.5. Exporting the Cluster Results\n",
    "Export the cluster results in CSV format. The file will then be read in the analysis python notebook."
   ]
  },
  {
   "cell_type": "code",
   "execution_count": 32,
   "metadata": {},
   "outputs": [],
   "source": [
    "write.csv(tsne_data, file.path(dataset_dir, 'profile_tsne_data'), row.names=TRUE)"
   ]
  }
 ],
 "metadata": {
  "kernelspec": {
   "display_name": "R",
   "language": "R",
   "name": "ir"
  },
  "language_info": {
   "codemirror_mode": "r",
   "file_extension": ".r",
   "mimetype": "text/x-r-source",
   "name": "R",
   "pygments_lexer": "r",
   "version": "3.6.3"
  }
 },
 "nbformat": 4,
 "nbformat_minor": 2
}

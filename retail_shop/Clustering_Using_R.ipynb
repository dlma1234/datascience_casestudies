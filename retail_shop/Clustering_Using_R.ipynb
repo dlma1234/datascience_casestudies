{
 "cells": [
  {
   "cell_type": "code",
   "execution_count": 17,
   "metadata": {},
   "outputs": [],
   "source": [
    "library(dplyr)\n",
    "library(Rtsne)\n",
    "library(cluster)\n",
    "library(data.table)\n",
    "library(ggplot2)"
   ]
  },
  {
   "cell_type": "code",
   "execution_count": 18,
   "metadata": {},
   "outputs": [],
   "source": [
    "# Set the common exported dataset directory\n",
    "dataset_dir <- file.path(getwd(), 'dataset', 'exported')"
   ]
  },
  {
   "cell_type": "code",
   "execution_count": 19,
   "metadata": {},
   "outputs": [],
   "source": [
    "# Read the repeat dataset. It returns a data.table type\n",
    "profile_csv <- file.path(dataset_dir, 'profile')\n",
    "profile_df <- fread(profile_csv)"
   ]
  },
  {
   "cell_type": "code",
   "execution_count": 20,
   "metadata": {},
   "outputs": [],
   "source": [
    "profile_df$gender <- factor(profile_df$gender)\n",
    "profile_df$customer_id <- factor(profile_df$customer_id)\n",
    "profile_df$city_code <- factor(profile_df$city_code)"
   ]
  },
  {
   "cell_type": "markdown",
   "metadata": {},
   "source": [
    "# 2. Clustering"
   ]
  },
  {
   "cell_type": "markdown",
   "metadata": {},
   "source": [
    "Why I didn't use log transform:  \n",
    "1. The dataset is from a pivot table. One customer may have bought only from the bath subcategory, but another one bought from kitchen and bags_men. There are a lot of zeros, which is normal for pivoting to get the sales per customer per subcategory. If I drop those zeroes, I would be left with no data at all.  \n",
    "2. The means of each subcategory are near to each other.  \n",
    "3. When I tested with the log transform, the medoids were only sales for ```total_bath```. It did not consider that some clusters have sales on "
   ]
  },
  {
   "cell_type": "code",
   "execution_count": 33,
   "metadata": {},
   "outputs": [],
   "source": [
    "gower_dist <- daisy(profile_df[, -c('customer_id')],\n",
    "                        metric = 'gower',\n",
    "                   type = list(logratio = 3))"
   ]
  },
  {
   "cell_type": "code",
   "execution_count": 34,
   "metadata": {},
   "outputs": [],
   "source": [
    "# Calculate silhoutte width for many k using PAM\n",
    "sil_width <- c(NA)\n",
    "for (i in 2:10) {\n",
    "    pam_fit <- pam(gower_dist, diss=TRUE, k=i)\n",
    "    sil_width[i] <- pam_fit$silinfo$avg.width\n",
    "}"
   ]
  },
  {
   "cell_type": "code",
   "execution_count": 35,
   "metadata": {},
   "outputs": [
    {
     "data": {
      "image/png": "[encoded data removed]",
      "text/plain": [
       "plot without title"
      ]
     },
     "metadata": {
      "image/png": {
       "height": 420,
       "width": 420
      }
     },
     "output_type": "display_data"
    }
   ],
   "source": [
    "# Plot the silhoutte width\n",
    "plot(1:10, sil_width,\n",
    "     xlab = \"Number of Clusters\",\n",
    "     ylab = \"Silhoutte Width\")\n",
    "lines(1:10, sil_width)"
   ]
  },
  {
   "cell_type": "code",
   "execution_count": 36,
   "metadata": {},
   "outputs": [],
   "source": [
    "set.seed(7)"
   ]
  },
  {
   "cell_type": "code",
   "execution_count": 37,
   "metadata": {},
   "outputs": [],
   "source": [
    "pam_fit <- pam(gower_dist, diss = TRUE, k = 10)"
   ]
  },
  {
   "cell_type": "code",
   "execution_count": 38,
   "metadata": {},
   "outputs": [],
   "source": [
    "pam_results <- profile_df %>%\n",
    "    dplyr::select(-c(customer_id)) %>%\n",
    "    mutate(cluster = pam_fit$clustering) %>% \n",
    "    group_by(cluster) %>%\n",
    "    do(the_summary = summary(.))"
   ]
  },
  {
   "cell_type": "code",
   "execution_count": 39,
   "metadata": {},
   "outputs": [
    {
     "data": {
      "text/plain": [
       "[[1]]\n",
       " total_bags_men   total_bags_women   total_bath     total_clothing_kids\n",
       " Min.   :   0.0   Min.   :   0.0   Min.   :   0.0   Min.   :   0.0     \n",
       " 1st Qu.:   0.0   1st Qu.:   0.0   1st Qu.:   0.0   1st Qu.:   0.0     \n",
       " Median :   0.0   Median :   0.0   Median :   0.0   Median :   0.0     \n",
       " Mean   : 510.6   Mean   : 321.6   Mean   : 479.5   Mean   : 390.5     \n",
       " 3rd Qu.:   0.0   3rd Qu.:   0.0   3rd Qu.:   0.0   3rd Qu.:   0.0     \n",
       " Max.   :8370.4   Max.   :7743.8   Max.   :7602.4   Max.   :8141.6     \n",
       "                                                                       \n",
       " total_clothing_men total_clothing_women total_furnishing total_kitchen \n",
       " Min.   :   0.0     Min.   :   0.0       Min.   :   0.0   Min.   :   0  \n",
       " 1st Qu.:   0.0     1st Qu.:   0.0       1st Qu.:   0.0   1st Qu.:   0  \n",
       " Median :   0.0     Median :   0.0       Median :   0.0   Median :   0  \n",
       " Mean   : 401.1     Mean   : 311.7       Mean   : 345.3   Mean   : 304  \n",
       " 3rd Qu.:   0.0     3rd Qu.:   0.0       3rd Qu.:   0.0   3rd Qu.:   0  \n",
       " Max.   :7933.9     Max.   :6603.5       Max.   :7585.8   Max.   :8216  \n",
       "                                                                        \n",
       "  total_tools     gender    city_code     birth_year      cluster \n",
       " Min.   :   0.0   F:273   9      :144   Min.   :1970   Min.   :1  \n",
       " 1st Qu.:   0.0   M: 19   4      : 35   1st Qu.:1972   1st Qu.:1  \n",
       " Median :   0.0           2      : 32   Median :1974   Median :1  \n",
       " Mean   : 321.9           8      : 31   Mean   :1976   Mean   :1  \n",
       " 3rd Qu.:   0.0           3      : 25   3rd Qu.:1979   3rd Qu.:1  \n",
       " Max.   :7939.4           6      : 25   Max.   :1992   Max.   :1  \n",
       "                          (Other):  0                             \n",
       "\n",
       "[[2]]\n",
       " total_bags_men   total_bags_women   total_bath     total_clothing_kids\n",
       " Min.   :   0.0   Min.   :   0.0   Min.   :   0.0   Min.   :   0       \n",
       " 1st Qu.:   0.0   1st Qu.:   0.0   1st Qu.:   0.0   1st Qu.:   0       \n",
       " Median :   0.0   Median :   0.0   Median :   0.0   Median :   0       \n",
       " Mean   : 217.9   Mean   : 281.1   Mean   : 297.4   Mean   : 241       \n",
       " 3rd Qu.:   0.0   3rd Qu.:   0.0   3rd Qu.:   0.0   3rd Qu.:   0       \n",
       " Max.   :8121.8   Max.   :6232.2   Max.   :6280.8   Max.   :6098       \n",
       "                                                                       \n",
       " total_clothing_men total_clothing_women total_furnishing total_kitchen   \n",
       " Min.   :   0.0     Min.   :   0.0       Min.   :   0     Min.   :   0.0  \n",
       " 1st Qu.:   0.0     1st Qu.:   0.0       1st Qu.:   0     1st Qu.:   0.0  \n",
       " Median :   0.0     Median :   0.0       Median :   0     Median :   0.0  \n",
       " Mean   : 432.6     Mean   : 454.8       Mean   : 371     Mean   : 360.3  \n",
       " 3rd Qu.:   0.0     3rd Qu.:   0.0       3rd Qu.:   0     3rd Qu.:   0.0  \n",
       " Max.   :8248.8     Max.   :7762.6       Max.   :6547     Max.   :6889.7  \n",
       "                                                                          \n",
       "  total_tools     gender    city_code     birth_year      cluster \n",
       " Min.   :   0.0   F:  8   4      :138   Min.   :1970   Min.   :2  \n",
       " 1st Qu.:   0.0   M:192   6      : 22   1st Qu.:1976   1st Qu.:2  \n",
       " Median :   0.0           10     : 15   Median :1978   Median :2  \n",
       " Mean   : 394.8           1      : 12   Mean   :1979   Mean   :2  \n",
       " 3rd Qu.:   0.0           7      :  8   3rd Qu.:1981   3rd Qu.:2  \n",
       " Max.   :7143.8           9      :  5   Max.   :1992   Max.   :2  \n",
       "                          (Other):  0                             \n",
       "\n",
       "[[3]]\n",
       " total_bags_men   total_bags_women   total_bath     total_clothing_kids\n",
       " Min.   :   0.0   Min.   :   0.0   Min.   :   0.0   Min.   :   0.0     \n",
       " 1st Qu.:   0.0   1st Qu.:   0.0   1st Qu.:   0.0   1st Qu.:   0.0     \n",
       " Median :   0.0   Median :   0.0   Median :   0.0   Median :   0.0     \n",
       " Mean   : 333.3   Mean   : 408.9   Mean   : 321.8   Mean   : 383.5     \n",
       " 3rd Qu.:   0.0   3rd Qu.:   0.0   3rd Qu.:   0.0   3rd Qu.:   0.0     \n",
       " Max.   :7072.0   Max.   :8177.0   Max.   :6510.7   Max.   :6563.7     \n",
       "                                                                       \n",
       " total_clothing_men total_clothing_women total_furnishing total_kitchen   \n",
       " Min.   :   0.0     Min.   :   0.0       Min.   :   0.0   Min.   :   0.0  \n",
       " 1st Qu.:   0.0     1st Qu.:   0.0       1st Qu.:   0.0   1st Qu.:   0.0  \n",
       " Median :   0.0     Median :   0.0       Median :   0.0   Median :   0.0  \n",
       " Mean   : 419.8     Mean   : 360.6       Mean   : 260.2   Mean   : 392.5  \n",
       " 3rd Qu.:   0.0     3rd Qu.:   0.0       3rd Qu.:   0.0   3rd Qu.:   0.0  \n",
       " Max.   :7630.0     Max.   :9503.0       Max.   :5513.9   Max.   :6193.5  \n",
       "                                                                          \n",
       "  total_tools     gender    city_code     birth_year      cluster \n",
       " Min.   :   0.0   F: 12   8      :147   Min.   :1970   Min.   :3  \n",
       " 1st Qu.:   0.0   M:277   1      : 37   1st Qu.:1973   1st Qu.:3  \n",
       " Median :   0.0           6      : 35   Median :1975   Median :3  \n",
       " Mean   : 451.5           7      : 30   Mean   :1977   Mean   :3  \n",
       " 3rd Qu.:   0.0           10     : 29   3rd Qu.:1981   3rd Qu.:3  \n",
       " Max.   :8226.7           9      : 11   Max.   :1992   Max.   :3  \n",
       "                          (Other):  0                             \n",
       "\n",
       "[[4]]\n",
       " total_bags_men   total_bags_women   total_bath   total_clothing_kids\n",
       " Min.   :   0.0   Min.   :   0.0   Min.   :   0   Min.   :   0       \n",
       " 1st Qu.:   0.0   1st Qu.:   0.0   1st Qu.:   0   1st Qu.:   0       \n",
       " Median :   0.0   Median :   0.0   Median :   0   Median :   0       \n",
       " Mean   : 274.9   Mean   : 435.9   Mean   : 380   Mean   : 416       \n",
       " 3rd Qu.:   0.0   3rd Qu.:   0.0   3rd Qu.:   0   3rd Qu.:   0       \n",
       " Max.   :7806.8   Max.   :9183.7   Max.   :6144   Max.   :9632       \n",
       "                                                                     \n",
       " total_clothing_men total_clothing_women total_furnishing total_kitchen   \n",
       " Min.   :   0.0     Min.   :   0.0       Min.   :   0.0   Min.   :   0.0  \n",
       " 1st Qu.:   0.0     1st Qu.:   0.0       1st Qu.:   0.0   1st Qu.:   0.0  \n",
       " Median :   0.0     Median :   0.0       Median :   0.0   Median :   0.0  \n",
       " Mean   : 408.4     Mean   : 397.9       Mean   : 444.5   Mean   : 362.2  \n",
       " 3rd Qu.:   0.0     3rd Qu.:   0.0       3rd Qu.:   0.0   3rd Qu.:   0.0  \n",
       " Max.   :7939.4     Max.   :7591.4       Max.   :7171.4   Max.   :7072.0  \n",
       "                                                                          \n",
       "  total_tools   gender    city_code     birth_year      cluster \n",
       " Min.   :   0   F:203   7      :138   Min.   :1970   Min.   :4  \n",
       " 1st Qu.:   0   M: 12   6      : 23   1st Qu.:1977   1st Qu.:4  \n",
       " Median :   0           3      : 18   Median :1979   Median :4  \n",
       " Mean   : 348           2      : 16   Mean   :1980   Mean   :4  \n",
       " 3rd Qu.:   0           8      : 14   3rd Qu.:1983   3rd Qu.:4  \n",
       " Max.   :5553           4      :  6   Max.   :1992   Max.   :4  \n",
       "                        (Other):  0                             \n",
       "\n",
       "[[5]]\n",
       " total_bags_men   total_bags_women   total_bath     total_clothing_kids\n",
       " Min.   :   0.0   Min.   :   0.0   Min.   :   0.0   Min.   :   0.0     \n",
       " 1st Qu.:   0.0   1st Qu.:   0.0   1st Qu.:   0.0   1st Qu.:   0.0     \n",
       " Median :   0.0   Median :   0.0   Median :   0.0   Median :   0.0     \n",
       " Mean   : 401.8   Mean   : 372.2   Mean   : 304.8   Mean   : 370.3     \n",
       " 3rd Qu.:   0.0   3rd Qu.:   0.0   3rd Qu.:   0.0   3rd Qu.:   0.0     \n",
       " Max.   :5334.9   Max.   :7746.1   Max.   :6646.6   Max.   :6378.1     \n",
       "                                                                       \n",
       " total_clothing_men total_clothing_women total_furnishing total_kitchen   \n",
       " Min.   :   0.0     Min.   :   0.0       Min.   :   0.0   Min.   :   0.0  \n",
       " 1st Qu.:   0.0     1st Qu.:   0.0       1st Qu.:   0.0   1st Qu.:   0.0  \n",
       " Median :   0.0     Median :   0.0       Median :   0.0   Median :   0.0  \n",
       " Mean   : 374.4     Mean   : 264.9       Mean   : 367.1   Mean   : 350.2  \n",
       " 3rd Qu.:   0.0     3rd Qu.:   0.0       3rd Qu.:   0.0   3rd Qu.:   0.0  \n",
       " Max.   :8324.0     Max.   :7469.8       Max.   :5552.6   Max.   :7116.2  \n",
       "                                                                          \n",
       "  total_tools     gender    city_code     birth_year      cluster \n",
       " Min.   :   0.0   F:181   1      :130   Min.   :1970   Min.   :5  \n",
       " 1st Qu.:   0.0   M:  6   6      : 15   1st Qu.:1979   1st Qu.:5  \n",
       " Median :   0.0           3      : 13   Median :1982   Median :5  \n",
       " Mean   : 467.1           4      : 12   Mean   :1982   Mean   :5  \n",
       " 3rd Qu.:   0.0           8      : 11   3rd Qu.:1984   3rd Qu.:5  \n",
       " Max.   :8011.2           2      :  6   Max.   :1992   Max.   :5  \n",
       "                          (Other):  0                             \n",
       "\n",
       "[[6]]\n",
       " total_bags_men   total_bags_women   total_bath     total_clothing_kids\n",
       " Min.   :   0.0   Min.   :   0.0   Min.   :   0.0   Min.   :   0.0     \n",
       " 1st Qu.:   0.0   1st Qu.:   0.0   1st Qu.:   0.0   1st Qu.:   0.0     \n",
       " Median :   0.0   Median :   0.0   Median :   0.0   Median :   0.0     \n",
       " Mean   : 507.1   Mean   : 477.3   Mean   : 285.6   Mean   : 418.1     \n",
       " 3rd Qu.:   0.0   3rd Qu.:   0.0   3rd Qu.:   0.0   3rd Qu.:   0.0     \n",
       " Max.   :7983.6   Max.   :8202.4   Max.   :6563.7   Max.   :9285.3     \n",
       "                                                                       \n",
       " total_clothing_men total_clothing_women total_furnishing total_kitchen   \n",
       " Min.   :   0.0     Min.   :   0.0       Min.   :   0.0   Min.   :   0.0  \n",
       " 1st Qu.:   0.0     1st Qu.:   0.0       1st Qu.:   0.0   1st Qu.:   0.0  \n",
       " Median :   0.0     Median :   0.0       Median :   0.0   Median :   0.0  \n",
       " Mean   : 433.2     Mean   : 279.1       Mean   : 366.2   Mean   : 465.2  \n",
       " 3rd Qu.:   0.0     3rd Qu.:   0.0       3rd Qu.:   0.0   3rd Qu.:   0.0  \n",
       " Max.   :6182.5     Max.   :5975.8       Max.   :6546.0   Max.   :7480.9  \n",
       "                                                                          \n",
       "  total_tools     gender    city_code     birth_year      cluster \n",
       " Min.   :   0.0   F:  7   2      :127   Min.   :1970   Min.   :6  \n",
       " 1st Qu.:   0.0   M:195   9      : 24   1st Qu.:1979   1st Qu.:6  \n",
       " Median :   0.0           10     : 19   Median :1981   Median :6  \n",
       " Mean   : 263.3           7      : 12   Mean   :1981   Mean   :6  \n",
       " 3rd Qu.:   0.0           1      : 10   3rd Qu.:1982   3rd Qu.:6  \n",
       " Max.   :7486.4           6      : 10   Max.   :1992   Max.   :6  \n",
       "                          (Other):  0                             \n",
       "\n",
       "[[7]]\n",
       " total_bags_men   total_bags_women   total_bath     total_clothing_kids\n",
       " Min.   :   0.0   Min.   :   0.0   Min.   :   0.0   Min.   :   0.0     \n",
       " 1st Qu.:   0.0   1st Qu.:   0.0   1st Qu.:   0.0   1st Qu.:   0.0     \n",
       " Median :   0.0   Median :   0.0   Median :   0.0   Median :   0.0     \n",
       " Mean   : 281.4   Mean   : 382.9   Mean   : 529.2   Mean   : 360.1     \n",
       " 3rd Qu.:   0.0   3rd Qu.:   0.0   3rd Qu.:   0.0   3rd Qu.:   0.0     \n",
       " Max.   :5983.6   Max.   :8265.4   Max.   :8215.7   Max.   :7596.9     \n",
       "                                                                       \n",
       " total_clothing_men total_clothing_women total_furnishing total_kitchen   \n",
       " Min.   :   0.0     Min.   :   0.0       Min.   :   0.0   Min.   :   0.0  \n",
       " 1st Qu.:   0.0     1st Qu.:   0.0       1st Qu.:   0.0   1st Qu.:   0.0  \n",
       " Median :   0.0     Median :   0.0       Median :   0.0   Median :   0.0  \n",
       " Mean   : 422.8     Mean   : 292.7       Mean   : 374.6   Mean   : 261.2  \n",
       " 3rd Qu.:   0.0     3rd Qu.:   0.0       3rd Qu.:   0.0   3rd Qu.:   0.0  \n",
       " Max.   :6986.9     Max.   :6458.7       Max.   :8099.6   Max.   :7160.4  \n",
       "                                                                          \n",
       "  total_tools     gender    city_code     birth_year      cluster \n",
       " Min.   :   0.0   F:  0   5      :142   Min.   :1970   Min.   :7  \n",
       " 1st Qu.:   0.0   M:203   9      : 15   1st Qu.:1976   1st Qu.:7  \n",
       " Median :   0.0           10     : 14   Median :1983   Median :7  \n",
       " Mean   : 396.6           6      : 11   Mean   :1981   Mean   :7  \n",
       " 3rd Qu.:   0.0           7      : 11   3rd Qu.:1985   3rd Qu.:7  \n",
       " Max.   :7994.7           1      : 10   Max.   :1992   Max.   :7  \n",
       "                          (Other):  0                             \n",
       "\n",
       "[[8]]\n",
       " total_bags_men   total_bags_women   total_bath      total_clothing_kids\n",
       " Min.   :   0.0   Min.   :    0    Min.   :    0.0   Min.   :   0.0     \n",
       " 1st Qu.:   0.0   1st Qu.:    0    1st Qu.:    0.0   1st Qu.:   0.0     \n",
       " Median :   0.0   Median :    0    Median :    0.0   Median :   0.0     \n",
       " Mean   : 212.4   Mean   :  392    Mean   :  429.8   Mean   : 481.8     \n",
       " 3rd Qu.:   0.0   3rd Qu.:    0    3rd Qu.:    0.0   3rd Qu.:   0.0     \n",
       " Max.   :7939.4   Max.   :11418    Max.   :10290.9   Max.   :7994.7     \n",
       "                                                                        \n",
       " total_clothing_men total_clothing_women total_furnishing total_kitchen \n",
       " Min.   :   0       Min.   :   0.0       Min.   :   0.0   Min.   :   0  \n",
       " 1st Qu.:   0       1st Qu.:   0.0       1st Qu.:   0.0   1st Qu.:   0  \n",
       " Median :   0       Median :   0.0       Median :   0.0   Median :   0  \n",
       " Mean   : 416       Mean   : 274.1       Mean   : 406.3   Mean   : 360  \n",
       " 3rd Qu.:   0       3rd Qu.:   0.0       3rd Qu.:   0.0   3rd Qu.:   0  \n",
       " Max.   :8243       Max.   :7939.4       Max.   :8044.4   Max.   :7753  \n",
       "                                                                        \n",
       "  total_tools     gender    city_code     birth_year      cluster \n",
       " Min.   :   0.0   F:265   10     :137   Min.   :1970   Min.   :8  \n",
       " 1st Qu.:   0.0   M: 13   6      : 41   1st Qu.:1982   1st Qu.:8  \n",
       " Median :   0.0           4      : 40   Median :1987   Median :8  \n",
       " Mean   : 431.8           8      : 23   Mean   :1985   Mean   :8  \n",
       " 3rd Qu.:   0.0           2      : 22   3rd Qu.:1989   3rd Qu.:8  \n",
       " Max.   :8132.8           3      : 15   Max.   :1992   Max.   :8  \n",
       "                          (Other):  0                             \n",
       "\n",
       "[[9]]\n",
       " total_bags_men   total_bags_women   total_bath     total_clothing_kids\n",
       " Min.   :   0.0   Min.   :   0.0   Min.   :   0.0   Min.   :   0.0     \n",
       " 1st Qu.:   0.0   1st Qu.:   0.0   1st Qu.:   0.0   1st Qu.:   0.0     \n",
       " Median :   0.0   Median :   0.0   Median :   0.0   Median :   0.0     \n",
       " Mean   : 450.7   Mean   : 360.5   Mean   : 286.3   Mean   : 323.6     \n",
       " 3rd Qu.:   0.0   3rd Qu.:   0.0   3rd Qu.:   0.0   3rd Qu.:   0.0     \n",
       " Max.   :8121.8   Max.   :7563.7   Max.   :6174.7   Max.   :6823.4     \n",
       "                                                                       \n",
       " total_clothing_men total_clothing_women total_furnishing total_kitchen   \n",
       " Min.   :   0.0     Min.   :   0.0       Min.   :   0.0   Min.   :   0.0  \n",
       " 1st Qu.:   0.0     1st Qu.:   0.0       1st Qu.:   0.0   1st Qu.:   0.0  \n",
       " Median :   0.0     Median :   0.0       Median :   0.0   Median :   0.0  \n",
       " Mean   : 496.7     Mean   : 457.3       Mean   : 380.6   Mean   : 330.1  \n",
       " 3rd Qu.:   0.0     3rd Qu.:   0.0       3rd Qu.:   0.0   3rd Qu.:   0.0  \n",
       " Max.   :7099.6     Max.   :7083.1       Max.   :7773.7   Max.   :8099.6  \n",
       "                                                                          \n",
       "  total_tools     gender    city_code     birth_year      cluster \n",
       " Min.   :   0.0   F:178   5      :127   Min.   :1970   Min.   :9  \n",
       " 1st Qu.:   0.0   M:  0   2      : 13   1st Qu.:1977   1st Qu.:9  \n",
       " Median :   0.0           3      : 10   Median :1984   Median :9  \n",
       " Mean   : 565.1           4      : 10   Mean   :1982   Mean   :9  \n",
       " 3rd Qu.:   0.0           6      : 10   3rd Qu.:1986   3rd Qu.:9  \n",
       " Max.   :8204.6           8      :  8   Max.   :1992   Max.   :9  \n",
       "                          (Other):  0                             \n",
       "\n",
       "[[10]]\n",
       " total_bags_men   total_bags_women   total_bath     total_clothing_kids\n",
       " Min.   :   0.0   Min.   :   0.0   Min.   :   0.0   Min.   :   0       \n",
       " 1st Qu.:   0.0   1st Qu.:   0.0   1st Qu.:   0.0   1st Qu.:   0       \n",
       " Median :   0.0   Median :   0.0   Median :   0.0   Median :   0       \n",
       " Mean   : 464.3   Mean   : 241.4   Mean   : 299.9   Mean   : 294       \n",
       " 3rd Qu.:   0.0   3rd Qu.:   0.0   3rd Qu.:   0.0   3rd Qu.:   0       \n",
       " Max.   :7558.2   Max.   :7298.5   Max.   :6823.4   Max.   :8111       \n",
       "                                                                       \n",
       " total_clothing_men total_clothing_women total_furnishing total_kitchen   \n",
       " Min.   :   0.0     Min.   :   0.0       Min.   :   0.0   Min.   :   0.0  \n",
       " 1st Qu.:   0.0     1st Qu.:   0.0       1st Qu.:   0.0   1st Qu.:   0.0  \n",
       " Median :   0.0     Median :   0.0       Median :   0.0   Median :   0.0  \n",
       " Mean   : 317.7     Mean   : 408.1       Mean   : 393.4   Mean   : 456.4  \n",
       " 3rd Qu.:   0.0     3rd Qu.:   0.0       3rd Qu.:   0.0   3rd Qu.:   0.0  \n",
       " Max.   :7668.7     Max.   :7171.4       Max.   :7420.1   Max.   :7828.9  \n",
       "                                                                          \n",
       "  total_tools     gender    city_code     birth_year      cluster  \n",
       " Min.   :   0.0   F: 27   3      :156   Min.   :1970   Min.   :10  \n",
       " 1st Qu.:   0.0   M:305   1      : 47   1st Qu.:1985   1st Qu.:10  \n",
       " Median :   0.0           7      : 38   Median :1988   Median :10  \n",
       " Mean   : 556.5           6      : 35   Mean   :1986   Mean   :10  \n",
       " 3rd Qu.:   0.0           9      : 29   3rd Qu.:1990   3rd Qu.:10  \n",
       " Max.   :8623.4           10     : 27   Max.   :1992   Max.   :10  \n",
       "                          (Other):  0                              \n"
      ]
     },
     "metadata": {},
     "output_type": "display_data"
    }
   ],
   "source": [
    "pam_results$the_summary"
   ]
  },
  {
   "cell_type": "code",
   "execution_count": 40,
   "metadata": {},
   "outputs": [
    {
     "data": {
      "text/html": [
       "<table>\n",
       "<caption>A data.table: 10 × 13</caption>\n",
       "<thead>\n",
       "\t<tr><th scope=col>customer_id</th><th scope=col>total_bags_men</th><th scope=col>total_bags_women</th><th scope=col>total_bath</th><th scope=col>total_clothing_kids</th><th scope=col>total_clothing_men</th><th scope=col>total_clothing_women</th><th scope=col>total_furnishing</th><th scope=col>total_kitchen</th><th scope=col>total_tools</th><th scope=col>gender</th><th scope=col>city_code</th><th scope=col>birth_year</th></tr>\n",
       "\t<tr><th scope=col>&lt;fct&gt;</th><th scope=col>&lt;dbl&gt;</th><th scope=col>&lt;dbl&gt;</th><th scope=col>&lt;dbl&gt;</th><th scope=col>&lt;dbl&gt;</th><th scope=col>&lt;dbl&gt;</th><th scope=col>&lt;dbl&gt;</th><th scope=col>&lt;dbl&gt;</th><th scope=col>&lt;dbl&gt;</th><th scope=col>&lt;dbl&gt;</th><th scope=col>&lt;fct&gt;</th><th scope=col>&lt;fct&gt;</th><th scope=col>&lt;int&gt;</th></tr>\n",
       "</thead>\n",
       "<tbody>\n",
       "\t<tr><td>275171</td><td>0</td><td>0</td><td>1001.130</td><td>0</td><td>0</td><td>0</td><td>0</td><td>0</td><td>0</td><td>F</td><td>9 </td><td>1974</td></tr>\n",
       "\t<tr><td>270772</td><td>0</td><td>0</td><td>1425.450</td><td>0</td><td>0</td><td>0</td><td>0</td><td>0</td><td>0</td><td>M</td><td>4 </td><td>1978</td></tr>\n",
       "\t<tr><td>271565</td><td>0</td><td>0</td><td>2582.385</td><td>0</td><td>0</td><td>0</td><td>0</td><td>0</td><td>0</td><td>M</td><td>8 </td><td>1975</td></tr>\n",
       "\t<tr><td>274649</td><td>0</td><td>0</td><td>3618.875</td><td>0</td><td>0</td><td>0</td><td>0</td><td>0</td><td>0</td><td>F</td><td>7 </td><td>1979</td></tr>\n",
       "\t<tr><td>274033</td><td>0</td><td>0</td><td>4594.590</td><td>0</td><td>0</td><td>0</td><td>0</td><td>0</td><td>0</td><td>F</td><td>1 </td><td>1982</td></tr>\n",
       "\t<tr><td>269385</td><td>0</td><td>0</td><td>4498.455</td><td>0</td><td>0</td><td>0</td><td>0</td><td>0</td><td>0</td><td>M</td><td>2 </td><td>1981</td></tr>\n",
       "\t<tr><td>267681</td><td>0</td><td>0</td><td>1617.720</td><td>0</td><td>0</td><td>0</td><td>0</td><td>0</td><td>0</td><td>M</td><td>5 </td><td>1983</td></tr>\n",
       "\t<tr><td>273083</td><td>0</td><td>0</td><td>1538.160</td><td>0</td><td>0</td><td>0</td><td>0</td><td>0</td><td>0</td><td>F</td><td>10</td><td>1987</td></tr>\n",
       "\t<tr><td>271790</td><td>0</td><td>0</td><td> 877.370</td><td>0</td><td>0</td><td>0</td><td>0</td><td>0</td><td>0</td><td>F</td><td>5 </td><td>1984</td></tr>\n",
       "\t<tr><td>272554</td><td>0</td><td>0</td><td> 759.135</td><td>0</td><td>0</td><td>0</td><td>0</td><td>0</td><td>0</td><td>M</td><td>3 </td><td>1988</td></tr>\n",
       "</tbody>\n",
       "</table>\n"
      ],
      "text/latex": [
       "A data.table: 10 × 13\n",
       "\\begin{tabular}{lllllllllllll}\n",
       " customer\\_id & total\\_bags\\_men & total\\_bags\\_women & total\\_bath & total\\_clothing\\_kids & total\\_clothing\\_men & total\\_clothing\\_women & total\\_furnishing & total\\_kitchen & total\\_tools & gender & city\\_code & birth\\_year\\\\\n",
       " <fct> & <dbl> & <dbl> & <dbl> & <dbl> & <dbl> & <dbl> & <dbl> & <dbl> & <dbl> & <fct> & <fct> & <int>\\\\\n",
       "\\hline\n",
       "\t 275171 & 0 & 0 & 1001.130 & 0 & 0 & 0 & 0 & 0 & 0 & F & 9  & 1974\\\\\n",
       "\t 270772 & 0 & 0 & 1425.450 & 0 & 0 & 0 & 0 & 0 & 0 & M & 4  & 1978\\\\\n",
       "\t 271565 & 0 & 0 & 2582.385 & 0 & 0 & 0 & 0 & 0 & 0 & M & 8  & 1975\\\\\n",
       "\t 274649 & 0 & 0 & 3618.875 & 0 & 0 & 0 & 0 & 0 & 0 & F & 7  & 1979\\\\\n",
       "\t 274033 & 0 & 0 & 4594.590 & 0 & 0 & 0 & 0 & 0 & 0 & F & 1  & 1982\\\\\n",
       "\t 269385 & 0 & 0 & 4498.455 & 0 & 0 & 0 & 0 & 0 & 0 & M & 2  & 1981\\\\\n",
       "\t 267681 & 0 & 0 & 1617.720 & 0 & 0 & 0 & 0 & 0 & 0 & M & 5  & 1983\\\\\n",
       "\t 273083 & 0 & 0 & 1538.160 & 0 & 0 & 0 & 0 & 0 & 0 & F & 10 & 1987\\\\\n",
       "\t 271790 & 0 & 0 &  877.370 & 0 & 0 & 0 & 0 & 0 & 0 & F & 5  & 1984\\\\\n",
       "\t 272554 & 0 & 0 &  759.135 & 0 & 0 & 0 & 0 & 0 & 0 & M & 3  & 1988\\\\\n",
       "\\end{tabular}\n"
      ],
      "text/markdown": [
       "\n",
       "A data.table: 10 × 13\n",
       "\n",
       "| customer_id &lt;fct&gt; | total_bags_men &lt;dbl&gt; | total_bags_women &lt;dbl&gt; | total_bath &lt;dbl&gt; | total_clothing_kids &lt;dbl&gt; | total_clothing_men &lt;dbl&gt; | total_clothing_women &lt;dbl&gt; | total_furnishing &lt;dbl&gt; | total_kitchen &lt;dbl&gt; | total_tools &lt;dbl&gt; | gender &lt;fct&gt; | city_code &lt;fct&gt; | birth_year &lt;int&gt; |\n",
       "|---|---|---|---|---|---|---|---|---|---|---|---|---|\n",
       "| 275171 | 0 | 0 | 1001.130 | 0 | 0 | 0 | 0 | 0 | 0 | F | 9  | 1974 |\n",
       "| 270772 | 0 | 0 | 1425.450 | 0 | 0 | 0 | 0 | 0 | 0 | M | 4  | 1978 |\n",
       "| 271565 | 0 | 0 | 2582.385 | 0 | 0 | 0 | 0 | 0 | 0 | M | 8  | 1975 |\n",
       "| 274649 | 0 | 0 | 3618.875 | 0 | 0 | 0 | 0 | 0 | 0 | F | 7  | 1979 |\n",
       "| 274033 | 0 | 0 | 4594.590 | 0 | 0 | 0 | 0 | 0 | 0 | F | 1  | 1982 |\n",
       "| 269385 | 0 | 0 | 4498.455 | 0 | 0 | 0 | 0 | 0 | 0 | M | 2  | 1981 |\n",
       "| 267681 | 0 | 0 | 1617.720 | 0 | 0 | 0 | 0 | 0 | 0 | M | 5  | 1983 |\n",
       "| 273083 | 0 | 0 | 1538.160 | 0 | 0 | 0 | 0 | 0 | 0 | F | 10 | 1987 |\n",
       "| 271790 | 0 | 0 |  877.370 | 0 | 0 | 0 | 0 | 0 | 0 | F | 5  | 1984 |\n",
       "| 272554 | 0 | 0 |  759.135 | 0 | 0 | 0 | 0 | 0 | 0 | M | 3  | 1988 |\n",
       "\n"
      ],
      "text/plain": [
       "   customer_id total_bags_men total_bags_women total_bath total_clothing_kids\n",
       "1  275171      0              0                1001.130   0                  \n",
       "2  270772      0              0                1425.450   0                  \n",
       "3  271565      0              0                2582.385   0                  \n",
       "4  274649      0              0                3618.875   0                  \n",
       "5  274033      0              0                4594.590   0                  \n",
       "6  269385      0              0                4498.455   0                  \n",
       "7  267681      0              0                1617.720   0                  \n",
       "8  273083      0              0                1538.160   0                  \n",
       "9  271790      0              0                 877.370   0                  \n",
       "10 272554      0              0                 759.135   0                  \n",
       "   total_clothing_men total_clothing_women total_furnishing total_kitchen\n",
       "1  0                  0                    0                0            \n",
       "2  0                  0                    0                0            \n",
       "3  0                  0                    0                0            \n",
       "4  0                  0                    0                0            \n",
       "5  0                  0                    0                0            \n",
       "6  0                  0                    0                0            \n",
       "7  0                  0                    0                0            \n",
       "8  0                  0                    0                0            \n",
       "9  0                  0                    0                0            \n",
       "10 0                  0                    0                0            \n",
       "   total_tools gender city_code birth_year\n",
       "1  0           F      9         1974      \n",
       "2  0           M      4         1978      \n",
       "3  0           M      8         1975      \n",
       "4  0           F      7         1979      \n",
       "5  0           F      1         1982      \n",
       "6  0           M      2         1981      \n",
       "7  0           M      5         1983      \n",
       "8  0           F      10        1987      \n",
       "9  0           F      5         1984      \n",
       "10 0           M      3         1988      "
      ]
     },
     "metadata": {},
     "output_type": "display_data"
    }
   ],
   "source": [
    "profile_df[pam_fit$medoids, ]"
   ]
  },
  {
   "cell_type": "code",
   "execution_count": 41,
   "metadata": {},
   "outputs": [],
   "source": [
    "tsne_obj <- Rtsne(gower_dist, is_distance = TRUE)"
   ]
  },
  {
   "cell_type": "code",
   "execution_count": 42,
   "metadata": {},
   "outputs": [],
   "source": [
    "tsne_data <- tsne_obj$Y %>%\n",
    "  data.frame() %>%\n",
    "  setNames(c(\"X\", \"Y\")) %>%\n",
    "  mutate(cluster = factor(pam_fit$clustering),\n",
    "         customer_id = profile_df$customer_id)"
   ]
  },
  {
   "cell_type": "code",
   "execution_count": 43,
   "metadata": {
    "scrolled": false
   },
   "outputs": [
    {
     "data": {
      "image/png": "[encoded data removed]",
      "text/plain": [
       "plot without title"
      ]
     },
     "metadata": {
      "image/png": {
       "height": 420,
       "width": 420
      }
     },
     "output_type": "display_data"
    }
   ],
   "source": [
    "ggplot(aes(x = X, y = Y), data = tsne_data) +\n",
    "  geom_point(aes(color = cluster))"
   ]
  },
  {
   "cell_type": "code",
   "execution_count": 44,
   "metadata": {},
   "outputs": [],
   "source": [
    "# write.csv(tsne_data, file.path(dataset_dir, 'profile_tsne_data'), row.names=TRUE)"
   ]
  },
  {
   "cell_type": "code",
   "execution_count": null,
   "metadata": {},
   "outputs": [],
   "source": []
  },
  {
   "cell_type": "code",
   "execution_count": null,
   "metadata": {},
   "outputs": [],
   "source": []
  }
 ],
 "metadata": {
  "kernelspec": {
   "display_name": "R",
   "language": "R",
   "name": "ir"
  },
  "language_info": {
   "codemirror_mode": "r",
   "file_extension": ".r",
   "mimetype": "text/x-r-source",
   "name": "R",
   "pygments_lexer": "r",
   "version": "3.6.3"
  }
 },
 "nbformat": 4,
 "nbformat_minor": 2
}
